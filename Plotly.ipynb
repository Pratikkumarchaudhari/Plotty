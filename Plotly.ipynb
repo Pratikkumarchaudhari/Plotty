{
 "cells": [
  {
   "cell_type": "markdown",
   "metadata": {},
   "source": [
    "Plotly is a library that allows you to create interactive plots that you can use in dashboards or websites (you can save them as html files or static images).\n",
    "\n",
    "## Installation\n",
    "\n",
    "In order for this all to work, you'll need to install plotly and cufflinks to call plots directly off of a pandas dataframe. These libraries are not currently available through **conda** but are available through **pip**. Install the libraries at your command line/terminal using:\n",
    "\n",
    "    pip install plotly\n",
    "    pip install cufflinks\n",
    "\n",
    "** NOTE: Make sure you only have one installation of Python on your computer when you do this, otherwise the installation may not work. **\n",
    "\n",
    "## Imports and Set-up"
   ]
  },
  {
   "cell_type": "code",
   "execution_count": 30,
   "metadata": {},
   "outputs": [
    {
     "name": "stdout",
     "output_type": "stream",
     "text": [
      "Defaulting to user installation because normal site-packages is not writeable\n",
      "Collecting cufflinks\n",
      "  Downloading cufflinks-0.17.3.tar.gz (81 kB)\n",
      "     ---------------------------------------- 81.7/81.7 kB 1.1 MB/s eta 0:00:00\n",
      "  Preparing metadata (setup.py): started\n",
      "  Preparing metadata (setup.py): finished with status 'done'\n",
      "Requirement already satisfied: numpy>=1.9.2 in c:\\programdata\\anaconda3\\lib\\site-packages (from cufflinks) (1.21.5)\n",
      "Requirement already satisfied: pandas>=0.19.2 in c:\\programdata\\anaconda3\\lib\\site-packages (from cufflinks) (1.4.4)\n",
      "Requirement already satisfied: plotly>=4.1.1 in c:\\programdata\\anaconda3\\lib\\site-packages (from cufflinks) (5.9.0)\n",
      "Requirement already satisfied: six>=1.9.0 in c:\\programdata\\anaconda3\\lib\\site-packages (from cufflinks) (1.16.0)\n",
      "Collecting colorlover>=0.2.1\n",
      "  Downloading colorlover-0.3.0-py3-none-any.whl (8.9 kB)\n",
      "Requirement already satisfied: setuptools>=34.4.1 in c:\\programdata\\anaconda3\\lib\\site-packages (from cufflinks) (63.4.1)\n",
      "Requirement already satisfied: ipython>=5.3.0 in c:\\programdata\\anaconda3\\lib\\site-packages (from cufflinks) (7.31.1)\n",
      "Requirement already satisfied: ipywidgets>=7.0.0 in c:\\programdata\\anaconda3\\lib\\site-packages (from cufflinks) (7.6.5)\n",
      "Requirement already satisfied: decorator in c:\\programdata\\anaconda3\\lib\\site-packages (from ipython>=5.3.0->cufflinks) (5.1.1)\n",
      "Requirement already satisfied: backcall in c:\\programdata\\anaconda3\\lib\\site-packages (from ipython>=5.3.0->cufflinks) (0.2.0)\n",
      "Requirement already satisfied: matplotlib-inline in c:\\programdata\\anaconda3\\lib\\site-packages (from ipython>=5.3.0->cufflinks) (0.1.6)\n",
      "Requirement already satisfied: traitlets>=4.2 in c:\\programdata\\anaconda3\\lib\\site-packages (from ipython>=5.3.0->cufflinks) (5.1.1)\n",
      "Requirement already satisfied: prompt-toolkit!=3.0.0,!=3.0.1,<3.1.0,>=2.0.0 in c:\\programdata\\anaconda3\\lib\\site-packages (from ipython>=5.3.0->cufflinks) (3.0.20)\n",
      "Requirement already satisfied: colorama in c:\\programdata\\anaconda3\\lib\\site-packages (from ipython>=5.3.0->cufflinks) (0.4.5)\n",
      "Requirement already satisfied: jedi>=0.16 in c:\\programdata\\anaconda3\\lib\\site-packages (from ipython>=5.3.0->cufflinks) (0.18.1)\n",
      "Requirement already satisfied: pickleshare in c:\\programdata\\anaconda3\\lib\\site-packages (from ipython>=5.3.0->cufflinks) (0.7.5)\n",
      "Requirement already satisfied: pygments in c:\\programdata\\anaconda3\\lib\\site-packages (from ipython>=5.3.0->cufflinks) (2.11.2)\n",
      "Requirement already satisfied: widgetsnbextension~=3.5.0 in c:\\programdata\\anaconda3\\lib\\site-packages (from ipywidgets>=7.0.0->cufflinks) (3.5.2)\n",
      "Requirement already satisfied: jupyterlab-widgets>=1.0.0 in c:\\programdata\\anaconda3\\lib\\site-packages (from ipywidgets>=7.0.0->cufflinks) (1.0.0)\n",
      "Requirement already satisfied: ipython-genutils~=0.2.0 in c:\\programdata\\anaconda3\\lib\\site-packages (from ipywidgets>=7.0.0->cufflinks) (0.2.0)\n",
      "Requirement already satisfied: ipykernel>=4.5.1 in c:\\programdata\\anaconda3\\lib\\site-packages (from ipywidgets>=7.0.0->cufflinks) (6.15.2)\n",
      "Requirement already satisfied: nbformat>=4.2.0 in c:\\programdata\\anaconda3\\lib\\site-packages (from ipywidgets>=7.0.0->cufflinks) (5.5.0)\n",
      "Requirement already satisfied: python-dateutil>=2.8.1 in c:\\programdata\\anaconda3\\lib\\site-packages (from pandas>=0.19.2->cufflinks) (2.8.2)\n",
      "Requirement already satisfied: pytz>=2020.1 in c:\\programdata\\anaconda3\\lib\\site-packages (from pandas>=0.19.2->cufflinks) (2022.1)\n",
      "Requirement already satisfied: tenacity>=6.2.0 in c:\\programdata\\anaconda3\\lib\\site-packages (from plotly>=4.1.1->cufflinks) (8.0.1)\n",
      "Requirement already satisfied: pyzmq>=17 in c:\\programdata\\anaconda3\\lib\\site-packages (from ipykernel>=4.5.1->ipywidgets>=7.0.0->cufflinks) (23.2.0)\n",
      "Requirement already satisfied: psutil in c:\\programdata\\anaconda3\\lib\\site-packages (from ipykernel>=4.5.1->ipywidgets>=7.0.0->cufflinks) (5.9.0)\n",
      "Requirement already satisfied: nest-asyncio in c:\\programdata\\anaconda3\\lib\\site-packages (from ipykernel>=4.5.1->ipywidgets>=7.0.0->cufflinks) (1.5.5)\n",
      "Requirement already satisfied: debugpy>=1.0 in c:\\programdata\\anaconda3\\lib\\site-packages (from ipykernel>=4.5.1->ipywidgets>=7.0.0->cufflinks) (1.5.1)\n",
      "Requirement already satisfied: packaging in c:\\programdata\\anaconda3\\lib\\site-packages (from ipykernel>=4.5.1->ipywidgets>=7.0.0->cufflinks) (21.3)\n",
      "Requirement already satisfied: tornado>=6.1 in c:\\programdata\\anaconda3\\lib\\site-packages (from ipykernel>=4.5.1->ipywidgets>=7.0.0->cufflinks) (6.1)\n",
      "Requirement already satisfied: jupyter-client>=6.1.12 in c:\\programdata\\anaconda3\\lib\\site-packages (from ipykernel>=4.5.1->ipywidgets>=7.0.0->cufflinks) (7.3.4)\n",
      "Requirement already satisfied: parso<0.9.0,>=0.8.0 in c:\\programdata\\anaconda3\\lib\\site-packages (from jedi>=0.16->ipython>=5.3.0->cufflinks) (0.8.3)\n",
      "Requirement already satisfied: jsonschema>=2.6 in c:\\programdata\\anaconda3\\lib\\site-packages (from nbformat>=4.2.0->ipywidgets>=7.0.0->cufflinks) (4.16.0)\n",
      "Requirement already satisfied: jupyter_core in c:\\programdata\\anaconda3\\lib\\site-packages (from nbformat>=4.2.0->ipywidgets>=7.0.0->cufflinks) (4.11.1)\n",
      "Requirement already satisfied: fastjsonschema in c:\\programdata\\anaconda3\\lib\\site-packages (from nbformat>=4.2.0->ipywidgets>=7.0.0->cufflinks) (2.16.2)\n",
      "Requirement already satisfied: wcwidth in c:\\programdata\\anaconda3\\lib\\site-packages (from prompt-toolkit!=3.0.0,!=3.0.1,<3.1.0,>=2.0.0->ipython>=5.3.0->cufflinks) (0.2.5)\n",
      "Requirement already satisfied: notebook>=4.4.1 in c:\\programdata\\anaconda3\\lib\\site-packages (from widgetsnbextension~=3.5.0->ipywidgets>=7.0.0->cufflinks) (6.4.12)\n",
      "Requirement already satisfied: pyrsistent!=0.17.0,!=0.17.1,!=0.17.2,>=0.14.0 in c:\\programdata\\anaconda3\\lib\\site-packages (from jsonschema>=2.6->nbformat>=4.2.0->ipywidgets>=7.0.0->cufflinks) (0.18.0)\n",
      "Requirement already satisfied: attrs>=17.4.0 in c:\\programdata\\anaconda3\\lib\\site-packages (from jsonschema>=2.6->nbformat>=4.2.0->ipywidgets>=7.0.0->cufflinks) (21.4.0)\n",
      "Requirement already satisfied: entrypoints in c:\\programdata\\anaconda3\\lib\\site-packages (from jupyter-client>=6.1.12->ipykernel>=4.5.1->ipywidgets>=7.0.0->cufflinks) (0.4)\n",
      "Requirement already satisfied: pywin32>=1.0 in c:\\programdata\\anaconda3\\lib\\site-packages (from jupyter_core->nbformat>=4.2.0->ipywidgets>=7.0.0->cufflinks) (302)\n",
      "Requirement already satisfied: terminado>=0.8.3 in c:\\programdata\\anaconda3\\lib\\site-packages (from notebook>=4.4.1->widgetsnbextension~=3.5.0->ipywidgets>=7.0.0->cufflinks) (0.13.1)\n",
      "Requirement already satisfied: Send2Trash>=1.8.0 in c:\\programdata\\anaconda3\\lib\\site-packages (from notebook>=4.4.1->widgetsnbextension~=3.5.0->ipywidgets>=7.0.0->cufflinks) (1.8.0)\n",
      "Requirement already satisfied: argon2-cffi in c:\\programdata\\anaconda3\\lib\\site-packages (from notebook>=4.4.1->widgetsnbextension~=3.5.0->ipywidgets>=7.0.0->cufflinks) (21.3.0)\n",
      "Requirement already satisfied: nbconvert>=5 in c:\\programdata\\anaconda3\\lib\\site-packages (from notebook>=4.4.1->widgetsnbextension~=3.5.0->ipywidgets>=7.0.0->cufflinks) (6.4.4)\n",
      "Requirement already satisfied: jinja2 in c:\\programdata\\anaconda3\\lib\\site-packages (from notebook>=4.4.1->widgetsnbextension~=3.5.0->ipywidgets>=7.0.0->cufflinks) (2.11.3)\n",
      "Requirement already satisfied: prometheus-client in c:\\programdata\\anaconda3\\lib\\site-packages (from notebook>=4.4.1->widgetsnbextension~=3.5.0->ipywidgets>=7.0.0->cufflinks) (0.14.1)\n",
      "Requirement already satisfied: pyparsing!=3.0.5,>=2.0.2 in c:\\programdata\\anaconda3\\lib\\site-packages (from packaging->ipykernel>=4.5.1->ipywidgets>=7.0.0->cufflinks) (3.0.9)\n",
      "Requirement already satisfied: pandocfilters>=1.4.1 in c:\\programdata\\anaconda3\\lib\\site-packages (from nbconvert>=5->notebook>=4.4.1->widgetsnbextension~=3.5.0->ipywidgets>=7.0.0->cufflinks) (1.5.0)\n",
      "Requirement already satisfied: jupyterlab-pygments in c:\\programdata\\anaconda3\\lib\\site-packages (from nbconvert>=5->notebook>=4.4.1->widgetsnbextension~=3.5.0->ipywidgets>=7.0.0->cufflinks) (0.1.2)\n",
      "Requirement already satisfied: bleach in c:\\programdata\\anaconda3\\lib\\site-packages (from nbconvert>=5->notebook>=4.4.1->widgetsnbextension~=3.5.0->ipywidgets>=7.0.0->cufflinks) (4.1.0)\n",
      "Requirement already satisfied: testpath in c:\\programdata\\anaconda3\\lib\\site-packages (from nbconvert>=5->notebook>=4.4.1->widgetsnbextension~=3.5.0->ipywidgets>=7.0.0->cufflinks) (0.6.0)\n",
      "Requirement already satisfied: nbclient<0.6.0,>=0.5.0 in c:\\programdata\\anaconda3\\lib\\site-packages (from nbconvert>=5->notebook>=4.4.1->widgetsnbextension~=3.5.0->ipywidgets>=7.0.0->cufflinks) (0.5.13)\n",
      "Requirement already satisfied: defusedxml in c:\\programdata\\anaconda3\\lib\\site-packages (from nbconvert>=5->notebook>=4.4.1->widgetsnbextension~=3.5.0->ipywidgets>=7.0.0->cufflinks) (0.7.1)\n",
      "Requirement already satisfied: mistune<2,>=0.8.1 in c:\\programdata\\anaconda3\\lib\\site-packages (from nbconvert>=5->notebook>=4.4.1->widgetsnbextension~=3.5.0->ipywidgets>=7.0.0->cufflinks) (0.8.4)\n",
      "Requirement already satisfied: beautifulsoup4 in c:\\programdata\\anaconda3\\lib\\site-packages (from nbconvert>=5->notebook>=4.4.1->widgetsnbextension~=3.5.0->ipywidgets>=7.0.0->cufflinks) (4.11.1)\n",
      "Requirement already satisfied: MarkupSafe>=0.23 in c:\\programdata\\anaconda3\\lib\\site-packages (from jinja2->notebook>=4.4.1->widgetsnbextension~=3.5.0->ipywidgets>=7.0.0->cufflinks) (2.0.1)\n",
      "Requirement already satisfied: pywinpty>=1.1.0 in c:\\programdata\\anaconda3\\lib\\site-packages (from terminado>=0.8.3->notebook>=4.4.1->widgetsnbextension~=3.5.0->ipywidgets>=7.0.0->cufflinks) (2.0.2)\n",
      "Requirement already satisfied: argon2-cffi-bindings in c:\\programdata\\anaconda3\\lib\\site-packages (from argon2-cffi->notebook>=4.4.1->widgetsnbextension~=3.5.0->ipywidgets>=7.0.0->cufflinks) (21.2.0)\n",
      "Requirement already satisfied: cffi>=1.0.1 in c:\\programdata\\anaconda3\\lib\\site-packages (from argon2-cffi-bindings->argon2-cffi->notebook>=4.4.1->widgetsnbextension~=3.5.0->ipywidgets>=7.0.0->cufflinks) (1.15.1)\n",
      "Requirement already satisfied: soupsieve>1.2 in c:\\programdata\\anaconda3\\lib\\site-packages (from beautifulsoup4->nbconvert>=5->notebook>=4.4.1->widgetsnbextension~=3.5.0->ipywidgets>=7.0.0->cufflinks) (2.3.1)\n",
      "Requirement already satisfied: webencodings in c:\\programdata\\anaconda3\\lib\\site-packages (from bleach->nbconvert>=5->notebook>=4.4.1->widgetsnbextension~=3.5.0->ipywidgets>=7.0.0->cufflinks) (0.5.1)\n",
      "Requirement already satisfied: pycparser in c:\\programdata\\anaconda3\\lib\\site-packages (from cffi>=1.0.1->argon2-cffi-bindings->argon2-cffi->notebook>=4.4.1->widgetsnbextension~=3.5.0->ipywidgets>=7.0.0->cufflinks) (2.21)\n",
      "Building wheels for collected packages: cufflinks\n",
      "  Building wheel for cufflinks (setup.py): started\n",
      "  Building wheel for cufflinks (setup.py): finished with status 'done'\n",
      "  Created wheel for cufflinks: filename=cufflinks-0.17.3-py3-none-any.whl size=68718 sha256=29d79a918171b56ebe643e8688b737f2eb0a116afafc605748c5f13149861f99\n",
      "  Stored in directory: c:\\users\\monish.k\\appdata\\local\\pip\\cache\\wheels\\29\\b4\\f8\\2fd2206eeeba6ccad8167e4e8894b8c4ec27bf1342037fd136\n",
      "Successfully built cufflinks\n",
      "Installing collected packages: colorlover, cufflinks\n",
      "Successfully installed colorlover-0.3.0 cufflinks-0.17.3\n",
      "Note: you may need to restart the kernel to use updated packages.\n"
     ]
    }
   ],
   "source": [
    "pip install cufflinks"
   ]
  },
  {
   "cell_type": "code",
   "execution_count": 31,
   "metadata": {},
   "outputs": [],
   "source": [
    "import pandas as pd\n",
    "import numpy as np\n",
    "%matplotlib inline"
   ]
  },
  {
   "cell_type": "code",
   "execution_count": 32,
   "metadata": {},
   "outputs": [
    {
     "name": "stdout",
     "output_type": "stream",
     "text": [
      "5.9.0\n"
     ]
    }
   ],
   "source": [
    "from plotly import __version__\n",
    "from plotly.offline import download_plotlyjs, init_notebook_mode, plot, iplot\n",
    "\n",
    "print(__version__) # requires version >= 1.9.0"
   ]
  },
  {
   "cell_type": "code",
   "execution_count": 33,
   "metadata": {},
   "outputs": [],
   "source": [
    "import cufflinks as cf"
   ]
  },
  {
   "cell_type": "code",
   "execution_count": 35,
   "metadata": {},
   "outputs": [
    {
     "data": {
      "text/html": [
       "        <script type=\"text/javascript\">\n",
       "        window.PlotlyConfig = {MathJaxConfig: 'local'};\n",
       "        if (window.MathJax && window.MathJax.Hub && window.MathJax.Hub.Config) {window.MathJax.Hub.Config({SVG: {font: \"STIX-Web\"}});}\n",
       "        if (typeof require !== 'undefined') {\n",
       "        require.undef(\"plotly\");\n",
       "        requirejs.config({\n",
       "            paths: {\n",
       "                'plotly': ['https://cdn.plot.ly/plotly-2.12.1.min']\n",
       "            }\n",
       "        });\n",
       "        require(['plotly'], function(Plotly) {\n",
       "            window._Plotly = Plotly;\n",
       "        });\n",
       "        }\n",
       "        </script>\n",
       "        "
      ]
     },
     "metadata": {},
     "output_type": "display_data"
    }
   ],
   "source": [
    "# For Notebooks\n",
    "init_notebook_mode(connected=True)"
   ]
  },
  {
   "cell_type": "code",
   "execution_count": 36,
   "metadata": {},
   "outputs": [
    {
     "data": {
      "text/html": [
       "        <script type=\"text/javascript\">\n",
       "        window.PlotlyConfig = {MathJaxConfig: 'local'};\n",
       "        if (window.MathJax && window.MathJax.Hub && window.MathJax.Hub.Config) {window.MathJax.Hub.Config({SVG: {font: \"STIX-Web\"}});}\n",
       "        if (typeof require !== 'undefined') {\n",
       "        require.undef(\"plotly\");\n",
       "        requirejs.config({\n",
       "            paths: {\n",
       "                'plotly': ['https://cdn.plot.ly/plotly-2.12.1.min']\n",
       "            }\n",
       "        });\n",
       "        require(['plotly'], function(Plotly) {\n",
       "            window._Plotly = Plotly;\n",
       "        });\n",
       "        }\n",
       "        </script>\n",
       "        "
      ]
     },
     "metadata": {},
     "output_type": "display_data"
    }
   ],
   "source": [
    "# For offline use\n",
    "cf.go_offline()"
   ]
  },
  {
   "cell_type": "markdown",
   "metadata": {},
   "source": [
    "### Fake Data"
   ]
  },
  {
   "cell_type": "code",
   "execution_count": 37,
   "metadata": {},
   "outputs": [],
   "source": [
    "df = pd.DataFrame(np.random.randn(100,4),columns='A B C D'.split())"
   ]
  },
  {
   "cell_type": "code",
   "execution_count": 38,
   "metadata": {},
   "outputs": [
    {
     "data": {
      "text/html": [
       "<div>\n",
       "<style scoped>\n",
       "    .dataframe tbody tr th:only-of-type {\n",
       "        vertical-align: middle;\n",
       "    }\n",
       "\n",
       "    .dataframe tbody tr th {\n",
       "        vertical-align: top;\n",
       "    }\n",
       "\n",
       "    .dataframe thead th {\n",
       "        text-align: right;\n",
       "    }\n",
       "</style>\n",
       "<table border=\"1\" class=\"dataframe\">\n",
       "  <thead>\n",
       "    <tr style=\"text-align: right;\">\n",
       "      <th></th>\n",
       "      <th>A</th>\n",
       "      <th>B</th>\n",
       "      <th>C</th>\n",
       "      <th>D</th>\n",
       "    </tr>\n",
       "  </thead>\n",
       "  <tbody>\n",
       "    <tr>\n",
       "      <th>0</th>\n",
       "      <td>1.080125</td>\n",
       "      <td>1.360784</td>\n",
       "      <td>0.702767</td>\n",
       "      <td>-0.748118</td>\n",
       "    </tr>\n",
       "    <tr>\n",
       "      <th>1</th>\n",
       "      <td>-0.096389</td>\n",
       "      <td>-0.967467</td>\n",
       "      <td>2.413027</td>\n",
       "      <td>1.223431</td>\n",
       "    </tr>\n",
       "    <tr>\n",
       "      <th>2</th>\n",
       "      <td>-0.477821</td>\n",
       "      <td>0.312210</td>\n",
       "      <td>1.024712</td>\n",
       "      <td>-1.976720</td>\n",
       "    </tr>\n",
       "    <tr>\n",
       "      <th>3</th>\n",
       "      <td>-0.294217</td>\n",
       "      <td>-1.944830</td>\n",
       "      <td>1.168373</td>\n",
       "      <td>0.689948</td>\n",
       "    </tr>\n",
       "    <tr>\n",
       "      <th>4</th>\n",
       "      <td>0.042125</td>\n",
       "      <td>1.613503</td>\n",
       "      <td>-1.305672</td>\n",
       "      <td>-0.220143</td>\n",
       "    </tr>\n",
       "  </tbody>\n",
       "</table>\n",
       "</div>"
      ],
      "text/plain": [
       "          A         B         C         D\n",
       "0  1.080125  1.360784  0.702767 -0.748118\n",
       "1 -0.096389 -0.967467  2.413027  1.223431\n",
       "2 -0.477821  0.312210  1.024712 -1.976720\n",
       "3 -0.294217 -1.944830  1.168373  0.689948\n",
       "4  0.042125  1.613503 -1.305672 -0.220143"
      ]
     },
     "execution_count": 38,
     "metadata": {},
     "output_type": "execute_result"
    }
   ],
   "source": [
    "df.head()"
   ]
  },
  {
   "cell_type": "code",
   "execution_count": 39,
   "metadata": {},
   "outputs": [],
   "source": [
    "df2 = pd.DataFrame({'Category':['A','B','C'],'Values':[32,43,50]})"
   ]
  },
  {
   "cell_type": "code",
   "execution_count": 40,
   "metadata": {},
   "outputs": [
    {
     "data": {
      "text/html": [
       "<div>\n",
       "<style scoped>\n",
       "    .dataframe tbody tr th:only-of-type {\n",
       "        vertical-align: middle;\n",
       "    }\n",
       "\n",
       "    .dataframe tbody tr th {\n",
       "        vertical-align: top;\n",
       "    }\n",
       "\n",
       "    .dataframe thead th {\n",
       "        text-align: right;\n",
       "    }\n",
       "</style>\n",
       "<table border=\"1\" class=\"dataframe\">\n",
       "  <thead>\n",
       "    <tr style=\"text-align: right;\">\n",
       "      <th></th>\n",
       "      <th>Category</th>\n",
       "      <th>Values</th>\n",
       "    </tr>\n",
       "  </thead>\n",
       "  <tbody>\n",
       "    <tr>\n",
       "      <th>0</th>\n",
       "      <td>A</td>\n",
       "      <td>32</td>\n",
       "    </tr>\n",
       "    <tr>\n",
       "      <th>1</th>\n",
       "      <td>B</td>\n",
       "      <td>43</td>\n",
       "    </tr>\n",
       "    <tr>\n",
       "      <th>2</th>\n",
       "      <td>C</td>\n",
       "      <td>50</td>\n",
       "    </tr>\n",
       "  </tbody>\n",
       "</table>\n",
       "</div>"
      ],
      "text/plain": [
       "  Category  Values\n",
       "0        A      32\n",
       "1        B      43\n",
       "2        C      50"
      ]
     },
     "execution_count": 40,
     "metadata": {},
     "output_type": "execute_result"
    }
   ],
   "source": [
    "df2.head()"
   ]
  },
  {
   "cell_type": "markdown",
   "metadata": {},
   "source": [
    "## Using Cufflinks and iplot()\n",
    "\n",
    "* scatter\n",
    "* bar\n",
    "* box\n",
    "* spread\n",
    "* ratio\n",
    "* heatmap\n",
    "* surface\n",
    "* histogram\n",
    "* bubble"
   ]
  },
  {
   "cell_type": "markdown",
   "metadata": {},
   "source": [
    "## Scatter"
   ]
  },
  {
   "cell_type": "code",
   "execution_count": 41,
   "metadata": {},
   "outputs": [
    {
     "data": {
      "application/vnd.plotly.v1+json": {
       "config": {
        "linkText": "Export to plot.ly",
        "plotlyServerURL": "https://plot.ly",
        "showLink": true
       },
       "data": [
        {
         "line": {
          "color": "rgba(255, 153, 51, 1.0)",
          "dash": "solid",
          "shape": "linear",
          "width": 1.3
         },
         "marker": {
          "size": 10,
          "symbol": "circle"
         },
         "mode": "markers",
         "name": "B",
         "text": "",
         "type": "scatter",
         "x": [
          1.0801251640557836,
          -0.09638858984862315,
          -0.4778206331382923,
          -0.2942173372442018,
          0.04212547757433794,
          -0.21241871665351275,
          0.6157702361721962,
          0.32992005709913946,
          0.6814184853186209,
          -0.401646842512738,
          -0.2851115081639871,
          -1.2114845027340753,
          0.06916614368341706,
          0.1591285599517671,
          0.05453521215892846,
          -0.6810073484713328,
          2.8589502284383155,
          -0.5012294716308849,
          1.6502615869672825,
          1.2967876390551507,
          -0.10757536720860636,
          -0.42252750196673766,
          1.1947484804295403,
          -0.395714437875417,
          0.21503690725318397,
          0.42319298537150496,
          -1.7070394815037455,
          0.2886632245298637,
          0.11713281991426203,
          -1.590841654060365,
          0.2983704610660227,
          -1.459872250265605,
          1.6761898403762872,
          0.5399305897011594,
          1.859397226985364,
          -0.09166231163698116,
          0.4606859669210411,
          0.33415746097397353,
          0.027914158981814274,
          0.5974492446391806,
          -0.16239253650338997,
          -1.6435607314478577,
          0.6442208478110065,
          -1.0148388047249859,
          0.9594519440364432,
          -0.44541819871248955,
          -0.886535797155018,
          -1.0310906701974405,
          1.5682064990356273,
          -0.18047306213555087,
          0.7648350111451226,
          0.45585198816044414,
          -0.7528956574004777,
          -0.22824277167503762,
          0.014635252813137507,
          -0.7893010839719782,
          0.6859059684265395,
          -0.8650133123530385,
          -0.15179595809982077,
          -0.15250415179727717,
          -0.0351690914259882,
          2.0661977474856523,
          1.074773180617247,
          -1.4386033815290893,
          1.306654243985068,
          -0.09771618187642477,
          -2.1219455194046253,
          -0.35806526592115173,
          -0.5794297205497703,
          0.6788180144526051,
          0.8037361115157824,
          -1.4809937681016654,
          -2.0178203799844856,
          0.3101821464478711,
          -0.1790669563794227,
          -1.5498694961858306,
          -0.5086716379020376,
          -0.6459186885571588,
          0.3295423928644564,
          -1.0961683497786938,
          -1.5805201999917888,
          0.3933799959004732,
          0.3219084816465848,
          0.2924579434889606,
          -0.10074763128293673,
          -0.03403519839224362,
          2.3332802461496995,
          2.0114018515991834,
          0.7620841513465821,
          -1.1857754510814738,
          -0.582780837007449,
          1.0518815625121487,
          0.20745864997243998,
          0.15382712049177955,
          0.19150932142055335,
          2.0178206629395943,
          -0.6900046114688033,
          -0.977313611536171,
          -0.6851687125391716,
          0.1741431211184333
         ],
         "y": [
          1.3607841251836796,
          -0.9674674905132706,
          0.3122098362800539,
          -1.9448302439623684,
          1.6135031795380288,
          -0.9716838883329177,
          2.0331012007700022,
          1.652770317992748,
          -1.4578018235628902,
          -1.5732701085155567,
          -0.07607385423638324,
          0.08201682070201322,
          0.2122198422416436,
          -1.9304564495522596,
          -2.3040923217611735,
          0.9130611530966893,
          1.3802584503837574,
          -0.4046830738850893,
          0.07601032667948168,
          0.8976347785160459,
          -0.09003598707624505,
          0.7409346195956898,
          -1.8007196022202219,
          -0.6317000979078795,
          -0.1413757369338316,
          0.6468377284193276,
          0.5381324922017766,
          0.740679491186776,
          -1.204443665274361,
          0.47276969369577587,
          1.127827927590617,
          0.2361165790929499,
          0.24009181716586592,
          -1.3194438103143555,
          -0.38186725209629757,
          -0.7977332724316449,
          2.469920077081317,
          -0.10610371314187877,
          -1.5121692164865521,
          -1.1844023197781017,
          -0.011171440261647346,
          -0.5098884899014533,
          1.8974393146246504,
          -0.16990836365314899,
          -0.6014629305675028,
          -0.8318383576734268,
          -0.03298638585192762,
          0.6062909702192114,
          -0.15800986430627798,
          1.6882608031105024,
          -0.671277450025276,
          -0.820328638105275,
          0.2881868567368972,
          0.5243074034741281,
          0.1285915753539585,
          0.5945487422764267,
          0.19612240560354918,
          -0.9772081243251444,
          -0.023067476057357688,
          0.2389657964904768,
          -0.4983109887694054,
          -0.27292214745955795,
          -0.7670065331174148,
          0.08971936190133252,
          0.05660681638505576,
          -0.9435712987191033,
          0.667349226954366,
          1.1180615456422802,
          -1.375596283258031,
          1.5745623897180148,
          -1.8334282872394294,
          1.6572128822452232,
          2.042726721554889,
          -0.49918497976316645,
          0.6500999327603493,
          2.071292907232663,
          1.3564198989597525,
          0.4812759605501785,
          0.978137026870297,
          -0.38228276955254964,
          -2.3068081170005383,
          -0.8499659630386249,
          -0.14182566772572905,
          -0.029006226358003907,
          0.15691513529743456,
          1.6364792393697691,
          -0.39096557396705495,
          1.289989835188355,
          -0.6079139476948235,
          1.787981154711908,
          -0.9677198312633559,
          0.9800751842228804,
          1.0901319076859644,
          -1.081995774409719,
          -0.1983707845407121,
          0.3630010895250102,
          -0.5657049123972575,
          0.3503979459289591,
          1.005465375591448,
          -0.3704708729101634
         ]
        }
       ],
       "layout": {
        "legend": {
         "bgcolor": "#F5F6F9",
         "font": {
          "color": "#4D5663"
         }
        },
        "paper_bgcolor": "#F5F6F9",
        "plot_bgcolor": "#F5F6F9",
        "template": {
         "data": {
          "bar": [
           {
            "error_x": {
             "color": "#2a3f5f"
            },
            "error_y": {
             "color": "#2a3f5f"
            },
            "marker": {
             "line": {
              "color": "#E5ECF6",
              "width": 0.5
             },
             "pattern": {
              "fillmode": "overlay",
              "size": 10,
              "solidity": 0.2
             }
            },
            "type": "bar"
           }
          ],
          "barpolar": [
           {
            "marker": {
             "line": {
              "color": "#E5ECF6",
              "width": 0.5
             },
             "pattern": {
              "fillmode": "overlay",
              "size": 10,
              "solidity": 0.2
             }
            },
            "type": "barpolar"
           }
          ],
          "carpet": [
           {
            "aaxis": {
             "endlinecolor": "#2a3f5f",
             "gridcolor": "white",
             "linecolor": "white",
             "minorgridcolor": "white",
             "startlinecolor": "#2a3f5f"
            },
            "baxis": {
             "endlinecolor": "#2a3f5f",
             "gridcolor": "white",
             "linecolor": "white",
             "minorgridcolor": "white",
             "startlinecolor": "#2a3f5f"
            },
            "type": "carpet"
           }
          ],
          "choropleth": [
           {
            "colorbar": {
             "outlinewidth": 0,
             "ticks": ""
            },
            "type": "choropleth"
           }
          ],
          "contour": [
           {
            "colorbar": {
             "outlinewidth": 0,
             "ticks": ""
            },
            "colorscale": [
             [
              0,
              "#0d0887"
             ],
             [
              0.1111111111111111,
              "#46039f"
             ],
             [
              0.2222222222222222,
              "#7201a8"
             ],
             [
              0.3333333333333333,
              "#9c179e"
             ],
             [
              0.4444444444444444,
              "#bd3786"
             ],
             [
              0.5555555555555556,
              "#d8576b"
             ],
             [
              0.6666666666666666,
              "#ed7953"
             ],
             [
              0.7777777777777778,
              "#fb9f3a"
             ],
             [
              0.8888888888888888,
              "#fdca26"
             ],
             [
              1,
              "#f0f921"
             ]
            ],
            "type": "contour"
           }
          ],
          "contourcarpet": [
           {
            "colorbar": {
             "outlinewidth": 0,
             "ticks": ""
            },
            "type": "contourcarpet"
           }
          ],
          "heatmap": [
           {
            "colorbar": {
             "outlinewidth": 0,
             "ticks": ""
            },
            "colorscale": [
             [
              0,
              "#0d0887"
             ],
             [
              0.1111111111111111,
              "#46039f"
             ],
             [
              0.2222222222222222,
              "#7201a8"
             ],
             [
              0.3333333333333333,
              "#9c179e"
             ],
             [
              0.4444444444444444,
              "#bd3786"
             ],
             [
              0.5555555555555556,
              "#d8576b"
             ],
             [
              0.6666666666666666,
              "#ed7953"
             ],
             [
              0.7777777777777778,
              "#fb9f3a"
             ],
             [
              0.8888888888888888,
              "#fdca26"
             ],
             [
              1,
              "#f0f921"
             ]
            ],
            "type": "heatmap"
           }
          ],
          "heatmapgl": [
           {
            "colorbar": {
             "outlinewidth": 0,
             "ticks": ""
            },
            "colorscale": [
             [
              0,
              "#0d0887"
             ],
             [
              0.1111111111111111,
              "#46039f"
             ],
             [
              0.2222222222222222,
              "#7201a8"
             ],
             [
              0.3333333333333333,
              "#9c179e"
             ],
             [
              0.4444444444444444,
              "#bd3786"
             ],
             [
              0.5555555555555556,
              "#d8576b"
             ],
             [
              0.6666666666666666,
              "#ed7953"
             ],
             [
              0.7777777777777778,
              "#fb9f3a"
             ],
             [
              0.8888888888888888,
              "#fdca26"
             ],
             [
              1,
              "#f0f921"
             ]
            ],
            "type": "heatmapgl"
           }
          ],
          "histogram": [
           {
            "marker": {
             "pattern": {
              "fillmode": "overlay",
              "size": 10,
              "solidity": 0.2
             }
            },
            "type": "histogram"
           }
          ],
          "histogram2d": [
           {
            "colorbar": {
             "outlinewidth": 0,
             "ticks": ""
            },
            "colorscale": [
             [
              0,
              "#0d0887"
             ],
             [
              0.1111111111111111,
              "#46039f"
             ],
             [
              0.2222222222222222,
              "#7201a8"
             ],
             [
              0.3333333333333333,
              "#9c179e"
             ],
             [
              0.4444444444444444,
              "#bd3786"
             ],
             [
              0.5555555555555556,
              "#d8576b"
             ],
             [
              0.6666666666666666,
              "#ed7953"
             ],
             [
              0.7777777777777778,
              "#fb9f3a"
             ],
             [
              0.8888888888888888,
              "#fdca26"
             ],
             [
              1,
              "#f0f921"
             ]
            ],
            "type": "histogram2d"
           }
          ],
          "histogram2dcontour": [
           {
            "colorbar": {
             "outlinewidth": 0,
             "ticks": ""
            },
            "colorscale": [
             [
              0,
              "#0d0887"
             ],
             [
              0.1111111111111111,
              "#46039f"
             ],
             [
              0.2222222222222222,
              "#7201a8"
             ],
             [
              0.3333333333333333,
              "#9c179e"
             ],
             [
              0.4444444444444444,
              "#bd3786"
             ],
             [
              0.5555555555555556,
              "#d8576b"
             ],
             [
              0.6666666666666666,
              "#ed7953"
             ],
             [
              0.7777777777777778,
              "#fb9f3a"
             ],
             [
              0.8888888888888888,
              "#fdca26"
             ],
             [
              1,
              "#f0f921"
             ]
            ],
            "type": "histogram2dcontour"
           }
          ],
          "mesh3d": [
           {
            "colorbar": {
             "outlinewidth": 0,
             "ticks": ""
            },
            "type": "mesh3d"
           }
          ],
          "parcoords": [
           {
            "line": {
             "colorbar": {
              "outlinewidth": 0,
              "ticks": ""
             }
            },
            "type": "parcoords"
           }
          ],
          "pie": [
           {
            "automargin": true,
            "type": "pie"
           }
          ],
          "scatter": [
           {
            "fillpattern": {
             "fillmode": "overlay",
             "size": 10,
             "solidity": 0.2
            },
            "type": "scatter"
           }
          ],
          "scatter3d": [
           {
            "line": {
             "colorbar": {
              "outlinewidth": 0,
              "ticks": ""
             }
            },
            "marker": {
             "colorbar": {
              "outlinewidth": 0,
              "ticks": ""
             }
            },
            "type": "scatter3d"
           }
          ],
          "scattercarpet": [
           {
            "marker": {
             "colorbar": {
              "outlinewidth": 0,
              "ticks": ""
             }
            },
            "type": "scattercarpet"
           }
          ],
          "scattergeo": [
           {
            "marker": {
             "colorbar": {
              "outlinewidth": 0,
              "ticks": ""
             }
            },
            "type": "scattergeo"
           }
          ],
          "scattergl": [
           {
            "marker": {
             "colorbar": {
              "outlinewidth": 0,
              "ticks": ""
             }
            },
            "type": "scattergl"
           }
          ],
          "scattermapbox": [
           {
            "marker": {
             "colorbar": {
              "outlinewidth": 0,
              "ticks": ""
             }
            },
            "type": "scattermapbox"
           }
          ],
          "scatterpolar": [
           {
            "marker": {
             "colorbar": {
              "outlinewidth": 0,
              "ticks": ""
             }
            },
            "type": "scatterpolar"
           }
          ],
          "scatterpolargl": [
           {
            "marker": {
             "colorbar": {
              "outlinewidth": 0,
              "ticks": ""
             }
            },
            "type": "scatterpolargl"
           }
          ],
          "scatterternary": [
           {
            "marker": {
             "colorbar": {
              "outlinewidth": 0,
              "ticks": ""
             }
            },
            "type": "scatterternary"
           }
          ],
          "surface": [
           {
            "colorbar": {
             "outlinewidth": 0,
             "ticks": ""
            },
            "colorscale": [
             [
              0,
              "#0d0887"
             ],
             [
              0.1111111111111111,
              "#46039f"
             ],
             [
              0.2222222222222222,
              "#7201a8"
             ],
             [
              0.3333333333333333,
              "#9c179e"
             ],
             [
              0.4444444444444444,
              "#bd3786"
             ],
             [
              0.5555555555555556,
              "#d8576b"
             ],
             [
              0.6666666666666666,
              "#ed7953"
             ],
             [
              0.7777777777777778,
              "#fb9f3a"
             ],
             [
              0.8888888888888888,
              "#fdca26"
             ],
             [
              1,
              "#f0f921"
             ]
            ],
            "type": "surface"
           }
          ],
          "table": [
           {
            "cells": {
             "fill": {
              "color": "#EBF0F8"
             },
             "line": {
              "color": "white"
             }
            },
            "header": {
             "fill": {
              "color": "#C8D4E3"
             },
             "line": {
              "color": "white"
             }
            },
            "type": "table"
           }
          ]
         },
         "layout": {
          "annotationdefaults": {
           "arrowcolor": "#2a3f5f",
           "arrowhead": 0,
           "arrowwidth": 1
          },
          "autotypenumbers": "strict",
          "coloraxis": {
           "colorbar": {
            "outlinewidth": 0,
            "ticks": ""
           }
          },
          "colorscale": {
           "diverging": [
            [
             0,
             "#8e0152"
            ],
            [
             0.1,
             "#c51b7d"
            ],
            [
             0.2,
             "#de77ae"
            ],
            [
             0.3,
             "#f1b6da"
            ],
            [
             0.4,
             "#fde0ef"
            ],
            [
             0.5,
             "#f7f7f7"
            ],
            [
             0.6,
             "#e6f5d0"
            ],
            [
             0.7,
             "#b8e186"
            ],
            [
             0.8,
             "#7fbc41"
            ],
            [
             0.9,
             "#4d9221"
            ],
            [
             1,
             "#276419"
            ]
           ],
           "sequential": [
            [
             0,
             "#0d0887"
            ],
            [
             0.1111111111111111,
             "#46039f"
            ],
            [
             0.2222222222222222,
             "#7201a8"
            ],
            [
             0.3333333333333333,
             "#9c179e"
            ],
            [
             0.4444444444444444,
             "#bd3786"
            ],
            [
             0.5555555555555556,
             "#d8576b"
            ],
            [
             0.6666666666666666,
             "#ed7953"
            ],
            [
             0.7777777777777778,
             "#fb9f3a"
            ],
            [
             0.8888888888888888,
             "#fdca26"
            ],
            [
             1,
             "#f0f921"
            ]
           ],
           "sequentialminus": [
            [
             0,
             "#0d0887"
            ],
            [
             0.1111111111111111,
             "#46039f"
            ],
            [
             0.2222222222222222,
             "#7201a8"
            ],
            [
             0.3333333333333333,
             "#9c179e"
            ],
            [
             0.4444444444444444,
             "#bd3786"
            ],
            [
             0.5555555555555556,
             "#d8576b"
            ],
            [
             0.6666666666666666,
             "#ed7953"
            ],
            [
             0.7777777777777778,
             "#fb9f3a"
            ],
            [
             0.8888888888888888,
             "#fdca26"
            ],
            [
             1,
             "#f0f921"
            ]
           ]
          },
          "colorway": [
           "#636efa",
           "#EF553B",
           "#00cc96",
           "#ab63fa",
           "#FFA15A",
           "#19d3f3",
           "#FF6692",
           "#B6E880",
           "#FF97FF",
           "#FECB52"
          ],
          "font": {
           "color": "#2a3f5f"
          },
          "geo": {
           "bgcolor": "white",
           "lakecolor": "white",
           "landcolor": "#E5ECF6",
           "showlakes": true,
           "showland": true,
           "subunitcolor": "white"
          },
          "hoverlabel": {
           "align": "left"
          },
          "hovermode": "closest",
          "mapbox": {
           "style": "light"
          },
          "paper_bgcolor": "white",
          "plot_bgcolor": "#E5ECF6",
          "polar": {
           "angularaxis": {
            "gridcolor": "white",
            "linecolor": "white",
            "ticks": ""
           },
           "bgcolor": "#E5ECF6",
           "radialaxis": {
            "gridcolor": "white",
            "linecolor": "white",
            "ticks": ""
           }
          },
          "scene": {
           "xaxis": {
            "backgroundcolor": "#E5ECF6",
            "gridcolor": "white",
            "gridwidth": 2,
            "linecolor": "white",
            "showbackground": true,
            "ticks": "",
            "zerolinecolor": "white"
           },
           "yaxis": {
            "backgroundcolor": "#E5ECF6",
            "gridcolor": "white",
            "gridwidth": 2,
            "linecolor": "white",
            "showbackground": true,
            "ticks": "",
            "zerolinecolor": "white"
           },
           "zaxis": {
            "backgroundcolor": "#E5ECF6",
            "gridcolor": "white",
            "gridwidth": 2,
            "linecolor": "white",
            "showbackground": true,
            "ticks": "",
            "zerolinecolor": "white"
           }
          },
          "shapedefaults": {
           "line": {
            "color": "#2a3f5f"
           }
          },
          "ternary": {
           "aaxis": {
            "gridcolor": "white",
            "linecolor": "white",
            "ticks": ""
           },
           "baxis": {
            "gridcolor": "white",
            "linecolor": "white",
            "ticks": ""
           },
           "bgcolor": "#E5ECF6",
           "caxis": {
            "gridcolor": "white",
            "linecolor": "white",
            "ticks": ""
           }
          },
          "title": {
           "x": 0.05
          },
          "xaxis": {
           "automargin": true,
           "gridcolor": "white",
           "linecolor": "white",
           "ticks": "",
           "title": {
            "standoff": 15
           },
           "zerolinecolor": "white",
           "zerolinewidth": 2
          },
          "yaxis": {
           "automargin": true,
           "gridcolor": "white",
           "linecolor": "white",
           "ticks": "",
           "title": {
            "standoff": 15
           },
           "zerolinecolor": "white",
           "zerolinewidth": 2
          }
         }
        },
        "title": {
         "font": {
          "color": "#4D5663"
         }
        },
        "xaxis": {
         "gridcolor": "#E1E5ED",
         "showgrid": true,
         "tickfont": {
          "color": "#4D5663"
         },
         "title": {
          "font": {
           "color": "#4D5663"
          },
          "text": ""
         },
         "zerolinecolor": "#E1E5ED"
        },
        "yaxis": {
         "gridcolor": "#E1E5ED",
         "showgrid": true,
         "tickfont": {
          "color": "#4D5663"
         },
         "title": {
          "font": {
           "color": "#4D5663"
          },
          "text": ""
         },
         "zerolinecolor": "#E1E5ED"
        }
       }
      },
      "text/html": [
       "<div>                            <div id=\"467125db-531d-41b4-b8cb-5a3030ea930c\" class=\"plotly-graph-div\" style=\"height:525px; width:100%;\"></div>            <script type=\"text/javascript\">                require([\"plotly\"], function(Plotly) {                    window.PLOTLYENV=window.PLOTLYENV || {};\n",
       "                    window.PLOTLYENV.BASE_URL='https://plot.ly';                                    if (document.getElementById(\"467125db-531d-41b4-b8cb-5a3030ea930c\")) {                    Plotly.newPlot(                        \"467125db-531d-41b4-b8cb-5a3030ea930c\",                        [{\"line\":{\"color\":\"rgba(255, 153, 51, 1.0)\",\"dash\":\"solid\",\"shape\":\"linear\",\"width\":1.3},\"marker\":{\"size\":10,\"symbol\":\"circle\"},\"mode\":\"markers\",\"name\":\"B\",\"text\":\"\",\"x\":[1.0801251640557836,-0.09638858984862315,-0.4778206331382923,-0.2942173372442018,0.04212547757433794,-0.21241871665351275,0.6157702361721962,0.32992005709913946,0.6814184853186209,-0.401646842512738,-0.2851115081639871,-1.2114845027340753,0.06916614368341706,0.1591285599517671,0.05453521215892846,-0.6810073484713328,2.8589502284383155,-0.5012294716308849,1.6502615869672825,1.2967876390551507,-0.10757536720860636,-0.42252750196673766,1.1947484804295403,-0.395714437875417,0.21503690725318397,0.42319298537150496,-1.7070394815037455,0.2886632245298637,0.11713281991426203,-1.590841654060365,0.2983704610660227,-1.459872250265605,1.6761898403762872,0.5399305897011594,1.859397226985364,-0.09166231163698116,0.4606859669210411,0.33415746097397353,0.027914158981814274,0.5974492446391806,-0.16239253650338997,-1.6435607314478577,0.6442208478110065,-1.0148388047249859,0.9594519440364432,-0.44541819871248955,-0.886535797155018,-1.0310906701974405,1.5682064990356273,-0.18047306213555087,0.7648350111451226,0.45585198816044414,-0.7528956574004777,-0.22824277167503762,0.014635252813137507,-0.7893010839719782,0.6859059684265395,-0.8650133123530385,-0.15179595809982077,-0.15250415179727717,-0.0351690914259882,2.0661977474856523,1.074773180617247,-1.4386033815290893,1.306654243985068,-0.09771618187642477,-2.1219455194046253,-0.35806526592115173,-0.5794297205497703,0.6788180144526051,0.8037361115157824,-1.4809937681016654,-2.0178203799844856,0.3101821464478711,-0.1790669563794227,-1.5498694961858306,-0.5086716379020376,-0.6459186885571588,0.3295423928644564,-1.0961683497786938,-1.5805201999917888,0.3933799959004732,0.3219084816465848,0.2924579434889606,-0.10074763128293673,-0.03403519839224362,2.3332802461496995,2.0114018515991834,0.7620841513465821,-1.1857754510814738,-0.582780837007449,1.0518815625121487,0.20745864997243998,0.15382712049177955,0.19150932142055335,2.0178206629395943,-0.6900046114688033,-0.977313611536171,-0.6851687125391716,0.1741431211184333],\"y\":[1.3607841251836796,-0.9674674905132706,0.3122098362800539,-1.9448302439623684,1.6135031795380288,-0.9716838883329177,2.0331012007700022,1.652770317992748,-1.4578018235628902,-1.5732701085155567,-0.07607385423638324,0.08201682070201322,0.2122198422416436,-1.9304564495522596,-2.3040923217611735,0.9130611530966893,1.3802584503837574,-0.4046830738850893,0.07601032667948168,0.8976347785160459,-0.09003598707624505,0.7409346195956898,-1.8007196022202219,-0.6317000979078795,-0.1413757369338316,0.6468377284193276,0.5381324922017766,0.740679491186776,-1.204443665274361,0.47276969369577587,1.127827927590617,0.2361165790929499,0.24009181716586592,-1.3194438103143555,-0.38186725209629757,-0.7977332724316449,2.469920077081317,-0.10610371314187877,-1.5121692164865521,-1.1844023197781017,-0.011171440261647346,-0.5098884899014533,1.8974393146246504,-0.16990836365314899,-0.6014629305675028,-0.8318383576734268,-0.03298638585192762,0.6062909702192114,-0.15800986430627798,1.6882608031105024,-0.671277450025276,-0.820328638105275,0.2881868567368972,0.5243074034741281,0.1285915753539585,0.5945487422764267,0.19612240560354918,-0.9772081243251444,-0.023067476057357688,0.2389657964904768,-0.4983109887694054,-0.27292214745955795,-0.7670065331174148,0.08971936190133252,0.05660681638505576,-0.9435712987191033,0.667349226954366,1.1180615456422802,-1.375596283258031,1.5745623897180148,-1.8334282872394294,1.6572128822452232,2.042726721554889,-0.49918497976316645,0.6500999327603493,2.071292907232663,1.3564198989597525,0.4812759605501785,0.978137026870297,-0.38228276955254964,-2.3068081170005383,-0.8499659630386249,-0.14182566772572905,-0.029006226358003907,0.15691513529743456,1.6364792393697691,-0.39096557396705495,1.289989835188355,-0.6079139476948235,1.787981154711908,-0.9677198312633559,0.9800751842228804,1.0901319076859644,-1.081995774409719,-0.1983707845407121,0.3630010895250102,-0.5657049123972575,0.3503979459289591,1.005465375591448,-0.3704708729101634],\"type\":\"scatter\"}],                        {\"legend\":{\"bgcolor\":\"#F5F6F9\",\"font\":{\"color\":\"#4D5663\"}},\"paper_bgcolor\":\"#F5F6F9\",\"plot_bgcolor\":\"#F5F6F9\",\"template\":{\"data\":{\"barpolar\":[{\"marker\":{\"line\":{\"color\":\"#E5ECF6\",\"width\":0.5},\"pattern\":{\"fillmode\":\"overlay\",\"size\":10,\"solidity\":0.2}},\"type\":\"barpolar\"}],\"bar\":[{\"error_x\":{\"color\":\"#2a3f5f\"},\"error_y\":{\"color\":\"#2a3f5f\"},\"marker\":{\"line\":{\"color\":\"#E5ECF6\",\"width\":0.5},\"pattern\":{\"fillmode\":\"overlay\",\"size\":10,\"solidity\":0.2}},\"type\":\"bar\"}],\"carpet\":[{\"aaxis\":{\"endlinecolor\":\"#2a3f5f\",\"gridcolor\":\"white\",\"linecolor\":\"white\",\"minorgridcolor\":\"white\",\"startlinecolor\":\"#2a3f5f\"},\"baxis\":{\"endlinecolor\":\"#2a3f5f\",\"gridcolor\":\"white\",\"linecolor\":\"white\",\"minorgridcolor\":\"white\",\"startlinecolor\":\"#2a3f5f\"},\"type\":\"carpet\"}],\"choropleth\":[{\"colorbar\":{\"outlinewidth\":0,\"ticks\":\"\"},\"type\":\"choropleth\"}],\"contourcarpet\":[{\"colorbar\":{\"outlinewidth\":0,\"ticks\":\"\"},\"type\":\"contourcarpet\"}],\"contour\":[{\"colorbar\":{\"outlinewidth\":0,\"ticks\":\"\"},\"colorscale\":[[0.0,\"#0d0887\"],[0.1111111111111111,\"#46039f\"],[0.2222222222222222,\"#7201a8\"],[0.3333333333333333,\"#9c179e\"],[0.4444444444444444,\"#bd3786\"],[0.5555555555555556,\"#d8576b\"],[0.6666666666666666,\"#ed7953\"],[0.7777777777777778,\"#fb9f3a\"],[0.8888888888888888,\"#fdca26\"],[1.0,\"#f0f921\"]],\"type\":\"contour\"}],\"heatmapgl\":[{\"colorbar\":{\"outlinewidth\":0,\"ticks\":\"\"},\"colorscale\":[[0.0,\"#0d0887\"],[0.1111111111111111,\"#46039f\"],[0.2222222222222222,\"#7201a8\"],[0.3333333333333333,\"#9c179e\"],[0.4444444444444444,\"#bd3786\"],[0.5555555555555556,\"#d8576b\"],[0.6666666666666666,\"#ed7953\"],[0.7777777777777778,\"#fb9f3a\"],[0.8888888888888888,\"#fdca26\"],[1.0,\"#f0f921\"]],\"type\":\"heatmapgl\"}],\"heatmap\":[{\"colorbar\":{\"outlinewidth\":0,\"ticks\":\"\"},\"colorscale\":[[0.0,\"#0d0887\"],[0.1111111111111111,\"#46039f\"],[0.2222222222222222,\"#7201a8\"],[0.3333333333333333,\"#9c179e\"],[0.4444444444444444,\"#bd3786\"],[0.5555555555555556,\"#d8576b\"],[0.6666666666666666,\"#ed7953\"],[0.7777777777777778,\"#fb9f3a\"],[0.8888888888888888,\"#fdca26\"],[1.0,\"#f0f921\"]],\"type\":\"heatmap\"}],\"histogram2dcontour\":[{\"colorbar\":{\"outlinewidth\":0,\"ticks\":\"\"},\"colorscale\":[[0.0,\"#0d0887\"],[0.1111111111111111,\"#46039f\"],[0.2222222222222222,\"#7201a8\"],[0.3333333333333333,\"#9c179e\"],[0.4444444444444444,\"#bd3786\"],[0.5555555555555556,\"#d8576b\"],[0.6666666666666666,\"#ed7953\"],[0.7777777777777778,\"#fb9f3a\"],[0.8888888888888888,\"#fdca26\"],[1.0,\"#f0f921\"]],\"type\":\"histogram2dcontour\"}],\"histogram2d\":[{\"colorbar\":{\"outlinewidth\":0,\"ticks\":\"\"},\"colorscale\":[[0.0,\"#0d0887\"],[0.1111111111111111,\"#46039f\"],[0.2222222222222222,\"#7201a8\"],[0.3333333333333333,\"#9c179e\"],[0.4444444444444444,\"#bd3786\"],[0.5555555555555556,\"#d8576b\"],[0.6666666666666666,\"#ed7953\"],[0.7777777777777778,\"#fb9f3a\"],[0.8888888888888888,\"#fdca26\"],[1.0,\"#f0f921\"]],\"type\":\"histogram2d\"}],\"histogram\":[{\"marker\":{\"pattern\":{\"fillmode\":\"overlay\",\"size\":10,\"solidity\":0.2}},\"type\":\"histogram\"}],\"mesh3d\":[{\"colorbar\":{\"outlinewidth\":0,\"ticks\":\"\"},\"type\":\"mesh3d\"}],\"parcoords\":[{\"line\":{\"colorbar\":{\"outlinewidth\":0,\"ticks\":\"\"}},\"type\":\"parcoords\"}],\"pie\":[{\"automargin\":true,\"type\":\"pie\"}],\"scatter3d\":[{\"line\":{\"colorbar\":{\"outlinewidth\":0,\"ticks\":\"\"}},\"marker\":{\"colorbar\":{\"outlinewidth\":0,\"ticks\":\"\"}},\"type\":\"scatter3d\"}],\"scattercarpet\":[{\"marker\":{\"colorbar\":{\"outlinewidth\":0,\"ticks\":\"\"}},\"type\":\"scattercarpet\"}],\"scattergeo\":[{\"marker\":{\"colorbar\":{\"outlinewidth\":0,\"ticks\":\"\"}},\"type\":\"scattergeo\"}],\"scattergl\":[{\"marker\":{\"colorbar\":{\"outlinewidth\":0,\"ticks\":\"\"}},\"type\":\"scattergl\"}],\"scattermapbox\":[{\"marker\":{\"colorbar\":{\"outlinewidth\":0,\"ticks\":\"\"}},\"type\":\"scattermapbox\"}],\"scatterpolargl\":[{\"marker\":{\"colorbar\":{\"outlinewidth\":0,\"ticks\":\"\"}},\"type\":\"scatterpolargl\"}],\"scatterpolar\":[{\"marker\":{\"colorbar\":{\"outlinewidth\":0,\"ticks\":\"\"}},\"type\":\"scatterpolar\"}],\"scatter\":[{\"fillpattern\":{\"fillmode\":\"overlay\",\"size\":10,\"solidity\":0.2},\"type\":\"scatter\"}],\"scatterternary\":[{\"marker\":{\"colorbar\":{\"outlinewidth\":0,\"ticks\":\"\"}},\"type\":\"scatterternary\"}],\"surface\":[{\"colorbar\":{\"outlinewidth\":0,\"ticks\":\"\"},\"colorscale\":[[0.0,\"#0d0887\"],[0.1111111111111111,\"#46039f\"],[0.2222222222222222,\"#7201a8\"],[0.3333333333333333,\"#9c179e\"],[0.4444444444444444,\"#bd3786\"],[0.5555555555555556,\"#d8576b\"],[0.6666666666666666,\"#ed7953\"],[0.7777777777777778,\"#fb9f3a\"],[0.8888888888888888,\"#fdca26\"],[1.0,\"#f0f921\"]],\"type\":\"surface\"}],\"table\":[{\"cells\":{\"fill\":{\"color\":\"#EBF0F8\"},\"line\":{\"color\":\"white\"}},\"header\":{\"fill\":{\"color\":\"#C8D4E3\"},\"line\":{\"color\":\"white\"}},\"type\":\"table\"}]},\"layout\":{\"annotationdefaults\":{\"arrowcolor\":\"#2a3f5f\",\"arrowhead\":0,\"arrowwidth\":1},\"autotypenumbers\":\"strict\",\"coloraxis\":{\"colorbar\":{\"outlinewidth\":0,\"ticks\":\"\"}},\"colorscale\":{\"diverging\":[[0,\"#8e0152\"],[0.1,\"#c51b7d\"],[0.2,\"#de77ae\"],[0.3,\"#f1b6da\"],[0.4,\"#fde0ef\"],[0.5,\"#f7f7f7\"],[0.6,\"#e6f5d0\"],[0.7,\"#b8e186\"],[0.8,\"#7fbc41\"],[0.9,\"#4d9221\"],[1,\"#276419\"]],\"sequential\":[[0.0,\"#0d0887\"],[0.1111111111111111,\"#46039f\"],[0.2222222222222222,\"#7201a8\"],[0.3333333333333333,\"#9c179e\"],[0.4444444444444444,\"#bd3786\"],[0.5555555555555556,\"#d8576b\"],[0.6666666666666666,\"#ed7953\"],[0.7777777777777778,\"#fb9f3a\"],[0.8888888888888888,\"#fdca26\"],[1.0,\"#f0f921\"]],\"sequentialminus\":[[0.0,\"#0d0887\"],[0.1111111111111111,\"#46039f\"],[0.2222222222222222,\"#7201a8\"],[0.3333333333333333,\"#9c179e\"],[0.4444444444444444,\"#bd3786\"],[0.5555555555555556,\"#d8576b\"],[0.6666666666666666,\"#ed7953\"],[0.7777777777777778,\"#fb9f3a\"],[0.8888888888888888,\"#fdca26\"],[1.0,\"#f0f921\"]]},\"colorway\":[\"#636efa\",\"#EF553B\",\"#00cc96\",\"#ab63fa\",\"#FFA15A\",\"#19d3f3\",\"#FF6692\",\"#B6E880\",\"#FF97FF\",\"#FECB52\"],\"font\":{\"color\":\"#2a3f5f\"},\"geo\":{\"bgcolor\":\"white\",\"lakecolor\":\"white\",\"landcolor\":\"#E5ECF6\",\"showlakes\":true,\"showland\":true,\"subunitcolor\":\"white\"},\"hoverlabel\":{\"align\":\"left\"},\"hovermode\":\"closest\",\"mapbox\":{\"style\":\"light\"},\"paper_bgcolor\":\"white\",\"plot_bgcolor\":\"#E5ECF6\",\"polar\":{\"angularaxis\":{\"gridcolor\":\"white\",\"linecolor\":\"white\",\"ticks\":\"\"},\"bgcolor\":\"#E5ECF6\",\"radialaxis\":{\"gridcolor\":\"white\",\"linecolor\":\"white\",\"ticks\":\"\"}},\"scene\":{\"xaxis\":{\"backgroundcolor\":\"#E5ECF6\",\"gridcolor\":\"white\",\"gridwidth\":2,\"linecolor\":\"white\",\"showbackground\":true,\"ticks\":\"\",\"zerolinecolor\":\"white\"},\"yaxis\":{\"backgroundcolor\":\"#E5ECF6\",\"gridcolor\":\"white\",\"gridwidth\":2,\"linecolor\":\"white\",\"showbackground\":true,\"ticks\":\"\",\"zerolinecolor\":\"white\"},\"zaxis\":{\"backgroundcolor\":\"#E5ECF6\",\"gridcolor\":\"white\",\"gridwidth\":2,\"linecolor\":\"white\",\"showbackground\":true,\"ticks\":\"\",\"zerolinecolor\":\"white\"}},\"shapedefaults\":{\"line\":{\"color\":\"#2a3f5f\"}},\"ternary\":{\"aaxis\":{\"gridcolor\":\"white\",\"linecolor\":\"white\",\"ticks\":\"\"},\"baxis\":{\"gridcolor\":\"white\",\"linecolor\":\"white\",\"ticks\":\"\"},\"bgcolor\":\"#E5ECF6\",\"caxis\":{\"gridcolor\":\"white\",\"linecolor\":\"white\",\"ticks\":\"\"}},\"title\":{\"x\":0.05},\"xaxis\":{\"automargin\":true,\"gridcolor\":\"white\",\"linecolor\":\"white\",\"ticks\":\"\",\"title\":{\"standoff\":15},\"zerolinecolor\":\"white\",\"zerolinewidth\":2},\"yaxis\":{\"automargin\":true,\"gridcolor\":\"white\",\"linecolor\":\"white\",\"ticks\":\"\",\"title\":{\"standoff\":15},\"zerolinecolor\":\"white\",\"zerolinewidth\":2}}},\"title\":{\"font\":{\"color\":\"#4D5663\"}},\"xaxis\":{\"gridcolor\":\"#E1E5ED\",\"showgrid\":true,\"tickfont\":{\"color\":\"#4D5663\"},\"title\":{\"font\":{\"color\":\"#4D5663\"},\"text\":\"\"},\"zerolinecolor\":\"#E1E5ED\"},\"yaxis\":{\"gridcolor\":\"#E1E5ED\",\"showgrid\":true,\"tickfont\":{\"color\":\"#4D5663\"},\"title\":{\"font\":{\"color\":\"#4D5663\"},\"text\":\"\"},\"zerolinecolor\":\"#E1E5ED\"}},                        {\"showLink\": true, \"linkText\": \"Export to plot.ly\", \"plotlyServerURL\": \"https://plot.ly\", \"responsive\": true}                    ).then(function(){\n",
       "                            \n",
       "var gd = document.getElementById('467125db-531d-41b4-b8cb-5a3030ea930c');\n",
       "var x = new MutationObserver(function (mutations, observer) {{\n",
       "        var display = window.getComputedStyle(gd).display;\n",
       "        if (!display || display === 'none') {{\n",
       "            console.log([gd, 'removed!']);\n",
       "            Plotly.purge(gd);\n",
       "            observer.disconnect();\n",
       "        }}\n",
       "}});\n",
       "\n",
       "// Listen for the removal of the full notebook cells\n",
       "var notebookContainer = gd.closest('#notebook-container');\n",
       "if (notebookContainer) {{\n",
       "    x.observe(notebookContainer, {childList: true});\n",
       "}}\n",
       "\n",
       "// Listen for the clearing of the current output cell\n",
       "var outputEl = gd.closest('.output');\n",
       "if (outputEl) {{\n",
       "    x.observe(outputEl, {childList: true});\n",
       "}}\n",
       "\n",
       "                        })                };                });            </script>        </div>"
      ]
     },
     "metadata": {},
     "output_type": "display_data"
    }
   ],
   "source": [
    "df.iplot(kind='scatter',x='A',y='B',mode='markers',size=10)"
   ]
  },
  {
   "cell_type": "markdown",
   "metadata": {},
   "source": [
    "## Bar Plots"
   ]
  },
  {
   "cell_type": "code",
   "execution_count": 42,
   "metadata": {},
   "outputs": [
    {
     "data": {
      "application/vnd.plotly.v1+json": {
       "config": {
        "linkText": "Export to plot.ly",
        "plotlyServerURL": "https://plot.ly",
        "showLink": true
       },
       "data": [
        {
         "marker": {
          "color": "rgba(255, 153, 51, 0.6)",
          "line": {
           "color": "rgba(255, 153, 51, 1.0)",
           "width": 1
          }
         },
         "name": "Values",
         "orientation": "v",
         "text": "",
         "type": "bar",
         "x": [
          "A",
          "B",
          "C"
         ],
         "y": [
          32,
          43,
          50
         ]
        }
       ],
       "layout": {
        "legend": {
         "bgcolor": "#F5F6F9",
         "font": {
          "color": "#4D5663"
         }
        },
        "paper_bgcolor": "#F5F6F9",
        "plot_bgcolor": "#F5F6F9",
        "template": {
         "data": {
          "bar": [
           {
            "error_x": {
             "color": "#2a3f5f"
            },
            "error_y": {
             "color": "#2a3f5f"
            },
            "marker": {
             "line": {
              "color": "#E5ECF6",
              "width": 0.5
             },
             "pattern": {
              "fillmode": "overlay",
              "size": 10,
              "solidity": 0.2
             }
            },
            "type": "bar"
           }
          ],
          "barpolar": [
           {
            "marker": {
             "line": {
              "color": "#E5ECF6",
              "width": 0.5
             },
             "pattern": {
              "fillmode": "overlay",
              "size": 10,
              "solidity": 0.2
             }
            },
            "type": "barpolar"
           }
          ],
          "carpet": [
           {
            "aaxis": {
             "endlinecolor": "#2a3f5f",
             "gridcolor": "white",
             "linecolor": "white",
             "minorgridcolor": "white",
             "startlinecolor": "#2a3f5f"
            },
            "baxis": {
             "endlinecolor": "#2a3f5f",
             "gridcolor": "white",
             "linecolor": "white",
             "minorgridcolor": "white",
             "startlinecolor": "#2a3f5f"
            },
            "type": "carpet"
           }
          ],
          "choropleth": [
           {
            "colorbar": {
             "outlinewidth": 0,
             "ticks": ""
            },
            "type": "choropleth"
           }
          ],
          "contour": [
           {
            "colorbar": {
             "outlinewidth": 0,
             "ticks": ""
            },
            "colorscale": [
             [
              0,
              "#0d0887"
             ],
             [
              0.1111111111111111,
              "#46039f"
             ],
             [
              0.2222222222222222,
              "#7201a8"
             ],
             [
              0.3333333333333333,
              "#9c179e"
             ],
             [
              0.4444444444444444,
              "#bd3786"
             ],
             [
              0.5555555555555556,
              "#d8576b"
             ],
             [
              0.6666666666666666,
              "#ed7953"
             ],
             [
              0.7777777777777778,
              "#fb9f3a"
             ],
             [
              0.8888888888888888,
              "#fdca26"
             ],
             [
              1,
              "#f0f921"
             ]
            ],
            "type": "contour"
           }
          ],
          "contourcarpet": [
           {
            "colorbar": {
             "outlinewidth": 0,
             "ticks": ""
            },
            "type": "contourcarpet"
           }
          ],
          "heatmap": [
           {
            "colorbar": {
             "outlinewidth": 0,
             "ticks": ""
            },
            "colorscale": [
             [
              0,
              "#0d0887"
             ],
             [
              0.1111111111111111,
              "#46039f"
             ],
             [
              0.2222222222222222,
              "#7201a8"
             ],
             [
              0.3333333333333333,
              "#9c179e"
             ],
             [
              0.4444444444444444,
              "#bd3786"
             ],
             [
              0.5555555555555556,
              "#d8576b"
             ],
             [
              0.6666666666666666,
              "#ed7953"
             ],
             [
              0.7777777777777778,
              "#fb9f3a"
             ],
             [
              0.8888888888888888,
              "#fdca26"
             ],
             [
              1,
              "#f0f921"
             ]
            ],
            "type": "heatmap"
           }
          ],
          "heatmapgl": [
           {
            "colorbar": {
             "outlinewidth": 0,
             "ticks": ""
            },
            "colorscale": [
             [
              0,
              "#0d0887"
             ],
             [
              0.1111111111111111,
              "#46039f"
             ],
             [
              0.2222222222222222,
              "#7201a8"
             ],
             [
              0.3333333333333333,
              "#9c179e"
             ],
             [
              0.4444444444444444,
              "#bd3786"
             ],
             [
              0.5555555555555556,
              "#d8576b"
             ],
             [
              0.6666666666666666,
              "#ed7953"
             ],
             [
              0.7777777777777778,
              "#fb9f3a"
             ],
             [
              0.8888888888888888,
              "#fdca26"
             ],
             [
              1,
              "#f0f921"
             ]
            ],
            "type": "heatmapgl"
           }
          ],
          "histogram": [
           {
            "marker": {
             "pattern": {
              "fillmode": "overlay",
              "size": 10,
              "solidity": 0.2
             }
            },
            "type": "histogram"
           }
          ],
          "histogram2d": [
           {
            "colorbar": {
             "outlinewidth": 0,
             "ticks": ""
            },
            "colorscale": [
             [
              0,
              "#0d0887"
             ],
             [
              0.1111111111111111,
              "#46039f"
             ],
             [
              0.2222222222222222,
              "#7201a8"
             ],
             [
              0.3333333333333333,
              "#9c179e"
             ],
             [
              0.4444444444444444,
              "#bd3786"
             ],
             [
              0.5555555555555556,
              "#d8576b"
             ],
             [
              0.6666666666666666,
              "#ed7953"
             ],
             [
              0.7777777777777778,
              "#fb9f3a"
             ],
             [
              0.8888888888888888,
              "#fdca26"
             ],
             [
              1,
              "#f0f921"
             ]
            ],
            "type": "histogram2d"
           }
          ],
          "histogram2dcontour": [
           {
            "colorbar": {
             "outlinewidth": 0,
             "ticks": ""
            },
            "colorscale": [
             [
              0,
              "#0d0887"
             ],
             [
              0.1111111111111111,
              "#46039f"
             ],
             [
              0.2222222222222222,
              "#7201a8"
             ],
             [
              0.3333333333333333,
              "#9c179e"
             ],
             [
              0.4444444444444444,
              "#bd3786"
             ],
             [
              0.5555555555555556,
              "#d8576b"
             ],
             [
              0.6666666666666666,
              "#ed7953"
             ],
             [
              0.7777777777777778,
              "#fb9f3a"
             ],
             [
              0.8888888888888888,
              "#fdca26"
             ],
             [
              1,
              "#f0f921"
             ]
            ],
            "type": "histogram2dcontour"
           }
          ],
          "mesh3d": [
           {
            "colorbar": {
             "outlinewidth": 0,
             "ticks": ""
            },
            "type": "mesh3d"
           }
          ],
          "parcoords": [
           {
            "line": {
             "colorbar": {
              "outlinewidth": 0,
              "ticks": ""
             }
            },
            "type": "parcoords"
           }
          ],
          "pie": [
           {
            "automargin": true,
            "type": "pie"
           }
          ],
          "scatter": [
           {
            "fillpattern": {
             "fillmode": "overlay",
             "size": 10,
             "solidity": 0.2
            },
            "type": "scatter"
           }
          ],
          "scatter3d": [
           {
            "line": {
             "colorbar": {
              "outlinewidth": 0,
              "ticks": ""
             }
            },
            "marker": {
             "colorbar": {
              "outlinewidth": 0,
              "ticks": ""
             }
            },
            "type": "scatter3d"
           }
          ],
          "scattercarpet": [
           {
            "marker": {
             "colorbar": {
              "outlinewidth": 0,
              "ticks": ""
             }
            },
            "type": "scattercarpet"
           }
          ],
          "scattergeo": [
           {
            "marker": {
             "colorbar": {
              "outlinewidth": 0,
              "ticks": ""
             }
            },
            "type": "scattergeo"
           }
          ],
          "scattergl": [
           {
            "marker": {
             "colorbar": {
              "outlinewidth": 0,
              "ticks": ""
             }
            },
            "type": "scattergl"
           }
          ],
          "scattermapbox": [
           {
            "marker": {
             "colorbar": {
              "outlinewidth": 0,
              "ticks": ""
             }
            },
            "type": "scattermapbox"
           }
          ],
          "scatterpolar": [
           {
            "marker": {
             "colorbar": {
              "outlinewidth": 0,
              "ticks": ""
             }
            },
            "type": "scatterpolar"
           }
          ],
          "scatterpolargl": [
           {
            "marker": {
             "colorbar": {
              "outlinewidth": 0,
              "ticks": ""
             }
            },
            "type": "scatterpolargl"
           }
          ],
          "scatterternary": [
           {
            "marker": {
             "colorbar": {
              "outlinewidth": 0,
              "ticks": ""
             }
            },
            "type": "scatterternary"
           }
          ],
          "surface": [
           {
            "colorbar": {
             "outlinewidth": 0,
             "ticks": ""
            },
            "colorscale": [
             [
              0,
              "#0d0887"
             ],
             [
              0.1111111111111111,
              "#46039f"
             ],
             [
              0.2222222222222222,
              "#7201a8"
             ],
             [
              0.3333333333333333,
              "#9c179e"
             ],
             [
              0.4444444444444444,
              "#bd3786"
             ],
             [
              0.5555555555555556,
              "#d8576b"
             ],
             [
              0.6666666666666666,
              "#ed7953"
             ],
             [
              0.7777777777777778,
              "#fb9f3a"
             ],
             [
              0.8888888888888888,
              "#fdca26"
             ],
             [
              1,
              "#f0f921"
             ]
            ],
            "type": "surface"
           }
          ],
          "table": [
           {
            "cells": {
             "fill": {
              "color": "#EBF0F8"
             },
             "line": {
              "color": "white"
             }
            },
            "header": {
             "fill": {
              "color": "#C8D4E3"
             },
             "line": {
              "color": "white"
             }
            },
            "type": "table"
           }
          ]
         },
         "layout": {
          "annotationdefaults": {
           "arrowcolor": "#2a3f5f",
           "arrowhead": 0,
           "arrowwidth": 1
          },
          "autotypenumbers": "strict",
          "coloraxis": {
           "colorbar": {
            "outlinewidth": 0,
            "ticks": ""
           }
          },
          "colorscale": {
           "diverging": [
            [
             0,
             "#8e0152"
            ],
            [
             0.1,
             "#c51b7d"
            ],
            [
             0.2,
             "#de77ae"
            ],
            [
             0.3,
             "#f1b6da"
            ],
            [
             0.4,
             "#fde0ef"
            ],
            [
             0.5,
             "#f7f7f7"
            ],
            [
             0.6,
             "#e6f5d0"
            ],
            [
             0.7,
             "#b8e186"
            ],
            [
             0.8,
             "#7fbc41"
            ],
            [
             0.9,
             "#4d9221"
            ],
            [
             1,
             "#276419"
            ]
           ],
           "sequential": [
            [
             0,
             "#0d0887"
            ],
            [
             0.1111111111111111,
             "#46039f"
            ],
            [
             0.2222222222222222,
             "#7201a8"
            ],
            [
             0.3333333333333333,
             "#9c179e"
            ],
            [
             0.4444444444444444,
             "#bd3786"
            ],
            [
             0.5555555555555556,
             "#d8576b"
            ],
            [
             0.6666666666666666,
             "#ed7953"
            ],
            [
             0.7777777777777778,
             "#fb9f3a"
            ],
            [
             0.8888888888888888,
             "#fdca26"
            ],
            [
             1,
             "#f0f921"
            ]
           ],
           "sequentialminus": [
            [
             0,
             "#0d0887"
            ],
            [
             0.1111111111111111,
             "#46039f"
            ],
            [
             0.2222222222222222,
             "#7201a8"
            ],
            [
             0.3333333333333333,
             "#9c179e"
            ],
            [
             0.4444444444444444,
             "#bd3786"
            ],
            [
             0.5555555555555556,
             "#d8576b"
            ],
            [
             0.6666666666666666,
             "#ed7953"
            ],
            [
             0.7777777777777778,
             "#fb9f3a"
            ],
            [
             0.8888888888888888,
             "#fdca26"
            ],
            [
             1,
             "#f0f921"
            ]
           ]
          },
          "colorway": [
           "#636efa",
           "#EF553B",
           "#00cc96",
           "#ab63fa",
           "#FFA15A",
           "#19d3f3",
           "#FF6692",
           "#B6E880",
           "#FF97FF",
           "#FECB52"
          ],
          "font": {
           "color": "#2a3f5f"
          },
          "geo": {
           "bgcolor": "white",
           "lakecolor": "white",
           "landcolor": "#E5ECF6",
           "showlakes": true,
           "showland": true,
           "subunitcolor": "white"
          },
          "hoverlabel": {
           "align": "left"
          },
          "hovermode": "closest",
          "mapbox": {
           "style": "light"
          },
          "paper_bgcolor": "white",
          "plot_bgcolor": "#E5ECF6",
          "polar": {
           "angularaxis": {
            "gridcolor": "white",
            "linecolor": "white",
            "ticks": ""
           },
           "bgcolor": "#E5ECF6",
           "radialaxis": {
            "gridcolor": "white",
            "linecolor": "white",
            "ticks": ""
           }
          },
          "scene": {
           "xaxis": {
            "backgroundcolor": "#E5ECF6",
            "gridcolor": "white",
            "gridwidth": 2,
            "linecolor": "white",
            "showbackground": true,
            "ticks": "",
            "zerolinecolor": "white"
           },
           "yaxis": {
            "backgroundcolor": "#E5ECF6",
            "gridcolor": "white",
            "gridwidth": 2,
            "linecolor": "white",
            "showbackground": true,
            "ticks": "",
            "zerolinecolor": "white"
           },
           "zaxis": {
            "backgroundcolor": "#E5ECF6",
            "gridcolor": "white",
            "gridwidth": 2,
            "linecolor": "white",
            "showbackground": true,
            "ticks": "",
            "zerolinecolor": "white"
           }
          },
          "shapedefaults": {
           "line": {
            "color": "#2a3f5f"
           }
          },
          "ternary": {
           "aaxis": {
            "gridcolor": "white",
            "linecolor": "white",
            "ticks": ""
           },
           "baxis": {
            "gridcolor": "white",
            "linecolor": "white",
            "ticks": ""
           },
           "bgcolor": "#E5ECF6",
           "caxis": {
            "gridcolor": "white",
            "linecolor": "white",
            "ticks": ""
           }
          },
          "title": {
           "x": 0.05
          },
          "xaxis": {
           "automargin": true,
           "gridcolor": "white",
           "linecolor": "white",
           "ticks": "",
           "title": {
            "standoff": 15
           },
           "zerolinecolor": "white",
           "zerolinewidth": 2
          },
          "yaxis": {
           "automargin": true,
           "gridcolor": "white",
           "linecolor": "white",
           "ticks": "",
           "title": {
            "standoff": 15
           },
           "zerolinecolor": "white",
           "zerolinewidth": 2
          }
         }
        },
        "title": {
         "font": {
          "color": "#4D5663"
         }
        },
        "xaxis": {
         "gridcolor": "#E1E5ED",
         "showgrid": true,
         "tickfont": {
          "color": "#4D5663"
         },
         "title": {
          "font": {
           "color": "#4D5663"
          },
          "text": ""
         },
         "zerolinecolor": "#E1E5ED"
        },
        "yaxis": {
         "gridcolor": "#E1E5ED",
         "showgrid": true,
         "tickfont": {
          "color": "#4D5663"
         },
         "title": {
          "font": {
           "color": "#4D5663"
          },
          "text": ""
         },
         "zerolinecolor": "#E1E5ED"
        }
       }
      },
      "text/html": [
       "<div>                            <div id=\"15021017-41d8-4b3e-bb1d-1c3dd65be397\" class=\"plotly-graph-div\" style=\"height:525px; width:100%;\"></div>            <script type=\"text/javascript\">                require([\"plotly\"], function(Plotly) {                    window.PLOTLYENV=window.PLOTLYENV || {};\n",
       "                    window.PLOTLYENV.BASE_URL='https://plot.ly';                                    if (document.getElementById(\"15021017-41d8-4b3e-bb1d-1c3dd65be397\")) {                    Plotly.newPlot(                        \"15021017-41d8-4b3e-bb1d-1c3dd65be397\",                        [{\"marker\":{\"color\":\"rgba(255, 153, 51, 0.6)\",\"line\":{\"color\":\"rgba(255, 153, 51, 1.0)\",\"width\":1}},\"name\":\"Values\",\"orientation\":\"v\",\"text\":\"\",\"x\":[\"A\",\"B\",\"C\"],\"y\":[32,43,50],\"type\":\"bar\"}],                        {\"legend\":{\"bgcolor\":\"#F5F6F9\",\"font\":{\"color\":\"#4D5663\"}},\"paper_bgcolor\":\"#F5F6F9\",\"plot_bgcolor\":\"#F5F6F9\",\"template\":{\"data\":{\"barpolar\":[{\"marker\":{\"line\":{\"color\":\"#E5ECF6\",\"width\":0.5},\"pattern\":{\"fillmode\":\"overlay\",\"size\":10,\"solidity\":0.2}},\"type\":\"barpolar\"}],\"bar\":[{\"error_x\":{\"color\":\"#2a3f5f\"},\"error_y\":{\"color\":\"#2a3f5f\"},\"marker\":{\"line\":{\"color\":\"#E5ECF6\",\"width\":0.5},\"pattern\":{\"fillmode\":\"overlay\",\"size\":10,\"solidity\":0.2}},\"type\":\"bar\"}],\"carpet\":[{\"aaxis\":{\"endlinecolor\":\"#2a3f5f\",\"gridcolor\":\"white\",\"linecolor\":\"white\",\"minorgridcolor\":\"white\",\"startlinecolor\":\"#2a3f5f\"},\"baxis\":{\"endlinecolor\":\"#2a3f5f\",\"gridcolor\":\"white\",\"linecolor\":\"white\",\"minorgridcolor\":\"white\",\"startlinecolor\":\"#2a3f5f\"},\"type\":\"carpet\"}],\"choropleth\":[{\"colorbar\":{\"outlinewidth\":0,\"ticks\":\"\"},\"type\":\"choropleth\"}],\"contourcarpet\":[{\"colorbar\":{\"outlinewidth\":0,\"ticks\":\"\"},\"type\":\"contourcarpet\"}],\"contour\":[{\"colorbar\":{\"outlinewidth\":0,\"ticks\":\"\"},\"colorscale\":[[0.0,\"#0d0887\"],[0.1111111111111111,\"#46039f\"],[0.2222222222222222,\"#7201a8\"],[0.3333333333333333,\"#9c179e\"],[0.4444444444444444,\"#bd3786\"],[0.5555555555555556,\"#d8576b\"],[0.6666666666666666,\"#ed7953\"],[0.7777777777777778,\"#fb9f3a\"],[0.8888888888888888,\"#fdca26\"],[1.0,\"#f0f921\"]],\"type\":\"contour\"}],\"heatmapgl\":[{\"colorbar\":{\"outlinewidth\":0,\"ticks\":\"\"},\"colorscale\":[[0.0,\"#0d0887\"],[0.1111111111111111,\"#46039f\"],[0.2222222222222222,\"#7201a8\"],[0.3333333333333333,\"#9c179e\"],[0.4444444444444444,\"#bd3786\"],[0.5555555555555556,\"#d8576b\"],[0.6666666666666666,\"#ed7953\"],[0.7777777777777778,\"#fb9f3a\"],[0.8888888888888888,\"#fdca26\"],[1.0,\"#f0f921\"]],\"type\":\"heatmapgl\"}],\"heatmap\":[{\"colorbar\":{\"outlinewidth\":0,\"ticks\":\"\"},\"colorscale\":[[0.0,\"#0d0887\"],[0.1111111111111111,\"#46039f\"],[0.2222222222222222,\"#7201a8\"],[0.3333333333333333,\"#9c179e\"],[0.4444444444444444,\"#bd3786\"],[0.5555555555555556,\"#d8576b\"],[0.6666666666666666,\"#ed7953\"],[0.7777777777777778,\"#fb9f3a\"],[0.8888888888888888,\"#fdca26\"],[1.0,\"#f0f921\"]],\"type\":\"heatmap\"}],\"histogram2dcontour\":[{\"colorbar\":{\"outlinewidth\":0,\"ticks\":\"\"},\"colorscale\":[[0.0,\"#0d0887\"],[0.1111111111111111,\"#46039f\"],[0.2222222222222222,\"#7201a8\"],[0.3333333333333333,\"#9c179e\"],[0.4444444444444444,\"#bd3786\"],[0.5555555555555556,\"#d8576b\"],[0.6666666666666666,\"#ed7953\"],[0.7777777777777778,\"#fb9f3a\"],[0.8888888888888888,\"#fdca26\"],[1.0,\"#f0f921\"]],\"type\":\"histogram2dcontour\"}],\"histogram2d\":[{\"colorbar\":{\"outlinewidth\":0,\"ticks\":\"\"},\"colorscale\":[[0.0,\"#0d0887\"],[0.1111111111111111,\"#46039f\"],[0.2222222222222222,\"#7201a8\"],[0.3333333333333333,\"#9c179e\"],[0.4444444444444444,\"#bd3786\"],[0.5555555555555556,\"#d8576b\"],[0.6666666666666666,\"#ed7953\"],[0.7777777777777778,\"#fb9f3a\"],[0.8888888888888888,\"#fdca26\"],[1.0,\"#f0f921\"]],\"type\":\"histogram2d\"}],\"histogram\":[{\"marker\":{\"pattern\":{\"fillmode\":\"overlay\",\"size\":10,\"solidity\":0.2}},\"type\":\"histogram\"}],\"mesh3d\":[{\"colorbar\":{\"outlinewidth\":0,\"ticks\":\"\"},\"type\":\"mesh3d\"}],\"parcoords\":[{\"line\":{\"colorbar\":{\"outlinewidth\":0,\"ticks\":\"\"}},\"type\":\"parcoords\"}],\"pie\":[{\"automargin\":true,\"type\":\"pie\"}],\"scatter3d\":[{\"line\":{\"colorbar\":{\"outlinewidth\":0,\"ticks\":\"\"}},\"marker\":{\"colorbar\":{\"outlinewidth\":0,\"ticks\":\"\"}},\"type\":\"scatter3d\"}],\"scattercarpet\":[{\"marker\":{\"colorbar\":{\"outlinewidth\":0,\"ticks\":\"\"}},\"type\":\"scattercarpet\"}],\"scattergeo\":[{\"marker\":{\"colorbar\":{\"outlinewidth\":0,\"ticks\":\"\"}},\"type\":\"scattergeo\"}],\"scattergl\":[{\"marker\":{\"colorbar\":{\"outlinewidth\":0,\"ticks\":\"\"}},\"type\":\"scattergl\"}],\"scattermapbox\":[{\"marker\":{\"colorbar\":{\"outlinewidth\":0,\"ticks\":\"\"}},\"type\":\"scattermapbox\"}],\"scatterpolargl\":[{\"marker\":{\"colorbar\":{\"outlinewidth\":0,\"ticks\":\"\"}},\"type\":\"scatterpolargl\"}],\"scatterpolar\":[{\"marker\":{\"colorbar\":{\"outlinewidth\":0,\"ticks\":\"\"}},\"type\":\"scatterpolar\"}],\"scatter\":[{\"fillpattern\":{\"fillmode\":\"overlay\",\"size\":10,\"solidity\":0.2},\"type\":\"scatter\"}],\"scatterternary\":[{\"marker\":{\"colorbar\":{\"outlinewidth\":0,\"ticks\":\"\"}},\"type\":\"scatterternary\"}],\"surface\":[{\"colorbar\":{\"outlinewidth\":0,\"ticks\":\"\"},\"colorscale\":[[0.0,\"#0d0887\"],[0.1111111111111111,\"#46039f\"],[0.2222222222222222,\"#7201a8\"],[0.3333333333333333,\"#9c179e\"],[0.4444444444444444,\"#bd3786\"],[0.5555555555555556,\"#d8576b\"],[0.6666666666666666,\"#ed7953\"],[0.7777777777777778,\"#fb9f3a\"],[0.8888888888888888,\"#fdca26\"],[1.0,\"#f0f921\"]],\"type\":\"surface\"}],\"table\":[{\"cells\":{\"fill\":{\"color\":\"#EBF0F8\"},\"line\":{\"color\":\"white\"}},\"header\":{\"fill\":{\"color\":\"#C8D4E3\"},\"line\":{\"color\":\"white\"}},\"type\":\"table\"}]},\"layout\":{\"annotationdefaults\":{\"arrowcolor\":\"#2a3f5f\",\"arrowhead\":0,\"arrowwidth\":1},\"autotypenumbers\":\"strict\",\"coloraxis\":{\"colorbar\":{\"outlinewidth\":0,\"ticks\":\"\"}},\"colorscale\":{\"diverging\":[[0,\"#8e0152\"],[0.1,\"#c51b7d\"],[0.2,\"#de77ae\"],[0.3,\"#f1b6da\"],[0.4,\"#fde0ef\"],[0.5,\"#f7f7f7\"],[0.6,\"#e6f5d0\"],[0.7,\"#b8e186\"],[0.8,\"#7fbc41\"],[0.9,\"#4d9221\"],[1,\"#276419\"]],\"sequential\":[[0.0,\"#0d0887\"],[0.1111111111111111,\"#46039f\"],[0.2222222222222222,\"#7201a8\"],[0.3333333333333333,\"#9c179e\"],[0.4444444444444444,\"#bd3786\"],[0.5555555555555556,\"#d8576b\"],[0.6666666666666666,\"#ed7953\"],[0.7777777777777778,\"#fb9f3a\"],[0.8888888888888888,\"#fdca26\"],[1.0,\"#f0f921\"]],\"sequentialminus\":[[0.0,\"#0d0887\"],[0.1111111111111111,\"#46039f\"],[0.2222222222222222,\"#7201a8\"],[0.3333333333333333,\"#9c179e\"],[0.4444444444444444,\"#bd3786\"],[0.5555555555555556,\"#d8576b\"],[0.6666666666666666,\"#ed7953\"],[0.7777777777777778,\"#fb9f3a\"],[0.8888888888888888,\"#fdca26\"],[1.0,\"#f0f921\"]]},\"colorway\":[\"#636efa\",\"#EF553B\",\"#00cc96\",\"#ab63fa\",\"#FFA15A\",\"#19d3f3\",\"#FF6692\",\"#B6E880\",\"#FF97FF\",\"#FECB52\"],\"font\":{\"color\":\"#2a3f5f\"},\"geo\":{\"bgcolor\":\"white\",\"lakecolor\":\"white\",\"landcolor\":\"#E5ECF6\",\"showlakes\":true,\"showland\":true,\"subunitcolor\":\"white\"},\"hoverlabel\":{\"align\":\"left\"},\"hovermode\":\"closest\",\"mapbox\":{\"style\":\"light\"},\"paper_bgcolor\":\"white\",\"plot_bgcolor\":\"#E5ECF6\",\"polar\":{\"angularaxis\":{\"gridcolor\":\"white\",\"linecolor\":\"white\",\"ticks\":\"\"},\"bgcolor\":\"#E5ECF6\",\"radialaxis\":{\"gridcolor\":\"white\",\"linecolor\":\"white\",\"ticks\":\"\"}},\"scene\":{\"xaxis\":{\"backgroundcolor\":\"#E5ECF6\",\"gridcolor\":\"white\",\"gridwidth\":2,\"linecolor\":\"white\",\"showbackground\":true,\"ticks\":\"\",\"zerolinecolor\":\"white\"},\"yaxis\":{\"backgroundcolor\":\"#E5ECF6\",\"gridcolor\":\"white\",\"gridwidth\":2,\"linecolor\":\"white\",\"showbackground\":true,\"ticks\":\"\",\"zerolinecolor\":\"white\"},\"zaxis\":{\"backgroundcolor\":\"#E5ECF6\",\"gridcolor\":\"white\",\"gridwidth\":2,\"linecolor\":\"white\",\"showbackground\":true,\"ticks\":\"\",\"zerolinecolor\":\"white\"}},\"shapedefaults\":{\"line\":{\"color\":\"#2a3f5f\"}},\"ternary\":{\"aaxis\":{\"gridcolor\":\"white\",\"linecolor\":\"white\",\"ticks\":\"\"},\"baxis\":{\"gridcolor\":\"white\",\"linecolor\":\"white\",\"ticks\":\"\"},\"bgcolor\":\"#E5ECF6\",\"caxis\":{\"gridcolor\":\"white\",\"linecolor\":\"white\",\"ticks\":\"\"}},\"title\":{\"x\":0.05},\"xaxis\":{\"automargin\":true,\"gridcolor\":\"white\",\"linecolor\":\"white\",\"ticks\":\"\",\"title\":{\"standoff\":15},\"zerolinecolor\":\"white\",\"zerolinewidth\":2},\"yaxis\":{\"automargin\":true,\"gridcolor\":\"white\",\"linecolor\":\"white\",\"ticks\":\"\",\"title\":{\"standoff\":15},\"zerolinecolor\":\"white\",\"zerolinewidth\":2}}},\"title\":{\"font\":{\"color\":\"#4D5663\"}},\"xaxis\":{\"gridcolor\":\"#E1E5ED\",\"showgrid\":true,\"tickfont\":{\"color\":\"#4D5663\"},\"title\":{\"font\":{\"color\":\"#4D5663\"},\"text\":\"\"},\"zerolinecolor\":\"#E1E5ED\"},\"yaxis\":{\"gridcolor\":\"#E1E5ED\",\"showgrid\":true,\"tickfont\":{\"color\":\"#4D5663\"},\"title\":{\"font\":{\"color\":\"#4D5663\"},\"text\":\"\"},\"zerolinecolor\":\"#E1E5ED\"}},                        {\"showLink\": true, \"linkText\": \"Export to plot.ly\", \"plotlyServerURL\": \"https://plot.ly\", \"responsive\": true}                    ).then(function(){\n",
       "                            \n",
       "var gd = document.getElementById('15021017-41d8-4b3e-bb1d-1c3dd65be397');\n",
       "var x = new MutationObserver(function (mutations, observer) {{\n",
       "        var display = window.getComputedStyle(gd).display;\n",
       "        if (!display || display === 'none') {{\n",
       "            console.log([gd, 'removed!']);\n",
       "            Plotly.purge(gd);\n",
       "            observer.disconnect();\n",
       "        }}\n",
       "}});\n",
       "\n",
       "// Listen for the removal of the full notebook cells\n",
       "var notebookContainer = gd.closest('#notebook-container');\n",
       "if (notebookContainer) {{\n",
       "    x.observe(notebookContainer, {childList: true});\n",
       "}}\n",
       "\n",
       "// Listen for the clearing of the current output cell\n",
       "var outputEl = gd.closest('.output');\n",
       "if (outputEl) {{\n",
       "    x.observe(outputEl, {childList: true});\n",
       "}}\n",
       "\n",
       "                        })                };                });            </script>        </div>"
      ]
     },
     "metadata": {},
     "output_type": "display_data"
    }
   ],
   "source": [
    "df2.iplot(kind='bar',x='Category',y='Values')"
   ]
  },
  {
   "cell_type": "code",
   "execution_count": 43,
   "metadata": {},
   "outputs": [
    {
     "data": {
      "application/vnd.plotly.v1+json": {
       "config": {
        "linkText": "Export to plot.ly",
        "plotlyServerURL": "https://plot.ly",
        "showLink": true
       },
       "data": [
        {
         "marker": {
          "color": "rgba(255, 153, 51, 0.6)",
          "line": {
           "color": "rgba(255, 153, 51, 1.0)",
           "width": 1
          }
         },
         "name": "None",
         "orientation": "v",
         "text": "",
         "type": "bar",
         "x": [
          "A",
          "B",
          "C",
          "D"
         ],
         "y": [
          100,
          100,
          100,
          100
         ]
        }
       ],
       "layout": {
        "legend": {
         "bgcolor": "#F5F6F9",
         "font": {
          "color": "#4D5663"
         }
        },
        "paper_bgcolor": "#F5F6F9",
        "plot_bgcolor": "#F5F6F9",
        "template": {
         "data": {
          "bar": [
           {
            "error_x": {
             "color": "#2a3f5f"
            },
            "error_y": {
             "color": "#2a3f5f"
            },
            "marker": {
             "line": {
              "color": "#E5ECF6",
              "width": 0.5
             },
             "pattern": {
              "fillmode": "overlay",
              "size": 10,
              "solidity": 0.2
             }
            },
            "type": "bar"
           }
          ],
          "barpolar": [
           {
            "marker": {
             "line": {
              "color": "#E5ECF6",
              "width": 0.5
             },
             "pattern": {
              "fillmode": "overlay",
              "size": 10,
              "solidity": 0.2
             }
            },
            "type": "barpolar"
           }
          ],
          "carpet": [
           {
            "aaxis": {
             "endlinecolor": "#2a3f5f",
             "gridcolor": "white",
             "linecolor": "white",
             "minorgridcolor": "white",
             "startlinecolor": "#2a3f5f"
            },
            "baxis": {
             "endlinecolor": "#2a3f5f",
             "gridcolor": "white",
             "linecolor": "white",
             "minorgridcolor": "white",
             "startlinecolor": "#2a3f5f"
            },
            "type": "carpet"
           }
          ],
          "choropleth": [
           {
            "colorbar": {
             "outlinewidth": 0,
             "ticks": ""
            },
            "type": "choropleth"
           }
          ],
          "contour": [
           {
            "colorbar": {
             "outlinewidth": 0,
             "ticks": ""
            },
            "colorscale": [
             [
              0,
              "#0d0887"
             ],
             [
              0.1111111111111111,
              "#46039f"
             ],
             [
              0.2222222222222222,
              "#7201a8"
             ],
             [
              0.3333333333333333,
              "#9c179e"
             ],
             [
              0.4444444444444444,
              "#bd3786"
             ],
             [
              0.5555555555555556,
              "#d8576b"
             ],
             [
              0.6666666666666666,
              "#ed7953"
             ],
             [
              0.7777777777777778,
              "#fb9f3a"
             ],
             [
              0.8888888888888888,
              "#fdca26"
             ],
             [
              1,
              "#f0f921"
             ]
            ],
            "type": "contour"
           }
          ],
          "contourcarpet": [
           {
            "colorbar": {
             "outlinewidth": 0,
             "ticks": ""
            },
            "type": "contourcarpet"
           }
          ],
          "heatmap": [
           {
            "colorbar": {
             "outlinewidth": 0,
             "ticks": ""
            },
            "colorscale": [
             [
              0,
              "#0d0887"
             ],
             [
              0.1111111111111111,
              "#46039f"
             ],
             [
              0.2222222222222222,
              "#7201a8"
             ],
             [
              0.3333333333333333,
              "#9c179e"
             ],
             [
              0.4444444444444444,
              "#bd3786"
             ],
             [
              0.5555555555555556,
              "#d8576b"
             ],
             [
              0.6666666666666666,
              "#ed7953"
             ],
             [
              0.7777777777777778,
              "#fb9f3a"
             ],
             [
              0.8888888888888888,
              "#fdca26"
             ],
             [
              1,
              "#f0f921"
             ]
            ],
            "type": "heatmap"
           }
          ],
          "heatmapgl": [
           {
            "colorbar": {
             "outlinewidth": 0,
             "ticks": ""
            },
            "colorscale": [
             [
              0,
              "#0d0887"
             ],
             [
              0.1111111111111111,
              "#46039f"
             ],
             [
              0.2222222222222222,
              "#7201a8"
             ],
             [
              0.3333333333333333,
              "#9c179e"
             ],
             [
              0.4444444444444444,
              "#bd3786"
             ],
             [
              0.5555555555555556,
              "#d8576b"
             ],
             [
              0.6666666666666666,
              "#ed7953"
             ],
             [
              0.7777777777777778,
              "#fb9f3a"
             ],
             [
              0.8888888888888888,
              "#fdca26"
             ],
             [
              1,
              "#f0f921"
             ]
            ],
            "type": "heatmapgl"
           }
          ],
          "histogram": [
           {
            "marker": {
             "pattern": {
              "fillmode": "overlay",
              "size": 10,
              "solidity": 0.2
             }
            },
            "type": "histogram"
           }
          ],
          "histogram2d": [
           {
            "colorbar": {
             "outlinewidth": 0,
             "ticks": ""
            },
            "colorscale": [
             [
              0,
              "#0d0887"
             ],
             [
              0.1111111111111111,
              "#46039f"
             ],
             [
              0.2222222222222222,
              "#7201a8"
             ],
             [
              0.3333333333333333,
              "#9c179e"
             ],
             [
              0.4444444444444444,
              "#bd3786"
             ],
             [
              0.5555555555555556,
              "#d8576b"
             ],
             [
              0.6666666666666666,
              "#ed7953"
             ],
             [
              0.7777777777777778,
              "#fb9f3a"
             ],
             [
              0.8888888888888888,
              "#fdca26"
             ],
             [
              1,
              "#f0f921"
             ]
            ],
            "type": "histogram2d"
           }
          ],
          "histogram2dcontour": [
           {
            "colorbar": {
             "outlinewidth": 0,
             "ticks": ""
            },
            "colorscale": [
             [
              0,
              "#0d0887"
             ],
             [
              0.1111111111111111,
              "#46039f"
             ],
             [
              0.2222222222222222,
              "#7201a8"
             ],
             [
              0.3333333333333333,
              "#9c179e"
             ],
             [
              0.4444444444444444,
              "#bd3786"
             ],
             [
              0.5555555555555556,
              "#d8576b"
             ],
             [
              0.6666666666666666,
              "#ed7953"
             ],
             [
              0.7777777777777778,
              "#fb9f3a"
             ],
             [
              0.8888888888888888,
              "#fdca26"
             ],
             [
              1,
              "#f0f921"
             ]
            ],
            "type": "histogram2dcontour"
           }
          ],
          "mesh3d": [
           {
            "colorbar": {
             "outlinewidth": 0,
             "ticks": ""
            },
            "type": "mesh3d"
           }
          ],
          "parcoords": [
           {
            "line": {
             "colorbar": {
              "outlinewidth": 0,
              "ticks": ""
             }
            },
            "type": "parcoords"
           }
          ],
          "pie": [
           {
            "automargin": true,
            "type": "pie"
           }
          ],
          "scatter": [
           {
            "fillpattern": {
             "fillmode": "overlay",
             "size": 10,
             "solidity": 0.2
            },
            "type": "scatter"
           }
          ],
          "scatter3d": [
           {
            "line": {
             "colorbar": {
              "outlinewidth": 0,
              "ticks": ""
             }
            },
            "marker": {
             "colorbar": {
              "outlinewidth": 0,
              "ticks": ""
             }
            },
            "type": "scatter3d"
           }
          ],
          "scattercarpet": [
           {
            "marker": {
             "colorbar": {
              "outlinewidth": 0,
              "ticks": ""
             }
            },
            "type": "scattercarpet"
           }
          ],
          "scattergeo": [
           {
            "marker": {
             "colorbar": {
              "outlinewidth": 0,
              "ticks": ""
             }
            },
            "type": "scattergeo"
           }
          ],
          "scattergl": [
           {
            "marker": {
             "colorbar": {
              "outlinewidth": 0,
              "ticks": ""
             }
            },
            "type": "scattergl"
           }
          ],
          "scattermapbox": [
           {
            "marker": {
             "colorbar": {
              "outlinewidth": 0,
              "ticks": ""
             }
            },
            "type": "scattermapbox"
           }
          ],
          "scatterpolar": [
           {
            "marker": {
             "colorbar": {
              "outlinewidth": 0,
              "ticks": ""
             }
            },
            "type": "scatterpolar"
           }
          ],
          "scatterpolargl": [
           {
            "marker": {
             "colorbar": {
              "outlinewidth": 0,
              "ticks": ""
             }
            },
            "type": "scatterpolargl"
           }
          ],
          "scatterternary": [
           {
            "marker": {
             "colorbar": {
              "outlinewidth": 0,
              "ticks": ""
             }
            },
            "type": "scatterternary"
           }
          ],
          "surface": [
           {
            "colorbar": {
             "outlinewidth": 0,
             "ticks": ""
            },
            "colorscale": [
             [
              0,
              "#0d0887"
             ],
             [
              0.1111111111111111,
              "#46039f"
             ],
             [
              0.2222222222222222,
              "#7201a8"
             ],
             [
              0.3333333333333333,
              "#9c179e"
             ],
             [
              0.4444444444444444,
              "#bd3786"
             ],
             [
              0.5555555555555556,
              "#d8576b"
             ],
             [
              0.6666666666666666,
              "#ed7953"
             ],
             [
              0.7777777777777778,
              "#fb9f3a"
             ],
             [
              0.8888888888888888,
              "#fdca26"
             ],
             [
              1,
              "#f0f921"
             ]
            ],
            "type": "surface"
           }
          ],
          "table": [
           {
            "cells": {
             "fill": {
              "color": "#EBF0F8"
             },
             "line": {
              "color": "white"
             }
            },
            "header": {
             "fill": {
              "color": "#C8D4E3"
             },
             "line": {
              "color": "white"
             }
            },
            "type": "table"
           }
          ]
         },
         "layout": {
          "annotationdefaults": {
           "arrowcolor": "#2a3f5f",
           "arrowhead": 0,
           "arrowwidth": 1
          },
          "autotypenumbers": "strict",
          "coloraxis": {
           "colorbar": {
            "outlinewidth": 0,
            "ticks": ""
           }
          },
          "colorscale": {
           "diverging": [
            [
             0,
             "#8e0152"
            ],
            [
             0.1,
             "#c51b7d"
            ],
            [
             0.2,
             "#de77ae"
            ],
            [
             0.3,
             "#f1b6da"
            ],
            [
             0.4,
             "#fde0ef"
            ],
            [
             0.5,
             "#f7f7f7"
            ],
            [
             0.6,
             "#e6f5d0"
            ],
            [
             0.7,
             "#b8e186"
            ],
            [
             0.8,
             "#7fbc41"
            ],
            [
             0.9,
             "#4d9221"
            ],
            [
             1,
             "#276419"
            ]
           ],
           "sequential": [
            [
             0,
             "#0d0887"
            ],
            [
             0.1111111111111111,
             "#46039f"
            ],
            [
             0.2222222222222222,
             "#7201a8"
            ],
            [
             0.3333333333333333,
             "#9c179e"
            ],
            [
             0.4444444444444444,
             "#bd3786"
            ],
            [
             0.5555555555555556,
             "#d8576b"
            ],
            [
             0.6666666666666666,
             "#ed7953"
            ],
            [
             0.7777777777777778,
             "#fb9f3a"
            ],
            [
             0.8888888888888888,
             "#fdca26"
            ],
            [
             1,
             "#f0f921"
            ]
           ],
           "sequentialminus": [
            [
             0,
             "#0d0887"
            ],
            [
             0.1111111111111111,
             "#46039f"
            ],
            [
             0.2222222222222222,
             "#7201a8"
            ],
            [
             0.3333333333333333,
             "#9c179e"
            ],
            [
             0.4444444444444444,
             "#bd3786"
            ],
            [
             0.5555555555555556,
             "#d8576b"
            ],
            [
             0.6666666666666666,
             "#ed7953"
            ],
            [
             0.7777777777777778,
             "#fb9f3a"
            ],
            [
             0.8888888888888888,
             "#fdca26"
            ],
            [
             1,
             "#f0f921"
            ]
           ]
          },
          "colorway": [
           "#636efa",
           "#EF553B",
           "#00cc96",
           "#ab63fa",
           "#FFA15A",
           "#19d3f3",
           "#FF6692",
           "#B6E880",
           "#FF97FF",
           "#FECB52"
          ],
          "font": {
           "color": "#2a3f5f"
          },
          "geo": {
           "bgcolor": "white",
           "lakecolor": "white",
           "landcolor": "#E5ECF6",
           "showlakes": true,
           "showland": true,
           "subunitcolor": "white"
          },
          "hoverlabel": {
           "align": "left"
          },
          "hovermode": "closest",
          "mapbox": {
           "style": "light"
          },
          "paper_bgcolor": "white",
          "plot_bgcolor": "#E5ECF6",
          "polar": {
           "angularaxis": {
            "gridcolor": "white",
            "linecolor": "white",
            "ticks": ""
           },
           "bgcolor": "#E5ECF6",
           "radialaxis": {
            "gridcolor": "white",
            "linecolor": "white",
            "ticks": ""
           }
          },
          "scene": {
           "xaxis": {
            "backgroundcolor": "#E5ECF6",
            "gridcolor": "white",
            "gridwidth": 2,
            "linecolor": "white",
            "showbackground": true,
            "ticks": "",
            "zerolinecolor": "white"
           },
           "yaxis": {
            "backgroundcolor": "#E5ECF6",
            "gridcolor": "white",
            "gridwidth": 2,
            "linecolor": "white",
            "showbackground": true,
            "ticks": "",
            "zerolinecolor": "white"
           },
           "zaxis": {
            "backgroundcolor": "#E5ECF6",
            "gridcolor": "white",
            "gridwidth": 2,
            "linecolor": "white",
            "showbackground": true,
            "ticks": "",
            "zerolinecolor": "white"
           }
          },
          "shapedefaults": {
           "line": {
            "color": "#2a3f5f"
           }
          },
          "ternary": {
           "aaxis": {
            "gridcolor": "white",
            "linecolor": "white",
            "ticks": ""
           },
           "baxis": {
            "gridcolor": "white",
            "linecolor": "white",
            "ticks": ""
           },
           "bgcolor": "#E5ECF6",
           "caxis": {
            "gridcolor": "white",
            "linecolor": "white",
            "ticks": ""
           }
          },
          "title": {
           "x": 0.05
          },
          "xaxis": {
           "automargin": true,
           "gridcolor": "white",
           "linecolor": "white",
           "ticks": "",
           "title": {
            "standoff": 15
           },
           "zerolinecolor": "white",
           "zerolinewidth": 2
          },
          "yaxis": {
           "automargin": true,
           "gridcolor": "white",
           "linecolor": "white",
           "ticks": "",
           "title": {
            "standoff": 15
           },
           "zerolinecolor": "white",
           "zerolinewidth": 2
          }
         }
        },
        "title": {
         "font": {
          "color": "#4D5663"
         }
        },
        "xaxis": {
         "gridcolor": "#E1E5ED",
         "showgrid": true,
         "tickfont": {
          "color": "#4D5663"
         },
         "title": {
          "font": {
           "color": "#4D5663"
          },
          "text": ""
         },
         "zerolinecolor": "#E1E5ED"
        },
        "yaxis": {
         "gridcolor": "#E1E5ED",
         "showgrid": true,
         "tickfont": {
          "color": "#4D5663"
         },
         "title": {
          "font": {
           "color": "#4D5663"
          },
          "text": ""
         },
         "zerolinecolor": "#E1E5ED"
        }
       }
      },
      "text/html": [
       "<div>                            <div id=\"da396408-e54f-4b27-bdb5-313ef343c0eb\" class=\"plotly-graph-div\" style=\"height:525px; width:100%;\"></div>            <script type=\"text/javascript\">                require([\"plotly\"], function(Plotly) {                    window.PLOTLYENV=window.PLOTLYENV || {};\n",
       "                    window.PLOTLYENV.BASE_URL='https://plot.ly';                                    if (document.getElementById(\"da396408-e54f-4b27-bdb5-313ef343c0eb\")) {                    Plotly.newPlot(                        \"da396408-e54f-4b27-bdb5-313ef343c0eb\",                        [{\"marker\":{\"color\":\"rgba(255, 153, 51, 0.6)\",\"line\":{\"color\":\"rgba(255, 153, 51, 1.0)\",\"width\":1}},\"name\":\"None\",\"orientation\":\"v\",\"text\":\"\",\"x\":[\"A\",\"B\",\"C\",\"D\"],\"y\":[100,100,100,100],\"type\":\"bar\"}],                        {\"legend\":{\"bgcolor\":\"#F5F6F9\",\"font\":{\"color\":\"#4D5663\"}},\"paper_bgcolor\":\"#F5F6F9\",\"plot_bgcolor\":\"#F5F6F9\",\"template\":{\"data\":{\"barpolar\":[{\"marker\":{\"line\":{\"color\":\"#E5ECF6\",\"width\":0.5},\"pattern\":{\"fillmode\":\"overlay\",\"size\":10,\"solidity\":0.2}},\"type\":\"barpolar\"}],\"bar\":[{\"error_x\":{\"color\":\"#2a3f5f\"},\"error_y\":{\"color\":\"#2a3f5f\"},\"marker\":{\"line\":{\"color\":\"#E5ECF6\",\"width\":0.5},\"pattern\":{\"fillmode\":\"overlay\",\"size\":10,\"solidity\":0.2}},\"type\":\"bar\"}],\"carpet\":[{\"aaxis\":{\"endlinecolor\":\"#2a3f5f\",\"gridcolor\":\"white\",\"linecolor\":\"white\",\"minorgridcolor\":\"white\",\"startlinecolor\":\"#2a3f5f\"},\"baxis\":{\"endlinecolor\":\"#2a3f5f\",\"gridcolor\":\"white\",\"linecolor\":\"white\",\"minorgridcolor\":\"white\",\"startlinecolor\":\"#2a3f5f\"},\"type\":\"carpet\"}],\"choropleth\":[{\"colorbar\":{\"outlinewidth\":0,\"ticks\":\"\"},\"type\":\"choropleth\"}],\"contourcarpet\":[{\"colorbar\":{\"outlinewidth\":0,\"ticks\":\"\"},\"type\":\"contourcarpet\"}],\"contour\":[{\"colorbar\":{\"outlinewidth\":0,\"ticks\":\"\"},\"colorscale\":[[0.0,\"#0d0887\"],[0.1111111111111111,\"#46039f\"],[0.2222222222222222,\"#7201a8\"],[0.3333333333333333,\"#9c179e\"],[0.4444444444444444,\"#bd3786\"],[0.5555555555555556,\"#d8576b\"],[0.6666666666666666,\"#ed7953\"],[0.7777777777777778,\"#fb9f3a\"],[0.8888888888888888,\"#fdca26\"],[1.0,\"#f0f921\"]],\"type\":\"contour\"}],\"heatmapgl\":[{\"colorbar\":{\"outlinewidth\":0,\"ticks\":\"\"},\"colorscale\":[[0.0,\"#0d0887\"],[0.1111111111111111,\"#46039f\"],[0.2222222222222222,\"#7201a8\"],[0.3333333333333333,\"#9c179e\"],[0.4444444444444444,\"#bd3786\"],[0.5555555555555556,\"#d8576b\"],[0.6666666666666666,\"#ed7953\"],[0.7777777777777778,\"#fb9f3a\"],[0.8888888888888888,\"#fdca26\"],[1.0,\"#f0f921\"]],\"type\":\"heatmapgl\"}],\"heatmap\":[{\"colorbar\":{\"outlinewidth\":0,\"ticks\":\"\"},\"colorscale\":[[0.0,\"#0d0887\"],[0.1111111111111111,\"#46039f\"],[0.2222222222222222,\"#7201a8\"],[0.3333333333333333,\"#9c179e\"],[0.4444444444444444,\"#bd3786\"],[0.5555555555555556,\"#d8576b\"],[0.6666666666666666,\"#ed7953\"],[0.7777777777777778,\"#fb9f3a\"],[0.8888888888888888,\"#fdca26\"],[1.0,\"#f0f921\"]],\"type\":\"heatmap\"}],\"histogram2dcontour\":[{\"colorbar\":{\"outlinewidth\":0,\"ticks\":\"\"},\"colorscale\":[[0.0,\"#0d0887\"],[0.1111111111111111,\"#46039f\"],[0.2222222222222222,\"#7201a8\"],[0.3333333333333333,\"#9c179e\"],[0.4444444444444444,\"#bd3786\"],[0.5555555555555556,\"#d8576b\"],[0.6666666666666666,\"#ed7953\"],[0.7777777777777778,\"#fb9f3a\"],[0.8888888888888888,\"#fdca26\"],[1.0,\"#f0f921\"]],\"type\":\"histogram2dcontour\"}],\"histogram2d\":[{\"colorbar\":{\"outlinewidth\":0,\"ticks\":\"\"},\"colorscale\":[[0.0,\"#0d0887\"],[0.1111111111111111,\"#46039f\"],[0.2222222222222222,\"#7201a8\"],[0.3333333333333333,\"#9c179e\"],[0.4444444444444444,\"#bd3786\"],[0.5555555555555556,\"#d8576b\"],[0.6666666666666666,\"#ed7953\"],[0.7777777777777778,\"#fb9f3a\"],[0.8888888888888888,\"#fdca26\"],[1.0,\"#f0f921\"]],\"type\":\"histogram2d\"}],\"histogram\":[{\"marker\":{\"pattern\":{\"fillmode\":\"overlay\",\"size\":10,\"solidity\":0.2}},\"type\":\"histogram\"}],\"mesh3d\":[{\"colorbar\":{\"outlinewidth\":0,\"ticks\":\"\"},\"type\":\"mesh3d\"}],\"parcoords\":[{\"line\":{\"colorbar\":{\"outlinewidth\":0,\"ticks\":\"\"}},\"type\":\"parcoords\"}],\"pie\":[{\"automargin\":true,\"type\":\"pie\"}],\"scatter3d\":[{\"line\":{\"colorbar\":{\"outlinewidth\":0,\"ticks\":\"\"}},\"marker\":{\"colorbar\":{\"outlinewidth\":0,\"ticks\":\"\"}},\"type\":\"scatter3d\"}],\"scattercarpet\":[{\"marker\":{\"colorbar\":{\"outlinewidth\":0,\"ticks\":\"\"}},\"type\":\"scattercarpet\"}],\"scattergeo\":[{\"marker\":{\"colorbar\":{\"outlinewidth\":0,\"ticks\":\"\"}},\"type\":\"scattergeo\"}],\"scattergl\":[{\"marker\":{\"colorbar\":{\"outlinewidth\":0,\"ticks\":\"\"}},\"type\":\"scattergl\"}],\"scattermapbox\":[{\"marker\":{\"colorbar\":{\"outlinewidth\":0,\"ticks\":\"\"}},\"type\":\"scattermapbox\"}],\"scatterpolargl\":[{\"marker\":{\"colorbar\":{\"outlinewidth\":0,\"ticks\":\"\"}},\"type\":\"scatterpolargl\"}],\"scatterpolar\":[{\"marker\":{\"colorbar\":{\"outlinewidth\":0,\"ticks\":\"\"}},\"type\":\"scatterpolar\"}],\"scatter\":[{\"fillpattern\":{\"fillmode\":\"overlay\",\"size\":10,\"solidity\":0.2},\"type\":\"scatter\"}],\"scatterternary\":[{\"marker\":{\"colorbar\":{\"outlinewidth\":0,\"ticks\":\"\"}},\"type\":\"scatterternary\"}],\"surface\":[{\"colorbar\":{\"outlinewidth\":0,\"ticks\":\"\"},\"colorscale\":[[0.0,\"#0d0887\"],[0.1111111111111111,\"#46039f\"],[0.2222222222222222,\"#7201a8\"],[0.3333333333333333,\"#9c179e\"],[0.4444444444444444,\"#bd3786\"],[0.5555555555555556,\"#d8576b\"],[0.6666666666666666,\"#ed7953\"],[0.7777777777777778,\"#fb9f3a\"],[0.8888888888888888,\"#fdca26\"],[1.0,\"#f0f921\"]],\"type\":\"surface\"}],\"table\":[{\"cells\":{\"fill\":{\"color\":\"#EBF0F8\"},\"line\":{\"color\":\"white\"}},\"header\":{\"fill\":{\"color\":\"#C8D4E3\"},\"line\":{\"color\":\"white\"}},\"type\":\"table\"}]},\"layout\":{\"annotationdefaults\":{\"arrowcolor\":\"#2a3f5f\",\"arrowhead\":0,\"arrowwidth\":1},\"autotypenumbers\":\"strict\",\"coloraxis\":{\"colorbar\":{\"outlinewidth\":0,\"ticks\":\"\"}},\"colorscale\":{\"diverging\":[[0,\"#8e0152\"],[0.1,\"#c51b7d\"],[0.2,\"#de77ae\"],[0.3,\"#f1b6da\"],[0.4,\"#fde0ef\"],[0.5,\"#f7f7f7\"],[0.6,\"#e6f5d0\"],[0.7,\"#b8e186\"],[0.8,\"#7fbc41\"],[0.9,\"#4d9221\"],[1,\"#276419\"]],\"sequential\":[[0.0,\"#0d0887\"],[0.1111111111111111,\"#46039f\"],[0.2222222222222222,\"#7201a8\"],[0.3333333333333333,\"#9c179e\"],[0.4444444444444444,\"#bd3786\"],[0.5555555555555556,\"#d8576b\"],[0.6666666666666666,\"#ed7953\"],[0.7777777777777778,\"#fb9f3a\"],[0.8888888888888888,\"#fdca26\"],[1.0,\"#f0f921\"]],\"sequentialminus\":[[0.0,\"#0d0887\"],[0.1111111111111111,\"#46039f\"],[0.2222222222222222,\"#7201a8\"],[0.3333333333333333,\"#9c179e\"],[0.4444444444444444,\"#bd3786\"],[0.5555555555555556,\"#d8576b\"],[0.6666666666666666,\"#ed7953\"],[0.7777777777777778,\"#fb9f3a\"],[0.8888888888888888,\"#fdca26\"],[1.0,\"#f0f921\"]]},\"colorway\":[\"#636efa\",\"#EF553B\",\"#00cc96\",\"#ab63fa\",\"#FFA15A\",\"#19d3f3\",\"#FF6692\",\"#B6E880\",\"#FF97FF\",\"#FECB52\"],\"font\":{\"color\":\"#2a3f5f\"},\"geo\":{\"bgcolor\":\"white\",\"lakecolor\":\"white\",\"landcolor\":\"#E5ECF6\",\"showlakes\":true,\"showland\":true,\"subunitcolor\":\"white\"},\"hoverlabel\":{\"align\":\"left\"},\"hovermode\":\"closest\",\"mapbox\":{\"style\":\"light\"},\"paper_bgcolor\":\"white\",\"plot_bgcolor\":\"#E5ECF6\",\"polar\":{\"angularaxis\":{\"gridcolor\":\"white\",\"linecolor\":\"white\",\"ticks\":\"\"},\"bgcolor\":\"#E5ECF6\",\"radialaxis\":{\"gridcolor\":\"white\",\"linecolor\":\"white\",\"ticks\":\"\"}},\"scene\":{\"xaxis\":{\"backgroundcolor\":\"#E5ECF6\",\"gridcolor\":\"white\",\"gridwidth\":2,\"linecolor\":\"white\",\"showbackground\":true,\"ticks\":\"\",\"zerolinecolor\":\"white\"},\"yaxis\":{\"backgroundcolor\":\"#E5ECF6\",\"gridcolor\":\"white\",\"gridwidth\":2,\"linecolor\":\"white\",\"showbackground\":true,\"ticks\":\"\",\"zerolinecolor\":\"white\"},\"zaxis\":{\"backgroundcolor\":\"#E5ECF6\",\"gridcolor\":\"white\",\"gridwidth\":2,\"linecolor\":\"white\",\"showbackground\":true,\"ticks\":\"\",\"zerolinecolor\":\"white\"}},\"shapedefaults\":{\"line\":{\"color\":\"#2a3f5f\"}},\"ternary\":{\"aaxis\":{\"gridcolor\":\"white\",\"linecolor\":\"white\",\"ticks\":\"\"},\"baxis\":{\"gridcolor\":\"white\",\"linecolor\":\"white\",\"ticks\":\"\"},\"bgcolor\":\"#E5ECF6\",\"caxis\":{\"gridcolor\":\"white\",\"linecolor\":\"white\",\"ticks\":\"\"}},\"title\":{\"x\":0.05},\"xaxis\":{\"automargin\":true,\"gridcolor\":\"white\",\"linecolor\":\"white\",\"ticks\":\"\",\"title\":{\"standoff\":15},\"zerolinecolor\":\"white\",\"zerolinewidth\":2},\"yaxis\":{\"automargin\":true,\"gridcolor\":\"white\",\"linecolor\":\"white\",\"ticks\":\"\",\"title\":{\"standoff\":15},\"zerolinecolor\":\"white\",\"zerolinewidth\":2}}},\"title\":{\"font\":{\"color\":\"#4D5663\"}},\"xaxis\":{\"gridcolor\":\"#E1E5ED\",\"showgrid\":true,\"tickfont\":{\"color\":\"#4D5663\"},\"title\":{\"font\":{\"color\":\"#4D5663\"},\"text\":\"\"},\"zerolinecolor\":\"#E1E5ED\"},\"yaxis\":{\"gridcolor\":\"#E1E5ED\",\"showgrid\":true,\"tickfont\":{\"color\":\"#4D5663\"},\"title\":{\"font\":{\"color\":\"#4D5663\"},\"text\":\"\"},\"zerolinecolor\":\"#E1E5ED\"}},                        {\"showLink\": true, \"linkText\": \"Export to plot.ly\", \"plotlyServerURL\": \"https://plot.ly\", \"responsive\": true}                    ).then(function(){\n",
       "                            \n",
       "var gd = document.getElementById('da396408-e54f-4b27-bdb5-313ef343c0eb');\n",
       "var x = new MutationObserver(function (mutations, observer) {{\n",
       "        var display = window.getComputedStyle(gd).display;\n",
       "        if (!display || display === 'none') {{\n",
       "            console.log([gd, 'removed!']);\n",
       "            Plotly.purge(gd);\n",
       "            observer.disconnect();\n",
       "        }}\n",
       "}});\n",
       "\n",
       "// Listen for the removal of the full notebook cells\n",
       "var notebookContainer = gd.closest('#notebook-container');\n",
       "if (notebookContainer) {{\n",
       "    x.observe(notebookContainer, {childList: true});\n",
       "}}\n",
       "\n",
       "// Listen for the clearing of the current output cell\n",
       "var outputEl = gd.closest('.output');\n",
       "if (outputEl) {{\n",
       "    x.observe(outputEl, {childList: true});\n",
       "}}\n",
       "\n",
       "                        })                };                });            </script>        </div>"
      ]
     },
     "metadata": {},
     "output_type": "display_data"
    }
   ],
   "source": [
    "df.count().iplot(kind='bar')"
   ]
  },
  {
   "cell_type": "markdown",
   "metadata": {},
   "source": [
    "## Boxplots"
   ]
  },
  {
   "cell_type": "code",
   "execution_count": 44,
   "metadata": {},
   "outputs": [
    {
     "data": {
      "application/vnd.plotly.v1+json": {
       "config": {
        "linkText": "Export to plot.ly",
        "plotlyServerURL": "https://plot.ly",
        "showLink": true
       },
       "data": [
        {
         "boxpoints": false,
         "line": {
          "width": 1.3
         },
         "marker": {
          "color": "rgba(255, 153, 51, 1.0)"
         },
         "name": "A",
         "orientation": "v",
         "type": "box",
         "y": [
          1.0801251640557836,
          -0.09638858984862315,
          -0.4778206331382923,
          -0.2942173372442018,
          0.04212547757433794,
          -0.21241871665351275,
          0.6157702361721962,
          0.32992005709913946,
          0.6814184853186209,
          -0.401646842512738,
          -0.2851115081639871,
          -1.2114845027340753,
          0.06916614368341706,
          0.1591285599517671,
          0.05453521215892846,
          -0.6810073484713328,
          2.8589502284383155,
          -0.5012294716308849,
          1.6502615869672825,
          1.2967876390551507,
          -0.10757536720860636,
          -0.42252750196673766,
          1.1947484804295403,
          -0.395714437875417,
          0.21503690725318397,
          0.42319298537150496,
          -1.7070394815037455,
          0.2886632245298637,
          0.11713281991426203,
          -1.590841654060365,
          0.2983704610660227,
          -1.459872250265605,
          1.6761898403762872,
          0.5399305897011594,
          1.859397226985364,
          -0.09166231163698116,
          0.4606859669210411,
          0.33415746097397353,
          0.027914158981814274,
          0.5974492446391806,
          -0.16239253650338997,
          -1.6435607314478577,
          0.6442208478110065,
          -1.0148388047249859,
          0.9594519440364432,
          -0.44541819871248955,
          -0.886535797155018,
          -1.0310906701974405,
          1.5682064990356273,
          -0.18047306213555087,
          0.7648350111451226,
          0.45585198816044414,
          -0.7528956574004777,
          -0.22824277167503762,
          0.014635252813137507,
          -0.7893010839719782,
          0.6859059684265395,
          -0.8650133123530385,
          -0.15179595809982077,
          -0.15250415179727717,
          -0.0351690914259882,
          2.0661977474856523,
          1.074773180617247,
          -1.4386033815290893,
          1.306654243985068,
          -0.09771618187642477,
          -2.1219455194046253,
          -0.35806526592115173,
          -0.5794297205497703,
          0.6788180144526051,
          0.8037361115157824,
          -1.4809937681016654,
          -2.0178203799844856,
          0.3101821464478711,
          -0.1790669563794227,
          -1.5498694961858306,
          -0.5086716379020376,
          -0.6459186885571588,
          0.3295423928644564,
          -1.0961683497786938,
          -1.5805201999917888,
          0.3933799959004732,
          0.3219084816465848,
          0.2924579434889606,
          -0.10074763128293673,
          -0.03403519839224362,
          2.3332802461496995,
          2.0114018515991834,
          0.7620841513465821,
          -1.1857754510814738,
          -0.582780837007449,
          1.0518815625121487,
          0.20745864997243998,
          0.15382712049177955,
          0.19150932142055335,
          2.0178206629395943,
          -0.6900046114688033,
          -0.977313611536171,
          -0.6851687125391716,
          0.1741431211184333
         ]
        },
        {
         "boxpoints": false,
         "line": {
          "width": 1.3
         },
         "marker": {
          "color": "rgba(55, 128, 191, 1.0)"
         },
         "name": "B",
         "orientation": "v",
         "type": "box",
         "y": [
          1.3607841251836796,
          -0.9674674905132706,
          0.3122098362800539,
          -1.9448302439623684,
          1.6135031795380288,
          -0.9716838883329177,
          2.0331012007700022,
          1.652770317992748,
          -1.4578018235628902,
          -1.5732701085155567,
          -0.07607385423638324,
          0.08201682070201322,
          0.2122198422416436,
          -1.9304564495522596,
          -2.3040923217611735,
          0.9130611530966893,
          1.3802584503837574,
          -0.4046830738850893,
          0.07601032667948168,
          0.8976347785160459,
          -0.09003598707624505,
          0.7409346195956898,
          -1.8007196022202219,
          -0.6317000979078795,
          -0.1413757369338316,
          0.6468377284193276,
          0.5381324922017766,
          0.740679491186776,
          -1.204443665274361,
          0.47276969369577587,
          1.127827927590617,
          0.2361165790929499,
          0.24009181716586592,
          -1.3194438103143555,
          -0.38186725209629757,
          -0.7977332724316449,
          2.469920077081317,
          -0.10610371314187877,
          -1.5121692164865521,
          -1.1844023197781017,
          -0.011171440261647346,
          -0.5098884899014533,
          1.8974393146246504,
          -0.16990836365314899,
          -0.6014629305675028,
          -0.8318383576734268,
          -0.03298638585192762,
          0.6062909702192114,
          -0.15800986430627798,
          1.6882608031105024,
          -0.671277450025276,
          -0.820328638105275,
          0.2881868567368972,
          0.5243074034741281,
          0.1285915753539585,
          0.5945487422764267,
          0.19612240560354918,
          -0.9772081243251444,
          -0.023067476057357688,
          0.2389657964904768,
          -0.4983109887694054,
          -0.27292214745955795,
          -0.7670065331174148,
          0.08971936190133252,
          0.05660681638505576,
          -0.9435712987191033,
          0.667349226954366,
          1.1180615456422802,
          -1.375596283258031,
          1.5745623897180148,
          -1.8334282872394294,
          1.6572128822452232,
          2.042726721554889,
          -0.49918497976316645,
          0.6500999327603493,
          2.071292907232663,
          1.3564198989597525,
          0.4812759605501785,
          0.978137026870297,
          -0.38228276955254964,
          -2.3068081170005383,
          -0.8499659630386249,
          -0.14182566772572905,
          -0.029006226358003907,
          0.15691513529743456,
          1.6364792393697691,
          -0.39096557396705495,
          1.289989835188355,
          -0.6079139476948235,
          1.787981154711908,
          -0.9677198312633559,
          0.9800751842228804,
          1.0901319076859644,
          -1.081995774409719,
          -0.1983707845407121,
          0.3630010895250102,
          -0.5657049123972575,
          0.3503979459289591,
          1.005465375591448,
          -0.3704708729101634
         ]
        },
        {
         "boxpoints": false,
         "line": {
          "width": 1.3
         },
         "marker": {
          "color": "rgba(50, 171, 96, 1.0)"
         },
         "name": "C",
         "orientation": "v",
         "type": "box",
         "y": [
          0.702767431533642,
          2.4130266328026875,
          1.0247116988576892,
          1.1683727821289778,
          -1.3056717628835188,
          -0.9616928382289589,
          -1.4969575112466853,
          -0.6365153296307634,
          0.11217914666770475,
          1.2144287765738433,
          -0.6495486019328311,
          -0.19639525020624254,
          -0.00802132540888039,
          0.02694614454660426,
          -0.528954231674728,
          1.5706058322517387,
          0.4820803948391646,
          0.4206337344540275,
          0.10591315631999255,
          0.7937826774382816,
          0.144104101401556,
          -1.3887166806425755,
          1.6326366443060474,
          -0.18027878873270034,
          0.826296296089968,
          -0.2580101564367002,
          -0.6688867058712796,
          0.7378586244711566,
          1.921519209242429,
          -0.22669263844505874,
          -0.36584692112998235,
          1.6384095185283776,
          0.8125504647072437,
          -0.49031400400566966,
          0.7741652466697522,
          -0.22213464090142843,
          -0.2527107376648289,
          -1.605821524503842,
          0.9109145605827451,
          -1.9943612002091708,
          0.9332459593082034,
          0.866333413662675,
          1.6820321612890714,
          -0.07671391298756125,
          0.1738989493806357,
          -1.5804953182696397,
          1.0460186545875654,
          -0.16110376935988216,
          -0.5617610909222606,
          0.07581562577893483,
          -0.03552371262803585,
          0.4269245996611502,
          -0.6496427509906124,
          1.675109322453891,
          -0.7148743282459987,
          -1.687744547155932,
          -0.8191850962643112,
          0.5259046079873353,
          -0.3248846951260035,
          -1.6750635846039788,
          -0.6121564366027149,
          0.27626692155815863,
          1.6358128717285716,
          0.8492940238752041,
          0.3355667863277014,
          -0.013777162449761769,
          -0.3604674654475875,
          -0.9326775784452925,
          0.7189623537867452,
          0.4222208695106275,
          -0.3443113071071108,
          -0.6763998146568629,
          -0.248286139854172,
          -0.2448649987359036,
          -1.8227067665030514,
          0.8846947920126711,
          -1.6132360765385587,
          -1.554804906148493,
          -0.5124269413107482,
          -0.5867457557616809,
          -0.08872399849448215,
          0.44346757039634555,
          2.055498002435792,
          -0.5266791467291811,
          0.717310741953486,
          -0.9514008286056141,
          -0.30449684289472284,
          -0.25453425475848257,
          0.22712846218402372,
          0.2791783359077579,
          -0.9906830706778221,
          0.4810098473856099,
          1.0125421345872334,
          1.358913896745162,
          -1.1362324711337033,
          -1.0732819075861326,
          -1.4031717704942892,
          -0.9452636455237585,
          0.062344609433789444,
          -0.02768845426741946
         ]
        },
        {
         "boxpoints": false,
         "line": {
          "width": 1.3
         },
         "marker": {
          "color": "rgba(128, 0, 128, 1.0)"
         },
         "name": "D",
         "orientation": "v",
         "type": "box",
         "y": [
          -0.7481175396550206,
          1.2234305898579076,
          -1.976720081584501,
          0.6899477520811974,
          -0.22014339453056606,
          0.09780635699530431,
          0.8471015694289812,
          0.17363529636436545,
          0.8135946557880653,
          -0.7571828256286016,
          0.5833472024472944,
          0.6811442861956457,
          -1.5222725801928654,
          -0.9316056188892309,
          -0.015246748853435677,
          0.017008365382485714,
          -0.15951266427774013,
          1.1288036903682699,
          -0.6541853301837105,
          -0.3900776094359683,
          2.3090029908734238,
          -0.538822815851566,
          -1.236893386536804,
          -1.5169432316935727,
          0.3502145276593857,
          -0.17448199452404328,
          -0.2525100119082364,
          1.4467270083009294,
          0.07531109122271433,
          -1.2152983342793764,
          0.8804196963916894,
          -0.9184712183051706,
          -0.486116029992153,
          -0.43507786054928993,
          -0.3161380617560525,
          0.7157376698697067,
          -1.5227347792653272,
          2.0480204057517044,
          -0.16310384765860617,
          1.1647621554560457,
          1.0690285918981774,
          1.3810609078170664,
          -0.7562734236013121,
          -0.6250334481312175,
          -0.029185759543698415,
          1.1181930854044528,
          -1.445484865057198,
          -0.25978395021108247,
          0.028305979367296067,
          -0.3175739985340123,
          1.1917645653351394,
          -0.8778407588406054,
          0.04564646096547812,
          0.7604554551613494,
          -1.2281162814866209,
          0.17938372398844063,
          1.4199479851829313,
          0.6641356650086911,
          -0.5498942234464932,
          0.48557349149639545,
          -0.9888801054873628,
          0.6287689154184527,
          0.8561306156712443,
          -0.0297555910237018,
          0.14765112806671235,
          -1.3012723755906053,
          -0.7634785487393035,
          1.0649905919989138,
          -0.1639242813541542,
          -0.6358801177872554,
          -0.39370631745779466,
          -0.5433214356048077,
          -0.17489034807411538,
          -0.43484421964010195,
          0.05920097777188008,
          -1.1548850267822388,
          1.4484184396699349,
          0.4102384397802808,
          -0.44617871170704526,
          -0.9363780758969589,
          -0.5849787745512334,
          -0.48347424468438016,
          0.7571699899636907,
          0.16297142152724292,
          -0.42095397857681394,
          -0.7210052490542894,
          -0.9482891619630368,
          0.5785731905309177,
          -0.7104707137780943,
          -0.6357922407901868,
          -2.7717703474575317,
          0.23999801269790413,
          1.5436450139130389,
          0.75568858482363,
          0.657293186888398,
          0.8377978217084416,
          0.810409955932594,
          0.4394048761686608,
          0.20479031941611356,
          2.1560191981439165
         ]
        }
       ],
       "layout": {
        "legend": {
         "bgcolor": "#F5F6F9",
         "font": {
          "color": "#4D5663"
         }
        },
        "paper_bgcolor": "#F5F6F9",
        "plot_bgcolor": "#F5F6F9",
        "template": {
         "data": {
          "bar": [
           {
            "error_x": {
             "color": "#2a3f5f"
            },
            "error_y": {
             "color": "#2a3f5f"
            },
            "marker": {
             "line": {
              "color": "#E5ECF6",
              "width": 0.5
             },
             "pattern": {
              "fillmode": "overlay",
              "size": 10,
              "solidity": 0.2
             }
            },
            "type": "bar"
           }
          ],
          "barpolar": [
           {
            "marker": {
             "line": {
              "color": "#E5ECF6",
              "width": 0.5
             },
             "pattern": {
              "fillmode": "overlay",
              "size": 10,
              "solidity": 0.2
             }
            },
            "type": "barpolar"
           }
          ],
          "carpet": [
           {
            "aaxis": {
             "endlinecolor": "#2a3f5f",
             "gridcolor": "white",
             "linecolor": "white",
             "minorgridcolor": "white",
             "startlinecolor": "#2a3f5f"
            },
            "baxis": {
             "endlinecolor": "#2a3f5f",
             "gridcolor": "white",
             "linecolor": "white",
             "minorgridcolor": "white",
             "startlinecolor": "#2a3f5f"
            },
            "type": "carpet"
           }
          ],
          "choropleth": [
           {
            "colorbar": {
             "outlinewidth": 0,
             "ticks": ""
            },
            "type": "choropleth"
           }
          ],
          "contour": [
           {
            "colorbar": {
             "outlinewidth": 0,
             "ticks": ""
            },
            "colorscale": [
             [
              0,
              "#0d0887"
             ],
             [
              0.1111111111111111,
              "#46039f"
             ],
             [
              0.2222222222222222,
              "#7201a8"
             ],
             [
              0.3333333333333333,
              "#9c179e"
             ],
             [
              0.4444444444444444,
              "#bd3786"
             ],
             [
              0.5555555555555556,
              "#d8576b"
             ],
             [
              0.6666666666666666,
              "#ed7953"
             ],
             [
              0.7777777777777778,
              "#fb9f3a"
             ],
             [
              0.8888888888888888,
              "#fdca26"
             ],
             [
              1,
              "#f0f921"
             ]
            ],
            "type": "contour"
           }
          ],
          "contourcarpet": [
           {
            "colorbar": {
             "outlinewidth": 0,
             "ticks": ""
            },
            "type": "contourcarpet"
           }
          ],
          "heatmap": [
           {
            "colorbar": {
             "outlinewidth": 0,
             "ticks": ""
            },
            "colorscale": [
             [
              0,
              "#0d0887"
             ],
             [
              0.1111111111111111,
              "#46039f"
             ],
             [
              0.2222222222222222,
              "#7201a8"
             ],
             [
              0.3333333333333333,
              "#9c179e"
             ],
             [
              0.4444444444444444,
              "#bd3786"
             ],
             [
              0.5555555555555556,
              "#d8576b"
             ],
             [
              0.6666666666666666,
              "#ed7953"
             ],
             [
              0.7777777777777778,
              "#fb9f3a"
             ],
             [
              0.8888888888888888,
              "#fdca26"
             ],
             [
              1,
              "#f0f921"
             ]
            ],
            "type": "heatmap"
           }
          ],
          "heatmapgl": [
           {
            "colorbar": {
             "outlinewidth": 0,
             "ticks": ""
            },
            "colorscale": [
             [
              0,
              "#0d0887"
             ],
             [
              0.1111111111111111,
              "#46039f"
             ],
             [
              0.2222222222222222,
              "#7201a8"
             ],
             [
              0.3333333333333333,
              "#9c179e"
             ],
             [
              0.4444444444444444,
              "#bd3786"
             ],
             [
              0.5555555555555556,
              "#d8576b"
             ],
             [
              0.6666666666666666,
              "#ed7953"
             ],
             [
              0.7777777777777778,
              "#fb9f3a"
             ],
             [
              0.8888888888888888,
              "#fdca26"
             ],
             [
              1,
              "#f0f921"
             ]
            ],
            "type": "heatmapgl"
           }
          ],
          "histogram": [
           {
            "marker": {
             "pattern": {
              "fillmode": "overlay",
              "size": 10,
              "solidity": 0.2
             }
            },
            "type": "histogram"
           }
          ],
          "histogram2d": [
           {
            "colorbar": {
             "outlinewidth": 0,
             "ticks": ""
            },
            "colorscale": [
             [
              0,
              "#0d0887"
             ],
             [
              0.1111111111111111,
              "#46039f"
             ],
             [
              0.2222222222222222,
              "#7201a8"
             ],
             [
              0.3333333333333333,
              "#9c179e"
             ],
             [
              0.4444444444444444,
              "#bd3786"
             ],
             [
              0.5555555555555556,
              "#d8576b"
             ],
             [
              0.6666666666666666,
              "#ed7953"
             ],
             [
              0.7777777777777778,
              "#fb9f3a"
             ],
             [
              0.8888888888888888,
              "#fdca26"
             ],
             [
              1,
              "#f0f921"
             ]
            ],
            "type": "histogram2d"
           }
          ],
          "histogram2dcontour": [
           {
            "colorbar": {
             "outlinewidth": 0,
             "ticks": ""
            },
            "colorscale": [
             [
              0,
              "#0d0887"
             ],
             [
              0.1111111111111111,
              "#46039f"
             ],
             [
              0.2222222222222222,
              "#7201a8"
             ],
             [
              0.3333333333333333,
              "#9c179e"
             ],
             [
              0.4444444444444444,
              "#bd3786"
             ],
             [
              0.5555555555555556,
              "#d8576b"
             ],
             [
              0.6666666666666666,
              "#ed7953"
             ],
             [
              0.7777777777777778,
              "#fb9f3a"
             ],
             [
              0.8888888888888888,
              "#fdca26"
             ],
             [
              1,
              "#f0f921"
             ]
            ],
            "type": "histogram2dcontour"
           }
          ],
          "mesh3d": [
           {
            "colorbar": {
             "outlinewidth": 0,
             "ticks": ""
            },
            "type": "mesh3d"
           }
          ],
          "parcoords": [
           {
            "line": {
             "colorbar": {
              "outlinewidth": 0,
              "ticks": ""
             }
            },
            "type": "parcoords"
           }
          ],
          "pie": [
           {
            "automargin": true,
            "type": "pie"
           }
          ],
          "scatter": [
           {
            "fillpattern": {
             "fillmode": "overlay",
             "size": 10,
             "solidity": 0.2
            },
            "type": "scatter"
           }
          ],
          "scatter3d": [
           {
            "line": {
             "colorbar": {
              "outlinewidth": 0,
              "ticks": ""
             }
            },
            "marker": {
             "colorbar": {
              "outlinewidth": 0,
              "ticks": ""
             }
            },
            "type": "scatter3d"
           }
          ],
          "scattercarpet": [
           {
            "marker": {
             "colorbar": {
              "outlinewidth": 0,
              "ticks": ""
             }
            },
            "type": "scattercarpet"
           }
          ],
          "scattergeo": [
           {
            "marker": {
             "colorbar": {
              "outlinewidth": 0,
              "ticks": ""
             }
            },
            "type": "scattergeo"
           }
          ],
          "scattergl": [
           {
            "marker": {
             "colorbar": {
              "outlinewidth": 0,
              "ticks": ""
             }
            },
            "type": "scattergl"
           }
          ],
          "scattermapbox": [
           {
            "marker": {
             "colorbar": {
              "outlinewidth": 0,
              "ticks": ""
             }
            },
            "type": "scattermapbox"
           }
          ],
          "scatterpolar": [
           {
            "marker": {
             "colorbar": {
              "outlinewidth": 0,
              "ticks": ""
             }
            },
            "type": "scatterpolar"
           }
          ],
          "scatterpolargl": [
           {
            "marker": {
             "colorbar": {
              "outlinewidth": 0,
              "ticks": ""
             }
            },
            "type": "scatterpolargl"
           }
          ],
          "scatterternary": [
           {
            "marker": {
             "colorbar": {
              "outlinewidth": 0,
              "ticks": ""
             }
            },
            "type": "scatterternary"
           }
          ],
          "surface": [
           {
            "colorbar": {
             "outlinewidth": 0,
             "ticks": ""
            },
            "colorscale": [
             [
              0,
              "#0d0887"
             ],
             [
              0.1111111111111111,
              "#46039f"
             ],
             [
              0.2222222222222222,
              "#7201a8"
             ],
             [
              0.3333333333333333,
              "#9c179e"
             ],
             [
              0.4444444444444444,
              "#bd3786"
             ],
             [
              0.5555555555555556,
              "#d8576b"
             ],
             [
              0.6666666666666666,
              "#ed7953"
             ],
             [
              0.7777777777777778,
              "#fb9f3a"
             ],
             [
              0.8888888888888888,
              "#fdca26"
             ],
             [
              1,
              "#f0f921"
             ]
            ],
            "type": "surface"
           }
          ],
          "table": [
           {
            "cells": {
             "fill": {
              "color": "#EBF0F8"
             },
             "line": {
              "color": "white"
             }
            },
            "header": {
             "fill": {
              "color": "#C8D4E3"
             },
             "line": {
              "color": "white"
             }
            },
            "type": "table"
           }
          ]
         },
         "layout": {
          "annotationdefaults": {
           "arrowcolor": "#2a3f5f",
           "arrowhead": 0,
           "arrowwidth": 1
          },
          "autotypenumbers": "strict",
          "coloraxis": {
           "colorbar": {
            "outlinewidth": 0,
            "ticks": ""
           }
          },
          "colorscale": {
           "diverging": [
            [
             0,
             "#8e0152"
            ],
            [
             0.1,
             "#c51b7d"
            ],
            [
             0.2,
             "#de77ae"
            ],
            [
             0.3,
             "#f1b6da"
            ],
            [
             0.4,
             "#fde0ef"
            ],
            [
             0.5,
             "#f7f7f7"
            ],
            [
             0.6,
             "#e6f5d0"
            ],
            [
             0.7,
             "#b8e186"
            ],
            [
             0.8,
             "#7fbc41"
            ],
            [
             0.9,
             "#4d9221"
            ],
            [
             1,
             "#276419"
            ]
           ],
           "sequential": [
            [
             0,
             "#0d0887"
            ],
            [
             0.1111111111111111,
             "#46039f"
            ],
            [
             0.2222222222222222,
             "#7201a8"
            ],
            [
             0.3333333333333333,
             "#9c179e"
            ],
            [
             0.4444444444444444,
             "#bd3786"
            ],
            [
             0.5555555555555556,
             "#d8576b"
            ],
            [
             0.6666666666666666,
             "#ed7953"
            ],
            [
             0.7777777777777778,
             "#fb9f3a"
            ],
            [
             0.8888888888888888,
             "#fdca26"
            ],
            [
             1,
             "#f0f921"
            ]
           ],
           "sequentialminus": [
            [
             0,
             "#0d0887"
            ],
            [
             0.1111111111111111,
             "#46039f"
            ],
            [
             0.2222222222222222,
             "#7201a8"
            ],
            [
             0.3333333333333333,
             "#9c179e"
            ],
            [
             0.4444444444444444,
             "#bd3786"
            ],
            [
             0.5555555555555556,
             "#d8576b"
            ],
            [
             0.6666666666666666,
             "#ed7953"
            ],
            [
             0.7777777777777778,
             "#fb9f3a"
            ],
            [
             0.8888888888888888,
             "#fdca26"
            ],
            [
             1,
             "#f0f921"
            ]
           ]
          },
          "colorway": [
           "#636efa",
           "#EF553B",
           "#00cc96",
           "#ab63fa",
           "#FFA15A",
           "#19d3f3",
           "#FF6692",
           "#B6E880",
           "#FF97FF",
           "#FECB52"
          ],
          "font": {
           "color": "#2a3f5f"
          },
          "geo": {
           "bgcolor": "white",
           "lakecolor": "white",
           "landcolor": "#E5ECF6",
           "showlakes": true,
           "showland": true,
           "subunitcolor": "white"
          },
          "hoverlabel": {
           "align": "left"
          },
          "hovermode": "closest",
          "mapbox": {
           "style": "light"
          },
          "paper_bgcolor": "white",
          "plot_bgcolor": "#E5ECF6",
          "polar": {
           "angularaxis": {
            "gridcolor": "white",
            "linecolor": "white",
            "ticks": ""
           },
           "bgcolor": "#E5ECF6",
           "radialaxis": {
            "gridcolor": "white",
            "linecolor": "white",
            "ticks": ""
           }
          },
          "scene": {
           "xaxis": {
            "backgroundcolor": "#E5ECF6",
            "gridcolor": "white",
            "gridwidth": 2,
            "linecolor": "white",
            "showbackground": true,
            "ticks": "",
            "zerolinecolor": "white"
           },
           "yaxis": {
            "backgroundcolor": "#E5ECF6",
            "gridcolor": "white",
            "gridwidth": 2,
            "linecolor": "white",
            "showbackground": true,
            "ticks": "",
            "zerolinecolor": "white"
           },
           "zaxis": {
            "backgroundcolor": "#E5ECF6",
            "gridcolor": "white",
            "gridwidth": 2,
            "linecolor": "white",
            "showbackground": true,
            "ticks": "",
            "zerolinecolor": "white"
           }
          },
          "shapedefaults": {
           "line": {
            "color": "#2a3f5f"
           }
          },
          "ternary": {
           "aaxis": {
            "gridcolor": "white",
            "linecolor": "white",
            "ticks": ""
           },
           "baxis": {
            "gridcolor": "white",
            "linecolor": "white",
            "ticks": ""
           },
           "bgcolor": "#E5ECF6",
           "caxis": {
            "gridcolor": "white",
            "linecolor": "white",
            "ticks": ""
           }
          },
          "title": {
           "x": 0.05
          },
          "xaxis": {
           "automargin": true,
           "gridcolor": "white",
           "linecolor": "white",
           "ticks": "",
           "title": {
            "standoff": 15
           },
           "zerolinecolor": "white",
           "zerolinewidth": 2
          },
          "yaxis": {
           "automargin": true,
           "gridcolor": "white",
           "linecolor": "white",
           "ticks": "",
           "title": {
            "standoff": 15
           },
           "zerolinecolor": "white",
           "zerolinewidth": 2
          }
         }
        },
        "title": {
         "font": {
          "color": "#4D5663"
         }
        },
        "xaxis": {
         "gridcolor": "#E1E5ED",
         "showgrid": true,
         "tickfont": {
          "color": "#4D5663"
         },
         "title": {
          "font": {
           "color": "#4D5663"
          },
          "text": ""
         },
         "zerolinecolor": "#E1E5ED"
        },
        "yaxis": {
         "gridcolor": "#E1E5ED",
         "showgrid": true,
         "tickfont": {
          "color": "#4D5663"
         },
         "title": {
          "font": {
           "color": "#4D5663"
          },
          "text": ""
         },
         "zerolinecolor": "#E1E5ED"
        }
       }
      },
      "text/html": [
       "<div>                            <div id=\"10bb5bc6-bc68-4db1-9f54-7707f3994ec4\" class=\"plotly-graph-div\" style=\"height:525px; width:100%;\"></div>            <script type=\"text/javascript\">                require([\"plotly\"], function(Plotly) {                    window.PLOTLYENV=window.PLOTLYENV || {};\n",
       "                    window.PLOTLYENV.BASE_URL='https://plot.ly';                                    if (document.getElementById(\"10bb5bc6-bc68-4db1-9f54-7707f3994ec4\")) {                    Plotly.newPlot(                        \"10bb5bc6-bc68-4db1-9f54-7707f3994ec4\",                        [{\"boxpoints\":false,\"line\":{\"width\":1.3},\"marker\":{\"color\":\"rgba(255, 153, 51, 1.0)\"},\"name\":\"A\",\"orientation\":\"v\",\"y\":[1.0801251640557836,-0.09638858984862315,-0.4778206331382923,-0.2942173372442018,0.04212547757433794,-0.21241871665351275,0.6157702361721962,0.32992005709913946,0.6814184853186209,-0.401646842512738,-0.2851115081639871,-1.2114845027340753,0.06916614368341706,0.1591285599517671,0.05453521215892846,-0.6810073484713328,2.8589502284383155,-0.5012294716308849,1.6502615869672825,1.2967876390551507,-0.10757536720860636,-0.42252750196673766,1.1947484804295403,-0.395714437875417,0.21503690725318397,0.42319298537150496,-1.7070394815037455,0.2886632245298637,0.11713281991426203,-1.590841654060365,0.2983704610660227,-1.459872250265605,1.6761898403762872,0.5399305897011594,1.859397226985364,-0.09166231163698116,0.4606859669210411,0.33415746097397353,0.027914158981814274,0.5974492446391806,-0.16239253650338997,-1.6435607314478577,0.6442208478110065,-1.0148388047249859,0.9594519440364432,-0.44541819871248955,-0.886535797155018,-1.0310906701974405,1.5682064990356273,-0.18047306213555087,0.7648350111451226,0.45585198816044414,-0.7528956574004777,-0.22824277167503762,0.014635252813137507,-0.7893010839719782,0.6859059684265395,-0.8650133123530385,-0.15179595809982077,-0.15250415179727717,-0.0351690914259882,2.0661977474856523,1.074773180617247,-1.4386033815290893,1.306654243985068,-0.09771618187642477,-2.1219455194046253,-0.35806526592115173,-0.5794297205497703,0.6788180144526051,0.8037361115157824,-1.4809937681016654,-2.0178203799844856,0.3101821464478711,-0.1790669563794227,-1.5498694961858306,-0.5086716379020376,-0.6459186885571588,0.3295423928644564,-1.0961683497786938,-1.5805201999917888,0.3933799959004732,0.3219084816465848,0.2924579434889606,-0.10074763128293673,-0.03403519839224362,2.3332802461496995,2.0114018515991834,0.7620841513465821,-1.1857754510814738,-0.582780837007449,1.0518815625121487,0.20745864997243998,0.15382712049177955,0.19150932142055335,2.0178206629395943,-0.6900046114688033,-0.977313611536171,-0.6851687125391716,0.1741431211184333],\"type\":\"box\"},{\"boxpoints\":false,\"line\":{\"width\":1.3},\"marker\":{\"color\":\"rgba(55, 128, 191, 1.0)\"},\"name\":\"B\",\"orientation\":\"v\",\"y\":[1.3607841251836796,-0.9674674905132706,0.3122098362800539,-1.9448302439623684,1.6135031795380288,-0.9716838883329177,2.0331012007700022,1.652770317992748,-1.4578018235628902,-1.5732701085155567,-0.07607385423638324,0.08201682070201322,0.2122198422416436,-1.9304564495522596,-2.3040923217611735,0.9130611530966893,1.3802584503837574,-0.4046830738850893,0.07601032667948168,0.8976347785160459,-0.09003598707624505,0.7409346195956898,-1.8007196022202219,-0.6317000979078795,-0.1413757369338316,0.6468377284193276,0.5381324922017766,0.740679491186776,-1.204443665274361,0.47276969369577587,1.127827927590617,0.2361165790929499,0.24009181716586592,-1.3194438103143555,-0.38186725209629757,-0.7977332724316449,2.469920077081317,-0.10610371314187877,-1.5121692164865521,-1.1844023197781017,-0.011171440261647346,-0.5098884899014533,1.8974393146246504,-0.16990836365314899,-0.6014629305675028,-0.8318383576734268,-0.03298638585192762,0.6062909702192114,-0.15800986430627798,1.6882608031105024,-0.671277450025276,-0.820328638105275,0.2881868567368972,0.5243074034741281,0.1285915753539585,0.5945487422764267,0.19612240560354918,-0.9772081243251444,-0.023067476057357688,0.2389657964904768,-0.4983109887694054,-0.27292214745955795,-0.7670065331174148,0.08971936190133252,0.05660681638505576,-0.9435712987191033,0.667349226954366,1.1180615456422802,-1.375596283258031,1.5745623897180148,-1.8334282872394294,1.6572128822452232,2.042726721554889,-0.49918497976316645,0.6500999327603493,2.071292907232663,1.3564198989597525,0.4812759605501785,0.978137026870297,-0.38228276955254964,-2.3068081170005383,-0.8499659630386249,-0.14182566772572905,-0.029006226358003907,0.15691513529743456,1.6364792393697691,-0.39096557396705495,1.289989835188355,-0.6079139476948235,1.787981154711908,-0.9677198312633559,0.9800751842228804,1.0901319076859644,-1.081995774409719,-0.1983707845407121,0.3630010895250102,-0.5657049123972575,0.3503979459289591,1.005465375591448,-0.3704708729101634],\"type\":\"box\"},{\"boxpoints\":false,\"line\":{\"width\":1.3},\"marker\":{\"color\":\"rgba(50, 171, 96, 1.0)\"},\"name\":\"C\",\"orientation\":\"v\",\"y\":[0.702767431533642,2.4130266328026875,1.0247116988576892,1.1683727821289778,-1.3056717628835188,-0.9616928382289589,-1.4969575112466853,-0.6365153296307634,0.11217914666770475,1.2144287765738433,-0.6495486019328311,-0.19639525020624254,-0.00802132540888039,0.02694614454660426,-0.528954231674728,1.5706058322517387,0.4820803948391646,0.4206337344540275,0.10591315631999255,0.7937826774382816,0.144104101401556,-1.3887166806425755,1.6326366443060474,-0.18027878873270034,0.826296296089968,-0.2580101564367002,-0.6688867058712796,0.7378586244711566,1.921519209242429,-0.22669263844505874,-0.36584692112998235,1.6384095185283776,0.8125504647072437,-0.49031400400566966,0.7741652466697522,-0.22213464090142843,-0.2527107376648289,-1.605821524503842,0.9109145605827451,-1.9943612002091708,0.9332459593082034,0.866333413662675,1.6820321612890714,-0.07671391298756125,0.1738989493806357,-1.5804953182696397,1.0460186545875654,-0.16110376935988216,-0.5617610909222606,0.07581562577893483,-0.03552371262803585,0.4269245996611502,-0.6496427509906124,1.675109322453891,-0.7148743282459987,-1.687744547155932,-0.8191850962643112,0.5259046079873353,-0.3248846951260035,-1.6750635846039788,-0.6121564366027149,0.27626692155815863,1.6358128717285716,0.8492940238752041,0.3355667863277014,-0.013777162449761769,-0.3604674654475875,-0.9326775784452925,0.7189623537867452,0.4222208695106275,-0.3443113071071108,-0.6763998146568629,-0.248286139854172,-0.2448649987359036,-1.8227067665030514,0.8846947920126711,-1.6132360765385587,-1.554804906148493,-0.5124269413107482,-0.5867457557616809,-0.08872399849448215,0.44346757039634555,2.055498002435792,-0.5266791467291811,0.717310741953486,-0.9514008286056141,-0.30449684289472284,-0.25453425475848257,0.22712846218402372,0.2791783359077579,-0.9906830706778221,0.4810098473856099,1.0125421345872334,1.358913896745162,-1.1362324711337033,-1.0732819075861326,-1.4031717704942892,-0.9452636455237585,0.062344609433789444,-0.02768845426741946],\"type\":\"box\"},{\"boxpoints\":false,\"line\":{\"width\":1.3},\"marker\":{\"color\":\"rgba(128, 0, 128, 1.0)\"},\"name\":\"D\",\"orientation\":\"v\",\"y\":[-0.7481175396550206,1.2234305898579076,-1.976720081584501,0.6899477520811974,-0.22014339453056606,0.09780635699530431,0.8471015694289812,0.17363529636436545,0.8135946557880653,-0.7571828256286016,0.5833472024472944,0.6811442861956457,-1.5222725801928654,-0.9316056188892309,-0.015246748853435677,0.017008365382485714,-0.15951266427774013,1.1288036903682699,-0.6541853301837105,-0.3900776094359683,2.3090029908734238,-0.538822815851566,-1.236893386536804,-1.5169432316935727,0.3502145276593857,-0.17448199452404328,-0.2525100119082364,1.4467270083009294,0.07531109122271433,-1.2152983342793764,0.8804196963916894,-0.9184712183051706,-0.486116029992153,-0.43507786054928993,-0.3161380617560525,0.7157376698697067,-1.5227347792653272,2.0480204057517044,-0.16310384765860617,1.1647621554560457,1.0690285918981774,1.3810609078170664,-0.7562734236013121,-0.6250334481312175,-0.029185759543698415,1.1181930854044528,-1.445484865057198,-0.25978395021108247,0.028305979367296067,-0.3175739985340123,1.1917645653351394,-0.8778407588406054,0.04564646096547812,0.7604554551613494,-1.2281162814866209,0.17938372398844063,1.4199479851829313,0.6641356650086911,-0.5498942234464932,0.48557349149639545,-0.9888801054873628,0.6287689154184527,0.8561306156712443,-0.0297555910237018,0.14765112806671235,-1.3012723755906053,-0.7634785487393035,1.0649905919989138,-0.1639242813541542,-0.6358801177872554,-0.39370631745779466,-0.5433214356048077,-0.17489034807411538,-0.43484421964010195,0.05920097777188008,-1.1548850267822388,1.4484184396699349,0.4102384397802808,-0.44617871170704526,-0.9363780758969589,-0.5849787745512334,-0.48347424468438016,0.7571699899636907,0.16297142152724292,-0.42095397857681394,-0.7210052490542894,-0.9482891619630368,0.5785731905309177,-0.7104707137780943,-0.6357922407901868,-2.7717703474575317,0.23999801269790413,1.5436450139130389,0.75568858482363,0.657293186888398,0.8377978217084416,0.810409955932594,0.4394048761686608,0.20479031941611356,2.1560191981439165],\"type\":\"box\"}],                        {\"legend\":{\"bgcolor\":\"#F5F6F9\",\"font\":{\"color\":\"#4D5663\"}},\"paper_bgcolor\":\"#F5F6F9\",\"plot_bgcolor\":\"#F5F6F9\",\"template\":{\"data\":{\"barpolar\":[{\"marker\":{\"line\":{\"color\":\"#E5ECF6\",\"width\":0.5},\"pattern\":{\"fillmode\":\"overlay\",\"size\":10,\"solidity\":0.2}},\"type\":\"barpolar\"}],\"bar\":[{\"error_x\":{\"color\":\"#2a3f5f\"},\"error_y\":{\"color\":\"#2a3f5f\"},\"marker\":{\"line\":{\"color\":\"#E5ECF6\",\"width\":0.5},\"pattern\":{\"fillmode\":\"overlay\",\"size\":10,\"solidity\":0.2}},\"type\":\"bar\"}],\"carpet\":[{\"aaxis\":{\"endlinecolor\":\"#2a3f5f\",\"gridcolor\":\"white\",\"linecolor\":\"white\",\"minorgridcolor\":\"white\",\"startlinecolor\":\"#2a3f5f\"},\"baxis\":{\"endlinecolor\":\"#2a3f5f\",\"gridcolor\":\"white\",\"linecolor\":\"white\",\"minorgridcolor\":\"white\",\"startlinecolor\":\"#2a3f5f\"},\"type\":\"carpet\"}],\"choropleth\":[{\"colorbar\":{\"outlinewidth\":0,\"ticks\":\"\"},\"type\":\"choropleth\"}],\"contourcarpet\":[{\"colorbar\":{\"outlinewidth\":0,\"ticks\":\"\"},\"type\":\"contourcarpet\"}],\"contour\":[{\"colorbar\":{\"outlinewidth\":0,\"ticks\":\"\"},\"colorscale\":[[0.0,\"#0d0887\"],[0.1111111111111111,\"#46039f\"],[0.2222222222222222,\"#7201a8\"],[0.3333333333333333,\"#9c179e\"],[0.4444444444444444,\"#bd3786\"],[0.5555555555555556,\"#d8576b\"],[0.6666666666666666,\"#ed7953\"],[0.7777777777777778,\"#fb9f3a\"],[0.8888888888888888,\"#fdca26\"],[1.0,\"#f0f921\"]],\"type\":\"contour\"}],\"heatmapgl\":[{\"colorbar\":{\"outlinewidth\":0,\"ticks\":\"\"},\"colorscale\":[[0.0,\"#0d0887\"],[0.1111111111111111,\"#46039f\"],[0.2222222222222222,\"#7201a8\"],[0.3333333333333333,\"#9c179e\"],[0.4444444444444444,\"#bd3786\"],[0.5555555555555556,\"#d8576b\"],[0.6666666666666666,\"#ed7953\"],[0.7777777777777778,\"#fb9f3a\"],[0.8888888888888888,\"#fdca26\"],[1.0,\"#f0f921\"]],\"type\":\"heatmapgl\"}],\"heatmap\":[{\"colorbar\":{\"outlinewidth\":0,\"ticks\":\"\"},\"colorscale\":[[0.0,\"#0d0887\"],[0.1111111111111111,\"#46039f\"],[0.2222222222222222,\"#7201a8\"],[0.3333333333333333,\"#9c179e\"],[0.4444444444444444,\"#bd3786\"],[0.5555555555555556,\"#d8576b\"],[0.6666666666666666,\"#ed7953\"],[0.7777777777777778,\"#fb9f3a\"],[0.8888888888888888,\"#fdca26\"],[1.0,\"#f0f921\"]],\"type\":\"heatmap\"}],\"histogram2dcontour\":[{\"colorbar\":{\"outlinewidth\":0,\"ticks\":\"\"},\"colorscale\":[[0.0,\"#0d0887\"],[0.1111111111111111,\"#46039f\"],[0.2222222222222222,\"#7201a8\"],[0.3333333333333333,\"#9c179e\"],[0.4444444444444444,\"#bd3786\"],[0.5555555555555556,\"#d8576b\"],[0.6666666666666666,\"#ed7953\"],[0.7777777777777778,\"#fb9f3a\"],[0.8888888888888888,\"#fdca26\"],[1.0,\"#f0f921\"]],\"type\":\"histogram2dcontour\"}],\"histogram2d\":[{\"colorbar\":{\"outlinewidth\":0,\"ticks\":\"\"},\"colorscale\":[[0.0,\"#0d0887\"],[0.1111111111111111,\"#46039f\"],[0.2222222222222222,\"#7201a8\"],[0.3333333333333333,\"#9c179e\"],[0.4444444444444444,\"#bd3786\"],[0.5555555555555556,\"#d8576b\"],[0.6666666666666666,\"#ed7953\"],[0.7777777777777778,\"#fb9f3a\"],[0.8888888888888888,\"#fdca26\"],[1.0,\"#f0f921\"]],\"type\":\"histogram2d\"}],\"histogram\":[{\"marker\":{\"pattern\":{\"fillmode\":\"overlay\",\"size\":10,\"solidity\":0.2}},\"type\":\"histogram\"}],\"mesh3d\":[{\"colorbar\":{\"outlinewidth\":0,\"ticks\":\"\"},\"type\":\"mesh3d\"}],\"parcoords\":[{\"line\":{\"colorbar\":{\"outlinewidth\":0,\"ticks\":\"\"}},\"type\":\"parcoords\"}],\"pie\":[{\"automargin\":true,\"type\":\"pie\"}],\"scatter3d\":[{\"line\":{\"colorbar\":{\"outlinewidth\":0,\"ticks\":\"\"}},\"marker\":{\"colorbar\":{\"outlinewidth\":0,\"ticks\":\"\"}},\"type\":\"scatter3d\"}],\"scattercarpet\":[{\"marker\":{\"colorbar\":{\"outlinewidth\":0,\"ticks\":\"\"}},\"type\":\"scattercarpet\"}],\"scattergeo\":[{\"marker\":{\"colorbar\":{\"outlinewidth\":0,\"ticks\":\"\"}},\"type\":\"scattergeo\"}],\"scattergl\":[{\"marker\":{\"colorbar\":{\"outlinewidth\":0,\"ticks\":\"\"}},\"type\":\"scattergl\"}],\"scattermapbox\":[{\"marker\":{\"colorbar\":{\"outlinewidth\":0,\"ticks\":\"\"}},\"type\":\"scattermapbox\"}],\"scatterpolargl\":[{\"marker\":{\"colorbar\":{\"outlinewidth\":0,\"ticks\":\"\"}},\"type\":\"scatterpolargl\"}],\"scatterpolar\":[{\"marker\":{\"colorbar\":{\"outlinewidth\":0,\"ticks\":\"\"}},\"type\":\"scatterpolar\"}],\"scatter\":[{\"fillpattern\":{\"fillmode\":\"overlay\",\"size\":10,\"solidity\":0.2},\"type\":\"scatter\"}],\"scatterternary\":[{\"marker\":{\"colorbar\":{\"outlinewidth\":0,\"ticks\":\"\"}},\"type\":\"scatterternary\"}],\"surface\":[{\"colorbar\":{\"outlinewidth\":0,\"ticks\":\"\"},\"colorscale\":[[0.0,\"#0d0887\"],[0.1111111111111111,\"#46039f\"],[0.2222222222222222,\"#7201a8\"],[0.3333333333333333,\"#9c179e\"],[0.4444444444444444,\"#bd3786\"],[0.5555555555555556,\"#d8576b\"],[0.6666666666666666,\"#ed7953\"],[0.7777777777777778,\"#fb9f3a\"],[0.8888888888888888,\"#fdca26\"],[1.0,\"#f0f921\"]],\"type\":\"surface\"}],\"table\":[{\"cells\":{\"fill\":{\"color\":\"#EBF0F8\"},\"line\":{\"color\":\"white\"}},\"header\":{\"fill\":{\"color\":\"#C8D4E3\"},\"line\":{\"color\":\"white\"}},\"type\":\"table\"}]},\"layout\":{\"annotationdefaults\":{\"arrowcolor\":\"#2a3f5f\",\"arrowhead\":0,\"arrowwidth\":1},\"autotypenumbers\":\"strict\",\"coloraxis\":{\"colorbar\":{\"outlinewidth\":0,\"ticks\":\"\"}},\"colorscale\":{\"diverging\":[[0,\"#8e0152\"],[0.1,\"#c51b7d\"],[0.2,\"#de77ae\"],[0.3,\"#f1b6da\"],[0.4,\"#fde0ef\"],[0.5,\"#f7f7f7\"],[0.6,\"#e6f5d0\"],[0.7,\"#b8e186\"],[0.8,\"#7fbc41\"],[0.9,\"#4d9221\"],[1,\"#276419\"]],\"sequential\":[[0.0,\"#0d0887\"],[0.1111111111111111,\"#46039f\"],[0.2222222222222222,\"#7201a8\"],[0.3333333333333333,\"#9c179e\"],[0.4444444444444444,\"#bd3786\"],[0.5555555555555556,\"#d8576b\"],[0.6666666666666666,\"#ed7953\"],[0.7777777777777778,\"#fb9f3a\"],[0.8888888888888888,\"#fdca26\"],[1.0,\"#f0f921\"]],\"sequentialminus\":[[0.0,\"#0d0887\"],[0.1111111111111111,\"#46039f\"],[0.2222222222222222,\"#7201a8\"],[0.3333333333333333,\"#9c179e\"],[0.4444444444444444,\"#bd3786\"],[0.5555555555555556,\"#d8576b\"],[0.6666666666666666,\"#ed7953\"],[0.7777777777777778,\"#fb9f3a\"],[0.8888888888888888,\"#fdca26\"],[1.0,\"#f0f921\"]]},\"colorway\":[\"#636efa\",\"#EF553B\",\"#00cc96\",\"#ab63fa\",\"#FFA15A\",\"#19d3f3\",\"#FF6692\",\"#B6E880\",\"#FF97FF\",\"#FECB52\"],\"font\":{\"color\":\"#2a3f5f\"},\"geo\":{\"bgcolor\":\"white\",\"lakecolor\":\"white\",\"landcolor\":\"#E5ECF6\",\"showlakes\":true,\"showland\":true,\"subunitcolor\":\"white\"},\"hoverlabel\":{\"align\":\"left\"},\"hovermode\":\"closest\",\"mapbox\":{\"style\":\"light\"},\"paper_bgcolor\":\"white\",\"plot_bgcolor\":\"#E5ECF6\",\"polar\":{\"angularaxis\":{\"gridcolor\":\"white\",\"linecolor\":\"white\",\"ticks\":\"\"},\"bgcolor\":\"#E5ECF6\",\"radialaxis\":{\"gridcolor\":\"white\",\"linecolor\":\"white\",\"ticks\":\"\"}},\"scene\":{\"xaxis\":{\"backgroundcolor\":\"#E5ECF6\",\"gridcolor\":\"white\",\"gridwidth\":2,\"linecolor\":\"white\",\"showbackground\":true,\"ticks\":\"\",\"zerolinecolor\":\"white\"},\"yaxis\":{\"backgroundcolor\":\"#E5ECF6\",\"gridcolor\":\"white\",\"gridwidth\":2,\"linecolor\":\"white\",\"showbackground\":true,\"ticks\":\"\",\"zerolinecolor\":\"white\"},\"zaxis\":{\"backgroundcolor\":\"#E5ECF6\",\"gridcolor\":\"white\",\"gridwidth\":2,\"linecolor\":\"white\",\"showbackground\":true,\"ticks\":\"\",\"zerolinecolor\":\"white\"}},\"shapedefaults\":{\"line\":{\"color\":\"#2a3f5f\"}},\"ternary\":{\"aaxis\":{\"gridcolor\":\"white\",\"linecolor\":\"white\",\"ticks\":\"\"},\"baxis\":{\"gridcolor\":\"white\",\"linecolor\":\"white\",\"ticks\":\"\"},\"bgcolor\":\"#E5ECF6\",\"caxis\":{\"gridcolor\":\"white\",\"linecolor\":\"white\",\"ticks\":\"\"}},\"title\":{\"x\":0.05},\"xaxis\":{\"automargin\":true,\"gridcolor\":\"white\",\"linecolor\":\"white\",\"ticks\":\"\",\"title\":{\"standoff\":15},\"zerolinecolor\":\"white\",\"zerolinewidth\":2},\"yaxis\":{\"automargin\":true,\"gridcolor\":\"white\",\"linecolor\":\"white\",\"ticks\":\"\",\"title\":{\"standoff\":15},\"zerolinecolor\":\"white\",\"zerolinewidth\":2}}},\"title\":{\"font\":{\"color\":\"#4D5663\"}},\"xaxis\":{\"gridcolor\":\"#E1E5ED\",\"showgrid\":true,\"tickfont\":{\"color\":\"#4D5663\"},\"title\":{\"font\":{\"color\":\"#4D5663\"},\"text\":\"\"},\"zerolinecolor\":\"#E1E5ED\"},\"yaxis\":{\"gridcolor\":\"#E1E5ED\",\"showgrid\":true,\"tickfont\":{\"color\":\"#4D5663\"},\"title\":{\"font\":{\"color\":\"#4D5663\"},\"text\":\"\"},\"zerolinecolor\":\"#E1E5ED\"}},                        {\"showLink\": true, \"linkText\": \"Export to plot.ly\", \"plotlyServerURL\": \"https://plot.ly\", \"responsive\": true}                    ).then(function(){\n",
       "                            \n",
       "var gd = document.getElementById('10bb5bc6-bc68-4db1-9f54-7707f3994ec4');\n",
       "var x = new MutationObserver(function (mutations, observer) {{\n",
       "        var display = window.getComputedStyle(gd).display;\n",
       "        if (!display || display === 'none') {{\n",
       "            console.log([gd, 'removed!']);\n",
       "            Plotly.purge(gd);\n",
       "            observer.disconnect();\n",
       "        }}\n",
       "}});\n",
       "\n",
       "// Listen for the removal of the full notebook cells\n",
       "var notebookContainer = gd.closest('#notebook-container');\n",
       "if (notebookContainer) {{\n",
       "    x.observe(notebookContainer, {childList: true});\n",
       "}}\n",
       "\n",
       "// Listen for the clearing of the current output cell\n",
       "var outputEl = gd.closest('.output');\n",
       "if (outputEl) {{\n",
       "    x.observe(outputEl, {childList: true});\n",
       "}}\n",
       "\n",
       "                        })                };                });            </script>        </div>"
      ]
     },
     "metadata": {},
     "output_type": "display_data"
    }
   ],
   "source": [
    "df.iplot(kind='box')"
   ]
  },
  {
   "cell_type": "markdown",
   "metadata": {},
   "source": [
    "## 3d Surface"
   ]
  },
  {
   "cell_type": "code",
   "execution_count": 45,
   "metadata": {},
   "outputs": [
    {
     "data": {
      "application/vnd.plotly.v1+json": {
       "config": {
        "linkText": "Export to plot.ly",
        "plotlyServerURL": "https://plot.ly",
        "showLink": true
       },
       "data": [
        {
         "colorscale": [
          [
           0,
           "rgb(165,0,38)"
          ],
          [
           0.1,
           "rgb(215,48,39)"
          ],
          [
           0.2,
           "rgb(244,109,67)"
          ],
          [
           0.3,
           "rgb(253,174,97)"
          ],
          [
           0.4,
           "rgb(254,224,144)"
          ],
          [
           0.5,
           "rgb(255,255,191)"
          ],
          [
           0.6,
           "rgb(224,243,248)"
          ],
          [
           0.7,
           "rgb(171,217,233)"
          ],
          [
           0.8,
           "rgb(116,173,209)"
          ],
          [
           0.9,
           "rgb(69,117,180)"
          ],
          [
           1,
           "rgb(49,54,149)"
          ]
         ],
         "type": "surface",
         "x": [
          0,
          1,
          2,
          3,
          4
         ],
         "y": [
          "x",
          "y",
          "z"
         ],
         "z": [
          [
           1,
           2,
           3,
           4,
           5
          ],
          [
           10,
           20,
           30,
           20,
           10
          ],
          [
           5,
           4,
           3,
           2,
           1
          ]
         ]
        }
       ],
       "layout": {
        "legend": {
         "bgcolor": "#F5F6F9",
         "font": {
          "color": "#4D5663"
         }
        },
        "paper_bgcolor": "#F5F6F9",
        "plot_bgcolor": "#F5F6F9",
        "template": {
         "data": {
          "bar": [
           {
            "error_x": {
             "color": "#2a3f5f"
            },
            "error_y": {
             "color": "#2a3f5f"
            },
            "marker": {
             "line": {
              "color": "#E5ECF6",
              "width": 0.5
             },
             "pattern": {
              "fillmode": "overlay",
              "size": 10,
              "solidity": 0.2
             }
            },
            "type": "bar"
           }
          ],
          "barpolar": [
           {
            "marker": {
             "line": {
              "color": "#E5ECF6",
              "width": 0.5
             },
             "pattern": {
              "fillmode": "overlay",
              "size": 10,
              "solidity": 0.2
             }
            },
            "type": "barpolar"
           }
          ],
          "carpet": [
           {
            "aaxis": {
             "endlinecolor": "#2a3f5f",
             "gridcolor": "white",
             "linecolor": "white",
             "minorgridcolor": "white",
             "startlinecolor": "#2a3f5f"
            },
            "baxis": {
             "endlinecolor": "#2a3f5f",
             "gridcolor": "white",
             "linecolor": "white",
             "minorgridcolor": "white",
             "startlinecolor": "#2a3f5f"
            },
            "type": "carpet"
           }
          ],
          "choropleth": [
           {
            "colorbar": {
             "outlinewidth": 0,
             "ticks": ""
            },
            "type": "choropleth"
           }
          ],
          "contour": [
           {
            "colorbar": {
             "outlinewidth": 0,
             "ticks": ""
            },
            "colorscale": [
             [
              0,
              "#0d0887"
             ],
             [
              0.1111111111111111,
              "#46039f"
             ],
             [
              0.2222222222222222,
              "#7201a8"
             ],
             [
              0.3333333333333333,
              "#9c179e"
             ],
             [
              0.4444444444444444,
              "#bd3786"
             ],
             [
              0.5555555555555556,
              "#d8576b"
             ],
             [
              0.6666666666666666,
              "#ed7953"
             ],
             [
              0.7777777777777778,
              "#fb9f3a"
             ],
             [
              0.8888888888888888,
              "#fdca26"
             ],
             [
              1,
              "#f0f921"
             ]
            ],
            "type": "contour"
           }
          ],
          "contourcarpet": [
           {
            "colorbar": {
             "outlinewidth": 0,
             "ticks": ""
            },
            "type": "contourcarpet"
           }
          ],
          "heatmap": [
           {
            "colorbar": {
             "outlinewidth": 0,
             "ticks": ""
            },
            "colorscale": [
             [
              0,
              "#0d0887"
             ],
             [
              0.1111111111111111,
              "#46039f"
             ],
             [
              0.2222222222222222,
              "#7201a8"
             ],
             [
              0.3333333333333333,
              "#9c179e"
             ],
             [
              0.4444444444444444,
              "#bd3786"
             ],
             [
              0.5555555555555556,
              "#d8576b"
             ],
             [
              0.6666666666666666,
              "#ed7953"
             ],
             [
              0.7777777777777778,
              "#fb9f3a"
             ],
             [
              0.8888888888888888,
              "#fdca26"
             ],
             [
              1,
              "#f0f921"
             ]
            ],
            "type": "heatmap"
           }
          ],
          "heatmapgl": [
           {
            "colorbar": {
             "outlinewidth": 0,
             "ticks": ""
            },
            "colorscale": [
             [
              0,
              "#0d0887"
             ],
             [
              0.1111111111111111,
              "#46039f"
             ],
             [
              0.2222222222222222,
              "#7201a8"
             ],
             [
              0.3333333333333333,
              "#9c179e"
             ],
             [
              0.4444444444444444,
              "#bd3786"
             ],
             [
              0.5555555555555556,
              "#d8576b"
             ],
             [
              0.6666666666666666,
              "#ed7953"
             ],
             [
              0.7777777777777778,
              "#fb9f3a"
             ],
             [
              0.8888888888888888,
              "#fdca26"
             ],
             [
              1,
              "#f0f921"
             ]
            ],
            "type": "heatmapgl"
           }
          ],
          "histogram": [
           {
            "marker": {
             "pattern": {
              "fillmode": "overlay",
              "size": 10,
              "solidity": 0.2
             }
            },
            "type": "histogram"
           }
          ],
          "histogram2d": [
           {
            "colorbar": {
             "outlinewidth": 0,
             "ticks": ""
            },
            "colorscale": [
             [
              0,
              "#0d0887"
             ],
             [
              0.1111111111111111,
              "#46039f"
             ],
             [
              0.2222222222222222,
              "#7201a8"
             ],
             [
              0.3333333333333333,
              "#9c179e"
             ],
             [
              0.4444444444444444,
              "#bd3786"
             ],
             [
              0.5555555555555556,
              "#d8576b"
             ],
             [
              0.6666666666666666,
              "#ed7953"
             ],
             [
              0.7777777777777778,
              "#fb9f3a"
             ],
             [
              0.8888888888888888,
              "#fdca26"
             ],
             [
              1,
              "#f0f921"
             ]
            ],
            "type": "histogram2d"
           }
          ],
          "histogram2dcontour": [
           {
            "colorbar": {
             "outlinewidth": 0,
             "ticks": ""
            },
            "colorscale": [
             [
              0,
              "#0d0887"
             ],
             [
              0.1111111111111111,
              "#46039f"
             ],
             [
              0.2222222222222222,
              "#7201a8"
             ],
             [
              0.3333333333333333,
              "#9c179e"
             ],
             [
              0.4444444444444444,
              "#bd3786"
             ],
             [
              0.5555555555555556,
              "#d8576b"
             ],
             [
              0.6666666666666666,
              "#ed7953"
             ],
             [
              0.7777777777777778,
              "#fb9f3a"
             ],
             [
              0.8888888888888888,
              "#fdca26"
             ],
             [
              1,
              "#f0f921"
             ]
            ],
            "type": "histogram2dcontour"
           }
          ],
          "mesh3d": [
           {
            "colorbar": {
             "outlinewidth": 0,
             "ticks": ""
            },
            "type": "mesh3d"
           }
          ],
          "parcoords": [
           {
            "line": {
             "colorbar": {
              "outlinewidth": 0,
              "ticks": ""
             }
            },
            "type": "parcoords"
           }
          ],
          "pie": [
           {
            "automargin": true,
            "type": "pie"
           }
          ],
          "scatter": [
           {
            "fillpattern": {
             "fillmode": "overlay",
             "size": 10,
             "solidity": 0.2
            },
            "type": "scatter"
           }
          ],
          "scatter3d": [
           {
            "line": {
             "colorbar": {
              "outlinewidth": 0,
              "ticks": ""
             }
            },
            "marker": {
             "colorbar": {
              "outlinewidth": 0,
              "ticks": ""
             }
            },
            "type": "scatter3d"
           }
          ],
          "scattercarpet": [
           {
            "marker": {
             "colorbar": {
              "outlinewidth": 0,
              "ticks": ""
             }
            },
            "type": "scattercarpet"
           }
          ],
          "scattergeo": [
           {
            "marker": {
             "colorbar": {
              "outlinewidth": 0,
              "ticks": ""
             }
            },
            "type": "scattergeo"
           }
          ],
          "scattergl": [
           {
            "marker": {
             "colorbar": {
              "outlinewidth": 0,
              "ticks": ""
             }
            },
            "type": "scattergl"
           }
          ],
          "scattermapbox": [
           {
            "marker": {
             "colorbar": {
              "outlinewidth": 0,
              "ticks": ""
             }
            },
            "type": "scattermapbox"
           }
          ],
          "scatterpolar": [
           {
            "marker": {
             "colorbar": {
              "outlinewidth": 0,
              "ticks": ""
             }
            },
            "type": "scatterpolar"
           }
          ],
          "scatterpolargl": [
           {
            "marker": {
             "colorbar": {
              "outlinewidth": 0,
              "ticks": ""
             }
            },
            "type": "scatterpolargl"
           }
          ],
          "scatterternary": [
           {
            "marker": {
             "colorbar": {
              "outlinewidth": 0,
              "ticks": ""
             }
            },
            "type": "scatterternary"
           }
          ],
          "surface": [
           {
            "colorbar": {
             "outlinewidth": 0,
             "ticks": ""
            },
            "colorscale": [
             [
              0,
              "#0d0887"
             ],
             [
              0.1111111111111111,
              "#46039f"
             ],
             [
              0.2222222222222222,
              "#7201a8"
             ],
             [
              0.3333333333333333,
              "#9c179e"
             ],
             [
              0.4444444444444444,
              "#bd3786"
             ],
             [
              0.5555555555555556,
              "#d8576b"
             ],
             [
              0.6666666666666666,
              "#ed7953"
             ],
             [
              0.7777777777777778,
              "#fb9f3a"
             ],
             [
              0.8888888888888888,
              "#fdca26"
             ],
             [
              1,
              "#f0f921"
             ]
            ],
            "type": "surface"
           }
          ],
          "table": [
           {
            "cells": {
             "fill": {
              "color": "#EBF0F8"
             },
             "line": {
              "color": "white"
             }
            },
            "header": {
             "fill": {
              "color": "#C8D4E3"
             },
             "line": {
              "color": "white"
             }
            },
            "type": "table"
           }
          ]
         },
         "layout": {
          "annotationdefaults": {
           "arrowcolor": "#2a3f5f",
           "arrowhead": 0,
           "arrowwidth": 1
          },
          "autotypenumbers": "strict",
          "coloraxis": {
           "colorbar": {
            "outlinewidth": 0,
            "ticks": ""
           }
          },
          "colorscale": {
           "diverging": [
            [
             0,
             "#8e0152"
            ],
            [
             0.1,
             "#c51b7d"
            ],
            [
             0.2,
             "#de77ae"
            ],
            [
             0.3,
             "#f1b6da"
            ],
            [
             0.4,
             "#fde0ef"
            ],
            [
             0.5,
             "#f7f7f7"
            ],
            [
             0.6,
             "#e6f5d0"
            ],
            [
             0.7,
             "#b8e186"
            ],
            [
             0.8,
             "#7fbc41"
            ],
            [
             0.9,
             "#4d9221"
            ],
            [
             1,
             "#276419"
            ]
           ],
           "sequential": [
            [
             0,
             "#0d0887"
            ],
            [
             0.1111111111111111,
             "#46039f"
            ],
            [
             0.2222222222222222,
             "#7201a8"
            ],
            [
             0.3333333333333333,
             "#9c179e"
            ],
            [
             0.4444444444444444,
             "#bd3786"
            ],
            [
             0.5555555555555556,
             "#d8576b"
            ],
            [
             0.6666666666666666,
             "#ed7953"
            ],
            [
             0.7777777777777778,
             "#fb9f3a"
            ],
            [
             0.8888888888888888,
             "#fdca26"
            ],
            [
             1,
             "#f0f921"
            ]
           ],
           "sequentialminus": [
            [
             0,
             "#0d0887"
            ],
            [
             0.1111111111111111,
             "#46039f"
            ],
            [
             0.2222222222222222,
             "#7201a8"
            ],
            [
             0.3333333333333333,
             "#9c179e"
            ],
            [
             0.4444444444444444,
             "#bd3786"
            ],
            [
             0.5555555555555556,
             "#d8576b"
            ],
            [
             0.6666666666666666,
             "#ed7953"
            ],
            [
             0.7777777777777778,
             "#fb9f3a"
            ],
            [
             0.8888888888888888,
             "#fdca26"
            ],
            [
             1,
             "#f0f921"
            ]
           ]
          },
          "colorway": [
           "#636efa",
           "#EF553B",
           "#00cc96",
           "#ab63fa",
           "#FFA15A",
           "#19d3f3",
           "#FF6692",
           "#B6E880",
           "#FF97FF",
           "#FECB52"
          ],
          "font": {
           "color": "#2a3f5f"
          },
          "geo": {
           "bgcolor": "white",
           "lakecolor": "white",
           "landcolor": "#E5ECF6",
           "showlakes": true,
           "showland": true,
           "subunitcolor": "white"
          },
          "hoverlabel": {
           "align": "left"
          },
          "hovermode": "closest",
          "mapbox": {
           "style": "light"
          },
          "paper_bgcolor": "white",
          "plot_bgcolor": "#E5ECF6",
          "polar": {
           "angularaxis": {
            "gridcolor": "white",
            "linecolor": "white",
            "ticks": ""
           },
           "bgcolor": "#E5ECF6",
           "radialaxis": {
            "gridcolor": "white",
            "linecolor": "white",
            "ticks": ""
           }
          },
          "scene": {
           "xaxis": {
            "backgroundcolor": "#E5ECF6",
            "gridcolor": "white",
            "gridwidth": 2,
            "linecolor": "white",
            "showbackground": true,
            "ticks": "",
            "zerolinecolor": "white"
           },
           "yaxis": {
            "backgroundcolor": "#E5ECF6",
            "gridcolor": "white",
            "gridwidth": 2,
            "linecolor": "white",
            "showbackground": true,
            "ticks": "",
            "zerolinecolor": "white"
           },
           "zaxis": {
            "backgroundcolor": "#E5ECF6",
            "gridcolor": "white",
            "gridwidth": 2,
            "linecolor": "white",
            "showbackground": true,
            "ticks": "",
            "zerolinecolor": "white"
           }
          },
          "shapedefaults": {
           "line": {
            "color": "#2a3f5f"
           }
          },
          "ternary": {
           "aaxis": {
            "gridcolor": "white",
            "linecolor": "white",
            "ticks": ""
           },
           "baxis": {
            "gridcolor": "white",
            "linecolor": "white",
            "ticks": ""
           },
           "bgcolor": "#E5ECF6",
           "caxis": {
            "gridcolor": "white",
            "linecolor": "white",
            "ticks": ""
           }
          },
          "title": {
           "x": 0.05
          },
          "xaxis": {
           "automargin": true,
           "gridcolor": "white",
           "linecolor": "white",
           "ticks": "",
           "title": {
            "standoff": 15
           },
           "zerolinecolor": "white",
           "zerolinewidth": 2
          },
          "yaxis": {
           "automargin": true,
           "gridcolor": "white",
           "linecolor": "white",
           "ticks": "",
           "title": {
            "standoff": 15
           },
           "zerolinecolor": "white",
           "zerolinewidth": 2
          }
         }
        },
        "title": {
         "font": {
          "color": "#4D5663"
         }
        },
        "xaxis": {
         "gridcolor": "#E1E5ED",
         "showgrid": true,
         "tickfont": {
          "color": "#4D5663"
         },
         "title": {
          "font": {
           "color": "#4D5663"
          },
          "text": ""
         },
         "zerolinecolor": "#E1E5ED"
        },
        "yaxis": {
         "gridcolor": "#E1E5ED",
         "showgrid": true,
         "tickfont": {
          "color": "#4D5663"
         },
         "title": {
          "font": {
           "color": "#4D5663"
          },
          "text": ""
         },
         "zerolinecolor": "#E1E5ED"
        }
       }
      },
      "text/html": [
       "<div>                            <div id=\"21070c3a-568b-4389-8373-8d7f8056b04f\" class=\"plotly-graph-div\" style=\"height:525px; width:100%;\"></div>            <script type=\"text/javascript\">                require([\"plotly\"], function(Plotly) {                    window.PLOTLYENV=window.PLOTLYENV || {};\n",
       "                    window.PLOTLYENV.BASE_URL='https://plot.ly';                                    if (document.getElementById(\"21070c3a-568b-4389-8373-8d7f8056b04f\")) {                    Plotly.newPlot(                        \"21070c3a-568b-4389-8373-8d7f8056b04f\",                        [{\"colorscale\":[[0.0,\"rgb(165,0,38)\"],[0.1,\"rgb(215,48,39)\"],[0.2,\"rgb(244,109,67)\"],[0.3,\"rgb(253,174,97)\"],[0.4,\"rgb(254,224,144)\"],[0.5,\"rgb(255,255,191)\"],[0.6,\"rgb(224,243,248)\"],[0.7,\"rgb(171,217,233)\"],[0.8,\"rgb(116,173,209)\"],[0.9,\"rgb(69,117,180)\"],[1.0,\"rgb(49,54,149)\"]],\"x\":[0,1,2,3,4],\"y\":[\"x\",\"y\",\"z\"],\"z\":[[1,2,3,4,5],[10,20,30,20,10],[5,4,3,2,1]],\"type\":\"surface\"}],                        {\"legend\":{\"bgcolor\":\"#F5F6F9\",\"font\":{\"color\":\"#4D5663\"}},\"paper_bgcolor\":\"#F5F6F9\",\"plot_bgcolor\":\"#F5F6F9\",\"template\":{\"data\":{\"barpolar\":[{\"marker\":{\"line\":{\"color\":\"#E5ECF6\",\"width\":0.5},\"pattern\":{\"fillmode\":\"overlay\",\"size\":10,\"solidity\":0.2}},\"type\":\"barpolar\"}],\"bar\":[{\"error_x\":{\"color\":\"#2a3f5f\"},\"error_y\":{\"color\":\"#2a3f5f\"},\"marker\":{\"line\":{\"color\":\"#E5ECF6\",\"width\":0.5},\"pattern\":{\"fillmode\":\"overlay\",\"size\":10,\"solidity\":0.2}},\"type\":\"bar\"}],\"carpet\":[{\"aaxis\":{\"endlinecolor\":\"#2a3f5f\",\"gridcolor\":\"white\",\"linecolor\":\"white\",\"minorgridcolor\":\"white\",\"startlinecolor\":\"#2a3f5f\"},\"baxis\":{\"endlinecolor\":\"#2a3f5f\",\"gridcolor\":\"white\",\"linecolor\":\"white\",\"minorgridcolor\":\"white\",\"startlinecolor\":\"#2a3f5f\"},\"type\":\"carpet\"}],\"choropleth\":[{\"colorbar\":{\"outlinewidth\":0,\"ticks\":\"\"},\"type\":\"choropleth\"}],\"contourcarpet\":[{\"colorbar\":{\"outlinewidth\":0,\"ticks\":\"\"},\"type\":\"contourcarpet\"}],\"contour\":[{\"colorbar\":{\"outlinewidth\":0,\"ticks\":\"\"},\"colorscale\":[[0.0,\"#0d0887\"],[0.1111111111111111,\"#46039f\"],[0.2222222222222222,\"#7201a8\"],[0.3333333333333333,\"#9c179e\"],[0.4444444444444444,\"#bd3786\"],[0.5555555555555556,\"#d8576b\"],[0.6666666666666666,\"#ed7953\"],[0.7777777777777778,\"#fb9f3a\"],[0.8888888888888888,\"#fdca26\"],[1.0,\"#f0f921\"]],\"type\":\"contour\"}],\"heatmapgl\":[{\"colorbar\":{\"outlinewidth\":0,\"ticks\":\"\"},\"colorscale\":[[0.0,\"#0d0887\"],[0.1111111111111111,\"#46039f\"],[0.2222222222222222,\"#7201a8\"],[0.3333333333333333,\"#9c179e\"],[0.4444444444444444,\"#bd3786\"],[0.5555555555555556,\"#d8576b\"],[0.6666666666666666,\"#ed7953\"],[0.7777777777777778,\"#fb9f3a\"],[0.8888888888888888,\"#fdca26\"],[1.0,\"#f0f921\"]],\"type\":\"heatmapgl\"}],\"heatmap\":[{\"colorbar\":{\"outlinewidth\":0,\"ticks\":\"\"},\"colorscale\":[[0.0,\"#0d0887\"],[0.1111111111111111,\"#46039f\"],[0.2222222222222222,\"#7201a8\"],[0.3333333333333333,\"#9c179e\"],[0.4444444444444444,\"#bd3786\"],[0.5555555555555556,\"#d8576b\"],[0.6666666666666666,\"#ed7953\"],[0.7777777777777778,\"#fb9f3a\"],[0.8888888888888888,\"#fdca26\"],[1.0,\"#f0f921\"]],\"type\":\"heatmap\"}],\"histogram2dcontour\":[{\"colorbar\":{\"outlinewidth\":0,\"ticks\":\"\"},\"colorscale\":[[0.0,\"#0d0887\"],[0.1111111111111111,\"#46039f\"],[0.2222222222222222,\"#7201a8\"],[0.3333333333333333,\"#9c179e\"],[0.4444444444444444,\"#bd3786\"],[0.5555555555555556,\"#d8576b\"],[0.6666666666666666,\"#ed7953\"],[0.7777777777777778,\"#fb9f3a\"],[0.8888888888888888,\"#fdca26\"],[1.0,\"#f0f921\"]],\"type\":\"histogram2dcontour\"}],\"histogram2d\":[{\"colorbar\":{\"outlinewidth\":0,\"ticks\":\"\"},\"colorscale\":[[0.0,\"#0d0887\"],[0.1111111111111111,\"#46039f\"],[0.2222222222222222,\"#7201a8\"],[0.3333333333333333,\"#9c179e\"],[0.4444444444444444,\"#bd3786\"],[0.5555555555555556,\"#d8576b\"],[0.6666666666666666,\"#ed7953\"],[0.7777777777777778,\"#fb9f3a\"],[0.8888888888888888,\"#fdca26\"],[1.0,\"#f0f921\"]],\"type\":\"histogram2d\"}],\"histogram\":[{\"marker\":{\"pattern\":{\"fillmode\":\"overlay\",\"size\":10,\"solidity\":0.2}},\"type\":\"histogram\"}],\"mesh3d\":[{\"colorbar\":{\"outlinewidth\":0,\"ticks\":\"\"},\"type\":\"mesh3d\"}],\"parcoords\":[{\"line\":{\"colorbar\":{\"outlinewidth\":0,\"ticks\":\"\"}},\"type\":\"parcoords\"}],\"pie\":[{\"automargin\":true,\"type\":\"pie\"}],\"scatter3d\":[{\"line\":{\"colorbar\":{\"outlinewidth\":0,\"ticks\":\"\"}},\"marker\":{\"colorbar\":{\"outlinewidth\":0,\"ticks\":\"\"}},\"type\":\"scatter3d\"}],\"scattercarpet\":[{\"marker\":{\"colorbar\":{\"outlinewidth\":0,\"ticks\":\"\"}},\"type\":\"scattercarpet\"}],\"scattergeo\":[{\"marker\":{\"colorbar\":{\"outlinewidth\":0,\"ticks\":\"\"}},\"type\":\"scattergeo\"}],\"scattergl\":[{\"marker\":{\"colorbar\":{\"outlinewidth\":0,\"ticks\":\"\"}},\"type\":\"scattergl\"}],\"scattermapbox\":[{\"marker\":{\"colorbar\":{\"outlinewidth\":0,\"ticks\":\"\"}},\"type\":\"scattermapbox\"}],\"scatterpolargl\":[{\"marker\":{\"colorbar\":{\"outlinewidth\":0,\"ticks\":\"\"}},\"type\":\"scatterpolargl\"}],\"scatterpolar\":[{\"marker\":{\"colorbar\":{\"outlinewidth\":0,\"ticks\":\"\"}},\"type\":\"scatterpolar\"}],\"scatter\":[{\"fillpattern\":{\"fillmode\":\"overlay\",\"size\":10,\"solidity\":0.2},\"type\":\"scatter\"}],\"scatterternary\":[{\"marker\":{\"colorbar\":{\"outlinewidth\":0,\"ticks\":\"\"}},\"type\":\"scatterternary\"}],\"surface\":[{\"colorbar\":{\"outlinewidth\":0,\"ticks\":\"\"},\"colorscale\":[[0.0,\"#0d0887\"],[0.1111111111111111,\"#46039f\"],[0.2222222222222222,\"#7201a8\"],[0.3333333333333333,\"#9c179e\"],[0.4444444444444444,\"#bd3786\"],[0.5555555555555556,\"#d8576b\"],[0.6666666666666666,\"#ed7953\"],[0.7777777777777778,\"#fb9f3a\"],[0.8888888888888888,\"#fdca26\"],[1.0,\"#f0f921\"]],\"type\":\"surface\"}],\"table\":[{\"cells\":{\"fill\":{\"color\":\"#EBF0F8\"},\"line\":{\"color\":\"white\"}},\"header\":{\"fill\":{\"color\":\"#C8D4E3\"},\"line\":{\"color\":\"white\"}},\"type\":\"table\"}]},\"layout\":{\"annotationdefaults\":{\"arrowcolor\":\"#2a3f5f\",\"arrowhead\":0,\"arrowwidth\":1},\"autotypenumbers\":\"strict\",\"coloraxis\":{\"colorbar\":{\"outlinewidth\":0,\"ticks\":\"\"}},\"colorscale\":{\"diverging\":[[0,\"#8e0152\"],[0.1,\"#c51b7d\"],[0.2,\"#de77ae\"],[0.3,\"#f1b6da\"],[0.4,\"#fde0ef\"],[0.5,\"#f7f7f7\"],[0.6,\"#e6f5d0\"],[0.7,\"#b8e186\"],[0.8,\"#7fbc41\"],[0.9,\"#4d9221\"],[1,\"#276419\"]],\"sequential\":[[0.0,\"#0d0887\"],[0.1111111111111111,\"#46039f\"],[0.2222222222222222,\"#7201a8\"],[0.3333333333333333,\"#9c179e\"],[0.4444444444444444,\"#bd3786\"],[0.5555555555555556,\"#d8576b\"],[0.6666666666666666,\"#ed7953\"],[0.7777777777777778,\"#fb9f3a\"],[0.8888888888888888,\"#fdca26\"],[1.0,\"#f0f921\"]],\"sequentialminus\":[[0.0,\"#0d0887\"],[0.1111111111111111,\"#46039f\"],[0.2222222222222222,\"#7201a8\"],[0.3333333333333333,\"#9c179e\"],[0.4444444444444444,\"#bd3786\"],[0.5555555555555556,\"#d8576b\"],[0.6666666666666666,\"#ed7953\"],[0.7777777777777778,\"#fb9f3a\"],[0.8888888888888888,\"#fdca26\"],[1.0,\"#f0f921\"]]},\"colorway\":[\"#636efa\",\"#EF553B\",\"#00cc96\",\"#ab63fa\",\"#FFA15A\",\"#19d3f3\",\"#FF6692\",\"#B6E880\",\"#FF97FF\",\"#FECB52\"],\"font\":{\"color\":\"#2a3f5f\"},\"geo\":{\"bgcolor\":\"white\",\"lakecolor\":\"white\",\"landcolor\":\"#E5ECF6\",\"showlakes\":true,\"showland\":true,\"subunitcolor\":\"white\"},\"hoverlabel\":{\"align\":\"left\"},\"hovermode\":\"closest\",\"mapbox\":{\"style\":\"light\"},\"paper_bgcolor\":\"white\",\"plot_bgcolor\":\"#E5ECF6\",\"polar\":{\"angularaxis\":{\"gridcolor\":\"white\",\"linecolor\":\"white\",\"ticks\":\"\"},\"bgcolor\":\"#E5ECF6\",\"radialaxis\":{\"gridcolor\":\"white\",\"linecolor\":\"white\",\"ticks\":\"\"}},\"scene\":{\"xaxis\":{\"backgroundcolor\":\"#E5ECF6\",\"gridcolor\":\"white\",\"gridwidth\":2,\"linecolor\":\"white\",\"showbackground\":true,\"ticks\":\"\",\"zerolinecolor\":\"white\"},\"yaxis\":{\"backgroundcolor\":\"#E5ECF6\",\"gridcolor\":\"white\",\"gridwidth\":2,\"linecolor\":\"white\",\"showbackground\":true,\"ticks\":\"\",\"zerolinecolor\":\"white\"},\"zaxis\":{\"backgroundcolor\":\"#E5ECF6\",\"gridcolor\":\"white\",\"gridwidth\":2,\"linecolor\":\"white\",\"showbackground\":true,\"ticks\":\"\",\"zerolinecolor\":\"white\"}},\"shapedefaults\":{\"line\":{\"color\":\"#2a3f5f\"}},\"ternary\":{\"aaxis\":{\"gridcolor\":\"white\",\"linecolor\":\"white\",\"ticks\":\"\"},\"baxis\":{\"gridcolor\":\"white\",\"linecolor\":\"white\",\"ticks\":\"\"},\"bgcolor\":\"#E5ECF6\",\"caxis\":{\"gridcolor\":\"white\",\"linecolor\":\"white\",\"ticks\":\"\"}},\"title\":{\"x\":0.05},\"xaxis\":{\"automargin\":true,\"gridcolor\":\"white\",\"linecolor\":\"white\",\"ticks\":\"\",\"title\":{\"standoff\":15},\"zerolinecolor\":\"white\",\"zerolinewidth\":2},\"yaxis\":{\"automargin\":true,\"gridcolor\":\"white\",\"linecolor\":\"white\",\"ticks\":\"\",\"title\":{\"standoff\":15},\"zerolinecolor\":\"white\",\"zerolinewidth\":2}}},\"title\":{\"font\":{\"color\":\"#4D5663\"}},\"xaxis\":{\"gridcolor\":\"#E1E5ED\",\"showgrid\":true,\"tickfont\":{\"color\":\"#4D5663\"},\"title\":{\"font\":{\"color\":\"#4D5663\"},\"text\":\"\"},\"zerolinecolor\":\"#E1E5ED\"},\"yaxis\":{\"gridcolor\":\"#E1E5ED\",\"showgrid\":true,\"tickfont\":{\"color\":\"#4D5663\"},\"title\":{\"font\":{\"color\":\"#4D5663\"},\"text\":\"\"},\"zerolinecolor\":\"#E1E5ED\"}},                        {\"showLink\": true, \"linkText\": \"Export to plot.ly\", \"plotlyServerURL\": \"https://plot.ly\", \"responsive\": true}                    ).then(function(){\n",
       "                            \n",
       "var gd = document.getElementById('21070c3a-568b-4389-8373-8d7f8056b04f');\n",
       "var x = new MutationObserver(function (mutations, observer) {{\n",
       "        var display = window.getComputedStyle(gd).display;\n",
       "        if (!display || display === 'none') {{\n",
       "            console.log([gd, 'removed!']);\n",
       "            Plotly.purge(gd);\n",
       "            observer.disconnect();\n",
       "        }}\n",
       "}});\n",
       "\n",
       "// Listen for the removal of the full notebook cells\n",
       "var notebookContainer = gd.closest('#notebook-container');\n",
       "if (notebookContainer) {{\n",
       "    x.observe(notebookContainer, {childList: true});\n",
       "}}\n",
       "\n",
       "// Listen for the clearing of the current output cell\n",
       "var outputEl = gd.closest('.output');\n",
       "if (outputEl) {{\n",
       "    x.observe(outputEl, {childList: true});\n",
       "}}\n",
       "\n",
       "                        })                };                });            </script>        </div>"
      ]
     },
     "metadata": {},
     "output_type": "display_data"
    }
   ],
   "source": [
    "df3 = pd.DataFrame({'x':[1,2,3,4,5],'y':[10,20,30,20,10],'z':[5,4,3,2,1]})\n",
    "df3.iplot(kind='surface',colorscale='rdylbu')"
   ]
  },
  {
   "cell_type": "markdown",
   "metadata": {},
   "source": [
    "## Spread"
   ]
  },
  {
   "cell_type": "code",
   "execution_count": 46,
   "metadata": {},
   "outputs": [
    {
     "name": "stderr",
     "output_type": "stream",
     "text": [
      "C:\\Users\\Monish.k\\AppData\\Roaming\\Python\\Python39\\site-packages\\cufflinks\\plotlytools.py:849: FutureWarning:\n",
      "\n",
      "The pandas.np module is deprecated and will be removed from pandas in a future version. Import numpy directly instead.\n",
      "\n",
      "C:\\Users\\Monish.k\\AppData\\Roaming\\Python\\Python39\\site-packages\\cufflinks\\plotlytools.py:850: FutureWarning:\n",
      "\n",
      "The pandas.np module is deprecated and will be removed from pandas in a future version. Import numpy directly instead.\n",
      "\n"
     ]
    },
    {
     "data": {
      "application/vnd.plotly.v1+json": {
       "config": {
        "linkText": "Export to plot.ly",
        "plotlyServerURL": "https://plot.ly",
        "showLink": true
       },
       "data": [
        {
         "line": {
          "color": "rgba(255, 153, 51, 1.0)",
          "dash": "solid",
          "shape": "linear",
          "width": 1.3
         },
         "mode": "lines",
         "name": "A",
         "text": "",
         "type": "scatter",
         "x": [
          0,
          1,
          2,
          3,
          4,
          5,
          6,
          7,
          8,
          9,
          10,
          11,
          12,
          13,
          14,
          15,
          16,
          17,
          18,
          19,
          20,
          21,
          22,
          23,
          24,
          25,
          26,
          27,
          28,
          29,
          30,
          31,
          32,
          33,
          34,
          35,
          36,
          37,
          38,
          39,
          40,
          41,
          42,
          43,
          44,
          45,
          46,
          47,
          48,
          49,
          50,
          51,
          52,
          53,
          54,
          55,
          56,
          57,
          58,
          59,
          60,
          61,
          62,
          63,
          64,
          65,
          66,
          67,
          68,
          69,
          70,
          71,
          72,
          73,
          74,
          75,
          76,
          77,
          78,
          79,
          80,
          81,
          82,
          83,
          84,
          85,
          86,
          87,
          88,
          89,
          90,
          91,
          92,
          93,
          94,
          95,
          96,
          97,
          98,
          99
         ],
         "y": [
          1.0801251640557836,
          -0.09638858984862315,
          -0.4778206331382923,
          -0.2942173372442018,
          0.04212547757433794,
          -0.21241871665351275,
          0.6157702361721962,
          0.32992005709913946,
          0.6814184853186209,
          -0.401646842512738,
          -0.2851115081639871,
          -1.2114845027340753,
          0.06916614368341706,
          0.1591285599517671,
          0.05453521215892846,
          -0.6810073484713328,
          2.8589502284383155,
          -0.5012294716308849,
          1.6502615869672825,
          1.2967876390551507,
          -0.10757536720860636,
          -0.42252750196673766,
          1.1947484804295403,
          -0.395714437875417,
          0.21503690725318397,
          0.42319298537150496,
          -1.7070394815037455,
          0.2886632245298637,
          0.11713281991426203,
          -1.590841654060365,
          0.2983704610660227,
          -1.459872250265605,
          1.6761898403762872,
          0.5399305897011594,
          1.859397226985364,
          -0.09166231163698116,
          0.4606859669210411,
          0.33415746097397353,
          0.027914158981814274,
          0.5974492446391806,
          -0.16239253650338997,
          -1.6435607314478577,
          0.6442208478110065,
          -1.0148388047249859,
          0.9594519440364432,
          -0.44541819871248955,
          -0.886535797155018,
          -1.0310906701974405,
          1.5682064990356273,
          -0.18047306213555087,
          0.7648350111451226,
          0.45585198816044414,
          -0.7528956574004777,
          -0.22824277167503762,
          0.014635252813137507,
          -0.7893010839719782,
          0.6859059684265395,
          -0.8650133123530385,
          -0.15179595809982077,
          -0.15250415179727717,
          -0.0351690914259882,
          2.0661977474856523,
          1.074773180617247,
          -1.4386033815290893,
          1.306654243985068,
          -0.09771618187642477,
          -2.1219455194046253,
          -0.35806526592115173,
          -0.5794297205497703,
          0.6788180144526051,
          0.8037361115157824,
          -1.4809937681016654,
          -2.0178203799844856,
          0.3101821464478711,
          -0.1790669563794227,
          -1.5498694961858306,
          -0.5086716379020376,
          -0.6459186885571588,
          0.3295423928644564,
          -1.0961683497786938,
          -1.5805201999917888,
          0.3933799959004732,
          0.3219084816465848,
          0.2924579434889606,
          -0.10074763128293673,
          -0.03403519839224362,
          2.3332802461496995,
          2.0114018515991834,
          0.7620841513465821,
          -1.1857754510814738,
          -0.582780837007449,
          1.0518815625121487,
          0.20745864997243998,
          0.15382712049177955,
          0.19150932142055335,
          2.0178206629395943,
          -0.6900046114688033,
          -0.977313611536171,
          -0.6851687125391716,
          0.1741431211184333
         ]
        },
        {
         "line": {
          "color": "rgba(55, 128, 191, 1.0)",
          "dash": "solid",
          "shape": "linear",
          "width": 1.3
         },
         "mode": "lines",
         "name": "B",
         "text": "",
         "type": "scatter",
         "x": [
          0,
          1,
          2,
          3,
          4,
          5,
          6,
          7,
          8,
          9,
          10,
          11,
          12,
          13,
          14,
          15,
          16,
          17,
          18,
          19,
          20,
          21,
          22,
          23,
          24,
          25,
          26,
          27,
          28,
          29,
          30,
          31,
          32,
          33,
          34,
          35,
          36,
          37,
          38,
          39,
          40,
          41,
          42,
          43,
          44,
          45,
          46,
          47,
          48,
          49,
          50,
          51,
          52,
          53,
          54,
          55,
          56,
          57,
          58,
          59,
          60,
          61,
          62,
          63,
          64,
          65,
          66,
          67,
          68,
          69,
          70,
          71,
          72,
          73,
          74,
          75,
          76,
          77,
          78,
          79,
          80,
          81,
          82,
          83,
          84,
          85,
          86,
          87,
          88,
          89,
          90,
          91,
          92,
          93,
          94,
          95,
          96,
          97,
          98,
          99
         ],
         "y": [
          1.3607841251836796,
          -0.9674674905132706,
          0.3122098362800539,
          -1.9448302439623684,
          1.6135031795380288,
          -0.9716838883329177,
          2.0331012007700022,
          1.652770317992748,
          -1.4578018235628902,
          -1.5732701085155567,
          -0.07607385423638324,
          0.08201682070201322,
          0.2122198422416436,
          -1.9304564495522596,
          -2.3040923217611735,
          0.9130611530966893,
          1.3802584503837574,
          -0.4046830738850893,
          0.07601032667948168,
          0.8976347785160459,
          -0.09003598707624505,
          0.7409346195956898,
          -1.8007196022202219,
          -0.6317000979078795,
          -0.1413757369338316,
          0.6468377284193276,
          0.5381324922017766,
          0.740679491186776,
          -1.204443665274361,
          0.47276969369577587,
          1.127827927590617,
          0.2361165790929499,
          0.24009181716586592,
          -1.3194438103143555,
          -0.38186725209629757,
          -0.7977332724316449,
          2.469920077081317,
          -0.10610371314187877,
          -1.5121692164865521,
          -1.1844023197781017,
          -0.011171440261647346,
          -0.5098884899014533,
          1.8974393146246504,
          -0.16990836365314899,
          -0.6014629305675028,
          -0.8318383576734268,
          -0.03298638585192762,
          0.6062909702192114,
          -0.15800986430627798,
          1.6882608031105024,
          -0.671277450025276,
          -0.820328638105275,
          0.2881868567368972,
          0.5243074034741281,
          0.1285915753539585,
          0.5945487422764267,
          0.19612240560354918,
          -0.9772081243251444,
          -0.023067476057357688,
          0.2389657964904768,
          -0.4983109887694054,
          -0.27292214745955795,
          -0.7670065331174148,
          0.08971936190133252,
          0.05660681638505576,
          -0.9435712987191033,
          0.667349226954366,
          1.1180615456422802,
          -1.375596283258031,
          1.5745623897180148,
          -1.8334282872394294,
          1.6572128822452232,
          2.042726721554889,
          -0.49918497976316645,
          0.6500999327603493,
          2.071292907232663,
          1.3564198989597525,
          0.4812759605501785,
          0.978137026870297,
          -0.38228276955254964,
          -2.3068081170005383,
          -0.8499659630386249,
          -0.14182566772572905,
          -0.029006226358003907,
          0.15691513529743456,
          1.6364792393697691,
          -0.39096557396705495,
          1.289989835188355,
          -0.6079139476948235,
          1.787981154711908,
          -0.9677198312633559,
          0.9800751842228804,
          1.0901319076859644,
          -1.081995774409719,
          -0.1983707845407121,
          0.3630010895250102,
          -0.5657049123972575,
          0.3503979459289591,
          1.005465375591448,
          -0.3704708729101634
         ]
        },
        {
         "connectgaps": false,
         "fill": "tozeroy",
         "line": {
          "color": "green",
          "dash": "solid",
          "shape": "linear",
          "width": 0.5
         },
         "mode": "lines",
         "name": "Spread",
         "showlegend": false,
         "type": "scatter",
         "x": [
          0,
          1,
          2,
          3,
          4,
          5,
          6,
          7,
          8,
          9,
          10,
          11,
          12,
          13,
          14,
          15,
          16,
          17,
          18,
          19,
          20,
          21,
          22,
          23,
          24,
          25,
          26,
          27,
          28,
          29,
          30,
          31,
          32,
          33,
          34,
          35,
          36,
          37,
          38,
          39,
          40,
          41,
          42,
          43,
          44,
          45,
          46,
          47,
          48,
          49,
          50,
          51,
          52,
          53,
          54,
          55,
          56,
          57,
          58,
          59,
          60,
          61,
          62,
          63,
          64,
          65,
          66,
          67,
          68,
          69,
          70,
          71,
          72,
          73,
          74,
          75,
          76,
          77,
          78,
          79,
          80,
          81,
          82,
          83,
          84,
          85,
          86,
          87,
          88,
          89,
          90,
          91,
          92,
          93,
          94,
          95,
          96,
          97,
          98,
          99
         ],
         "xaxis": "x2",
         "y": [
          "",
          0.8710789006646474,
          "",
          1.6506129067181665,
          "",
          0.759265171679405,
          "",
          "",
          2.1392203088815114,
          1.1716232660028187,
          "",
          "",
          "",
          2.0895850095040265,
          2.358627533920102,
          "",
          1.478691778054558,
          "",
          1.574251260287801,
          0.3991528605391048,
          "",
          "",
          2.9954680826497624,
          0.23598566003246252,
          0.35641264418701557,
          "",
          "",
          "",
          1.3215764851886231,
          "",
          "",
          "",
          1.4360980232104212,
          1.8593744000155148,
          2.2412644790816616,
          0.7060709607946638,
          "",
          0.4402611741158523,
          1.5400833754683665,
          1.7818515644172823,
          "",
          "",
          "",
          "",
          1.560914874603946,
          0.3864201589609373,
          "",
          "",
          1.7262163633419052,
          "",
          1.4361124611703986,
          1.2761806262657192,
          "",
          "",
          "",
          "",
          0.4897835628229903,
          0.1121948119721059,
          "",
          "",
          0.46314189734341715,
          2.33911989494521,
          1.8417797137346619,
          "",
          1.2500474276000122,
          0.8458551168426786,
          "",
          "",
          0.7961665627082608,
          "",
          2.637164398755212,
          "",
          "",
          0.8093671262110376,
          "",
          "",
          "",
          "",
          "",
          "",
          0.7262879170087495,
          1.243345958939098,
          0.46373414937231383,
          0.3214641698469645,
          "",
          "",
          2.7242458201167543,
          0.7214120164108284,
          1.3699980990414056,
          "",
          0.38493899425590694,
          0.07180637828926828,
          "",
          1.2358228949014987,
          0.38988010596126543,
          1.654819573414584,
          "",
          "",
          "",
          0.5446139940285967
         ],
         "yaxis": "y2"
        },
        {
         "connectgaps": false,
         "fill": "tozeroy",
         "line": {
          "color": "red",
          "dash": "solid",
          "shape": "linear",
          "width": 0.5
         },
         "mode": "lines",
         "name": "Spread",
         "showlegend": false,
         "type": "scatter",
         "x": [
          0,
          1,
          2,
          3,
          4,
          5,
          6,
          7,
          8,
          9,
          10,
          11,
          12,
          13,
          14,
          15,
          16,
          17,
          18,
          19,
          20,
          21,
          22,
          23,
          24,
          25,
          26,
          27,
          28,
          29,
          30,
          31,
          32,
          33,
          34,
          35,
          36,
          37,
          38,
          39,
          40,
          41,
          42,
          43,
          44,
          45,
          46,
          47,
          48,
          49,
          50,
          51,
          52,
          53,
          54,
          55,
          56,
          57,
          58,
          59,
          60,
          61,
          62,
          63,
          64,
          65,
          66,
          67,
          68,
          69,
          70,
          71,
          72,
          73,
          74,
          75,
          76,
          77,
          78,
          79,
          80,
          81,
          82,
          83,
          84,
          85,
          86,
          87,
          88,
          89,
          90,
          91,
          92,
          93,
          94,
          95,
          96,
          97,
          98,
          99
         ],
         "xaxis": "x2",
         "y": [
          -0.280658961127896,
          "",
          -0.7900304694183462,
          "",
          -1.5713777019636908,
          "",
          -1.417330964597806,
          -1.3228502608936086,
          "",
          "",
          -0.20903765392760387,
          -1.2935013234360886,
          -0.14305369855822656,
          "",
          "",
          -1.5940685015680223,
          "",
          -0.09654639774579565,
          "",
          "",
          -0.01753938013236131,
          -1.1634621215624275,
          "",
          "",
          "",
          -0.22364474304782267,
          -2.245171973705522,
          -0.4520162666569123,
          "",
          -2.0636113477561406,
          -0.8294574665245942,
          -1.6959888293585548,
          "",
          "",
          "",
          "",
          -2.0092341101602758,
          "",
          "",
          "",
          -0.15122109624174263,
          -1.1336722415464044,
          -1.253218466813644,
          -0.8449304410718369,
          "",
          "",
          -0.8535494113030904,
          -1.637381640416652,
          "",
          -1.8687338652460532,
          "",
          "",
          -1.041082514137375,
          -0.7525501751491657,
          -0.11395632254082098,
          -1.383849826248405,
          "",
          "",
          -0.1287284820424631,
          -0.39146994828775394,
          "",
          "",
          "",
          -1.5283227434304218,
          "",
          "",
          -2.7892947463589914,
          -1.4761268115634318,
          "",
          -0.8957443752654096,
          "",
          -3.1382066503468886,
          -4.060547101539375,
          "",
          -0.829166889139772,
          -3.6211624034184933,
          -1.8650915368617902,
          -1.1271946491073375,
          -0.6485946340058406,
          -0.7138855802261441,
          "",
          "",
          "",
          "",
          -0.2576627665803713,
          -1.6705144377620127,
          "",
          "",
          "",
          -2.9737566057933815,
          "",
          "",
          -0.8826732577135243,
          "",
          "",
          "",
          -0.12429969907154581,
          -1.3277115574651301,
          -1.6906340881306194,
          ""
         ],
         "yaxis": "y2"
        }
       ],
       "layout": {
        "hovermode": "x",
        "legend": {
         "bgcolor": "#F5F6F9",
         "font": {
          "color": "#4D5663"
         }
        },
        "paper_bgcolor": "#F5F6F9",
        "plot_bgcolor": "#F5F6F9",
        "template": {
         "data": {
          "bar": [
           {
            "error_x": {
             "color": "#2a3f5f"
            },
            "error_y": {
             "color": "#2a3f5f"
            },
            "marker": {
             "line": {
              "color": "#E5ECF6",
              "width": 0.5
             },
             "pattern": {
              "fillmode": "overlay",
              "size": 10,
              "solidity": 0.2
             }
            },
            "type": "bar"
           }
          ],
          "barpolar": [
           {
            "marker": {
             "line": {
              "color": "#E5ECF6",
              "width": 0.5
             },
             "pattern": {
              "fillmode": "overlay",
              "size": 10,
              "solidity": 0.2
             }
            },
            "type": "barpolar"
           }
          ],
          "carpet": [
           {
            "aaxis": {
             "endlinecolor": "#2a3f5f",
             "gridcolor": "white",
             "linecolor": "white",
             "minorgridcolor": "white",
             "startlinecolor": "#2a3f5f"
            },
            "baxis": {
             "endlinecolor": "#2a3f5f",
             "gridcolor": "white",
             "linecolor": "white",
             "minorgridcolor": "white",
             "startlinecolor": "#2a3f5f"
            },
            "type": "carpet"
           }
          ],
          "choropleth": [
           {
            "colorbar": {
             "outlinewidth": 0,
             "ticks": ""
            },
            "type": "choropleth"
           }
          ],
          "contour": [
           {
            "colorbar": {
             "outlinewidth": 0,
             "ticks": ""
            },
            "colorscale": [
             [
              0,
              "#0d0887"
             ],
             [
              0.1111111111111111,
              "#46039f"
             ],
             [
              0.2222222222222222,
              "#7201a8"
             ],
             [
              0.3333333333333333,
              "#9c179e"
             ],
             [
              0.4444444444444444,
              "#bd3786"
             ],
             [
              0.5555555555555556,
              "#d8576b"
             ],
             [
              0.6666666666666666,
              "#ed7953"
             ],
             [
              0.7777777777777778,
              "#fb9f3a"
             ],
             [
              0.8888888888888888,
              "#fdca26"
             ],
             [
              1,
              "#f0f921"
             ]
            ],
            "type": "contour"
           }
          ],
          "contourcarpet": [
           {
            "colorbar": {
             "outlinewidth": 0,
             "ticks": ""
            },
            "type": "contourcarpet"
           }
          ],
          "heatmap": [
           {
            "colorbar": {
             "outlinewidth": 0,
             "ticks": ""
            },
            "colorscale": [
             [
              0,
              "#0d0887"
             ],
             [
              0.1111111111111111,
              "#46039f"
             ],
             [
              0.2222222222222222,
              "#7201a8"
             ],
             [
              0.3333333333333333,
              "#9c179e"
             ],
             [
              0.4444444444444444,
              "#bd3786"
             ],
             [
              0.5555555555555556,
              "#d8576b"
             ],
             [
              0.6666666666666666,
              "#ed7953"
             ],
             [
              0.7777777777777778,
              "#fb9f3a"
             ],
             [
              0.8888888888888888,
              "#fdca26"
             ],
             [
              1,
              "#f0f921"
             ]
            ],
            "type": "heatmap"
           }
          ],
          "heatmapgl": [
           {
            "colorbar": {
             "outlinewidth": 0,
             "ticks": ""
            },
            "colorscale": [
             [
              0,
              "#0d0887"
             ],
             [
              0.1111111111111111,
              "#46039f"
             ],
             [
              0.2222222222222222,
              "#7201a8"
             ],
             [
              0.3333333333333333,
              "#9c179e"
             ],
             [
              0.4444444444444444,
              "#bd3786"
             ],
             [
              0.5555555555555556,
              "#d8576b"
             ],
             [
              0.6666666666666666,
              "#ed7953"
             ],
             [
              0.7777777777777778,
              "#fb9f3a"
             ],
             [
              0.8888888888888888,
              "#fdca26"
             ],
             [
              1,
              "#f0f921"
             ]
            ],
            "type": "heatmapgl"
           }
          ],
          "histogram": [
           {
            "marker": {
             "pattern": {
              "fillmode": "overlay",
              "size": 10,
              "solidity": 0.2
             }
            },
            "type": "histogram"
           }
          ],
          "histogram2d": [
           {
            "colorbar": {
             "outlinewidth": 0,
             "ticks": ""
            },
            "colorscale": [
             [
              0,
              "#0d0887"
             ],
             [
              0.1111111111111111,
              "#46039f"
             ],
             [
              0.2222222222222222,
              "#7201a8"
             ],
             [
              0.3333333333333333,
              "#9c179e"
             ],
             [
              0.4444444444444444,
              "#bd3786"
             ],
             [
              0.5555555555555556,
              "#d8576b"
             ],
             [
              0.6666666666666666,
              "#ed7953"
             ],
             [
              0.7777777777777778,
              "#fb9f3a"
             ],
             [
              0.8888888888888888,
              "#fdca26"
             ],
             [
              1,
              "#f0f921"
             ]
            ],
            "type": "histogram2d"
           }
          ],
          "histogram2dcontour": [
           {
            "colorbar": {
             "outlinewidth": 0,
             "ticks": ""
            },
            "colorscale": [
             [
              0,
              "#0d0887"
             ],
             [
              0.1111111111111111,
              "#46039f"
             ],
             [
              0.2222222222222222,
              "#7201a8"
             ],
             [
              0.3333333333333333,
              "#9c179e"
             ],
             [
              0.4444444444444444,
              "#bd3786"
             ],
             [
              0.5555555555555556,
              "#d8576b"
             ],
             [
              0.6666666666666666,
              "#ed7953"
             ],
             [
              0.7777777777777778,
              "#fb9f3a"
             ],
             [
              0.8888888888888888,
              "#fdca26"
             ],
             [
              1,
              "#f0f921"
             ]
            ],
            "type": "histogram2dcontour"
           }
          ],
          "mesh3d": [
           {
            "colorbar": {
             "outlinewidth": 0,
             "ticks": ""
            },
            "type": "mesh3d"
           }
          ],
          "parcoords": [
           {
            "line": {
             "colorbar": {
              "outlinewidth": 0,
              "ticks": ""
             }
            },
            "type": "parcoords"
           }
          ],
          "pie": [
           {
            "automargin": true,
            "type": "pie"
           }
          ],
          "scatter": [
           {
            "fillpattern": {
             "fillmode": "overlay",
             "size": 10,
             "solidity": 0.2
            },
            "type": "scatter"
           }
          ],
          "scatter3d": [
           {
            "line": {
             "colorbar": {
              "outlinewidth": 0,
              "ticks": ""
             }
            },
            "marker": {
             "colorbar": {
              "outlinewidth": 0,
              "ticks": ""
             }
            },
            "type": "scatter3d"
           }
          ],
          "scattercarpet": [
           {
            "marker": {
             "colorbar": {
              "outlinewidth": 0,
              "ticks": ""
             }
            },
            "type": "scattercarpet"
           }
          ],
          "scattergeo": [
           {
            "marker": {
             "colorbar": {
              "outlinewidth": 0,
              "ticks": ""
             }
            },
            "type": "scattergeo"
           }
          ],
          "scattergl": [
           {
            "marker": {
             "colorbar": {
              "outlinewidth": 0,
              "ticks": ""
             }
            },
            "type": "scattergl"
           }
          ],
          "scattermapbox": [
           {
            "marker": {
             "colorbar": {
              "outlinewidth": 0,
              "ticks": ""
             }
            },
            "type": "scattermapbox"
           }
          ],
          "scatterpolar": [
           {
            "marker": {
             "colorbar": {
              "outlinewidth": 0,
              "ticks": ""
             }
            },
            "type": "scatterpolar"
           }
          ],
          "scatterpolargl": [
           {
            "marker": {
             "colorbar": {
              "outlinewidth": 0,
              "ticks": ""
             }
            },
            "type": "scatterpolargl"
           }
          ],
          "scatterternary": [
           {
            "marker": {
             "colorbar": {
              "outlinewidth": 0,
              "ticks": ""
             }
            },
            "type": "scatterternary"
           }
          ],
          "surface": [
           {
            "colorbar": {
             "outlinewidth": 0,
             "ticks": ""
            },
            "colorscale": [
             [
              0,
              "#0d0887"
             ],
             [
              0.1111111111111111,
              "#46039f"
             ],
             [
              0.2222222222222222,
              "#7201a8"
             ],
             [
              0.3333333333333333,
              "#9c179e"
             ],
             [
              0.4444444444444444,
              "#bd3786"
             ],
             [
              0.5555555555555556,
              "#d8576b"
             ],
             [
              0.6666666666666666,
              "#ed7953"
             ],
             [
              0.7777777777777778,
              "#fb9f3a"
             ],
             [
              0.8888888888888888,
              "#fdca26"
             ],
             [
              1,
              "#f0f921"
             ]
            ],
            "type": "surface"
           }
          ],
          "table": [
           {
            "cells": {
             "fill": {
              "color": "#EBF0F8"
             },
             "line": {
              "color": "white"
             }
            },
            "header": {
             "fill": {
              "color": "#C8D4E3"
             },
             "line": {
              "color": "white"
             }
            },
            "type": "table"
           }
          ]
         },
         "layout": {
          "annotationdefaults": {
           "arrowcolor": "#2a3f5f",
           "arrowhead": 0,
           "arrowwidth": 1
          },
          "autotypenumbers": "strict",
          "coloraxis": {
           "colorbar": {
            "outlinewidth": 0,
            "ticks": ""
           }
          },
          "colorscale": {
           "diverging": [
            [
             0,
             "#8e0152"
            ],
            [
             0.1,
             "#c51b7d"
            ],
            [
             0.2,
             "#de77ae"
            ],
            [
             0.3,
             "#f1b6da"
            ],
            [
             0.4,
             "#fde0ef"
            ],
            [
             0.5,
             "#f7f7f7"
            ],
            [
             0.6,
             "#e6f5d0"
            ],
            [
             0.7,
             "#b8e186"
            ],
            [
             0.8,
             "#7fbc41"
            ],
            [
             0.9,
             "#4d9221"
            ],
            [
             1,
             "#276419"
            ]
           ],
           "sequential": [
            [
             0,
             "#0d0887"
            ],
            [
             0.1111111111111111,
             "#46039f"
            ],
            [
             0.2222222222222222,
             "#7201a8"
            ],
            [
             0.3333333333333333,
             "#9c179e"
            ],
            [
             0.4444444444444444,
             "#bd3786"
            ],
            [
             0.5555555555555556,
             "#d8576b"
            ],
            [
             0.6666666666666666,
             "#ed7953"
            ],
            [
             0.7777777777777778,
             "#fb9f3a"
            ],
            [
             0.8888888888888888,
             "#fdca26"
            ],
            [
             1,
             "#f0f921"
            ]
           ],
           "sequentialminus": [
            [
             0,
             "#0d0887"
            ],
            [
             0.1111111111111111,
             "#46039f"
            ],
            [
             0.2222222222222222,
             "#7201a8"
            ],
            [
             0.3333333333333333,
             "#9c179e"
            ],
            [
             0.4444444444444444,
             "#bd3786"
            ],
            [
             0.5555555555555556,
             "#d8576b"
            ],
            [
             0.6666666666666666,
             "#ed7953"
            ],
            [
             0.7777777777777778,
             "#fb9f3a"
            ],
            [
             0.8888888888888888,
             "#fdca26"
            ],
            [
             1,
             "#f0f921"
            ]
           ]
          },
          "colorway": [
           "#636efa",
           "#EF553B",
           "#00cc96",
           "#ab63fa",
           "#FFA15A",
           "#19d3f3",
           "#FF6692",
           "#B6E880",
           "#FF97FF",
           "#FECB52"
          ],
          "font": {
           "color": "#2a3f5f"
          },
          "geo": {
           "bgcolor": "white",
           "lakecolor": "white",
           "landcolor": "#E5ECF6",
           "showlakes": true,
           "showland": true,
           "subunitcolor": "white"
          },
          "hoverlabel": {
           "align": "left"
          },
          "hovermode": "closest",
          "mapbox": {
           "style": "light"
          },
          "paper_bgcolor": "white",
          "plot_bgcolor": "#E5ECF6",
          "polar": {
           "angularaxis": {
            "gridcolor": "white",
            "linecolor": "white",
            "ticks": ""
           },
           "bgcolor": "#E5ECF6",
           "radialaxis": {
            "gridcolor": "white",
            "linecolor": "white",
            "ticks": ""
           }
          },
          "scene": {
           "xaxis": {
            "backgroundcolor": "#E5ECF6",
            "gridcolor": "white",
            "gridwidth": 2,
            "linecolor": "white",
            "showbackground": true,
            "ticks": "",
            "zerolinecolor": "white"
           },
           "yaxis": {
            "backgroundcolor": "#E5ECF6",
            "gridcolor": "white",
            "gridwidth": 2,
            "linecolor": "white",
            "showbackground": true,
            "ticks": "",
            "zerolinecolor": "white"
           },
           "zaxis": {
            "backgroundcolor": "#E5ECF6",
            "gridcolor": "white",
            "gridwidth": 2,
            "linecolor": "white",
            "showbackground": true,
            "ticks": "",
            "zerolinecolor": "white"
           }
          },
          "shapedefaults": {
           "line": {
            "color": "#2a3f5f"
           }
          },
          "ternary": {
           "aaxis": {
            "gridcolor": "white",
            "linecolor": "white",
            "ticks": ""
           },
           "baxis": {
            "gridcolor": "white",
            "linecolor": "white",
            "ticks": ""
           },
           "bgcolor": "#E5ECF6",
           "caxis": {
            "gridcolor": "white",
            "linecolor": "white",
            "ticks": ""
           }
          },
          "title": {
           "x": 0.05
          },
          "xaxis": {
           "automargin": true,
           "gridcolor": "white",
           "linecolor": "white",
           "ticks": "",
           "title": {
            "standoff": 15
           },
           "zerolinecolor": "white",
           "zerolinewidth": 2
          },
          "yaxis": {
           "automargin": true,
           "gridcolor": "white",
           "linecolor": "white",
           "ticks": "",
           "title": {
            "standoff": 15
           },
           "zerolinecolor": "white",
           "zerolinewidth": 2
          }
         }
        },
        "title": {
         "font": {
          "color": "#4D5663"
         }
        },
        "xaxis": {
         "gridcolor": "#E1E5ED",
         "showgrid": true,
         "tickfont": {
          "color": "#4D5663"
         },
         "title": {
          "font": {
           "color": "#4D5663"
          },
          "text": ""
         },
         "zerolinecolor": "#E1E5ED"
        },
        "xaxis2": {
         "anchor": "y2",
         "gridcolor": "#E1E5ED",
         "showgrid": true,
         "showticklabels": false,
         "tickfont": {
          "color": "#4D5663"
         },
         "title": {
          "font": {
           "color": "#4D5663"
          },
          "text": ""
         },
         "zerolinecolor": "#E1E5ED"
        },
        "yaxis": {
         "domain": [
          0.3,
          1
         ],
         "gridcolor": "#E1E5ED",
         "showgrid": true,
         "tickfont": {
          "color": "#4D5663"
         },
         "title": {
          "font": {
           "color": "#4D5663"
          },
          "text": ""
         },
         "zerolinecolor": "#E1E5ED"
        },
        "yaxis2": {
         "domain": [
          0,
          0.25
         ],
         "gridcolor": "#E1E5ED",
         "showgrid": true,
         "tickfont": {
          "color": "#4D5663"
         },
         "title": {
          "font": {
           "color": "#4D5663"
          },
          "text": "Spread"
         },
         "zerolinecolor": "#E1E5ED"
        }
       }
      },
      "text/html": [
       "<div>                            <div id=\"2bceb935-e6e6-4869-accd-d82b119ae4ae\" class=\"plotly-graph-div\" style=\"height:525px; width:100%;\"></div>            <script type=\"text/javascript\">                require([\"plotly\"], function(Plotly) {                    window.PLOTLYENV=window.PLOTLYENV || {};\n",
       "                    window.PLOTLYENV.BASE_URL='https://plot.ly';                                    if (document.getElementById(\"2bceb935-e6e6-4869-accd-d82b119ae4ae\")) {                    Plotly.newPlot(                        \"2bceb935-e6e6-4869-accd-d82b119ae4ae\",                        [{\"line\":{\"color\":\"rgba(255, 153, 51, 1.0)\",\"dash\":\"solid\",\"shape\":\"linear\",\"width\":1.3},\"mode\":\"lines\",\"name\":\"A\",\"text\":\"\",\"x\":[0,1,2,3,4,5,6,7,8,9,10,11,12,13,14,15,16,17,18,19,20,21,22,23,24,25,26,27,28,29,30,31,32,33,34,35,36,37,38,39,40,41,42,43,44,45,46,47,48,49,50,51,52,53,54,55,56,57,58,59,60,61,62,63,64,65,66,67,68,69,70,71,72,73,74,75,76,77,78,79,80,81,82,83,84,85,86,87,88,89,90,91,92,93,94,95,96,97,98,99],\"y\":[1.0801251640557836,-0.09638858984862315,-0.4778206331382923,-0.2942173372442018,0.04212547757433794,-0.21241871665351275,0.6157702361721962,0.32992005709913946,0.6814184853186209,-0.401646842512738,-0.2851115081639871,-1.2114845027340753,0.06916614368341706,0.1591285599517671,0.05453521215892846,-0.6810073484713328,2.8589502284383155,-0.5012294716308849,1.6502615869672825,1.2967876390551507,-0.10757536720860636,-0.42252750196673766,1.1947484804295403,-0.395714437875417,0.21503690725318397,0.42319298537150496,-1.7070394815037455,0.2886632245298637,0.11713281991426203,-1.590841654060365,0.2983704610660227,-1.459872250265605,1.6761898403762872,0.5399305897011594,1.859397226985364,-0.09166231163698116,0.4606859669210411,0.33415746097397353,0.027914158981814274,0.5974492446391806,-0.16239253650338997,-1.6435607314478577,0.6442208478110065,-1.0148388047249859,0.9594519440364432,-0.44541819871248955,-0.886535797155018,-1.0310906701974405,1.5682064990356273,-0.18047306213555087,0.7648350111451226,0.45585198816044414,-0.7528956574004777,-0.22824277167503762,0.014635252813137507,-0.7893010839719782,0.6859059684265395,-0.8650133123530385,-0.15179595809982077,-0.15250415179727717,-0.0351690914259882,2.0661977474856523,1.074773180617247,-1.4386033815290893,1.306654243985068,-0.09771618187642477,-2.1219455194046253,-0.35806526592115173,-0.5794297205497703,0.6788180144526051,0.8037361115157824,-1.4809937681016654,-2.0178203799844856,0.3101821464478711,-0.1790669563794227,-1.5498694961858306,-0.5086716379020376,-0.6459186885571588,0.3295423928644564,-1.0961683497786938,-1.5805201999917888,0.3933799959004732,0.3219084816465848,0.2924579434889606,-0.10074763128293673,-0.03403519839224362,2.3332802461496995,2.0114018515991834,0.7620841513465821,-1.1857754510814738,-0.582780837007449,1.0518815625121487,0.20745864997243998,0.15382712049177955,0.19150932142055335,2.0178206629395943,-0.6900046114688033,-0.977313611536171,-0.6851687125391716,0.1741431211184333],\"type\":\"scatter\"},{\"line\":{\"color\":\"rgba(55, 128, 191, 1.0)\",\"dash\":\"solid\",\"shape\":\"linear\",\"width\":1.3},\"mode\":\"lines\",\"name\":\"B\",\"text\":\"\",\"x\":[0,1,2,3,4,5,6,7,8,9,10,11,12,13,14,15,16,17,18,19,20,21,22,23,24,25,26,27,28,29,30,31,32,33,34,35,36,37,38,39,40,41,42,43,44,45,46,47,48,49,50,51,52,53,54,55,56,57,58,59,60,61,62,63,64,65,66,67,68,69,70,71,72,73,74,75,76,77,78,79,80,81,82,83,84,85,86,87,88,89,90,91,92,93,94,95,96,97,98,99],\"y\":[1.3607841251836796,-0.9674674905132706,0.3122098362800539,-1.9448302439623684,1.6135031795380288,-0.9716838883329177,2.0331012007700022,1.652770317992748,-1.4578018235628902,-1.5732701085155567,-0.07607385423638324,0.08201682070201322,0.2122198422416436,-1.9304564495522596,-2.3040923217611735,0.9130611530966893,1.3802584503837574,-0.4046830738850893,0.07601032667948168,0.8976347785160459,-0.09003598707624505,0.7409346195956898,-1.8007196022202219,-0.6317000979078795,-0.1413757369338316,0.6468377284193276,0.5381324922017766,0.740679491186776,-1.204443665274361,0.47276969369577587,1.127827927590617,0.2361165790929499,0.24009181716586592,-1.3194438103143555,-0.38186725209629757,-0.7977332724316449,2.469920077081317,-0.10610371314187877,-1.5121692164865521,-1.1844023197781017,-0.011171440261647346,-0.5098884899014533,1.8974393146246504,-0.16990836365314899,-0.6014629305675028,-0.8318383576734268,-0.03298638585192762,0.6062909702192114,-0.15800986430627798,1.6882608031105024,-0.671277450025276,-0.820328638105275,0.2881868567368972,0.5243074034741281,0.1285915753539585,0.5945487422764267,0.19612240560354918,-0.9772081243251444,-0.023067476057357688,0.2389657964904768,-0.4983109887694054,-0.27292214745955795,-0.7670065331174148,0.08971936190133252,0.05660681638505576,-0.9435712987191033,0.667349226954366,1.1180615456422802,-1.375596283258031,1.5745623897180148,-1.8334282872394294,1.6572128822452232,2.042726721554889,-0.49918497976316645,0.6500999327603493,2.071292907232663,1.3564198989597525,0.4812759605501785,0.978137026870297,-0.38228276955254964,-2.3068081170005383,-0.8499659630386249,-0.14182566772572905,-0.029006226358003907,0.15691513529743456,1.6364792393697691,-0.39096557396705495,1.289989835188355,-0.6079139476948235,1.787981154711908,-0.9677198312633559,0.9800751842228804,1.0901319076859644,-1.081995774409719,-0.1983707845407121,0.3630010895250102,-0.5657049123972575,0.3503979459289591,1.005465375591448,-0.3704708729101634],\"type\":\"scatter\"},{\"connectgaps\":false,\"fill\":\"tozeroy\",\"line\":{\"color\":\"green\",\"dash\":\"solid\",\"shape\":\"linear\",\"width\":0.5},\"mode\":\"lines\",\"name\":\"Spread\",\"showlegend\":false,\"x\":[0,1,2,3,4,5,6,7,8,9,10,11,12,13,14,15,16,17,18,19,20,21,22,23,24,25,26,27,28,29,30,31,32,33,34,35,36,37,38,39,40,41,42,43,44,45,46,47,48,49,50,51,52,53,54,55,56,57,58,59,60,61,62,63,64,65,66,67,68,69,70,71,72,73,74,75,76,77,78,79,80,81,82,83,84,85,86,87,88,89,90,91,92,93,94,95,96,97,98,99],\"xaxis\":\"x2\",\"y\":[\"\",0.8710789006646474,\"\",1.6506129067181665,\"\",0.759265171679405,\"\",\"\",2.1392203088815114,1.1716232660028187,\"\",\"\",\"\",2.0895850095040265,2.358627533920102,\"\",1.478691778054558,\"\",1.574251260287801,0.3991528605391048,\"\",\"\",2.9954680826497624,0.23598566003246252,0.35641264418701557,\"\",\"\",\"\",1.3215764851886231,\"\",\"\",\"\",1.4360980232104212,1.8593744000155148,2.2412644790816616,0.7060709607946638,\"\",0.4402611741158523,1.5400833754683665,1.7818515644172823,\"\",\"\",\"\",\"\",1.560914874603946,0.3864201589609373,\"\",\"\",1.7262163633419052,\"\",1.4361124611703986,1.2761806262657192,\"\",\"\",\"\",\"\",0.4897835628229903,0.1121948119721059,\"\",\"\",0.46314189734341715,2.33911989494521,1.8417797137346619,\"\",1.2500474276000122,0.8458551168426786,\"\",\"\",0.7961665627082608,\"\",2.637164398755212,\"\",\"\",0.8093671262110376,\"\",\"\",\"\",\"\",\"\",\"\",0.7262879170087495,1.243345958939098,0.46373414937231383,0.3214641698469645,\"\",\"\",2.7242458201167543,0.7214120164108284,1.3699980990414056,\"\",0.38493899425590694,0.07180637828926828,\"\",1.2358228949014987,0.38988010596126543,1.654819573414584,\"\",\"\",\"\",0.5446139940285967],\"yaxis\":\"y2\",\"type\":\"scatter\"},{\"connectgaps\":false,\"fill\":\"tozeroy\",\"line\":{\"color\":\"red\",\"dash\":\"solid\",\"shape\":\"linear\",\"width\":0.5},\"mode\":\"lines\",\"name\":\"Spread\",\"showlegend\":false,\"x\":[0,1,2,3,4,5,6,7,8,9,10,11,12,13,14,15,16,17,18,19,20,21,22,23,24,25,26,27,28,29,30,31,32,33,34,35,36,37,38,39,40,41,42,43,44,45,46,47,48,49,50,51,52,53,54,55,56,57,58,59,60,61,62,63,64,65,66,67,68,69,70,71,72,73,74,75,76,77,78,79,80,81,82,83,84,85,86,87,88,89,90,91,92,93,94,95,96,97,98,99],\"xaxis\":\"x2\",\"y\":[-0.280658961127896,\"\",-0.7900304694183462,\"\",-1.5713777019636908,\"\",-1.417330964597806,-1.3228502608936086,\"\",\"\",-0.20903765392760387,-1.2935013234360886,-0.14305369855822656,\"\",\"\",-1.5940685015680223,\"\",-0.09654639774579565,\"\",\"\",-0.01753938013236131,-1.1634621215624275,\"\",\"\",\"\",-0.22364474304782267,-2.245171973705522,-0.4520162666569123,\"\",-2.0636113477561406,-0.8294574665245942,-1.6959888293585548,\"\",\"\",\"\",\"\",-2.0092341101602758,\"\",\"\",\"\",-0.15122109624174263,-1.1336722415464044,-1.253218466813644,-0.8449304410718369,\"\",\"\",-0.8535494113030904,-1.637381640416652,\"\",-1.8687338652460532,\"\",\"\",-1.041082514137375,-0.7525501751491657,-0.11395632254082098,-1.383849826248405,\"\",\"\",-0.1287284820424631,-0.39146994828775394,\"\",\"\",\"\",-1.5283227434304218,\"\",\"\",-2.7892947463589914,-1.4761268115634318,\"\",-0.8957443752654096,\"\",-3.1382066503468886,-4.060547101539375,\"\",-0.829166889139772,-3.6211624034184933,-1.8650915368617902,-1.1271946491073375,-0.6485946340058406,-0.7138855802261441,\"\",\"\",\"\",\"\",-0.2576627665803713,-1.6705144377620127,\"\",\"\",\"\",-2.9737566057933815,\"\",\"\",-0.8826732577135243,\"\",\"\",\"\",-0.12429969907154581,-1.3277115574651301,-1.6906340881306194,\"\"],\"yaxis\":\"y2\",\"type\":\"scatter\"}],                        {\"hovermode\":\"x\",\"legend\":{\"bgcolor\":\"#F5F6F9\",\"font\":{\"color\":\"#4D5663\"}},\"paper_bgcolor\":\"#F5F6F9\",\"plot_bgcolor\":\"#F5F6F9\",\"template\":{\"data\":{\"barpolar\":[{\"marker\":{\"line\":{\"color\":\"#E5ECF6\",\"width\":0.5},\"pattern\":{\"fillmode\":\"overlay\",\"size\":10,\"solidity\":0.2}},\"type\":\"barpolar\"}],\"bar\":[{\"error_x\":{\"color\":\"#2a3f5f\"},\"error_y\":{\"color\":\"#2a3f5f\"},\"marker\":{\"line\":{\"color\":\"#E5ECF6\",\"width\":0.5},\"pattern\":{\"fillmode\":\"overlay\",\"size\":10,\"solidity\":0.2}},\"type\":\"bar\"}],\"carpet\":[{\"aaxis\":{\"endlinecolor\":\"#2a3f5f\",\"gridcolor\":\"white\",\"linecolor\":\"white\",\"minorgridcolor\":\"white\",\"startlinecolor\":\"#2a3f5f\"},\"baxis\":{\"endlinecolor\":\"#2a3f5f\",\"gridcolor\":\"white\",\"linecolor\":\"white\",\"minorgridcolor\":\"white\",\"startlinecolor\":\"#2a3f5f\"},\"type\":\"carpet\"}],\"choropleth\":[{\"colorbar\":{\"outlinewidth\":0,\"ticks\":\"\"},\"type\":\"choropleth\"}],\"contourcarpet\":[{\"colorbar\":{\"outlinewidth\":0,\"ticks\":\"\"},\"type\":\"contourcarpet\"}],\"contour\":[{\"colorbar\":{\"outlinewidth\":0,\"ticks\":\"\"},\"colorscale\":[[0.0,\"#0d0887\"],[0.1111111111111111,\"#46039f\"],[0.2222222222222222,\"#7201a8\"],[0.3333333333333333,\"#9c179e\"],[0.4444444444444444,\"#bd3786\"],[0.5555555555555556,\"#d8576b\"],[0.6666666666666666,\"#ed7953\"],[0.7777777777777778,\"#fb9f3a\"],[0.8888888888888888,\"#fdca26\"],[1.0,\"#f0f921\"]],\"type\":\"contour\"}],\"heatmapgl\":[{\"colorbar\":{\"outlinewidth\":0,\"ticks\":\"\"},\"colorscale\":[[0.0,\"#0d0887\"],[0.1111111111111111,\"#46039f\"],[0.2222222222222222,\"#7201a8\"],[0.3333333333333333,\"#9c179e\"],[0.4444444444444444,\"#bd3786\"],[0.5555555555555556,\"#d8576b\"],[0.6666666666666666,\"#ed7953\"],[0.7777777777777778,\"#fb9f3a\"],[0.8888888888888888,\"#fdca26\"],[1.0,\"#f0f921\"]],\"type\":\"heatmapgl\"}],\"heatmap\":[{\"colorbar\":{\"outlinewidth\":0,\"ticks\":\"\"},\"colorscale\":[[0.0,\"#0d0887\"],[0.1111111111111111,\"#46039f\"],[0.2222222222222222,\"#7201a8\"],[0.3333333333333333,\"#9c179e\"],[0.4444444444444444,\"#bd3786\"],[0.5555555555555556,\"#d8576b\"],[0.6666666666666666,\"#ed7953\"],[0.7777777777777778,\"#fb9f3a\"],[0.8888888888888888,\"#fdca26\"],[1.0,\"#f0f921\"]],\"type\":\"heatmap\"}],\"histogram2dcontour\":[{\"colorbar\":{\"outlinewidth\":0,\"ticks\":\"\"},\"colorscale\":[[0.0,\"#0d0887\"],[0.1111111111111111,\"#46039f\"],[0.2222222222222222,\"#7201a8\"],[0.3333333333333333,\"#9c179e\"],[0.4444444444444444,\"#bd3786\"],[0.5555555555555556,\"#d8576b\"],[0.6666666666666666,\"#ed7953\"],[0.7777777777777778,\"#fb9f3a\"],[0.8888888888888888,\"#fdca26\"],[1.0,\"#f0f921\"]],\"type\":\"histogram2dcontour\"}],\"histogram2d\":[{\"colorbar\":{\"outlinewidth\":0,\"ticks\":\"\"},\"colorscale\":[[0.0,\"#0d0887\"],[0.1111111111111111,\"#46039f\"],[0.2222222222222222,\"#7201a8\"],[0.3333333333333333,\"#9c179e\"],[0.4444444444444444,\"#bd3786\"],[0.5555555555555556,\"#d8576b\"],[0.6666666666666666,\"#ed7953\"],[0.7777777777777778,\"#fb9f3a\"],[0.8888888888888888,\"#fdca26\"],[1.0,\"#f0f921\"]],\"type\":\"histogram2d\"}],\"histogram\":[{\"marker\":{\"pattern\":{\"fillmode\":\"overlay\",\"size\":10,\"solidity\":0.2}},\"type\":\"histogram\"}],\"mesh3d\":[{\"colorbar\":{\"outlinewidth\":0,\"ticks\":\"\"},\"type\":\"mesh3d\"}],\"parcoords\":[{\"line\":{\"colorbar\":{\"outlinewidth\":0,\"ticks\":\"\"}},\"type\":\"parcoords\"}],\"pie\":[{\"automargin\":true,\"type\":\"pie\"}],\"scatter3d\":[{\"line\":{\"colorbar\":{\"outlinewidth\":0,\"ticks\":\"\"}},\"marker\":{\"colorbar\":{\"outlinewidth\":0,\"ticks\":\"\"}},\"type\":\"scatter3d\"}],\"scattercarpet\":[{\"marker\":{\"colorbar\":{\"outlinewidth\":0,\"ticks\":\"\"}},\"type\":\"scattercarpet\"}],\"scattergeo\":[{\"marker\":{\"colorbar\":{\"outlinewidth\":0,\"ticks\":\"\"}},\"type\":\"scattergeo\"}],\"scattergl\":[{\"marker\":{\"colorbar\":{\"outlinewidth\":0,\"ticks\":\"\"}},\"type\":\"scattergl\"}],\"scattermapbox\":[{\"marker\":{\"colorbar\":{\"outlinewidth\":0,\"ticks\":\"\"}},\"type\":\"scattermapbox\"}],\"scatterpolargl\":[{\"marker\":{\"colorbar\":{\"outlinewidth\":0,\"ticks\":\"\"}},\"type\":\"scatterpolargl\"}],\"scatterpolar\":[{\"marker\":{\"colorbar\":{\"outlinewidth\":0,\"ticks\":\"\"}},\"type\":\"scatterpolar\"}],\"scatter\":[{\"fillpattern\":{\"fillmode\":\"overlay\",\"size\":10,\"solidity\":0.2},\"type\":\"scatter\"}],\"scatterternary\":[{\"marker\":{\"colorbar\":{\"outlinewidth\":0,\"ticks\":\"\"}},\"type\":\"scatterternary\"}],\"surface\":[{\"colorbar\":{\"outlinewidth\":0,\"ticks\":\"\"},\"colorscale\":[[0.0,\"#0d0887\"],[0.1111111111111111,\"#46039f\"],[0.2222222222222222,\"#7201a8\"],[0.3333333333333333,\"#9c179e\"],[0.4444444444444444,\"#bd3786\"],[0.5555555555555556,\"#d8576b\"],[0.6666666666666666,\"#ed7953\"],[0.7777777777777778,\"#fb9f3a\"],[0.8888888888888888,\"#fdca26\"],[1.0,\"#f0f921\"]],\"type\":\"surface\"}],\"table\":[{\"cells\":{\"fill\":{\"color\":\"#EBF0F8\"},\"line\":{\"color\":\"white\"}},\"header\":{\"fill\":{\"color\":\"#C8D4E3\"},\"line\":{\"color\":\"white\"}},\"type\":\"table\"}]},\"layout\":{\"annotationdefaults\":{\"arrowcolor\":\"#2a3f5f\",\"arrowhead\":0,\"arrowwidth\":1},\"autotypenumbers\":\"strict\",\"coloraxis\":{\"colorbar\":{\"outlinewidth\":0,\"ticks\":\"\"}},\"colorscale\":{\"diverging\":[[0,\"#8e0152\"],[0.1,\"#c51b7d\"],[0.2,\"#de77ae\"],[0.3,\"#f1b6da\"],[0.4,\"#fde0ef\"],[0.5,\"#f7f7f7\"],[0.6,\"#e6f5d0\"],[0.7,\"#b8e186\"],[0.8,\"#7fbc41\"],[0.9,\"#4d9221\"],[1,\"#276419\"]],\"sequential\":[[0.0,\"#0d0887\"],[0.1111111111111111,\"#46039f\"],[0.2222222222222222,\"#7201a8\"],[0.3333333333333333,\"#9c179e\"],[0.4444444444444444,\"#bd3786\"],[0.5555555555555556,\"#d8576b\"],[0.6666666666666666,\"#ed7953\"],[0.7777777777777778,\"#fb9f3a\"],[0.8888888888888888,\"#fdca26\"],[1.0,\"#f0f921\"]],\"sequentialminus\":[[0.0,\"#0d0887\"],[0.1111111111111111,\"#46039f\"],[0.2222222222222222,\"#7201a8\"],[0.3333333333333333,\"#9c179e\"],[0.4444444444444444,\"#bd3786\"],[0.5555555555555556,\"#d8576b\"],[0.6666666666666666,\"#ed7953\"],[0.7777777777777778,\"#fb9f3a\"],[0.8888888888888888,\"#fdca26\"],[1.0,\"#f0f921\"]]},\"colorway\":[\"#636efa\",\"#EF553B\",\"#00cc96\",\"#ab63fa\",\"#FFA15A\",\"#19d3f3\",\"#FF6692\",\"#B6E880\",\"#FF97FF\",\"#FECB52\"],\"font\":{\"color\":\"#2a3f5f\"},\"geo\":{\"bgcolor\":\"white\",\"lakecolor\":\"white\",\"landcolor\":\"#E5ECF6\",\"showlakes\":true,\"showland\":true,\"subunitcolor\":\"white\"},\"hoverlabel\":{\"align\":\"left\"},\"hovermode\":\"closest\",\"mapbox\":{\"style\":\"light\"},\"paper_bgcolor\":\"white\",\"plot_bgcolor\":\"#E5ECF6\",\"polar\":{\"angularaxis\":{\"gridcolor\":\"white\",\"linecolor\":\"white\",\"ticks\":\"\"},\"bgcolor\":\"#E5ECF6\",\"radialaxis\":{\"gridcolor\":\"white\",\"linecolor\":\"white\",\"ticks\":\"\"}},\"scene\":{\"xaxis\":{\"backgroundcolor\":\"#E5ECF6\",\"gridcolor\":\"white\",\"gridwidth\":2,\"linecolor\":\"white\",\"showbackground\":true,\"ticks\":\"\",\"zerolinecolor\":\"white\"},\"yaxis\":{\"backgroundcolor\":\"#E5ECF6\",\"gridcolor\":\"white\",\"gridwidth\":2,\"linecolor\":\"white\",\"showbackground\":true,\"ticks\":\"\",\"zerolinecolor\":\"white\"},\"zaxis\":{\"backgroundcolor\":\"#E5ECF6\",\"gridcolor\":\"white\",\"gridwidth\":2,\"linecolor\":\"white\",\"showbackground\":true,\"ticks\":\"\",\"zerolinecolor\":\"white\"}},\"shapedefaults\":{\"line\":{\"color\":\"#2a3f5f\"}},\"ternary\":{\"aaxis\":{\"gridcolor\":\"white\",\"linecolor\":\"white\",\"ticks\":\"\"},\"baxis\":{\"gridcolor\":\"white\",\"linecolor\":\"white\",\"ticks\":\"\"},\"bgcolor\":\"#E5ECF6\",\"caxis\":{\"gridcolor\":\"white\",\"linecolor\":\"white\",\"ticks\":\"\"}},\"title\":{\"x\":0.05},\"xaxis\":{\"automargin\":true,\"gridcolor\":\"white\",\"linecolor\":\"white\",\"ticks\":\"\",\"title\":{\"standoff\":15},\"zerolinecolor\":\"white\",\"zerolinewidth\":2},\"yaxis\":{\"automargin\":true,\"gridcolor\":\"white\",\"linecolor\":\"white\",\"ticks\":\"\",\"title\":{\"standoff\":15},\"zerolinecolor\":\"white\",\"zerolinewidth\":2}}},\"title\":{\"font\":{\"color\":\"#4D5663\"}},\"xaxis\":{\"gridcolor\":\"#E1E5ED\",\"showgrid\":true,\"tickfont\":{\"color\":\"#4D5663\"},\"title\":{\"font\":{\"color\":\"#4D5663\"},\"text\":\"\"},\"zerolinecolor\":\"#E1E5ED\"},\"yaxis\":{\"domain\":[0.3,1],\"gridcolor\":\"#E1E5ED\",\"showgrid\":true,\"tickfont\":{\"color\":\"#4D5663\"},\"title\":{\"font\":{\"color\":\"#4D5663\"},\"text\":\"\"},\"zerolinecolor\":\"#E1E5ED\"},\"yaxis2\":{\"domain\":[0,0.25],\"gridcolor\":\"#E1E5ED\",\"showgrid\":true,\"tickfont\":{\"color\":\"#4D5663\"},\"title\":{\"font\":{\"color\":\"#4D5663\"},\"text\":\"Spread\"},\"zerolinecolor\":\"#E1E5ED\"},\"xaxis2\":{\"anchor\":\"y2\",\"gridcolor\":\"#E1E5ED\",\"showgrid\":true,\"showticklabels\":false,\"tickfont\":{\"color\":\"#4D5663\"},\"title\":{\"font\":{\"color\":\"#4D5663\"},\"text\":\"\"},\"zerolinecolor\":\"#E1E5ED\"}},                        {\"showLink\": true, \"linkText\": \"Export to plot.ly\", \"plotlyServerURL\": \"https://plot.ly\", \"responsive\": true}                    ).then(function(){\n",
       "                            \n",
       "var gd = document.getElementById('2bceb935-e6e6-4869-accd-d82b119ae4ae');\n",
       "var x = new MutationObserver(function (mutations, observer) {{\n",
       "        var display = window.getComputedStyle(gd).display;\n",
       "        if (!display || display === 'none') {{\n",
       "            console.log([gd, 'removed!']);\n",
       "            Plotly.purge(gd);\n",
       "            observer.disconnect();\n",
       "        }}\n",
       "}});\n",
       "\n",
       "// Listen for the removal of the full notebook cells\n",
       "var notebookContainer = gd.closest('#notebook-container');\n",
       "if (notebookContainer) {{\n",
       "    x.observe(notebookContainer, {childList: true});\n",
       "}}\n",
       "\n",
       "// Listen for the clearing of the current output cell\n",
       "var outputEl = gd.closest('.output');\n",
       "if (outputEl) {{\n",
       "    x.observe(outputEl, {childList: true});\n",
       "}}\n",
       "\n",
       "                        })                };                });            </script>        </div>"
      ]
     },
     "metadata": {},
     "output_type": "display_data"
    }
   ],
   "source": [
    "df[['A','B']].iplot(kind='spread')"
   ]
  },
  {
   "cell_type": "markdown",
   "metadata": {},
   "source": [
    "## histogram"
   ]
  },
  {
   "cell_type": "code",
   "execution_count": 47,
   "metadata": {},
   "outputs": [
    {
     "data": {
      "application/vnd.plotly.v1+json": {
       "config": {
        "linkText": "Export to plot.ly",
        "plotlyServerURL": "https://plot.ly",
        "showLink": true
       },
       "data": [
        {
         "histfunc": "count",
         "histnorm": "",
         "marker": {
          "color": "rgba(255, 153, 51, 1.0)",
          "line": {
           "color": "#4D5663",
           "width": 1.3
          }
         },
         "name": "A",
         "nbinsx": 25,
         "opacity": 0.8,
         "orientation": "v",
         "type": "histogram",
         "x": [
          1.0801251640557836,
          -0.09638858984862315,
          -0.4778206331382923,
          -0.2942173372442018,
          0.04212547757433794,
          -0.21241871665351275,
          0.6157702361721962,
          0.32992005709913946,
          0.6814184853186209,
          -0.401646842512738,
          -0.2851115081639871,
          -1.2114845027340753,
          0.06916614368341706,
          0.1591285599517671,
          0.05453521215892846,
          -0.6810073484713328,
          2.8589502284383155,
          -0.5012294716308849,
          1.6502615869672825,
          1.2967876390551507,
          -0.10757536720860636,
          -0.42252750196673766,
          1.1947484804295403,
          -0.395714437875417,
          0.21503690725318397,
          0.42319298537150496,
          -1.7070394815037455,
          0.2886632245298637,
          0.11713281991426203,
          -1.590841654060365,
          0.2983704610660227,
          -1.459872250265605,
          1.6761898403762872,
          0.5399305897011594,
          1.859397226985364,
          -0.09166231163698116,
          0.4606859669210411,
          0.33415746097397353,
          0.027914158981814274,
          0.5974492446391806,
          -0.16239253650338997,
          -1.6435607314478577,
          0.6442208478110065,
          -1.0148388047249859,
          0.9594519440364432,
          -0.44541819871248955,
          -0.886535797155018,
          -1.0310906701974405,
          1.5682064990356273,
          -0.18047306213555087,
          0.7648350111451226,
          0.45585198816044414,
          -0.7528956574004777,
          -0.22824277167503762,
          0.014635252813137507,
          -0.7893010839719782,
          0.6859059684265395,
          -0.8650133123530385,
          -0.15179595809982077,
          -0.15250415179727717,
          -0.0351690914259882,
          2.0661977474856523,
          1.074773180617247,
          -1.4386033815290893,
          1.306654243985068,
          -0.09771618187642477,
          -2.1219455194046253,
          -0.35806526592115173,
          -0.5794297205497703,
          0.6788180144526051,
          0.8037361115157824,
          -1.4809937681016654,
          -2.0178203799844856,
          0.3101821464478711,
          -0.1790669563794227,
          -1.5498694961858306,
          -0.5086716379020376,
          -0.6459186885571588,
          0.3295423928644564,
          -1.0961683497786938,
          -1.5805201999917888,
          0.3933799959004732,
          0.3219084816465848,
          0.2924579434889606,
          -0.10074763128293673,
          -0.03403519839224362,
          2.3332802461496995,
          2.0114018515991834,
          0.7620841513465821,
          -1.1857754510814738,
          -0.582780837007449,
          1.0518815625121487,
          0.20745864997243998,
          0.15382712049177955,
          0.19150932142055335,
          2.0178206629395943,
          -0.6900046114688033,
          -0.977313611536171,
          -0.6851687125391716,
          0.1741431211184333
         ]
        }
       ],
       "layout": {
        "barmode": "overlay",
        "legend": {
         "bgcolor": "#F5F6F9",
         "font": {
          "color": "#4D5663"
         }
        },
        "paper_bgcolor": "#F5F6F9",
        "plot_bgcolor": "#F5F6F9",
        "template": {
         "data": {
          "bar": [
           {
            "error_x": {
             "color": "#2a3f5f"
            },
            "error_y": {
             "color": "#2a3f5f"
            },
            "marker": {
             "line": {
              "color": "#E5ECF6",
              "width": 0.5
             },
             "pattern": {
              "fillmode": "overlay",
              "size": 10,
              "solidity": 0.2
             }
            },
            "type": "bar"
           }
          ],
          "barpolar": [
           {
            "marker": {
             "line": {
              "color": "#E5ECF6",
              "width": 0.5
             },
             "pattern": {
              "fillmode": "overlay",
              "size": 10,
              "solidity": 0.2
             }
            },
            "type": "barpolar"
           }
          ],
          "carpet": [
           {
            "aaxis": {
             "endlinecolor": "#2a3f5f",
             "gridcolor": "white",
             "linecolor": "white",
             "minorgridcolor": "white",
             "startlinecolor": "#2a3f5f"
            },
            "baxis": {
             "endlinecolor": "#2a3f5f",
             "gridcolor": "white",
             "linecolor": "white",
             "minorgridcolor": "white",
             "startlinecolor": "#2a3f5f"
            },
            "type": "carpet"
           }
          ],
          "choropleth": [
           {
            "colorbar": {
             "outlinewidth": 0,
             "ticks": ""
            },
            "type": "choropleth"
           }
          ],
          "contour": [
           {
            "colorbar": {
             "outlinewidth": 0,
             "ticks": ""
            },
            "colorscale": [
             [
              0,
              "#0d0887"
             ],
             [
              0.1111111111111111,
              "#46039f"
             ],
             [
              0.2222222222222222,
              "#7201a8"
             ],
             [
              0.3333333333333333,
              "#9c179e"
             ],
             [
              0.4444444444444444,
              "#bd3786"
             ],
             [
              0.5555555555555556,
              "#d8576b"
             ],
             [
              0.6666666666666666,
              "#ed7953"
             ],
             [
              0.7777777777777778,
              "#fb9f3a"
             ],
             [
              0.8888888888888888,
              "#fdca26"
             ],
             [
              1,
              "#f0f921"
             ]
            ],
            "type": "contour"
           }
          ],
          "contourcarpet": [
           {
            "colorbar": {
             "outlinewidth": 0,
             "ticks": ""
            },
            "type": "contourcarpet"
           }
          ],
          "heatmap": [
           {
            "colorbar": {
             "outlinewidth": 0,
             "ticks": ""
            },
            "colorscale": [
             [
              0,
              "#0d0887"
             ],
             [
              0.1111111111111111,
              "#46039f"
             ],
             [
              0.2222222222222222,
              "#7201a8"
             ],
             [
              0.3333333333333333,
              "#9c179e"
             ],
             [
              0.4444444444444444,
              "#bd3786"
             ],
             [
              0.5555555555555556,
              "#d8576b"
             ],
             [
              0.6666666666666666,
              "#ed7953"
             ],
             [
              0.7777777777777778,
              "#fb9f3a"
             ],
             [
              0.8888888888888888,
              "#fdca26"
             ],
             [
              1,
              "#f0f921"
             ]
            ],
            "type": "heatmap"
           }
          ],
          "heatmapgl": [
           {
            "colorbar": {
             "outlinewidth": 0,
             "ticks": ""
            },
            "colorscale": [
             [
              0,
              "#0d0887"
             ],
             [
              0.1111111111111111,
              "#46039f"
             ],
             [
              0.2222222222222222,
              "#7201a8"
             ],
             [
              0.3333333333333333,
              "#9c179e"
             ],
             [
              0.4444444444444444,
              "#bd3786"
             ],
             [
              0.5555555555555556,
              "#d8576b"
             ],
             [
              0.6666666666666666,
              "#ed7953"
             ],
             [
              0.7777777777777778,
              "#fb9f3a"
             ],
             [
              0.8888888888888888,
              "#fdca26"
             ],
             [
              1,
              "#f0f921"
             ]
            ],
            "type": "heatmapgl"
           }
          ],
          "histogram": [
           {
            "marker": {
             "pattern": {
              "fillmode": "overlay",
              "size": 10,
              "solidity": 0.2
             }
            },
            "type": "histogram"
           }
          ],
          "histogram2d": [
           {
            "colorbar": {
             "outlinewidth": 0,
             "ticks": ""
            },
            "colorscale": [
             [
              0,
              "#0d0887"
             ],
             [
              0.1111111111111111,
              "#46039f"
             ],
             [
              0.2222222222222222,
              "#7201a8"
             ],
             [
              0.3333333333333333,
              "#9c179e"
             ],
             [
              0.4444444444444444,
              "#bd3786"
             ],
             [
              0.5555555555555556,
              "#d8576b"
             ],
             [
              0.6666666666666666,
              "#ed7953"
             ],
             [
              0.7777777777777778,
              "#fb9f3a"
             ],
             [
              0.8888888888888888,
              "#fdca26"
             ],
             [
              1,
              "#f0f921"
             ]
            ],
            "type": "histogram2d"
           }
          ],
          "histogram2dcontour": [
           {
            "colorbar": {
             "outlinewidth": 0,
             "ticks": ""
            },
            "colorscale": [
             [
              0,
              "#0d0887"
             ],
             [
              0.1111111111111111,
              "#46039f"
             ],
             [
              0.2222222222222222,
              "#7201a8"
             ],
             [
              0.3333333333333333,
              "#9c179e"
             ],
             [
              0.4444444444444444,
              "#bd3786"
             ],
             [
              0.5555555555555556,
              "#d8576b"
             ],
             [
              0.6666666666666666,
              "#ed7953"
             ],
             [
              0.7777777777777778,
              "#fb9f3a"
             ],
             [
              0.8888888888888888,
              "#fdca26"
             ],
             [
              1,
              "#f0f921"
             ]
            ],
            "type": "histogram2dcontour"
           }
          ],
          "mesh3d": [
           {
            "colorbar": {
             "outlinewidth": 0,
             "ticks": ""
            },
            "type": "mesh3d"
           }
          ],
          "parcoords": [
           {
            "line": {
             "colorbar": {
              "outlinewidth": 0,
              "ticks": ""
             }
            },
            "type": "parcoords"
           }
          ],
          "pie": [
           {
            "automargin": true,
            "type": "pie"
           }
          ],
          "scatter": [
           {
            "fillpattern": {
             "fillmode": "overlay",
             "size": 10,
             "solidity": 0.2
            },
            "type": "scatter"
           }
          ],
          "scatter3d": [
           {
            "line": {
             "colorbar": {
              "outlinewidth": 0,
              "ticks": ""
             }
            },
            "marker": {
             "colorbar": {
              "outlinewidth": 0,
              "ticks": ""
             }
            },
            "type": "scatter3d"
           }
          ],
          "scattercarpet": [
           {
            "marker": {
             "colorbar": {
              "outlinewidth": 0,
              "ticks": ""
             }
            },
            "type": "scattercarpet"
           }
          ],
          "scattergeo": [
           {
            "marker": {
             "colorbar": {
              "outlinewidth": 0,
              "ticks": ""
             }
            },
            "type": "scattergeo"
           }
          ],
          "scattergl": [
           {
            "marker": {
             "colorbar": {
              "outlinewidth": 0,
              "ticks": ""
             }
            },
            "type": "scattergl"
           }
          ],
          "scattermapbox": [
           {
            "marker": {
             "colorbar": {
              "outlinewidth": 0,
              "ticks": ""
             }
            },
            "type": "scattermapbox"
           }
          ],
          "scatterpolar": [
           {
            "marker": {
             "colorbar": {
              "outlinewidth": 0,
              "ticks": ""
             }
            },
            "type": "scatterpolar"
           }
          ],
          "scatterpolargl": [
           {
            "marker": {
             "colorbar": {
              "outlinewidth": 0,
              "ticks": ""
             }
            },
            "type": "scatterpolargl"
           }
          ],
          "scatterternary": [
           {
            "marker": {
             "colorbar": {
              "outlinewidth": 0,
              "ticks": ""
             }
            },
            "type": "scatterternary"
           }
          ],
          "surface": [
           {
            "colorbar": {
             "outlinewidth": 0,
             "ticks": ""
            },
            "colorscale": [
             [
              0,
              "#0d0887"
             ],
             [
              0.1111111111111111,
              "#46039f"
             ],
             [
              0.2222222222222222,
              "#7201a8"
             ],
             [
              0.3333333333333333,
              "#9c179e"
             ],
             [
              0.4444444444444444,
              "#bd3786"
             ],
             [
              0.5555555555555556,
              "#d8576b"
             ],
             [
              0.6666666666666666,
              "#ed7953"
             ],
             [
              0.7777777777777778,
              "#fb9f3a"
             ],
             [
              0.8888888888888888,
              "#fdca26"
             ],
             [
              1,
              "#f0f921"
             ]
            ],
            "type": "surface"
           }
          ],
          "table": [
           {
            "cells": {
             "fill": {
              "color": "#EBF0F8"
             },
             "line": {
              "color": "white"
             }
            },
            "header": {
             "fill": {
              "color": "#C8D4E3"
             },
             "line": {
              "color": "white"
             }
            },
            "type": "table"
           }
          ]
         },
         "layout": {
          "annotationdefaults": {
           "arrowcolor": "#2a3f5f",
           "arrowhead": 0,
           "arrowwidth": 1
          },
          "autotypenumbers": "strict",
          "coloraxis": {
           "colorbar": {
            "outlinewidth": 0,
            "ticks": ""
           }
          },
          "colorscale": {
           "diverging": [
            [
             0,
             "#8e0152"
            ],
            [
             0.1,
             "#c51b7d"
            ],
            [
             0.2,
             "#de77ae"
            ],
            [
             0.3,
             "#f1b6da"
            ],
            [
             0.4,
             "#fde0ef"
            ],
            [
             0.5,
             "#f7f7f7"
            ],
            [
             0.6,
             "#e6f5d0"
            ],
            [
             0.7,
             "#b8e186"
            ],
            [
             0.8,
             "#7fbc41"
            ],
            [
             0.9,
             "#4d9221"
            ],
            [
             1,
             "#276419"
            ]
           ],
           "sequential": [
            [
             0,
             "#0d0887"
            ],
            [
             0.1111111111111111,
             "#46039f"
            ],
            [
             0.2222222222222222,
             "#7201a8"
            ],
            [
             0.3333333333333333,
             "#9c179e"
            ],
            [
             0.4444444444444444,
             "#bd3786"
            ],
            [
             0.5555555555555556,
             "#d8576b"
            ],
            [
             0.6666666666666666,
             "#ed7953"
            ],
            [
             0.7777777777777778,
             "#fb9f3a"
            ],
            [
             0.8888888888888888,
             "#fdca26"
            ],
            [
             1,
             "#f0f921"
            ]
           ],
           "sequentialminus": [
            [
             0,
             "#0d0887"
            ],
            [
             0.1111111111111111,
             "#46039f"
            ],
            [
             0.2222222222222222,
             "#7201a8"
            ],
            [
             0.3333333333333333,
             "#9c179e"
            ],
            [
             0.4444444444444444,
             "#bd3786"
            ],
            [
             0.5555555555555556,
             "#d8576b"
            ],
            [
             0.6666666666666666,
             "#ed7953"
            ],
            [
             0.7777777777777778,
             "#fb9f3a"
            ],
            [
             0.8888888888888888,
             "#fdca26"
            ],
            [
             1,
             "#f0f921"
            ]
           ]
          },
          "colorway": [
           "#636efa",
           "#EF553B",
           "#00cc96",
           "#ab63fa",
           "#FFA15A",
           "#19d3f3",
           "#FF6692",
           "#B6E880",
           "#FF97FF",
           "#FECB52"
          ],
          "font": {
           "color": "#2a3f5f"
          },
          "geo": {
           "bgcolor": "white",
           "lakecolor": "white",
           "landcolor": "#E5ECF6",
           "showlakes": true,
           "showland": true,
           "subunitcolor": "white"
          },
          "hoverlabel": {
           "align": "left"
          },
          "hovermode": "closest",
          "mapbox": {
           "style": "light"
          },
          "paper_bgcolor": "white",
          "plot_bgcolor": "#E5ECF6",
          "polar": {
           "angularaxis": {
            "gridcolor": "white",
            "linecolor": "white",
            "ticks": ""
           },
           "bgcolor": "#E5ECF6",
           "radialaxis": {
            "gridcolor": "white",
            "linecolor": "white",
            "ticks": ""
           }
          },
          "scene": {
           "xaxis": {
            "backgroundcolor": "#E5ECF6",
            "gridcolor": "white",
            "gridwidth": 2,
            "linecolor": "white",
            "showbackground": true,
            "ticks": "",
            "zerolinecolor": "white"
           },
           "yaxis": {
            "backgroundcolor": "#E5ECF6",
            "gridcolor": "white",
            "gridwidth": 2,
            "linecolor": "white",
            "showbackground": true,
            "ticks": "",
            "zerolinecolor": "white"
           },
           "zaxis": {
            "backgroundcolor": "#E5ECF6",
            "gridcolor": "white",
            "gridwidth": 2,
            "linecolor": "white",
            "showbackground": true,
            "ticks": "",
            "zerolinecolor": "white"
           }
          },
          "shapedefaults": {
           "line": {
            "color": "#2a3f5f"
           }
          },
          "ternary": {
           "aaxis": {
            "gridcolor": "white",
            "linecolor": "white",
            "ticks": ""
           },
           "baxis": {
            "gridcolor": "white",
            "linecolor": "white",
            "ticks": ""
           },
           "bgcolor": "#E5ECF6",
           "caxis": {
            "gridcolor": "white",
            "linecolor": "white",
            "ticks": ""
           }
          },
          "title": {
           "x": 0.05
          },
          "xaxis": {
           "automargin": true,
           "gridcolor": "white",
           "linecolor": "white",
           "ticks": "",
           "title": {
            "standoff": 15
           },
           "zerolinecolor": "white",
           "zerolinewidth": 2
          },
          "yaxis": {
           "automargin": true,
           "gridcolor": "white",
           "linecolor": "white",
           "ticks": "",
           "title": {
            "standoff": 15
           },
           "zerolinecolor": "white",
           "zerolinewidth": 2
          }
         }
        },
        "title": {
         "font": {
          "color": "#4D5663"
         }
        },
        "xaxis": {
         "gridcolor": "#E1E5ED",
         "showgrid": true,
         "tickfont": {
          "color": "#4D5663"
         },
         "title": {
          "font": {
           "color": "#4D5663"
          },
          "text": ""
         },
         "zerolinecolor": "#E1E5ED"
        },
        "yaxis": {
         "gridcolor": "#E1E5ED",
         "showgrid": true,
         "tickfont": {
          "color": "#4D5663"
         },
         "title": {
          "font": {
           "color": "#4D5663"
          },
          "text": ""
         },
         "zerolinecolor": "#E1E5ED"
        }
       }
      },
      "text/html": [
       "<div>                            <div id=\"a5fafc27-0f76-468b-b49b-b0232c6e2798\" class=\"plotly-graph-div\" style=\"height:525px; width:100%;\"></div>            <script type=\"text/javascript\">                require([\"plotly\"], function(Plotly) {                    window.PLOTLYENV=window.PLOTLYENV || {};\n",
       "                    window.PLOTLYENV.BASE_URL='https://plot.ly';                                    if (document.getElementById(\"a5fafc27-0f76-468b-b49b-b0232c6e2798\")) {                    Plotly.newPlot(                        \"a5fafc27-0f76-468b-b49b-b0232c6e2798\",                        [{\"histfunc\":\"count\",\"histnorm\":\"\",\"marker\":{\"color\":\"rgba(255, 153, 51, 1.0)\",\"line\":{\"color\":\"#4D5663\",\"width\":1.3}},\"name\":\"A\",\"nbinsx\":25,\"opacity\":0.8,\"orientation\":\"v\",\"x\":[1.0801251640557836,-0.09638858984862315,-0.4778206331382923,-0.2942173372442018,0.04212547757433794,-0.21241871665351275,0.6157702361721962,0.32992005709913946,0.6814184853186209,-0.401646842512738,-0.2851115081639871,-1.2114845027340753,0.06916614368341706,0.1591285599517671,0.05453521215892846,-0.6810073484713328,2.8589502284383155,-0.5012294716308849,1.6502615869672825,1.2967876390551507,-0.10757536720860636,-0.42252750196673766,1.1947484804295403,-0.395714437875417,0.21503690725318397,0.42319298537150496,-1.7070394815037455,0.2886632245298637,0.11713281991426203,-1.590841654060365,0.2983704610660227,-1.459872250265605,1.6761898403762872,0.5399305897011594,1.859397226985364,-0.09166231163698116,0.4606859669210411,0.33415746097397353,0.027914158981814274,0.5974492446391806,-0.16239253650338997,-1.6435607314478577,0.6442208478110065,-1.0148388047249859,0.9594519440364432,-0.44541819871248955,-0.886535797155018,-1.0310906701974405,1.5682064990356273,-0.18047306213555087,0.7648350111451226,0.45585198816044414,-0.7528956574004777,-0.22824277167503762,0.014635252813137507,-0.7893010839719782,0.6859059684265395,-0.8650133123530385,-0.15179595809982077,-0.15250415179727717,-0.0351690914259882,2.0661977474856523,1.074773180617247,-1.4386033815290893,1.306654243985068,-0.09771618187642477,-2.1219455194046253,-0.35806526592115173,-0.5794297205497703,0.6788180144526051,0.8037361115157824,-1.4809937681016654,-2.0178203799844856,0.3101821464478711,-0.1790669563794227,-1.5498694961858306,-0.5086716379020376,-0.6459186885571588,0.3295423928644564,-1.0961683497786938,-1.5805201999917888,0.3933799959004732,0.3219084816465848,0.2924579434889606,-0.10074763128293673,-0.03403519839224362,2.3332802461496995,2.0114018515991834,0.7620841513465821,-1.1857754510814738,-0.582780837007449,1.0518815625121487,0.20745864997243998,0.15382712049177955,0.19150932142055335,2.0178206629395943,-0.6900046114688033,-0.977313611536171,-0.6851687125391716,0.1741431211184333],\"type\":\"histogram\"}],                        {\"barmode\":\"overlay\",\"legend\":{\"bgcolor\":\"#F5F6F9\",\"font\":{\"color\":\"#4D5663\"}},\"paper_bgcolor\":\"#F5F6F9\",\"plot_bgcolor\":\"#F5F6F9\",\"template\":{\"data\":{\"barpolar\":[{\"marker\":{\"line\":{\"color\":\"#E5ECF6\",\"width\":0.5},\"pattern\":{\"fillmode\":\"overlay\",\"size\":10,\"solidity\":0.2}},\"type\":\"barpolar\"}],\"bar\":[{\"error_x\":{\"color\":\"#2a3f5f\"},\"error_y\":{\"color\":\"#2a3f5f\"},\"marker\":{\"line\":{\"color\":\"#E5ECF6\",\"width\":0.5},\"pattern\":{\"fillmode\":\"overlay\",\"size\":10,\"solidity\":0.2}},\"type\":\"bar\"}],\"carpet\":[{\"aaxis\":{\"endlinecolor\":\"#2a3f5f\",\"gridcolor\":\"white\",\"linecolor\":\"white\",\"minorgridcolor\":\"white\",\"startlinecolor\":\"#2a3f5f\"},\"baxis\":{\"endlinecolor\":\"#2a3f5f\",\"gridcolor\":\"white\",\"linecolor\":\"white\",\"minorgridcolor\":\"white\",\"startlinecolor\":\"#2a3f5f\"},\"type\":\"carpet\"}],\"choropleth\":[{\"colorbar\":{\"outlinewidth\":0,\"ticks\":\"\"},\"type\":\"choropleth\"}],\"contourcarpet\":[{\"colorbar\":{\"outlinewidth\":0,\"ticks\":\"\"},\"type\":\"contourcarpet\"}],\"contour\":[{\"colorbar\":{\"outlinewidth\":0,\"ticks\":\"\"},\"colorscale\":[[0.0,\"#0d0887\"],[0.1111111111111111,\"#46039f\"],[0.2222222222222222,\"#7201a8\"],[0.3333333333333333,\"#9c179e\"],[0.4444444444444444,\"#bd3786\"],[0.5555555555555556,\"#d8576b\"],[0.6666666666666666,\"#ed7953\"],[0.7777777777777778,\"#fb9f3a\"],[0.8888888888888888,\"#fdca26\"],[1.0,\"#f0f921\"]],\"type\":\"contour\"}],\"heatmapgl\":[{\"colorbar\":{\"outlinewidth\":0,\"ticks\":\"\"},\"colorscale\":[[0.0,\"#0d0887\"],[0.1111111111111111,\"#46039f\"],[0.2222222222222222,\"#7201a8\"],[0.3333333333333333,\"#9c179e\"],[0.4444444444444444,\"#bd3786\"],[0.5555555555555556,\"#d8576b\"],[0.6666666666666666,\"#ed7953\"],[0.7777777777777778,\"#fb9f3a\"],[0.8888888888888888,\"#fdca26\"],[1.0,\"#f0f921\"]],\"type\":\"heatmapgl\"}],\"heatmap\":[{\"colorbar\":{\"outlinewidth\":0,\"ticks\":\"\"},\"colorscale\":[[0.0,\"#0d0887\"],[0.1111111111111111,\"#46039f\"],[0.2222222222222222,\"#7201a8\"],[0.3333333333333333,\"#9c179e\"],[0.4444444444444444,\"#bd3786\"],[0.5555555555555556,\"#d8576b\"],[0.6666666666666666,\"#ed7953\"],[0.7777777777777778,\"#fb9f3a\"],[0.8888888888888888,\"#fdca26\"],[1.0,\"#f0f921\"]],\"type\":\"heatmap\"}],\"histogram2dcontour\":[{\"colorbar\":{\"outlinewidth\":0,\"ticks\":\"\"},\"colorscale\":[[0.0,\"#0d0887\"],[0.1111111111111111,\"#46039f\"],[0.2222222222222222,\"#7201a8\"],[0.3333333333333333,\"#9c179e\"],[0.4444444444444444,\"#bd3786\"],[0.5555555555555556,\"#d8576b\"],[0.6666666666666666,\"#ed7953\"],[0.7777777777777778,\"#fb9f3a\"],[0.8888888888888888,\"#fdca26\"],[1.0,\"#f0f921\"]],\"type\":\"histogram2dcontour\"}],\"histogram2d\":[{\"colorbar\":{\"outlinewidth\":0,\"ticks\":\"\"},\"colorscale\":[[0.0,\"#0d0887\"],[0.1111111111111111,\"#46039f\"],[0.2222222222222222,\"#7201a8\"],[0.3333333333333333,\"#9c179e\"],[0.4444444444444444,\"#bd3786\"],[0.5555555555555556,\"#d8576b\"],[0.6666666666666666,\"#ed7953\"],[0.7777777777777778,\"#fb9f3a\"],[0.8888888888888888,\"#fdca26\"],[1.0,\"#f0f921\"]],\"type\":\"histogram2d\"}],\"histogram\":[{\"marker\":{\"pattern\":{\"fillmode\":\"overlay\",\"size\":10,\"solidity\":0.2}},\"type\":\"histogram\"}],\"mesh3d\":[{\"colorbar\":{\"outlinewidth\":0,\"ticks\":\"\"},\"type\":\"mesh3d\"}],\"parcoords\":[{\"line\":{\"colorbar\":{\"outlinewidth\":0,\"ticks\":\"\"}},\"type\":\"parcoords\"}],\"pie\":[{\"automargin\":true,\"type\":\"pie\"}],\"scatter3d\":[{\"line\":{\"colorbar\":{\"outlinewidth\":0,\"ticks\":\"\"}},\"marker\":{\"colorbar\":{\"outlinewidth\":0,\"ticks\":\"\"}},\"type\":\"scatter3d\"}],\"scattercarpet\":[{\"marker\":{\"colorbar\":{\"outlinewidth\":0,\"ticks\":\"\"}},\"type\":\"scattercarpet\"}],\"scattergeo\":[{\"marker\":{\"colorbar\":{\"outlinewidth\":0,\"ticks\":\"\"}},\"type\":\"scattergeo\"}],\"scattergl\":[{\"marker\":{\"colorbar\":{\"outlinewidth\":0,\"ticks\":\"\"}},\"type\":\"scattergl\"}],\"scattermapbox\":[{\"marker\":{\"colorbar\":{\"outlinewidth\":0,\"ticks\":\"\"}},\"type\":\"scattermapbox\"}],\"scatterpolargl\":[{\"marker\":{\"colorbar\":{\"outlinewidth\":0,\"ticks\":\"\"}},\"type\":\"scatterpolargl\"}],\"scatterpolar\":[{\"marker\":{\"colorbar\":{\"outlinewidth\":0,\"ticks\":\"\"}},\"type\":\"scatterpolar\"}],\"scatter\":[{\"fillpattern\":{\"fillmode\":\"overlay\",\"size\":10,\"solidity\":0.2},\"type\":\"scatter\"}],\"scatterternary\":[{\"marker\":{\"colorbar\":{\"outlinewidth\":0,\"ticks\":\"\"}},\"type\":\"scatterternary\"}],\"surface\":[{\"colorbar\":{\"outlinewidth\":0,\"ticks\":\"\"},\"colorscale\":[[0.0,\"#0d0887\"],[0.1111111111111111,\"#46039f\"],[0.2222222222222222,\"#7201a8\"],[0.3333333333333333,\"#9c179e\"],[0.4444444444444444,\"#bd3786\"],[0.5555555555555556,\"#d8576b\"],[0.6666666666666666,\"#ed7953\"],[0.7777777777777778,\"#fb9f3a\"],[0.8888888888888888,\"#fdca26\"],[1.0,\"#f0f921\"]],\"type\":\"surface\"}],\"table\":[{\"cells\":{\"fill\":{\"color\":\"#EBF0F8\"},\"line\":{\"color\":\"white\"}},\"header\":{\"fill\":{\"color\":\"#C8D4E3\"},\"line\":{\"color\":\"white\"}},\"type\":\"table\"}]},\"layout\":{\"annotationdefaults\":{\"arrowcolor\":\"#2a3f5f\",\"arrowhead\":0,\"arrowwidth\":1},\"autotypenumbers\":\"strict\",\"coloraxis\":{\"colorbar\":{\"outlinewidth\":0,\"ticks\":\"\"}},\"colorscale\":{\"diverging\":[[0,\"#8e0152\"],[0.1,\"#c51b7d\"],[0.2,\"#de77ae\"],[0.3,\"#f1b6da\"],[0.4,\"#fde0ef\"],[0.5,\"#f7f7f7\"],[0.6,\"#e6f5d0\"],[0.7,\"#b8e186\"],[0.8,\"#7fbc41\"],[0.9,\"#4d9221\"],[1,\"#276419\"]],\"sequential\":[[0.0,\"#0d0887\"],[0.1111111111111111,\"#46039f\"],[0.2222222222222222,\"#7201a8\"],[0.3333333333333333,\"#9c179e\"],[0.4444444444444444,\"#bd3786\"],[0.5555555555555556,\"#d8576b\"],[0.6666666666666666,\"#ed7953\"],[0.7777777777777778,\"#fb9f3a\"],[0.8888888888888888,\"#fdca26\"],[1.0,\"#f0f921\"]],\"sequentialminus\":[[0.0,\"#0d0887\"],[0.1111111111111111,\"#46039f\"],[0.2222222222222222,\"#7201a8\"],[0.3333333333333333,\"#9c179e\"],[0.4444444444444444,\"#bd3786\"],[0.5555555555555556,\"#d8576b\"],[0.6666666666666666,\"#ed7953\"],[0.7777777777777778,\"#fb9f3a\"],[0.8888888888888888,\"#fdca26\"],[1.0,\"#f0f921\"]]},\"colorway\":[\"#636efa\",\"#EF553B\",\"#00cc96\",\"#ab63fa\",\"#FFA15A\",\"#19d3f3\",\"#FF6692\",\"#B6E880\",\"#FF97FF\",\"#FECB52\"],\"font\":{\"color\":\"#2a3f5f\"},\"geo\":{\"bgcolor\":\"white\",\"lakecolor\":\"white\",\"landcolor\":\"#E5ECF6\",\"showlakes\":true,\"showland\":true,\"subunitcolor\":\"white\"},\"hoverlabel\":{\"align\":\"left\"},\"hovermode\":\"closest\",\"mapbox\":{\"style\":\"light\"},\"paper_bgcolor\":\"white\",\"plot_bgcolor\":\"#E5ECF6\",\"polar\":{\"angularaxis\":{\"gridcolor\":\"white\",\"linecolor\":\"white\",\"ticks\":\"\"},\"bgcolor\":\"#E5ECF6\",\"radialaxis\":{\"gridcolor\":\"white\",\"linecolor\":\"white\",\"ticks\":\"\"}},\"scene\":{\"xaxis\":{\"backgroundcolor\":\"#E5ECF6\",\"gridcolor\":\"white\",\"gridwidth\":2,\"linecolor\":\"white\",\"showbackground\":true,\"ticks\":\"\",\"zerolinecolor\":\"white\"},\"yaxis\":{\"backgroundcolor\":\"#E5ECF6\",\"gridcolor\":\"white\",\"gridwidth\":2,\"linecolor\":\"white\",\"showbackground\":true,\"ticks\":\"\",\"zerolinecolor\":\"white\"},\"zaxis\":{\"backgroundcolor\":\"#E5ECF6\",\"gridcolor\":\"white\",\"gridwidth\":2,\"linecolor\":\"white\",\"showbackground\":true,\"ticks\":\"\",\"zerolinecolor\":\"white\"}},\"shapedefaults\":{\"line\":{\"color\":\"#2a3f5f\"}},\"ternary\":{\"aaxis\":{\"gridcolor\":\"white\",\"linecolor\":\"white\",\"ticks\":\"\"},\"baxis\":{\"gridcolor\":\"white\",\"linecolor\":\"white\",\"ticks\":\"\"},\"bgcolor\":\"#E5ECF6\",\"caxis\":{\"gridcolor\":\"white\",\"linecolor\":\"white\",\"ticks\":\"\"}},\"title\":{\"x\":0.05},\"xaxis\":{\"automargin\":true,\"gridcolor\":\"white\",\"linecolor\":\"white\",\"ticks\":\"\",\"title\":{\"standoff\":15},\"zerolinecolor\":\"white\",\"zerolinewidth\":2},\"yaxis\":{\"automargin\":true,\"gridcolor\":\"white\",\"linecolor\":\"white\",\"ticks\":\"\",\"title\":{\"standoff\":15},\"zerolinecolor\":\"white\",\"zerolinewidth\":2}}},\"title\":{\"font\":{\"color\":\"#4D5663\"}},\"xaxis\":{\"gridcolor\":\"#E1E5ED\",\"showgrid\":true,\"tickfont\":{\"color\":\"#4D5663\"},\"title\":{\"font\":{\"color\":\"#4D5663\"},\"text\":\"\"},\"zerolinecolor\":\"#E1E5ED\"},\"yaxis\":{\"gridcolor\":\"#E1E5ED\",\"showgrid\":true,\"tickfont\":{\"color\":\"#4D5663\"},\"title\":{\"font\":{\"color\":\"#4D5663\"},\"text\":\"\"},\"zerolinecolor\":\"#E1E5ED\"}},                        {\"showLink\": true, \"linkText\": \"Export to plot.ly\", \"plotlyServerURL\": \"https://plot.ly\", \"responsive\": true}                    ).then(function(){\n",
       "                            \n",
       "var gd = document.getElementById('a5fafc27-0f76-468b-b49b-b0232c6e2798');\n",
       "var x = new MutationObserver(function (mutations, observer) {{\n",
       "        var display = window.getComputedStyle(gd).display;\n",
       "        if (!display || display === 'none') {{\n",
       "            console.log([gd, 'removed!']);\n",
       "            Plotly.purge(gd);\n",
       "            observer.disconnect();\n",
       "        }}\n",
       "}});\n",
       "\n",
       "// Listen for the removal of the full notebook cells\n",
       "var notebookContainer = gd.closest('#notebook-container');\n",
       "if (notebookContainer) {{\n",
       "    x.observe(notebookContainer, {childList: true});\n",
       "}}\n",
       "\n",
       "// Listen for the clearing of the current output cell\n",
       "var outputEl = gd.closest('.output');\n",
       "if (outputEl) {{\n",
       "    x.observe(outputEl, {childList: true});\n",
       "}}\n",
       "\n",
       "                        })                };                });            </script>        </div>"
      ]
     },
     "metadata": {},
     "output_type": "display_data"
    }
   ],
   "source": [
    "df['A'].iplot(kind='hist',bins=25)"
   ]
  },
  {
   "cell_type": "code",
   "execution_count": 48,
   "metadata": {},
   "outputs": [
    {
     "data": {
      "application/vnd.plotly.v1+json": {
       "config": {
        "linkText": "Export to plot.ly",
        "plotlyServerURL": "https://plot.ly",
        "showLink": true
       },
       "data": [
        {
         "marker": {
          "color": [
           "rgb(255, 153, 51)",
           "rgb(55, 128, 191)",
           "rgb(50, 171, 96)",
           "rgb(128, 0, 128)",
           "rgb(219, 64, 82)",
           "rgb(0, 128, 128)",
           "rgb(255, 255, 51)",
           "rgb(128, 128, 0)",
           "rgb(251, 128, 114)",
           "rgb(128, 177, 211)"
          ],
          "line": {
           "width": 1.3
          },
          "size": [
           73,
           112,
           80,
           83,
           27,
           35,
           23,
           42,
           59,
           84,
           42,
           52,
           57,
           57,
           45,
           92,
           68,
           66,
           59,
           75,
           60,
           25,
           94,
           53,
           75,
           51,
           42,
           73,
           100,
           52,
           48,
           94,
           75,
           46,
           74,
           52,
           51,
           20,
           77,
           12,
           78,
           76,
           95,
           55,
           61,
           21,
           80,
           53,
           44,
           58,
           56,
           66,
           42,
           95,
           41,
           18,
           38,
           69,
           49,
           19,
           43,
           63,
           94,
           76,
           64,
           56,
           49,
           36,
           73,
           66,
           49,
           41,
           51,
           51,
           15,
           77,
           20,
           21,
           45,
           43,
           55,
           67,
           103,
           45,
           73,
           35,
           50,
           51,
           62,
           63,
           34,
           68,
           80,
           88,
           31,
           32,
           25,
           35,
           58,
           56
          ],
          "symbol": "circle"
         },
         "mode": "markers",
         "text": "",
         "type": "scatter",
         "x": [
          1.0801251640557836,
          -0.09638858984862315,
          -0.4778206331382923,
          -0.2942173372442018,
          0.04212547757433794,
          -0.21241871665351275,
          0.6157702361721962,
          0.32992005709913946,
          0.6814184853186209,
          -0.401646842512738,
          -0.2851115081639871,
          -1.2114845027340753,
          0.06916614368341706,
          0.1591285599517671,
          0.05453521215892846,
          -0.6810073484713328,
          2.8589502284383155,
          -0.5012294716308849,
          1.6502615869672825,
          1.2967876390551507,
          -0.10757536720860636,
          -0.42252750196673766,
          1.1947484804295403,
          -0.395714437875417,
          0.21503690725318397,
          0.42319298537150496,
          -1.7070394815037455,
          0.2886632245298637,
          0.11713281991426203,
          -1.590841654060365,
          0.2983704610660227,
          -1.459872250265605,
          1.6761898403762872,
          0.5399305897011594,
          1.859397226985364,
          -0.09166231163698116,
          0.4606859669210411,
          0.33415746097397353,
          0.027914158981814274,
          0.5974492446391806,
          -0.16239253650338997,
          -1.6435607314478577,
          0.6442208478110065,
          -1.0148388047249859,
          0.9594519440364432,
          -0.44541819871248955,
          -0.886535797155018,
          -1.0310906701974405,
          1.5682064990356273,
          -0.18047306213555087,
          0.7648350111451226,
          0.45585198816044414,
          -0.7528956574004777,
          -0.22824277167503762,
          0.014635252813137507,
          -0.7893010839719782,
          0.6859059684265395,
          -0.8650133123530385,
          -0.15179595809982077,
          -0.15250415179727717,
          -0.0351690914259882,
          2.0661977474856523,
          1.074773180617247,
          -1.4386033815290893,
          1.306654243985068,
          -0.09771618187642477,
          -2.1219455194046253,
          -0.35806526592115173,
          -0.5794297205497703,
          0.6788180144526051,
          0.8037361115157824,
          -1.4809937681016654,
          -2.0178203799844856,
          0.3101821464478711,
          -0.1790669563794227,
          -1.5498694961858306,
          -0.5086716379020376,
          -0.6459186885571588,
          0.3295423928644564,
          -1.0961683497786938,
          -1.5805201999917888,
          0.3933799959004732,
          0.3219084816465848,
          0.2924579434889606,
          -0.10074763128293673,
          -0.03403519839224362,
          2.3332802461496995,
          2.0114018515991834,
          0.7620841513465821,
          -1.1857754510814738,
          -0.582780837007449,
          1.0518815625121487,
          0.20745864997243998,
          0.15382712049177955,
          0.19150932142055335,
          2.0178206629395943,
          -0.6900046114688033,
          -0.977313611536171,
          -0.6851687125391716,
          0.1741431211184333
         ],
         "y": [
          1.3607841251836796,
          -0.9674674905132706,
          0.3122098362800539,
          -1.9448302439623684,
          1.6135031795380288,
          -0.9716838883329177,
          2.0331012007700022,
          1.652770317992748,
          -1.4578018235628902,
          -1.5732701085155567,
          -0.07607385423638324,
          0.08201682070201322,
          0.2122198422416436,
          -1.9304564495522596,
          -2.3040923217611735,
          0.9130611530966893,
          1.3802584503837574,
          -0.4046830738850893,
          0.07601032667948168,
          0.8976347785160459,
          -0.09003598707624505,
          0.7409346195956898,
          -1.8007196022202219,
          -0.6317000979078795,
          -0.1413757369338316,
          0.6468377284193276,
          0.5381324922017766,
          0.740679491186776,
          -1.204443665274361,
          0.47276969369577587,
          1.127827927590617,
          0.2361165790929499,
          0.24009181716586592,
          -1.3194438103143555,
          -0.38186725209629757,
          -0.7977332724316449,
          2.469920077081317,
          -0.10610371314187877,
          -1.5121692164865521,
          -1.1844023197781017,
          -0.011171440261647346,
          -0.5098884899014533,
          1.8974393146246504,
          -0.16990836365314899,
          -0.6014629305675028,
          -0.8318383576734268,
          -0.03298638585192762,
          0.6062909702192114,
          -0.15800986430627798,
          1.6882608031105024,
          -0.671277450025276,
          -0.820328638105275,
          0.2881868567368972,
          0.5243074034741281,
          0.1285915753539585,
          0.5945487422764267,
          0.19612240560354918,
          -0.9772081243251444,
          -0.023067476057357688,
          0.2389657964904768,
          -0.4983109887694054,
          -0.27292214745955795,
          -0.7670065331174148,
          0.08971936190133252,
          0.05660681638505576,
          -0.9435712987191033,
          0.667349226954366,
          1.1180615456422802,
          -1.375596283258031,
          1.5745623897180148,
          -1.8334282872394294,
          1.6572128822452232,
          2.042726721554889,
          -0.49918497976316645,
          0.6500999327603493,
          2.071292907232663,
          1.3564198989597525,
          0.4812759605501785,
          0.978137026870297,
          -0.38228276955254964,
          -2.3068081170005383,
          -0.8499659630386249,
          -0.14182566772572905,
          -0.029006226358003907,
          0.15691513529743456,
          1.6364792393697691,
          -0.39096557396705495,
          1.289989835188355,
          -0.6079139476948235,
          1.787981154711908,
          -0.9677198312633559,
          0.9800751842228804,
          1.0901319076859644,
          -1.081995774409719,
          -0.1983707845407121,
          0.3630010895250102,
          -0.5657049123972575,
          0.3503979459289591,
          1.005465375591448,
          -0.3704708729101634
         ]
        }
       ],
       "layout": {
        "legend": {
         "bgcolor": "#F5F6F9",
         "font": {
          "color": "#4D5663"
         }
        },
        "paper_bgcolor": "#F5F6F9",
        "plot_bgcolor": "#F5F6F9",
        "template": {
         "data": {
          "bar": [
           {
            "error_x": {
             "color": "#2a3f5f"
            },
            "error_y": {
             "color": "#2a3f5f"
            },
            "marker": {
             "line": {
              "color": "#E5ECF6",
              "width": 0.5
             },
             "pattern": {
              "fillmode": "overlay",
              "size": 10,
              "solidity": 0.2
             }
            },
            "type": "bar"
           }
          ],
          "barpolar": [
           {
            "marker": {
             "line": {
              "color": "#E5ECF6",
              "width": 0.5
             },
             "pattern": {
              "fillmode": "overlay",
              "size": 10,
              "solidity": 0.2
             }
            },
            "type": "barpolar"
           }
          ],
          "carpet": [
           {
            "aaxis": {
             "endlinecolor": "#2a3f5f",
             "gridcolor": "white",
             "linecolor": "white",
             "minorgridcolor": "white",
             "startlinecolor": "#2a3f5f"
            },
            "baxis": {
             "endlinecolor": "#2a3f5f",
             "gridcolor": "white",
             "linecolor": "white",
             "minorgridcolor": "white",
             "startlinecolor": "#2a3f5f"
            },
            "type": "carpet"
           }
          ],
          "choropleth": [
           {
            "colorbar": {
             "outlinewidth": 0,
             "ticks": ""
            },
            "type": "choropleth"
           }
          ],
          "contour": [
           {
            "colorbar": {
             "outlinewidth": 0,
             "ticks": ""
            },
            "colorscale": [
             [
              0,
              "#0d0887"
             ],
             [
              0.1111111111111111,
              "#46039f"
             ],
             [
              0.2222222222222222,
              "#7201a8"
             ],
             [
              0.3333333333333333,
              "#9c179e"
             ],
             [
              0.4444444444444444,
              "#bd3786"
             ],
             [
              0.5555555555555556,
              "#d8576b"
             ],
             [
              0.6666666666666666,
              "#ed7953"
             ],
             [
              0.7777777777777778,
              "#fb9f3a"
             ],
             [
              0.8888888888888888,
              "#fdca26"
             ],
             [
              1,
              "#f0f921"
             ]
            ],
            "type": "contour"
           }
          ],
          "contourcarpet": [
           {
            "colorbar": {
             "outlinewidth": 0,
             "ticks": ""
            },
            "type": "contourcarpet"
           }
          ],
          "heatmap": [
           {
            "colorbar": {
             "outlinewidth": 0,
             "ticks": ""
            },
            "colorscale": [
             [
              0,
              "#0d0887"
             ],
             [
              0.1111111111111111,
              "#46039f"
             ],
             [
              0.2222222222222222,
              "#7201a8"
             ],
             [
              0.3333333333333333,
              "#9c179e"
             ],
             [
              0.4444444444444444,
              "#bd3786"
             ],
             [
              0.5555555555555556,
              "#d8576b"
             ],
             [
              0.6666666666666666,
              "#ed7953"
             ],
             [
              0.7777777777777778,
              "#fb9f3a"
             ],
             [
              0.8888888888888888,
              "#fdca26"
             ],
             [
              1,
              "#f0f921"
             ]
            ],
            "type": "heatmap"
           }
          ],
          "heatmapgl": [
           {
            "colorbar": {
             "outlinewidth": 0,
             "ticks": ""
            },
            "colorscale": [
             [
              0,
              "#0d0887"
             ],
             [
              0.1111111111111111,
              "#46039f"
             ],
             [
              0.2222222222222222,
              "#7201a8"
             ],
             [
              0.3333333333333333,
              "#9c179e"
             ],
             [
              0.4444444444444444,
              "#bd3786"
             ],
             [
              0.5555555555555556,
              "#d8576b"
             ],
             [
              0.6666666666666666,
              "#ed7953"
             ],
             [
              0.7777777777777778,
              "#fb9f3a"
             ],
             [
              0.8888888888888888,
              "#fdca26"
             ],
             [
              1,
              "#f0f921"
             ]
            ],
            "type": "heatmapgl"
           }
          ],
          "histogram": [
           {
            "marker": {
             "pattern": {
              "fillmode": "overlay",
              "size": 10,
              "solidity": 0.2
             }
            },
            "type": "histogram"
           }
          ],
          "histogram2d": [
           {
            "colorbar": {
             "outlinewidth": 0,
             "ticks": ""
            },
            "colorscale": [
             [
              0,
              "#0d0887"
             ],
             [
              0.1111111111111111,
              "#46039f"
             ],
             [
              0.2222222222222222,
              "#7201a8"
             ],
             [
              0.3333333333333333,
              "#9c179e"
             ],
             [
              0.4444444444444444,
              "#bd3786"
             ],
             [
              0.5555555555555556,
              "#d8576b"
             ],
             [
              0.6666666666666666,
              "#ed7953"
             ],
             [
              0.7777777777777778,
              "#fb9f3a"
             ],
             [
              0.8888888888888888,
              "#fdca26"
             ],
             [
              1,
              "#f0f921"
             ]
            ],
            "type": "histogram2d"
           }
          ],
          "histogram2dcontour": [
           {
            "colorbar": {
             "outlinewidth": 0,
             "ticks": ""
            },
            "colorscale": [
             [
              0,
              "#0d0887"
             ],
             [
              0.1111111111111111,
              "#46039f"
             ],
             [
              0.2222222222222222,
              "#7201a8"
             ],
             [
              0.3333333333333333,
              "#9c179e"
             ],
             [
              0.4444444444444444,
              "#bd3786"
             ],
             [
              0.5555555555555556,
              "#d8576b"
             ],
             [
              0.6666666666666666,
              "#ed7953"
             ],
             [
              0.7777777777777778,
              "#fb9f3a"
             ],
             [
              0.8888888888888888,
              "#fdca26"
             ],
             [
              1,
              "#f0f921"
             ]
            ],
            "type": "histogram2dcontour"
           }
          ],
          "mesh3d": [
           {
            "colorbar": {
             "outlinewidth": 0,
             "ticks": ""
            },
            "type": "mesh3d"
           }
          ],
          "parcoords": [
           {
            "line": {
             "colorbar": {
              "outlinewidth": 0,
              "ticks": ""
             }
            },
            "type": "parcoords"
           }
          ],
          "pie": [
           {
            "automargin": true,
            "type": "pie"
           }
          ],
          "scatter": [
           {
            "fillpattern": {
             "fillmode": "overlay",
             "size": 10,
             "solidity": 0.2
            },
            "type": "scatter"
           }
          ],
          "scatter3d": [
           {
            "line": {
             "colorbar": {
              "outlinewidth": 0,
              "ticks": ""
             }
            },
            "marker": {
             "colorbar": {
              "outlinewidth": 0,
              "ticks": ""
             }
            },
            "type": "scatter3d"
           }
          ],
          "scattercarpet": [
           {
            "marker": {
             "colorbar": {
              "outlinewidth": 0,
              "ticks": ""
             }
            },
            "type": "scattercarpet"
           }
          ],
          "scattergeo": [
           {
            "marker": {
             "colorbar": {
              "outlinewidth": 0,
              "ticks": ""
             }
            },
            "type": "scattergeo"
           }
          ],
          "scattergl": [
           {
            "marker": {
             "colorbar": {
              "outlinewidth": 0,
              "ticks": ""
             }
            },
            "type": "scattergl"
           }
          ],
          "scattermapbox": [
           {
            "marker": {
             "colorbar": {
              "outlinewidth": 0,
              "ticks": ""
             }
            },
            "type": "scattermapbox"
           }
          ],
          "scatterpolar": [
           {
            "marker": {
             "colorbar": {
              "outlinewidth": 0,
              "ticks": ""
             }
            },
            "type": "scatterpolar"
           }
          ],
          "scatterpolargl": [
           {
            "marker": {
             "colorbar": {
              "outlinewidth": 0,
              "ticks": ""
             }
            },
            "type": "scatterpolargl"
           }
          ],
          "scatterternary": [
           {
            "marker": {
             "colorbar": {
              "outlinewidth": 0,
              "ticks": ""
             }
            },
            "type": "scatterternary"
           }
          ],
          "surface": [
           {
            "colorbar": {
             "outlinewidth": 0,
             "ticks": ""
            },
            "colorscale": [
             [
              0,
              "#0d0887"
             ],
             [
              0.1111111111111111,
              "#46039f"
             ],
             [
              0.2222222222222222,
              "#7201a8"
             ],
             [
              0.3333333333333333,
              "#9c179e"
             ],
             [
              0.4444444444444444,
              "#bd3786"
             ],
             [
              0.5555555555555556,
              "#d8576b"
             ],
             [
              0.6666666666666666,
              "#ed7953"
             ],
             [
              0.7777777777777778,
              "#fb9f3a"
             ],
             [
              0.8888888888888888,
              "#fdca26"
             ],
             [
              1,
              "#f0f921"
             ]
            ],
            "type": "surface"
           }
          ],
          "table": [
           {
            "cells": {
             "fill": {
              "color": "#EBF0F8"
             },
             "line": {
              "color": "white"
             }
            },
            "header": {
             "fill": {
              "color": "#C8D4E3"
             },
             "line": {
              "color": "white"
             }
            },
            "type": "table"
           }
          ]
         },
         "layout": {
          "annotationdefaults": {
           "arrowcolor": "#2a3f5f",
           "arrowhead": 0,
           "arrowwidth": 1
          },
          "autotypenumbers": "strict",
          "coloraxis": {
           "colorbar": {
            "outlinewidth": 0,
            "ticks": ""
           }
          },
          "colorscale": {
           "diverging": [
            [
             0,
             "#8e0152"
            ],
            [
             0.1,
             "#c51b7d"
            ],
            [
             0.2,
             "#de77ae"
            ],
            [
             0.3,
             "#f1b6da"
            ],
            [
             0.4,
             "#fde0ef"
            ],
            [
             0.5,
             "#f7f7f7"
            ],
            [
             0.6,
             "#e6f5d0"
            ],
            [
             0.7,
             "#b8e186"
            ],
            [
             0.8,
             "#7fbc41"
            ],
            [
             0.9,
             "#4d9221"
            ],
            [
             1,
             "#276419"
            ]
           ],
           "sequential": [
            [
             0,
             "#0d0887"
            ],
            [
             0.1111111111111111,
             "#46039f"
            ],
            [
             0.2222222222222222,
             "#7201a8"
            ],
            [
             0.3333333333333333,
             "#9c179e"
            ],
            [
             0.4444444444444444,
             "#bd3786"
            ],
            [
             0.5555555555555556,
             "#d8576b"
            ],
            [
             0.6666666666666666,
             "#ed7953"
            ],
            [
             0.7777777777777778,
             "#fb9f3a"
            ],
            [
             0.8888888888888888,
             "#fdca26"
            ],
            [
             1,
             "#f0f921"
            ]
           ],
           "sequentialminus": [
            [
             0,
             "#0d0887"
            ],
            [
             0.1111111111111111,
             "#46039f"
            ],
            [
             0.2222222222222222,
             "#7201a8"
            ],
            [
             0.3333333333333333,
             "#9c179e"
            ],
            [
             0.4444444444444444,
             "#bd3786"
            ],
            [
             0.5555555555555556,
             "#d8576b"
            ],
            [
             0.6666666666666666,
             "#ed7953"
            ],
            [
             0.7777777777777778,
             "#fb9f3a"
            ],
            [
             0.8888888888888888,
             "#fdca26"
            ],
            [
             1,
             "#f0f921"
            ]
           ]
          },
          "colorway": [
           "#636efa",
           "#EF553B",
           "#00cc96",
           "#ab63fa",
           "#FFA15A",
           "#19d3f3",
           "#FF6692",
           "#B6E880",
           "#FF97FF",
           "#FECB52"
          ],
          "font": {
           "color": "#2a3f5f"
          },
          "geo": {
           "bgcolor": "white",
           "lakecolor": "white",
           "landcolor": "#E5ECF6",
           "showlakes": true,
           "showland": true,
           "subunitcolor": "white"
          },
          "hoverlabel": {
           "align": "left"
          },
          "hovermode": "closest",
          "mapbox": {
           "style": "light"
          },
          "paper_bgcolor": "white",
          "plot_bgcolor": "#E5ECF6",
          "polar": {
           "angularaxis": {
            "gridcolor": "white",
            "linecolor": "white",
            "ticks": ""
           },
           "bgcolor": "#E5ECF6",
           "radialaxis": {
            "gridcolor": "white",
            "linecolor": "white",
            "ticks": ""
           }
          },
          "scene": {
           "xaxis": {
            "backgroundcolor": "#E5ECF6",
            "gridcolor": "white",
            "gridwidth": 2,
            "linecolor": "white",
            "showbackground": true,
            "ticks": "",
            "zerolinecolor": "white"
           },
           "yaxis": {
            "backgroundcolor": "#E5ECF6",
            "gridcolor": "white",
            "gridwidth": 2,
            "linecolor": "white",
            "showbackground": true,
            "ticks": "",
            "zerolinecolor": "white"
           },
           "zaxis": {
            "backgroundcolor": "#E5ECF6",
            "gridcolor": "white",
            "gridwidth": 2,
            "linecolor": "white",
            "showbackground": true,
            "ticks": "",
            "zerolinecolor": "white"
           }
          },
          "shapedefaults": {
           "line": {
            "color": "#2a3f5f"
           }
          },
          "ternary": {
           "aaxis": {
            "gridcolor": "white",
            "linecolor": "white",
            "ticks": ""
           },
           "baxis": {
            "gridcolor": "white",
            "linecolor": "white",
            "ticks": ""
           },
           "bgcolor": "#E5ECF6",
           "caxis": {
            "gridcolor": "white",
            "linecolor": "white",
            "ticks": ""
           }
          },
          "title": {
           "x": 0.05
          },
          "xaxis": {
           "automargin": true,
           "gridcolor": "white",
           "linecolor": "white",
           "ticks": "",
           "title": {
            "standoff": 15
           },
           "zerolinecolor": "white",
           "zerolinewidth": 2
          },
          "yaxis": {
           "automargin": true,
           "gridcolor": "white",
           "linecolor": "white",
           "ticks": "",
           "title": {
            "standoff": 15
           },
           "zerolinecolor": "white",
           "zerolinewidth": 2
          }
         }
        },
        "title": {
         "font": {
          "color": "#4D5663"
         }
        },
        "xaxis": {
         "gridcolor": "#E1E5ED",
         "showgrid": true,
         "tickfont": {
          "color": "#4D5663"
         },
         "title": {
          "font": {
           "color": "#4D5663"
          },
          "text": ""
         },
         "zerolinecolor": "#E1E5ED"
        },
        "yaxis": {
         "gridcolor": "#E1E5ED",
         "showgrid": true,
         "tickfont": {
          "color": "#4D5663"
         },
         "title": {
          "font": {
           "color": "#4D5663"
          },
          "text": ""
         },
         "zerolinecolor": "#E1E5ED"
        }
       }
      },
      "text/html": [
       "<div>                            <div id=\"dc7e588f-e234-4c11-b0a6-c75c6fe63d80\" class=\"plotly-graph-div\" style=\"height:525px; width:100%;\"></div>            <script type=\"text/javascript\">                require([\"plotly\"], function(Plotly) {                    window.PLOTLYENV=window.PLOTLYENV || {};\n",
       "                    window.PLOTLYENV.BASE_URL='https://plot.ly';                                    if (document.getElementById(\"dc7e588f-e234-4c11-b0a6-c75c6fe63d80\")) {                    Plotly.newPlot(                        \"dc7e588f-e234-4c11-b0a6-c75c6fe63d80\",                        [{\"marker\":{\"color\":[\"rgb(255, 153, 51)\",\"rgb(55, 128, 191)\",\"rgb(50, 171, 96)\",\"rgb(128, 0, 128)\",\"rgb(219, 64, 82)\",\"rgb(0, 128, 128)\",\"rgb(255, 255, 51)\",\"rgb(128, 128, 0)\",\"rgb(251, 128, 114)\",\"rgb(128, 177, 211)\"],\"line\":{\"width\":1.3},\"size\":[73,112,80,83,27,35,23,42,59,84,42,52,57,57,45,92,68,66,59,75,60,25,94,53,75,51,42,73,100,52,48,94,75,46,74,52,51,20,77,12,78,76,95,55,61,21,80,53,44,58,56,66,42,95,41,18,38,69,49,19,43,63,94,76,64,56,49,36,73,66,49,41,51,51,15,77,20,21,45,43,55,67,103,45,73,35,50,51,62,63,34,68,80,88,31,32,25,35,58,56],\"symbol\":\"circle\"},\"mode\":\"markers\",\"text\":\"\",\"x\":[1.0801251640557836,-0.09638858984862315,-0.4778206331382923,-0.2942173372442018,0.04212547757433794,-0.21241871665351275,0.6157702361721962,0.32992005709913946,0.6814184853186209,-0.401646842512738,-0.2851115081639871,-1.2114845027340753,0.06916614368341706,0.1591285599517671,0.05453521215892846,-0.6810073484713328,2.8589502284383155,-0.5012294716308849,1.6502615869672825,1.2967876390551507,-0.10757536720860636,-0.42252750196673766,1.1947484804295403,-0.395714437875417,0.21503690725318397,0.42319298537150496,-1.7070394815037455,0.2886632245298637,0.11713281991426203,-1.590841654060365,0.2983704610660227,-1.459872250265605,1.6761898403762872,0.5399305897011594,1.859397226985364,-0.09166231163698116,0.4606859669210411,0.33415746097397353,0.027914158981814274,0.5974492446391806,-0.16239253650338997,-1.6435607314478577,0.6442208478110065,-1.0148388047249859,0.9594519440364432,-0.44541819871248955,-0.886535797155018,-1.0310906701974405,1.5682064990356273,-0.18047306213555087,0.7648350111451226,0.45585198816044414,-0.7528956574004777,-0.22824277167503762,0.014635252813137507,-0.7893010839719782,0.6859059684265395,-0.8650133123530385,-0.15179595809982077,-0.15250415179727717,-0.0351690914259882,2.0661977474856523,1.074773180617247,-1.4386033815290893,1.306654243985068,-0.09771618187642477,-2.1219455194046253,-0.35806526592115173,-0.5794297205497703,0.6788180144526051,0.8037361115157824,-1.4809937681016654,-2.0178203799844856,0.3101821464478711,-0.1790669563794227,-1.5498694961858306,-0.5086716379020376,-0.6459186885571588,0.3295423928644564,-1.0961683497786938,-1.5805201999917888,0.3933799959004732,0.3219084816465848,0.2924579434889606,-0.10074763128293673,-0.03403519839224362,2.3332802461496995,2.0114018515991834,0.7620841513465821,-1.1857754510814738,-0.582780837007449,1.0518815625121487,0.20745864997243998,0.15382712049177955,0.19150932142055335,2.0178206629395943,-0.6900046114688033,-0.977313611536171,-0.6851687125391716,0.1741431211184333],\"y\":[1.3607841251836796,-0.9674674905132706,0.3122098362800539,-1.9448302439623684,1.6135031795380288,-0.9716838883329177,2.0331012007700022,1.652770317992748,-1.4578018235628902,-1.5732701085155567,-0.07607385423638324,0.08201682070201322,0.2122198422416436,-1.9304564495522596,-2.3040923217611735,0.9130611530966893,1.3802584503837574,-0.4046830738850893,0.07601032667948168,0.8976347785160459,-0.09003598707624505,0.7409346195956898,-1.8007196022202219,-0.6317000979078795,-0.1413757369338316,0.6468377284193276,0.5381324922017766,0.740679491186776,-1.204443665274361,0.47276969369577587,1.127827927590617,0.2361165790929499,0.24009181716586592,-1.3194438103143555,-0.38186725209629757,-0.7977332724316449,2.469920077081317,-0.10610371314187877,-1.5121692164865521,-1.1844023197781017,-0.011171440261647346,-0.5098884899014533,1.8974393146246504,-0.16990836365314899,-0.6014629305675028,-0.8318383576734268,-0.03298638585192762,0.6062909702192114,-0.15800986430627798,1.6882608031105024,-0.671277450025276,-0.820328638105275,0.2881868567368972,0.5243074034741281,0.1285915753539585,0.5945487422764267,0.19612240560354918,-0.9772081243251444,-0.023067476057357688,0.2389657964904768,-0.4983109887694054,-0.27292214745955795,-0.7670065331174148,0.08971936190133252,0.05660681638505576,-0.9435712987191033,0.667349226954366,1.1180615456422802,-1.375596283258031,1.5745623897180148,-1.8334282872394294,1.6572128822452232,2.042726721554889,-0.49918497976316645,0.6500999327603493,2.071292907232663,1.3564198989597525,0.4812759605501785,0.978137026870297,-0.38228276955254964,-2.3068081170005383,-0.8499659630386249,-0.14182566772572905,-0.029006226358003907,0.15691513529743456,1.6364792393697691,-0.39096557396705495,1.289989835188355,-0.6079139476948235,1.787981154711908,-0.9677198312633559,0.9800751842228804,1.0901319076859644,-1.081995774409719,-0.1983707845407121,0.3630010895250102,-0.5657049123972575,0.3503979459289591,1.005465375591448,-0.3704708729101634],\"type\":\"scatter\"}],                        {\"legend\":{\"bgcolor\":\"#F5F6F9\",\"font\":{\"color\":\"#4D5663\"}},\"paper_bgcolor\":\"#F5F6F9\",\"plot_bgcolor\":\"#F5F6F9\",\"template\":{\"data\":{\"barpolar\":[{\"marker\":{\"line\":{\"color\":\"#E5ECF6\",\"width\":0.5},\"pattern\":{\"fillmode\":\"overlay\",\"size\":10,\"solidity\":0.2}},\"type\":\"barpolar\"}],\"bar\":[{\"error_x\":{\"color\":\"#2a3f5f\"},\"error_y\":{\"color\":\"#2a3f5f\"},\"marker\":{\"line\":{\"color\":\"#E5ECF6\",\"width\":0.5},\"pattern\":{\"fillmode\":\"overlay\",\"size\":10,\"solidity\":0.2}},\"type\":\"bar\"}],\"carpet\":[{\"aaxis\":{\"endlinecolor\":\"#2a3f5f\",\"gridcolor\":\"white\",\"linecolor\":\"white\",\"minorgridcolor\":\"white\",\"startlinecolor\":\"#2a3f5f\"},\"baxis\":{\"endlinecolor\":\"#2a3f5f\",\"gridcolor\":\"white\",\"linecolor\":\"white\",\"minorgridcolor\":\"white\",\"startlinecolor\":\"#2a3f5f\"},\"type\":\"carpet\"}],\"choropleth\":[{\"colorbar\":{\"outlinewidth\":0,\"ticks\":\"\"},\"type\":\"choropleth\"}],\"contourcarpet\":[{\"colorbar\":{\"outlinewidth\":0,\"ticks\":\"\"},\"type\":\"contourcarpet\"}],\"contour\":[{\"colorbar\":{\"outlinewidth\":0,\"ticks\":\"\"},\"colorscale\":[[0.0,\"#0d0887\"],[0.1111111111111111,\"#46039f\"],[0.2222222222222222,\"#7201a8\"],[0.3333333333333333,\"#9c179e\"],[0.4444444444444444,\"#bd3786\"],[0.5555555555555556,\"#d8576b\"],[0.6666666666666666,\"#ed7953\"],[0.7777777777777778,\"#fb9f3a\"],[0.8888888888888888,\"#fdca26\"],[1.0,\"#f0f921\"]],\"type\":\"contour\"}],\"heatmapgl\":[{\"colorbar\":{\"outlinewidth\":0,\"ticks\":\"\"},\"colorscale\":[[0.0,\"#0d0887\"],[0.1111111111111111,\"#46039f\"],[0.2222222222222222,\"#7201a8\"],[0.3333333333333333,\"#9c179e\"],[0.4444444444444444,\"#bd3786\"],[0.5555555555555556,\"#d8576b\"],[0.6666666666666666,\"#ed7953\"],[0.7777777777777778,\"#fb9f3a\"],[0.8888888888888888,\"#fdca26\"],[1.0,\"#f0f921\"]],\"type\":\"heatmapgl\"}],\"heatmap\":[{\"colorbar\":{\"outlinewidth\":0,\"ticks\":\"\"},\"colorscale\":[[0.0,\"#0d0887\"],[0.1111111111111111,\"#46039f\"],[0.2222222222222222,\"#7201a8\"],[0.3333333333333333,\"#9c179e\"],[0.4444444444444444,\"#bd3786\"],[0.5555555555555556,\"#d8576b\"],[0.6666666666666666,\"#ed7953\"],[0.7777777777777778,\"#fb9f3a\"],[0.8888888888888888,\"#fdca26\"],[1.0,\"#f0f921\"]],\"type\":\"heatmap\"}],\"histogram2dcontour\":[{\"colorbar\":{\"outlinewidth\":0,\"ticks\":\"\"},\"colorscale\":[[0.0,\"#0d0887\"],[0.1111111111111111,\"#46039f\"],[0.2222222222222222,\"#7201a8\"],[0.3333333333333333,\"#9c179e\"],[0.4444444444444444,\"#bd3786\"],[0.5555555555555556,\"#d8576b\"],[0.6666666666666666,\"#ed7953\"],[0.7777777777777778,\"#fb9f3a\"],[0.8888888888888888,\"#fdca26\"],[1.0,\"#f0f921\"]],\"type\":\"histogram2dcontour\"}],\"histogram2d\":[{\"colorbar\":{\"outlinewidth\":0,\"ticks\":\"\"},\"colorscale\":[[0.0,\"#0d0887\"],[0.1111111111111111,\"#46039f\"],[0.2222222222222222,\"#7201a8\"],[0.3333333333333333,\"#9c179e\"],[0.4444444444444444,\"#bd3786\"],[0.5555555555555556,\"#d8576b\"],[0.6666666666666666,\"#ed7953\"],[0.7777777777777778,\"#fb9f3a\"],[0.8888888888888888,\"#fdca26\"],[1.0,\"#f0f921\"]],\"type\":\"histogram2d\"}],\"histogram\":[{\"marker\":{\"pattern\":{\"fillmode\":\"overlay\",\"size\":10,\"solidity\":0.2}},\"type\":\"histogram\"}],\"mesh3d\":[{\"colorbar\":{\"outlinewidth\":0,\"ticks\":\"\"},\"type\":\"mesh3d\"}],\"parcoords\":[{\"line\":{\"colorbar\":{\"outlinewidth\":0,\"ticks\":\"\"}},\"type\":\"parcoords\"}],\"pie\":[{\"automargin\":true,\"type\":\"pie\"}],\"scatter3d\":[{\"line\":{\"colorbar\":{\"outlinewidth\":0,\"ticks\":\"\"}},\"marker\":{\"colorbar\":{\"outlinewidth\":0,\"ticks\":\"\"}},\"type\":\"scatter3d\"}],\"scattercarpet\":[{\"marker\":{\"colorbar\":{\"outlinewidth\":0,\"ticks\":\"\"}},\"type\":\"scattercarpet\"}],\"scattergeo\":[{\"marker\":{\"colorbar\":{\"outlinewidth\":0,\"ticks\":\"\"}},\"type\":\"scattergeo\"}],\"scattergl\":[{\"marker\":{\"colorbar\":{\"outlinewidth\":0,\"ticks\":\"\"}},\"type\":\"scattergl\"}],\"scattermapbox\":[{\"marker\":{\"colorbar\":{\"outlinewidth\":0,\"ticks\":\"\"}},\"type\":\"scattermapbox\"}],\"scatterpolargl\":[{\"marker\":{\"colorbar\":{\"outlinewidth\":0,\"ticks\":\"\"}},\"type\":\"scatterpolargl\"}],\"scatterpolar\":[{\"marker\":{\"colorbar\":{\"outlinewidth\":0,\"ticks\":\"\"}},\"type\":\"scatterpolar\"}],\"scatter\":[{\"fillpattern\":{\"fillmode\":\"overlay\",\"size\":10,\"solidity\":0.2},\"type\":\"scatter\"}],\"scatterternary\":[{\"marker\":{\"colorbar\":{\"outlinewidth\":0,\"ticks\":\"\"}},\"type\":\"scatterternary\"}],\"surface\":[{\"colorbar\":{\"outlinewidth\":0,\"ticks\":\"\"},\"colorscale\":[[0.0,\"#0d0887\"],[0.1111111111111111,\"#46039f\"],[0.2222222222222222,\"#7201a8\"],[0.3333333333333333,\"#9c179e\"],[0.4444444444444444,\"#bd3786\"],[0.5555555555555556,\"#d8576b\"],[0.6666666666666666,\"#ed7953\"],[0.7777777777777778,\"#fb9f3a\"],[0.8888888888888888,\"#fdca26\"],[1.0,\"#f0f921\"]],\"type\":\"surface\"}],\"table\":[{\"cells\":{\"fill\":{\"color\":\"#EBF0F8\"},\"line\":{\"color\":\"white\"}},\"header\":{\"fill\":{\"color\":\"#C8D4E3\"},\"line\":{\"color\":\"white\"}},\"type\":\"table\"}]},\"layout\":{\"annotationdefaults\":{\"arrowcolor\":\"#2a3f5f\",\"arrowhead\":0,\"arrowwidth\":1},\"autotypenumbers\":\"strict\",\"coloraxis\":{\"colorbar\":{\"outlinewidth\":0,\"ticks\":\"\"}},\"colorscale\":{\"diverging\":[[0,\"#8e0152\"],[0.1,\"#c51b7d\"],[0.2,\"#de77ae\"],[0.3,\"#f1b6da\"],[0.4,\"#fde0ef\"],[0.5,\"#f7f7f7\"],[0.6,\"#e6f5d0\"],[0.7,\"#b8e186\"],[0.8,\"#7fbc41\"],[0.9,\"#4d9221\"],[1,\"#276419\"]],\"sequential\":[[0.0,\"#0d0887\"],[0.1111111111111111,\"#46039f\"],[0.2222222222222222,\"#7201a8\"],[0.3333333333333333,\"#9c179e\"],[0.4444444444444444,\"#bd3786\"],[0.5555555555555556,\"#d8576b\"],[0.6666666666666666,\"#ed7953\"],[0.7777777777777778,\"#fb9f3a\"],[0.8888888888888888,\"#fdca26\"],[1.0,\"#f0f921\"]],\"sequentialminus\":[[0.0,\"#0d0887\"],[0.1111111111111111,\"#46039f\"],[0.2222222222222222,\"#7201a8\"],[0.3333333333333333,\"#9c179e\"],[0.4444444444444444,\"#bd3786\"],[0.5555555555555556,\"#d8576b\"],[0.6666666666666666,\"#ed7953\"],[0.7777777777777778,\"#fb9f3a\"],[0.8888888888888888,\"#fdca26\"],[1.0,\"#f0f921\"]]},\"colorway\":[\"#636efa\",\"#EF553B\",\"#00cc96\",\"#ab63fa\",\"#FFA15A\",\"#19d3f3\",\"#FF6692\",\"#B6E880\",\"#FF97FF\",\"#FECB52\"],\"font\":{\"color\":\"#2a3f5f\"},\"geo\":{\"bgcolor\":\"white\",\"lakecolor\":\"white\",\"landcolor\":\"#E5ECF6\",\"showlakes\":true,\"showland\":true,\"subunitcolor\":\"white\"},\"hoverlabel\":{\"align\":\"left\"},\"hovermode\":\"closest\",\"mapbox\":{\"style\":\"light\"},\"paper_bgcolor\":\"white\",\"plot_bgcolor\":\"#E5ECF6\",\"polar\":{\"angularaxis\":{\"gridcolor\":\"white\",\"linecolor\":\"white\",\"ticks\":\"\"},\"bgcolor\":\"#E5ECF6\",\"radialaxis\":{\"gridcolor\":\"white\",\"linecolor\":\"white\",\"ticks\":\"\"}},\"scene\":{\"xaxis\":{\"backgroundcolor\":\"#E5ECF6\",\"gridcolor\":\"white\",\"gridwidth\":2,\"linecolor\":\"white\",\"showbackground\":true,\"ticks\":\"\",\"zerolinecolor\":\"white\"},\"yaxis\":{\"backgroundcolor\":\"#E5ECF6\",\"gridcolor\":\"white\",\"gridwidth\":2,\"linecolor\":\"white\",\"showbackground\":true,\"ticks\":\"\",\"zerolinecolor\":\"white\"},\"zaxis\":{\"backgroundcolor\":\"#E5ECF6\",\"gridcolor\":\"white\",\"gridwidth\":2,\"linecolor\":\"white\",\"showbackground\":true,\"ticks\":\"\",\"zerolinecolor\":\"white\"}},\"shapedefaults\":{\"line\":{\"color\":\"#2a3f5f\"}},\"ternary\":{\"aaxis\":{\"gridcolor\":\"white\",\"linecolor\":\"white\",\"ticks\":\"\"},\"baxis\":{\"gridcolor\":\"white\",\"linecolor\":\"white\",\"ticks\":\"\"},\"bgcolor\":\"#E5ECF6\",\"caxis\":{\"gridcolor\":\"white\",\"linecolor\":\"white\",\"ticks\":\"\"}},\"title\":{\"x\":0.05},\"xaxis\":{\"automargin\":true,\"gridcolor\":\"white\",\"linecolor\":\"white\",\"ticks\":\"\",\"title\":{\"standoff\":15},\"zerolinecolor\":\"white\",\"zerolinewidth\":2},\"yaxis\":{\"automargin\":true,\"gridcolor\":\"white\",\"linecolor\":\"white\",\"ticks\":\"\",\"title\":{\"standoff\":15},\"zerolinecolor\":\"white\",\"zerolinewidth\":2}}},\"title\":{\"font\":{\"color\":\"#4D5663\"}},\"xaxis\":{\"gridcolor\":\"#E1E5ED\",\"showgrid\":true,\"tickfont\":{\"color\":\"#4D5663\"},\"title\":{\"font\":{\"color\":\"#4D5663\"},\"text\":\"\"},\"zerolinecolor\":\"#E1E5ED\"},\"yaxis\":{\"gridcolor\":\"#E1E5ED\",\"showgrid\":true,\"tickfont\":{\"color\":\"#4D5663\"},\"title\":{\"font\":{\"color\":\"#4D5663\"},\"text\":\"\"},\"zerolinecolor\":\"#E1E5ED\"}},                        {\"showLink\": true, \"linkText\": \"Export to plot.ly\", \"plotlyServerURL\": \"https://plot.ly\", \"responsive\": true}                    ).then(function(){\n",
       "                            \n",
       "var gd = document.getElementById('dc7e588f-e234-4c11-b0a6-c75c6fe63d80');\n",
       "var x = new MutationObserver(function (mutations, observer) {{\n",
       "        var display = window.getComputedStyle(gd).display;\n",
       "        if (!display || display === 'none') {{\n",
       "            console.log([gd, 'removed!']);\n",
       "            Plotly.purge(gd);\n",
       "            observer.disconnect();\n",
       "        }}\n",
       "}});\n",
       "\n",
       "// Listen for the removal of the full notebook cells\n",
       "var notebookContainer = gd.closest('#notebook-container');\n",
       "if (notebookContainer) {{\n",
       "    x.observe(notebookContainer, {childList: true});\n",
       "}}\n",
       "\n",
       "// Listen for the clearing of the current output cell\n",
       "var outputEl = gd.closest('.output');\n",
       "if (outputEl) {{\n",
       "    x.observe(outputEl, {childList: true});\n",
       "}}\n",
       "\n",
       "                        })                };                });            </script>        </div>"
      ]
     },
     "metadata": {},
     "output_type": "display_data"
    }
   ],
   "source": [
    "df.iplot(kind='bubble',x='A',y='B',size='C')"
   ]
  },
  {
   "cell_type": "markdown",
   "metadata": {},
   "source": [
    "## scatter_matrix()\n",
    "\n",
    "Similar to sns.pairplot()"
   ]
  },
  {
   "cell_type": "code",
   "execution_count": 49,
   "metadata": {},
   "outputs": [
    {
     "data": {
      "application/vnd.plotly.v1+json": {
       "config": {
        "linkText": "Export to plot.ly",
        "plotlyServerURL": "https://plot.ly",
        "showLink": true
       },
       "data": [
        {
         "histfunc": "count",
         "histnorm": "",
         "marker": {
          "color": "rgba(255, 153, 51, 1.0)",
          "line": {
           "color": "#4D5663",
           "width": 1.3
          }
         },
         "name": "A",
         "nbinsx": 10,
         "opacity": 0.8,
         "orientation": "v",
         "type": "histogram",
         "x": [
          1.0801251640557836,
          -0.09638858984862315,
          -0.4778206331382923,
          -0.2942173372442018,
          0.04212547757433794,
          -0.21241871665351275,
          0.6157702361721962,
          0.32992005709913946,
          0.6814184853186209,
          -0.401646842512738,
          -0.2851115081639871,
          -1.2114845027340753,
          0.06916614368341706,
          0.1591285599517671,
          0.05453521215892846,
          -0.6810073484713328,
          2.8589502284383155,
          -0.5012294716308849,
          1.6502615869672825,
          1.2967876390551507,
          -0.10757536720860636,
          -0.42252750196673766,
          1.1947484804295403,
          -0.395714437875417,
          0.21503690725318397,
          0.42319298537150496,
          -1.7070394815037455,
          0.2886632245298637,
          0.11713281991426203,
          -1.590841654060365,
          0.2983704610660227,
          -1.459872250265605,
          1.6761898403762872,
          0.5399305897011594,
          1.859397226985364,
          -0.09166231163698116,
          0.4606859669210411,
          0.33415746097397353,
          0.027914158981814274,
          0.5974492446391806,
          -0.16239253650338997,
          -1.6435607314478577,
          0.6442208478110065,
          -1.0148388047249859,
          0.9594519440364432,
          -0.44541819871248955,
          -0.886535797155018,
          -1.0310906701974405,
          1.5682064990356273,
          -0.18047306213555087,
          0.7648350111451226,
          0.45585198816044414,
          -0.7528956574004777,
          -0.22824277167503762,
          0.014635252813137507,
          -0.7893010839719782,
          0.6859059684265395,
          -0.8650133123530385,
          -0.15179595809982077,
          -0.15250415179727717,
          -0.0351690914259882,
          2.0661977474856523,
          1.074773180617247,
          -1.4386033815290893,
          1.306654243985068,
          -0.09771618187642477,
          -2.1219455194046253,
          -0.35806526592115173,
          -0.5794297205497703,
          0.6788180144526051,
          0.8037361115157824,
          -1.4809937681016654,
          -2.0178203799844856,
          0.3101821464478711,
          -0.1790669563794227,
          -1.5498694961858306,
          -0.5086716379020376,
          -0.6459186885571588,
          0.3295423928644564,
          -1.0961683497786938,
          -1.5805201999917888,
          0.3933799959004732,
          0.3219084816465848,
          0.2924579434889606,
          -0.10074763128293673,
          -0.03403519839224362,
          2.3332802461496995,
          2.0114018515991834,
          0.7620841513465821,
          -1.1857754510814738,
          -0.582780837007449,
          1.0518815625121487,
          0.20745864997243998,
          0.15382712049177955,
          0.19150932142055335,
          2.0178206629395943,
          -0.6900046114688033,
          -0.977313611536171,
          -0.6851687125391716,
          0.1741431211184333
         ],
         "xaxis": "x",
         "yaxis": "y"
        },
        {
         "line": {
          "color": "rgba(128, 128, 128, 1.0)",
          "dash": "solid",
          "shape": "linear",
          "width": 1.3
         },
         "marker": {
          "size": 2,
          "symbol": "circle"
         },
         "mode": "markers",
         "name": "A",
         "text": "",
         "type": "scatter",
         "x": [
          1.3607841251836796,
          -0.9674674905132706,
          0.3122098362800539,
          -1.9448302439623684,
          1.6135031795380288,
          -0.9716838883329177,
          2.0331012007700022,
          1.652770317992748,
          -1.4578018235628902,
          -1.5732701085155567,
          -0.07607385423638324,
          0.08201682070201322,
          0.2122198422416436,
          -1.9304564495522596,
          -2.3040923217611735,
          0.9130611530966893,
          1.3802584503837574,
          -0.4046830738850893,
          0.07601032667948168,
          0.8976347785160459,
          -0.09003598707624505,
          0.7409346195956898,
          -1.8007196022202219,
          -0.6317000979078795,
          -0.1413757369338316,
          0.6468377284193276,
          0.5381324922017766,
          0.740679491186776,
          -1.204443665274361,
          0.47276969369577587,
          1.127827927590617,
          0.2361165790929499,
          0.24009181716586592,
          -1.3194438103143555,
          -0.38186725209629757,
          -0.7977332724316449,
          2.469920077081317,
          -0.10610371314187877,
          -1.5121692164865521,
          -1.1844023197781017,
          -0.011171440261647346,
          -0.5098884899014533,
          1.8974393146246504,
          -0.16990836365314899,
          -0.6014629305675028,
          -0.8318383576734268,
          -0.03298638585192762,
          0.6062909702192114,
          -0.15800986430627798,
          1.6882608031105024,
          -0.671277450025276,
          -0.820328638105275,
          0.2881868567368972,
          0.5243074034741281,
          0.1285915753539585,
          0.5945487422764267,
          0.19612240560354918,
          -0.9772081243251444,
          -0.023067476057357688,
          0.2389657964904768,
          -0.4983109887694054,
          -0.27292214745955795,
          -0.7670065331174148,
          0.08971936190133252,
          0.05660681638505576,
          -0.9435712987191033,
          0.667349226954366,
          1.1180615456422802,
          -1.375596283258031,
          1.5745623897180148,
          -1.8334282872394294,
          1.6572128822452232,
          2.042726721554889,
          -0.49918497976316645,
          0.6500999327603493,
          2.071292907232663,
          1.3564198989597525,
          0.4812759605501785,
          0.978137026870297,
          -0.38228276955254964,
          -2.3068081170005383,
          -0.8499659630386249,
          -0.14182566772572905,
          -0.029006226358003907,
          0.15691513529743456,
          1.6364792393697691,
          -0.39096557396705495,
          1.289989835188355,
          -0.6079139476948235,
          1.787981154711908,
          -0.9677198312633559,
          0.9800751842228804,
          1.0901319076859644,
          -1.081995774409719,
          -0.1983707845407121,
          0.3630010895250102,
          -0.5657049123972575,
          0.3503979459289591,
          1.005465375591448,
          -0.3704708729101634
         ],
         "xaxis": "x2",
         "y": [
          1.0801251640557836,
          -0.09638858984862315,
          -0.4778206331382923,
          -0.2942173372442018,
          0.04212547757433794,
          -0.21241871665351275,
          0.6157702361721962,
          0.32992005709913946,
          0.6814184853186209,
          -0.401646842512738,
          -0.2851115081639871,
          -1.2114845027340753,
          0.06916614368341706,
          0.1591285599517671,
          0.05453521215892846,
          -0.6810073484713328,
          2.8589502284383155,
          -0.5012294716308849,
          1.6502615869672825,
          1.2967876390551507,
          -0.10757536720860636,
          -0.42252750196673766,
          1.1947484804295403,
          -0.395714437875417,
          0.21503690725318397,
          0.42319298537150496,
          -1.7070394815037455,
          0.2886632245298637,
          0.11713281991426203,
          -1.590841654060365,
          0.2983704610660227,
          -1.459872250265605,
          1.6761898403762872,
          0.5399305897011594,
          1.859397226985364,
          -0.09166231163698116,
          0.4606859669210411,
          0.33415746097397353,
          0.027914158981814274,
          0.5974492446391806,
          -0.16239253650338997,
          -1.6435607314478577,
          0.6442208478110065,
          -1.0148388047249859,
          0.9594519440364432,
          -0.44541819871248955,
          -0.886535797155018,
          -1.0310906701974405,
          1.5682064990356273,
          -0.18047306213555087,
          0.7648350111451226,
          0.45585198816044414,
          -0.7528956574004777,
          -0.22824277167503762,
          0.014635252813137507,
          -0.7893010839719782,
          0.6859059684265395,
          -0.8650133123530385,
          -0.15179595809982077,
          -0.15250415179727717,
          -0.0351690914259882,
          2.0661977474856523,
          1.074773180617247,
          -1.4386033815290893,
          1.306654243985068,
          -0.09771618187642477,
          -2.1219455194046253,
          -0.35806526592115173,
          -0.5794297205497703,
          0.6788180144526051,
          0.8037361115157824,
          -1.4809937681016654,
          -2.0178203799844856,
          0.3101821464478711,
          -0.1790669563794227,
          -1.5498694961858306,
          -0.5086716379020376,
          -0.6459186885571588,
          0.3295423928644564,
          -1.0961683497786938,
          -1.5805201999917888,
          0.3933799959004732,
          0.3219084816465848,
          0.2924579434889606,
          -0.10074763128293673,
          -0.03403519839224362,
          2.3332802461496995,
          2.0114018515991834,
          0.7620841513465821,
          -1.1857754510814738,
          -0.582780837007449,
          1.0518815625121487,
          0.20745864997243998,
          0.15382712049177955,
          0.19150932142055335,
          2.0178206629395943,
          -0.6900046114688033,
          -0.977313611536171,
          -0.6851687125391716,
          0.1741431211184333
         ],
         "yaxis": "y2"
        },
        {
         "line": {
          "color": "rgba(128, 128, 128, 1.0)",
          "dash": "solid",
          "shape": "linear",
          "width": 1.3
         },
         "marker": {
          "size": 2,
          "symbol": "circle"
         },
         "mode": "markers",
         "name": "A",
         "text": "",
         "type": "scatter",
         "x": [
          0.702767431533642,
          2.4130266328026875,
          1.0247116988576892,
          1.1683727821289778,
          -1.3056717628835188,
          -0.9616928382289589,
          -1.4969575112466853,
          -0.6365153296307634,
          0.11217914666770475,
          1.2144287765738433,
          -0.6495486019328311,
          -0.19639525020624254,
          -0.00802132540888039,
          0.02694614454660426,
          -0.528954231674728,
          1.5706058322517387,
          0.4820803948391646,
          0.4206337344540275,
          0.10591315631999255,
          0.7937826774382816,
          0.144104101401556,
          -1.3887166806425755,
          1.6326366443060474,
          -0.18027878873270034,
          0.826296296089968,
          -0.2580101564367002,
          -0.6688867058712796,
          0.7378586244711566,
          1.921519209242429,
          -0.22669263844505874,
          -0.36584692112998235,
          1.6384095185283776,
          0.8125504647072437,
          -0.49031400400566966,
          0.7741652466697522,
          -0.22213464090142843,
          -0.2527107376648289,
          -1.605821524503842,
          0.9109145605827451,
          -1.9943612002091708,
          0.9332459593082034,
          0.866333413662675,
          1.6820321612890714,
          -0.07671391298756125,
          0.1738989493806357,
          -1.5804953182696397,
          1.0460186545875654,
          -0.16110376935988216,
          -0.5617610909222606,
          0.07581562577893483,
          -0.03552371262803585,
          0.4269245996611502,
          -0.6496427509906124,
          1.675109322453891,
          -0.7148743282459987,
          -1.687744547155932,
          -0.8191850962643112,
          0.5259046079873353,
          -0.3248846951260035,
          -1.6750635846039788,
          -0.6121564366027149,
          0.27626692155815863,
          1.6358128717285716,
          0.8492940238752041,
          0.3355667863277014,
          -0.013777162449761769,
          -0.3604674654475875,
          -0.9326775784452925,
          0.7189623537867452,
          0.4222208695106275,
          -0.3443113071071108,
          -0.6763998146568629,
          -0.248286139854172,
          -0.2448649987359036,
          -1.8227067665030514,
          0.8846947920126711,
          -1.6132360765385587,
          -1.554804906148493,
          -0.5124269413107482,
          -0.5867457557616809,
          -0.08872399849448215,
          0.44346757039634555,
          2.055498002435792,
          -0.5266791467291811,
          0.717310741953486,
          -0.9514008286056141,
          -0.30449684289472284,
          -0.25453425475848257,
          0.22712846218402372,
          0.2791783359077579,
          -0.9906830706778221,
          0.4810098473856099,
          1.0125421345872334,
          1.358913896745162,
          -1.1362324711337033,
          -1.0732819075861326,
          -1.4031717704942892,
          -0.9452636455237585,
          0.062344609433789444,
          -0.02768845426741946
         ],
         "xaxis": "x3",
         "y": [
          1.0801251640557836,
          -0.09638858984862315,
          -0.4778206331382923,
          -0.2942173372442018,
          0.04212547757433794,
          -0.21241871665351275,
          0.6157702361721962,
          0.32992005709913946,
          0.6814184853186209,
          -0.401646842512738,
          -0.2851115081639871,
          -1.2114845027340753,
          0.06916614368341706,
          0.1591285599517671,
          0.05453521215892846,
          -0.6810073484713328,
          2.8589502284383155,
          -0.5012294716308849,
          1.6502615869672825,
          1.2967876390551507,
          -0.10757536720860636,
          -0.42252750196673766,
          1.1947484804295403,
          -0.395714437875417,
          0.21503690725318397,
          0.42319298537150496,
          -1.7070394815037455,
          0.2886632245298637,
          0.11713281991426203,
          -1.590841654060365,
          0.2983704610660227,
          -1.459872250265605,
          1.6761898403762872,
          0.5399305897011594,
          1.859397226985364,
          -0.09166231163698116,
          0.4606859669210411,
          0.33415746097397353,
          0.027914158981814274,
          0.5974492446391806,
          -0.16239253650338997,
          -1.6435607314478577,
          0.6442208478110065,
          -1.0148388047249859,
          0.9594519440364432,
          -0.44541819871248955,
          -0.886535797155018,
          -1.0310906701974405,
          1.5682064990356273,
          -0.18047306213555087,
          0.7648350111451226,
          0.45585198816044414,
          -0.7528956574004777,
          -0.22824277167503762,
          0.014635252813137507,
          -0.7893010839719782,
          0.6859059684265395,
          -0.8650133123530385,
          -0.15179595809982077,
          -0.15250415179727717,
          -0.0351690914259882,
          2.0661977474856523,
          1.074773180617247,
          -1.4386033815290893,
          1.306654243985068,
          -0.09771618187642477,
          -2.1219455194046253,
          -0.35806526592115173,
          -0.5794297205497703,
          0.6788180144526051,
          0.8037361115157824,
          -1.4809937681016654,
          -2.0178203799844856,
          0.3101821464478711,
          -0.1790669563794227,
          -1.5498694961858306,
          -0.5086716379020376,
          -0.6459186885571588,
          0.3295423928644564,
          -1.0961683497786938,
          -1.5805201999917888,
          0.3933799959004732,
          0.3219084816465848,
          0.2924579434889606,
          -0.10074763128293673,
          -0.03403519839224362,
          2.3332802461496995,
          2.0114018515991834,
          0.7620841513465821,
          -1.1857754510814738,
          -0.582780837007449,
          1.0518815625121487,
          0.20745864997243998,
          0.15382712049177955,
          0.19150932142055335,
          2.0178206629395943,
          -0.6900046114688033,
          -0.977313611536171,
          -0.6851687125391716,
          0.1741431211184333
         ],
         "yaxis": "y3"
        },
        {
         "line": {
          "color": "rgba(128, 128, 128, 1.0)",
          "dash": "solid",
          "shape": "linear",
          "width": 1.3
         },
         "marker": {
          "size": 2,
          "symbol": "circle"
         },
         "mode": "markers",
         "name": "A",
         "text": "",
         "type": "scatter",
         "x": [
          -0.7481175396550206,
          1.2234305898579076,
          -1.976720081584501,
          0.6899477520811974,
          -0.22014339453056606,
          0.09780635699530431,
          0.8471015694289812,
          0.17363529636436545,
          0.8135946557880653,
          -0.7571828256286016,
          0.5833472024472944,
          0.6811442861956457,
          -1.5222725801928654,
          -0.9316056188892309,
          -0.015246748853435677,
          0.017008365382485714,
          -0.15951266427774013,
          1.1288036903682699,
          -0.6541853301837105,
          -0.3900776094359683,
          2.3090029908734238,
          -0.538822815851566,
          -1.236893386536804,
          -1.5169432316935727,
          0.3502145276593857,
          -0.17448199452404328,
          -0.2525100119082364,
          1.4467270083009294,
          0.07531109122271433,
          -1.2152983342793764,
          0.8804196963916894,
          -0.9184712183051706,
          -0.486116029992153,
          -0.43507786054928993,
          -0.3161380617560525,
          0.7157376698697067,
          -1.5227347792653272,
          2.0480204057517044,
          -0.16310384765860617,
          1.1647621554560457,
          1.0690285918981774,
          1.3810609078170664,
          -0.7562734236013121,
          -0.6250334481312175,
          -0.029185759543698415,
          1.1181930854044528,
          -1.445484865057198,
          -0.25978395021108247,
          0.028305979367296067,
          -0.3175739985340123,
          1.1917645653351394,
          -0.8778407588406054,
          0.04564646096547812,
          0.7604554551613494,
          -1.2281162814866209,
          0.17938372398844063,
          1.4199479851829313,
          0.6641356650086911,
          -0.5498942234464932,
          0.48557349149639545,
          -0.9888801054873628,
          0.6287689154184527,
          0.8561306156712443,
          -0.0297555910237018,
          0.14765112806671235,
          -1.3012723755906053,
          -0.7634785487393035,
          1.0649905919989138,
          -0.1639242813541542,
          -0.6358801177872554,
          -0.39370631745779466,
          -0.5433214356048077,
          -0.17489034807411538,
          -0.43484421964010195,
          0.05920097777188008,
          -1.1548850267822388,
          1.4484184396699349,
          0.4102384397802808,
          -0.44617871170704526,
          -0.9363780758969589,
          -0.5849787745512334,
          -0.48347424468438016,
          0.7571699899636907,
          0.16297142152724292,
          -0.42095397857681394,
          -0.7210052490542894,
          -0.9482891619630368,
          0.5785731905309177,
          -0.7104707137780943,
          -0.6357922407901868,
          -2.7717703474575317,
          0.23999801269790413,
          1.5436450139130389,
          0.75568858482363,
          0.657293186888398,
          0.8377978217084416,
          0.810409955932594,
          0.4394048761686608,
          0.20479031941611356,
          2.1560191981439165
         ],
         "xaxis": "x4",
         "y": [
          1.0801251640557836,
          -0.09638858984862315,
          -0.4778206331382923,
          -0.2942173372442018,
          0.04212547757433794,
          -0.21241871665351275,
          0.6157702361721962,
          0.32992005709913946,
          0.6814184853186209,
          -0.401646842512738,
          -0.2851115081639871,
          -1.2114845027340753,
          0.06916614368341706,
          0.1591285599517671,
          0.05453521215892846,
          -0.6810073484713328,
          2.8589502284383155,
          -0.5012294716308849,
          1.6502615869672825,
          1.2967876390551507,
          -0.10757536720860636,
          -0.42252750196673766,
          1.1947484804295403,
          -0.395714437875417,
          0.21503690725318397,
          0.42319298537150496,
          -1.7070394815037455,
          0.2886632245298637,
          0.11713281991426203,
          -1.590841654060365,
          0.2983704610660227,
          -1.459872250265605,
          1.6761898403762872,
          0.5399305897011594,
          1.859397226985364,
          -0.09166231163698116,
          0.4606859669210411,
          0.33415746097397353,
          0.027914158981814274,
          0.5974492446391806,
          -0.16239253650338997,
          -1.6435607314478577,
          0.6442208478110065,
          -1.0148388047249859,
          0.9594519440364432,
          -0.44541819871248955,
          -0.886535797155018,
          -1.0310906701974405,
          1.5682064990356273,
          -0.18047306213555087,
          0.7648350111451226,
          0.45585198816044414,
          -0.7528956574004777,
          -0.22824277167503762,
          0.014635252813137507,
          -0.7893010839719782,
          0.6859059684265395,
          -0.8650133123530385,
          -0.15179595809982077,
          -0.15250415179727717,
          -0.0351690914259882,
          2.0661977474856523,
          1.074773180617247,
          -1.4386033815290893,
          1.306654243985068,
          -0.09771618187642477,
          -2.1219455194046253,
          -0.35806526592115173,
          -0.5794297205497703,
          0.6788180144526051,
          0.8037361115157824,
          -1.4809937681016654,
          -2.0178203799844856,
          0.3101821464478711,
          -0.1790669563794227,
          -1.5498694961858306,
          -0.5086716379020376,
          -0.6459186885571588,
          0.3295423928644564,
          -1.0961683497786938,
          -1.5805201999917888,
          0.3933799959004732,
          0.3219084816465848,
          0.2924579434889606,
          -0.10074763128293673,
          -0.03403519839224362,
          2.3332802461496995,
          2.0114018515991834,
          0.7620841513465821,
          -1.1857754510814738,
          -0.582780837007449,
          1.0518815625121487,
          0.20745864997243998,
          0.15382712049177955,
          0.19150932142055335,
          2.0178206629395943,
          -0.6900046114688033,
          -0.977313611536171,
          -0.6851687125391716,
          0.1741431211184333
         ],
         "yaxis": "y4"
        },
        {
         "line": {
          "color": "rgba(128, 128, 128, 1.0)",
          "dash": "solid",
          "shape": "linear",
          "width": 1.3
         },
         "marker": {
          "size": 2,
          "symbol": "circle"
         },
         "mode": "markers",
         "name": "B",
         "text": "",
         "type": "scatter",
         "x": [
          1.0801251640557836,
          -0.09638858984862315,
          -0.4778206331382923,
          -0.2942173372442018,
          0.04212547757433794,
          -0.21241871665351275,
          0.6157702361721962,
          0.32992005709913946,
          0.6814184853186209,
          -0.401646842512738,
          -0.2851115081639871,
          -1.2114845027340753,
          0.06916614368341706,
          0.1591285599517671,
          0.05453521215892846,
          -0.6810073484713328,
          2.8589502284383155,
          -0.5012294716308849,
          1.6502615869672825,
          1.2967876390551507,
          -0.10757536720860636,
          -0.42252750196673766,
          1.1947484804295403,
          -0.395714437875417,
          0.21503690725318397,
          0.42319298537150496,
          -1.7070394815037455,
          0.2886632245298637,
          0.11713281991426203,
          -1.590841654060365,
          0.2983704610660227,
          -1.459872250265605,
          1.6761898403762872,
          0.5399305897011594,
          1.859397226985364,
          -0.09166231163698116,
          0.4606859669210411,
          0.33415746097397353,
          0.027914158981814274,
          0.5974492446391806,
          -0.16239253650338997,
          -1.6435607314478577,
          0.6442208478110065,
          -1.0148388047249859,
          0.9594519440364432,
          -0.44541819871248955,
          -0.886535797155018,
          -1.0310906701974405,
          1.5682064990356273,
          -0.18047306213555087,
          0.7648350111451226,
          0.45585198816044414,
          -0.7528956574004777,
          -0.22824277167503762,
          0.014635252813137507,
          -0.7893010839719782,
          0.6859059684265395,
          -0.8650133123530385,
          -0.15179595809982077,
          -0.15250415179727717,
          -0.0351690914259882,
          2.0661977474856523,
          1.074773180617247,
          -1.4386033815290893,
          1.306654243985068,
          -0.09771618187642477,
          -2.1219455194046253,
          -0.35806526592115173,
          -0.5794297205497703,
          0.6788180144526051,
          0.8037361115157824,
          -1.4809937681016654,
          -2.0178203799844856,
          0.3101821464478711,
          -0.1790669563794227,
          -1.5498694961858306,
          -0.5086716379020376,
          -0.6459186885571588,
          0.3295423928644564,
          -1.0961683497786938,
          -1.5805201999917888,
          0.3933799959004732,
          0.3219084816465848,
          0.2924579434889606,
          -0.10074763128293673,
          -0.03403519839224362,
          2.3332802461496995,
          2.0114018515991834,
          0.7620841513465821,
          -1.1857754510814738,
          -0.582780837007449,
          1.0518815625121487,
          0.20745864997243998,
          0.15382712049177955,
          0.19150932142055335,
          2.0178206629395943,
          -0.6900046114688033,
          -0.977313611536171,
          -0.6851687125391716,
          0.1741431211184333
         ],
         "xaxis": "x5",
         "y": [
          1.3607841251836796,
          -0.9674674905132706,
          0.3122098362800539,
          -1.9448302439623684,
          1.6135031795380288,
          -0.9716838883329177,
          2.0331012007700022,
          1.652770317992748,
          -1.4578018235628902,
          -1.5732701085155567,
          -0.07607385423638324,
          0.08201682070201322,
          0.2122198422416436,
          -1.9304564495522596,
          -2.3040923217611735,
          0.9130611530966893,
          1.3802584503837574,
          -0.4046830738850893,
          0.07601032667948168,
          0.8976347785160459,
          -0.09003598707624505,
          0.7409346195956898,
          -1.8007196022202219,
          -0.6317000979078795,
          -0.1413757369338316,
          0.6468377284193276,
          0.5381324922017766,
          0.740679491186776,
          -1.204443665274361,
          0.47276969369577587,
          1.127827927590617,
          0.2361165790929499,
          0.24009181716586592,
          -1.3194438103143555,
          -0.38186725209629757,
          -0.7977332724316449,
          2.469920077081317,
          -0.10610371314187877,
          -1.5121692164865521,
          -1.1844023197781017,
          -0.011171440261647346,
          -0.5098884899014533,
          1.8974393146246504,
          -0.16990836365314899,
          -0.6014629305675028,
          -0.8318383576734268,
          -0.03298638585192762,
          0.6062909702192114,
          -0.15800986430627798,
          1.6882608031105024,
          -0.671277450025276,
          -0.820328638105275,
          0.2881868567368972,
          0.5243074034741281,
          0.1285915753539585,
          0.5945487422764267,
          0.19612240560354918,
          -0.9772081243251444,
          -0.023067476057357688,
          0.2389657964904768,
          -0.4983109887694054,
          -0.27292214745955795,
          -0.7670065331174148,
          0.08971936190133252,
          0.05660681638505576,
          -0.9435712987191033,
          0.667349226954366,
          1.1180615456422802,
          -1.375596283258031,
          1.5745623897180148,
          -1.8334282872394294,
          1.6572128822452232,
          2.042726721554889,
          -0.49918497976316645,
          0.6500999327603493,
          2.071292907232663,
          1.3564198989597525,
          0.4812759605501785,
          0.978137026870297,
          -0.38228276955254964,
          -2.3068081170005383,
          -0.8499659630386249,
          -0.14182566772572905,
          -0.029006226358003907,
          0.15691513529743456,
          1.6364792393697691,
          -0.39096557396705495,
          1.289989835188355,
          -0.6079139476948235,
          1.787981154711908,
          -0.9677198312633559,
          0.9800751842228804,
          1.0901319076859644,
          -1.081995774409719,
          -0.1983707845407121,
          0.3630010895250102,
          -0.5657049123972575,
          0.3503979459289591,
          1.005465375591448,
          -0.3704708729101634
         ],
         "yaxis": "y5"
        },
        {
         "histfunc": "count",
         "histnorm": "",
         "marker": {
          "color": "rgba(55, 128, 191, 1.0)",
          "line": {
           "color": "#4D5663",
           "width": 1.3
          }
         },
         "name": "B",
         "nbinsx": 10,
         "opacity": 0.8,
         "orientation": "v",
         "type": "histogram",
         "x": [
          1.3607841251836796,
          -0.9674674905132706,
          0.3122098362800539,
          -1.9448302439623684,
          1.6135031795380288,
          -0.9716838883329177,
          2.0331012007700022,
          1.652770317992748,
          -1.4578018235628902,
          -1.5732701085155567,
          -0.07607385423638324,
          0.08201682070201322,
          0.2122198422416436,
          -1.9304564495522596,
          -2.3040923217611735,
          0.9130611530966893,
          1.3802584503837574,
          -0.4046830738850893,
          0.07601032667948168,
          0.8976347785160459,
          -0.09003598707624505,
          0.7409346195956898,
          -1.8007196022202219,
          -0.6317000979078795,
          -0.1413757369338316,
          0.6468377284193276,
          0.5381324922017766,
          0.740679491186776,
          -1.204443665274361,
          0.47276969369577587,
          1.127827927590617,
          0.2361165790929499,
          0.24009181716586592,
          -1.3194438103143555,
          -0.38186725209629757,
          -0.7977332724316449,
          2.469920077081317,
          -0.10610371314187877,
          -1.5121692164865521,
          -1.1844023197781017,
          -0.011171440261647346,
          -0.5098884899014533,
          1.8974393146246504,
          -0.16990836365314899,
          -0.6014629305675028,
          -0.8318383576734268,
          -0.03298638585192762,
          0.6062909702192114,
          -0.15800986430627798,
          1.6882608031105024,
          -0.671277450025276,
          -0.820328638105275,
          0.2881868567368972,
          0.5243074034741281,
          0.1285915753539585,
          0.5945487422764267,
          0.19612240560354918,
          -0.9772081243251444,
          -0.023067476057357688,
          0.2389657964904768,
          -0.4983109887694054,
          -0.27292214745955795,
          -0.7670065331174148,
          0.08971936190133252,
          0.05660681638505576,
          -0.9435712987191033,
          0.667349226954366,
          1.1180615456422802,
          -1.375596283258031,
          1.5745623897180148,
          -1.8334282872394294,
          1.6572128822452232,
          2.042726721554889,
          -0.49918497976316645,
          0.6500999327603493,
          2.071292907232663,
          1.3564198989597525,
          0.4812759605501785,
          0.978137026870297,
          -0.38228276955254964,
          -2.3068081170005383,
          -0.8499659630386249,
          -0.14182566772572905,
          -0.029006226358003907,
          0.15691513529743456,
          1.6364792393697691,
          -0.39096557396705495,
          1.289989835188355,
          -0.6079139476948235,
          1.787981154711908,
          -0.9677198312633559,
          0.9800751842228804,
          1.0901319076859644,
          -1.081995774409719,
          -0.1983707845407121,
          0.3630010895250102,
          -0.5657049123972575,
          0.3503979459289591,
          1.005465375591448,
          -0.3704708729101634
         ],
         "xaxis": "x6",
         "yaxis": "y6"
        },
        {
         "line": {
          "color": "rgba(128, 128, 128, 1.0)",
          "dash": "solid",
          "shape": "linear",
          "width": 1.3
         },
         "marker": {
          "size": 2,
          "symbol": "circle"
         },
         "mode": "markers",
         "name": "B",
         "text": "",
         "type": "scatter",
         "x": [
          0.702767431533642,
          2.4130266328026875,
          1.0247116988576892,
          1.1683727821289778,
          -1.3056717628835188,
          -0.9616928382289589,
          -1.4969575112466853,
          -0.6365153296307634,
          0.11217914666770475,
          1.2144287765738433,
          -0.6495486019328311,
          -0.19639525020624254,
          -0.00802132540888039,
          0.02694614454660426,
          -0.528954231674728,
          1.5706058322517387,
          0.4820803948391646,
          0.4206337344540275,
          0.10591315631999255,
          0.7937826774382816,
          0.144104101401556,
          -1.3887166806425755,
          1.6326366443060474,
          -0.18027878873270034,
          0.826296296089968,
          -0.2580101564367002,
          -0.6688867058712796,
          0.7378586244711566,
          1.921519209242429,
          -0.22669263844505874,
          -0.36584692112998235,
          1.6384095185283776,
          0.8125504647072437,
          -0.49031400400566966,
          0.7741652466697522,
          -0.22213464090142843,
          -0.2527107376648289,
          -1.605821524503842,
          0.9109145605827451,
          -1.9943612002091708,
          0.9332459593082034,
          0.866333413662675,
          1.6820321612890714,
          -0.07671391298756125,
          0.1738989493806357,
          -1.5804953182696397,
          1.0460186545875654,
          -0.16110376935988216,
          -0.5617610909222606,
          0.07581562577893483,
          -0.03552371262803585,
          0.4269245996611502,
          -0.6496427509906124,
          1.675109322453891,
          -0.7148743282459987,
          -1.687744547155932,
          -0.8191850962643112,
          0.5259046079873353,
          -0.3248846951260035,
          -1.6750635846039788,
          -0.6121564366027149,
          0.27626692155815863,
          1.6358128717285716,
          0.8492940238752041,
          0.3355667863277014,
          -0.013777162449761769,
          -0.3604674654475875,
          -0.9326775784452925,
          0.7189623537867452,
          0.4222208695106275,
          -0.3443113071071108,
          -0.6763998146568629,
          -0.248286139854172,
          -0.2448649987359036,
          -1.8227067665030514,
          0.8846947920126711,
          -1.6132360765385587,
          -1.554804906148493,
          -0.5124269413107482,
          -0.5867457557616809,
          -0.08872399849448215,
          0.44346757039634555,
          2.055498002435792,
          -0.5266791467291811,
          0.717310741953486,
          -0.9514008286056141,
          -0.30449684289472284,
          -0.25453425475848257,
          0.22712846218402372,
          0.2791783359077579,
          -0.9906830706778221,
          0.4810098473856099,
          1.0125421345872334,
          1.358913896745162,
          -1.1362324711337033,
          -1.0732819075861326,
          -1.4031717704942892,
          -0.9452636455237585,
          0.062344609433789444,
          -0.02768845426741946
         ],
         "xaxis": "x7",
         "y": [
          1.3607841251836796,
          -0.9674674905132706,
          0.3122098362800539,
          -1.9448302439623684,
          1.6135031795380288,
          -0.9716838883329177,
          2.0331012007700022,
          1.652770317992748,
          -1.4578018235628902,
          -1.5732701085155567,
          -0.07607385423638324,
          0.08201682070201322,
          0.2122198422416436,
          -1.9304564495522596,
          -2.3040923217611735,
          0.9130611530966893,
          1.3802584503837574,
          -0.4046830738850893,
          0.07601032667948168,
          0.8976347785160459,
          -0.09003598707624505,
          0.7409346195956898,
          -1.8007196022202219,
          -0.6317000979078795,
          -0.1413757369338316,
          0.6468377284193276,
          0.5381324922017766,
          0.740679491186776,
          -1.204443665274361,
          0.47276969369577587,
          1.127827927590617,
          0.2361165790929499,
          0.24009181716586592,
          -1.3194438103143555,
          -0.38186725209629757,
          -0.7977332724316449,
          2.469920077081317,
          -0.10610371314187877,
          -1.5121692164865521,
          -1.1844023197781017,
          -0.011171440261647346,
          -0.5098884899014533,
          1.8974393146246504,
          -0.16990836365314899,
          -0.6014629305675028,
          -0.8318383576734268,
          -0.03298638585192762,
          0.6062909702192114,
          -0.15800986430627798,
          1.6882608031105024,
          -0.671277450025276,
          -0.820328638105275,
          0.2881868567368972,
          0.5243074034741281,
          0.1285915753539585,
          0.5945487422764267,
          0.19612240560354918,
          -0.9772081243251444,
          -0.023067476057357688,
          0.2389657964904768,
          -0.4983109887694054,
          -0.27292214745955795,
          -0.7670065331174148,
          0.08971936190133252,
          0.05660681638505576,
          -0.9435712987191033,
          0.667349226954366,
          1.1180615456422802,
          -1.375596283258031,
          1.5745623897180148,
          -1.8334282872394294,
          1.6572128822452232,
          2.042726721554889,
          -0.49918497976316645,
          0.6500999327603493,
          2.071292907232663,
          1.3564198989597525,
          0.4812759605501785,
          0.978137026870297,
          -0.38228276955254964,
          -2.3068081170005383,
          -0.8499659630386249,
          -0.14182566772572905,
          -0.029006226358003907,
          0.15691513529743456,
          1.6364792393697691,
          -0.39096557396705495,
          1.289989835188355,
          -0.6079139476948235,
          1.787981154711908,
          -0.9677198312633559,
          0.9800751842228804,
          1.0901319076859644,
          -1.081995774409719,
          -0.1983707845407121,
          0.3630010895250102,
          -0.5657049123972575,
          0.3503979459289591,
          1.005465375591448,
          -0.3704708729101634
         ],
         "yaxis": "y7"
        },
        {
         "line": {
          "color": "rgba(128, 128, 128, 1.0)",
          "dash": "solid",
          "shape": "linear",
          "width": 1.3
         },
         "marker": {
          "size": 2,
          "symbol": "circle"
         },
         "mode": "markers",
         "name": "B",
         "text": "",
         "type": "scatter",
         "x": [
          -0.7481175396550206,
          1.2234305898579076,
          -1.976720081584501,
          0.6899477520811974,
          -0.22014339453056606,
          0.09780635699530431,
          0.8471015694289812,
          0.17363529636436545,
          0.8135946557880653,
          -0.7571828256286016,
          0.5833472024472944,
          0.6811442861956457,
          -1.5222725801928654,
          -0.9316056188892309,
          -0.015246748853435677,
          0.017008365382485714,
          -0.15951266427774013,
          1.1288036903682699,
          -0.6541853301837105,
          -0.3900776094359683,
          2.3090029908734238,
          -0.538822815851566,
          -1.236893386536804,
          -1.5169432316935727,
          0.3502145276593857,
          -0.17448199452404328,
          -0.2525100119082364,
          1.4467270083009294,
          0.07531109122271433,
          -1.2152983342793764,
          0.8804196963916894,
          -0.9184712183051706,
          -0.486116029992153,
          -0.43507786054928993,
          -0.3161380617560525,
          0.7157376698697067,
          -1.5227347792653272,
          2.0480204057517044,
          -0.16310384765860617,
          1.1647621554560457,
          1.0690285918981774,
          1.3810609078170664,
          -0.7562734236013121,
          -0.6250334481312175,
          -0.029185759543698415,
          1.1181930854044528,
          -1.445484865057198,
          -0.25978395021108247,
          0.028305979367296067,
          -0.3175739985340123,
          1.1917645653351394,
          -0.8778407588406054,
          0.04564646096547812,
          0.7604554551613494,
          -1.2281162814866209,
          0.17938372398844063,
          1.4199479851829313,
          0.6641356650086911,
          -0.5498942234464932,
          0.48557349149639545,
          -0.9888801054873628,
          0.6287689154184527,
          0.8561306156712443,
          -0.0297555910237018,
          0.14765112806671235,
          -1.3012723755906053,
          -0.7634785487393035,
          1.0649905919989138,
          -0.1639242813541542,
          -0.6358801177872554,
          -0.39370631745779466,
          -0.5433214356048077,
          -0.17489034807411538,
          -0.43484421964010195,
          0.05920097777188008,
          -1.1548850267822388,
          1.4484184396699349,
          0.4102384397802808,
          -0.44617871170704526,
          -0.9363780758969589,
          -0.5849787745512334,
          -0.48347424468438016,
          0.7571699899636907,
          0.16297142152724292,
          -0.42095397857681394,
          -0.7210052490542894,
          -0.9482891619630368,
          0.5785731905309177,
          -0.7104707137780943,
          -0.6357922407901868,
          -2.7717703474575317,
          0.23999801269790413,
          1.5436450139130389,
          0.75568858482363,
          0.657293186888398,
          0.8377978217084416,
          0.810409955932594,
          0.4394048761686608,
          0.20479031941611356,
          2.1560191981439165
         ],
         "xaxis": "x8",
         "y": [
          1.3607841251836796,
          -0.9674674905132706,
          0.3122098362800539,
          -1.9448302439623684,
          1.6135031795380288,
          -0.9716838883329177,
          2.0331012007700022,
          1.652770317992748,
          -1.4578018235628902,
          -1.5732701085155567,
          -0.07607385423638324,
          0.08201682070201322,
          0.2122198422416436,
          -1.9304564495522596,
          -2.3040923217611735,
          0.9130611530966893,
          1.3802584503837574,
          -0.4046830738850893,
          0.07601032667948168,
          0.8976347785160459,
          -0.09003598707624505,
          0.7409346195956898,
          -1.8007196022202219,
          -0.6317000979078795,
          -0.1413757369338316,
          0.6468377284193276,
          0.5381324922017766,
          0.740679491186776,
          -1.204443665274361,
          0.47276969369577587,
          1.127827927590617,
          0.2361165790929499,
          0.24009181716586592,
          -1.3194438103143555,
          -0.38186725209629757,
          -0.7977332724316449,
          2.469920077081317,
          -0.10610371314187877,
          -1.5121692164865521,
          -1.1844023197781017,
          -0.011171440261647346,
          -0.5098884899014533,
          1.8974393146246504,
          -0.16990836365314899,
          -0.6014629305675028,
          -0.8318383576734268,
          -0.03298638585192762,
          0.6062909702192114,
          -0.15800986430627798,
          1.6882608031105024,
          -0.671277450025276,
          -0.820328638105275,
          0.2881868567368972,
          0.5243074034741281,
          0.1285915753539585,
          0.5945487422764267,
          0.19612240560354918,
          -0.9772081243251444,
          -0.023067476057357688,
          0.2389657964904768,
          -0.4983109887694054,
          -0.27292214745955795,
          -0.7670065331174148,
          0.08971936190133252,
          0.05660681638505576,
          -0.9435712987191033,
          0.667349226954366,
          1.1180615456422802,
          -1.375596283258031,
          1.5745623897180148,
          -1.8334282872394294,
          1.6572128822452232,
          2.042726721554889,
          -0.49918497976316645,
          0.6500999327603493,
          2.071292907232663,
          1.3564198989597525,
          0.4812759605501785,
          0.978137026870297,
          -0.38228276955254964,
          -2.3068081170005383,
          -0.8499659630386249,
          -0.14182566772572905,
          -0.029006226358003907,
          0.15691513529743456,
          1.6364792393697691,
          -0.39096557396705495,
          1.289989835188355,
          -0.6079139476948235,
          1.787981154711908,
          -0.9677198312633559,
          0.9800751842228804,
          1.0901319076859644,
          -1.081995774409719,
          -0.1983707845407121,
          0.3630010895250102,
          -0.5657049123972575,
          0.3503979459289591,
          1.005465375591448,
          -0.3704708729101634
         ],
         "yaxis": "y8"
        },
        {
         "line": {
          "color": "rgba(128, 128, 128, 1.0)",
          "dash": "solid",
          "shape": "linear",
          "width": 1.3
         },
         "marker": {
          "size": 2,
          "symbol": "circle"
         },
         "mode": "markers",
         "name": "C",
         "text": "",
         "type": "scatter",
         "x": [
          1.0801251640557836,
          -0.09638858984862315,
          -0.4778206331382923,
          -0.2942173372442018,
          0.04212547757433794,
          -0.21241871665351275,
          0.6157702361721962,
          0.32992005709913946,
          0.6814184853186209,
          -0.401646842512738,
          -0.2851115081639871,
          -1.2114845027340753,
          0.06916614368341706,
          0.1591285599517671,
          0.05453521215892846,
          -0.6810073484713328,
          2.8589502284383155,
          -0.5012294716308849,
          1.6502615869672825,
          1.2967876390551507,
          -0.10757536720860636,
          -0.42252750196673766,
          1.1947484804295403,
          -0.395714437875417,
          0.21503690725318397,
          0.42319298537150496,
          -1.7070394815037455,
          0.2886632245298637,
          0.11713281991426203,
          -1.590841654060365,
          0.2983704610660227,
          -1.459872250265605,
          1.6761898403762872,
          0.5399305897011594,
          1.859397226985364,
          -0.09166231163698116,
          0.4606859669210411,
          0.33415746097397353,
          0.027914158981814274,
          0.5974492446391806,
          -0.16239253650338997,
          -1.6435607314478577,
          0.6442208478110065,
          -1.0148388047249859,
          0.9594519440364432,
          -0.44541819871248955,
          -0.886535797155018,
          -1.0310906701974405,
          1.5682064990356273,
          -0.18047306213555087,
          0.7648350111451226,
          0.45585198816044414,
          -0.7528956574004777,
          -0.22824277167503762,
          0.014635252813137507,
          -0.7893010839719782,
          0.6859059684265395,
          -0.8650133123530385,
          -0.15179595809982077,
          -0.15250415179727717,
          -0.0351690914259882,
          2.0661977474856523,
          1.074773180617247,
          -1.4386033815290893,
          1.306654243985068,
          -0.09771618187642477,
          -2.1219455194046253,
          -0.35806526592115173,
          -0.5794297205497703,
          0.6788180144526051,
          0.8037361115157824,
          -1.4809937681016654,
          -2.0178203799844856,
          0.3101821464478711,
          -0.1790669563794227,
          -1.5498694961858306,
          -0.5086716379020376,
          -0.6459186885571588,
          0.3295423928644564,
          -1.0961683497786938,
          -1.5805201999917888,
          0.3933799959004732,
          0.3219084816465848,
          0.2924579434889606,
          -0.10074763128293673,
          -0.03403519839224362,
          2.3332802461496995,
          2.0114018515991834,
          0.7620841513465821,
          -1.1857754510814738,
          -0.582780837007449,
          1.0518815625121487,
          0.20745864997243998,
          0.15382712049177955,
          0.19150932142055335,
          2.0178206629395943,
          -0.6900046114688033,
          -0.977313611536171,
          -0.6851687125391716,
          0.1741431211184333
         ],
         "xaxis": "x9",
         "y": [
          0.702767431533642,
          2.4130266328026875,
          1.0247116988576892,
          1.1683727821289778,
          -1.3056717628835188,
          -0.9616928382289589,
          -1.4969575112466853,
          -0.6365153296307634,
          0.11217914666770475,
          1.2144287765738433,
          -0.6495486019328311,
          -0.19639525020624254,
          -0.00802132540888039,
          0.02694614454660426,
          -0.528954231674728,
          1.5706058322517387,
          0.4820803948391646,
          0.4206337344540275,
          0.10591315631999255,
          0.7937826774382816,
          0.144104101401556,
          -1.3887166806425755,
          1.6326366443060474,
          -0.18027878873270034,
          0.826296296089968,
          -0.2580101564367002,
          -0.6688867058712796,
          0.7378586244711566,
          1.921519209242429,
          -0.22669263844505874,
          -0.36584692112998235,
          1.6384095185283776,
          0.8125504647072437,
          -0.49031400400566966,
          0.7741652466697522,
          -0.22213464090142843,
          -0.2527107376648289,
          -1.605821524503842,
          0.9109145605827451,
          -1.9943612002091708,
          0.9332459593082034,
          0.866333413662675,
          1.6820321612890714,
          -0.07671391298756125,
          0.1738989493806357,
          -1.5804953182696397,
          1.0460186545875654,
          -0.16110376935988216,
          -0.5617610909222606,
          0.07581562577893483,
          -0.03552371262803585,
          0.4269245996611502,
          -0.6496427509906124,
          1.675109322453891,
          -0.7148743282459987,
          -1.687744547155932,
          -0.8191850962643112,
          0.5259046079873353,
          -0.3248846951260035,
          -1.6750635846039788,
          -0.6121564366027149,
          0.27626692155815863,
          1.6358128717285716,
          0.8492940238752041,
          0.3355667863277014,
          -0.013777162449761769,
          -0.3604674654475875,
          -0.9326775784452925,
          0.7189623537867452,
          0.4222208695106275,
          -0.3443113071071108,
          -0.6763998146568629,
          -0.248286139854172,
          -0.2448649987359036,
          -1.8227067665030514,
          0.8846947920126711,
          -1.6132360765385587,
          -1.554804906148493,
          -0.5124269413107482,
          -0.5867457557616809,
          -0.08872399849448215,
          0.44346757039634555,
          2.055498002435792,
          -0.5266791467291811,
          0.717310741953486,
          -0.9514008286056141,
          -0.30449684289472284,
          -0.25453425475848257,
          0.22712846218402372,
          0.2791783359077579,
          -0.9906830706778221,
          0.4810098473856099,
          1.0125421345872334,
          1.358913896745162,
          -1.1362324711337033,
          -1.0732819075861326,
          -1.4031717704942892,
          -0.9452636455237585,
          0.062344609433789444,
          -0.02768845426741946
         ],
         "yaxis": "y9"
        },
        {
         "line": {
          "color": "rgba(128, 128, 128, 1.0)",
          "dash": "solid",
          "shape": "linear",
          "width": 1.3
         },
         "marker": {
          "size": 2,
          "symbol": "circle"
         },
         "mode": "markers",
         "name": "C",
         "text": "",
         "type": "scatter",
         "x": [
          1.3607841251836796,
          -0.9674674905132706,
          0.3122098362800539,
          -1.9448302439623684,
          1.6135031795380288,
          -0.9716838883329177,
          2.0331012007700022,
          1.652770317992748,
          -1.4578018235628902,
          -1.5732701085155567,
          -0.07607385423638324,
          0.08201682070201322,
          0.2122198422416436,
          -1.9304564495522596,
          -2.3040923217611735,
          0.9130611530966893,
          1.3802584503837574,
          -0.4046830738850893,
          0.07601032667948168,
          0.8976347785160459,
          -0.09003598707624505,
          0.7409346195956898,
          -1.8007196022202219,
          -0.6317000979078795,
          -0.1413757369338316,
          0.6468377284193276,
          0.5381324922017766,
          0.740679491186776,
          -1.204443665274361,
          0.47276969369577587,
          1.127827927590617,
          0.2361165790929499,
          0.24009181716586592,
          -1.3194438103143555,
          -0.38186725209629757,
          -0.7977332724316449,
          2.469920077081317,
          -0.10610371314187877,
          -1.5121692164865521,
          -1.1844023197781017,
          -0.011171440261647346,
          -0.5098884899014533,
          1.8974393146246504,
          -0.16990836365314899,
          -0.6014629305675028,
          -0.8318383576734268,
          -0.03298638585192762,
          0.6062909702192114,
          -0.15800986430627798,
          1.6882608031105024,
          -0.671277450025276,
          -0.820328638105275,
          0.2881868567368972,
          0.5243074034741281,
          0.1285915753539585,
          0.5945487422764267,
          0.19612240560354918,
          -0.9772081243251444,
          -0.023067476057357688,
          0.2389657964904768,
          -0.4983109887694054,
          -0.27292214745955795,
          -0.7670065331174148,
          0.08971936190133252,
          0.05660681638505576,
          -0.9435712987191033,
          0.667349226954366,
          1.1180615456422802,
          -1.375596283258031,
          1.5745623897180148,
          -1.8334282872394294,
          1.6572128822452232,
          2.042726721554889,
          -0.49918497976316645,
          0.6500999327603493,
          2.071292907232663,
          1.3564198989597525,
          0.4812759605501785,
          0.978137026870297,
          -0.38228276955254964,
          -2.3068081170005383,
          -0.8499659630386249,
          -0.14182566772572905,
          -0.029006226358003907,
          0.15691513529743456,
          1.6364792393697691,
          -0.39096557396705495,
          1.289989835188355,
          -0.6079139476948235,
          1.787981154711908,
          -0.9677198312633559,
          0.9800751842228804,
          1.0901319076859644,
          -1.081995774409719,
          -0.1983707845407121,
          0.3630010895250102,
          -0.5657049123972575,
          0.3503979459289591,
          1.005465375591448,
          -0.3704708729101634
         ],
         "xaxis": "x10",
         "y": [
          0.702767431533642,
          2.4130266328026875,
          1.0247116988576892,
          1.1683727821289778,
          -1.3056717628835188,
          -0.9616928382289589,
          -1.4969575112466853,
          -0.6365153296307634,
          0.11217914666770475,
          1.2144287765738433,
          -0.6495486019328311,
          -0.19639525020624254,
          -0.00802132540888039,
          0.02694614454660426,
          -0.528954231674728,
          1.5706058322517387,
          0.4820803948391646,
          0.4206337344540275,
          0.10591315631999255,
          0.7937826774382816,
          0.144104101401556,
          -1.3887166806425755,
          1.6326366443060474,
          -0.18027878873270034,
          0.826296296089968,
          -0.2580101564367002,
          -0.6688867058712796,
          0.7378586244711566,
          1.921519209242429,
          -0.22669263844505874,
          -0.36584692112998235,
          1.6384095185283776,
          0.8125504647072437,
          -0.49031400400566966,
          0.7741652466697522,
          -0.22213464090142843,
          -0.2527107376648289,
          -1.605821524503842,
          0.9109145605827451,
          -1.9943612002091708,
          0.9332459593082034,
          0.866333413662675,
          1.6820321612890714,
          -0.07671391298756125,
          0.1738989493806357,
          -1.5804953182696397,
          1.0460186545875654,
          -0.16110376935988216,
          -0.5617610909222606,
          0.07581562577893483,
          -0.03552371262803585,
          0.4269245996611502,
          -0.6496427509906124,
          1.675109322453891,
          -0.7148743282459987,
          -1.687744547155932,
          -0.8191850962643112,
          0.5259046079873353,
          -0.3248846951260035,
          -1.6750635846039788,
          -0.6121564366027149,
          0.27626692155815863,
          1.6358128717285716,
          0.8492940238752041,
          0.3355667863277014,
          -0.013777162449761769,
          -0.3604674654475875,
          -0.9326775784452925,
          0.7189623537867452,
          0.4222208695106275,
          -0.3443113071071108,
          -0.6763998146568629,
          -0.248286139854172,
          -0.2448649987359036,
          -1.8227067665030514,
          0.8846947920126711,
          -1.6132360765385587,
          -1.554804906148493,
          -0.5124269413107482,
          -0.5867457557616809,
          -0.08872399849448215,
          0.44346757039634555,
          2.055498002435792,
          -0.5266791467291811,
          0.717310741953486,
          -0.9514008286056141,
          -0.30449684289472284,
          -0.25453425475848257,
          0.22712846218402372,
          0.2791783359077579,
          -0.9906830706778221,
          0.4810098473856099,
          1.0125421345872334,
          1.358913896745162,
          -1.1362324711337033,
          -1.0732819075861326,
          -1.4031717704942892,
          -0.9452636455237585,
          0.062344609433789444,
          -0.02768845426741946
         ],
         "yaxis": "y10"
        },
        {
         "histfunc": "count",
         "histnorm": "",
         "marker": {
          "color": "rgba(50, 171, 96, 1.0)",
          "line": {
           "color": "#4D5663",
           "width": 1.3
          }
         },
         "name": "C",
         "nbinsx": 10,
         "opacity": 0.8,
         "orientation": "v",
         "type": "histogram",
         "x": [
          0.702767431533642,
          2.4130266328026875,
          1.0247116988576892,
          1.1683727821289778,
          -1.3056717628835188,
          -0.9616928382289589,
          -1.4969575112466853,
          -0.6365153296307634,
          0.11217914666770475,
          1.2144287765738433,
          -0.6495486019328311,
          -0.19639525020624254,
          -0.00802132540888039,
          0.02694614454660426,
          -0.528954231674728,
          1.5706058322517387,
          0.4820803948391646,
          0.4206337344540275,
          0.10591315631999255,
          0.7937826774382816,
          0.144104101401556,
          -1.3887166806425755,
          1.6326366443060474,
          -0.18027878873270034,
          0.826296296089968,
          -0.2580101564367002,
          -0.6688867058712796,
          0.7378586244711566,
          1.921519209242429,
          -0.22669263844505874,
          -0.36584692112998235,
          1.6384095185283776,
          0.8125504647072437,
          -0.49031400400566966,
          0.7741652466697522,
          -0.22213464090142843,
          -0.2527107376648289,
          -1.605821524503842,
          0.9109145605827451,
          -1.9943612002091708,
          0.9332459593082034,
          0.866333413662675,
          1.6820321612890714,
          -0.07671391298756125,
          0.1738989493806357,
          -1.5804953182696397,
          1.0460186545875654,
          -0.16110376935988216,
          -0.5617610909222606,
          0.07581562577893483,
          -0.03552371262803585,
          0.4269245996611502,
          -0.6496427509906124,
          1.675109322453891,
          -0.7148743282459987,
          -1.687744547155932,
          -0.8191850962643112,
          0.5259046079873353,
          -0.3248846951260035,
          -1.6750635846039788,
          -0.6121564366027149,
          0.27626692155815863,
          1.6358128717285716,
          0.8492940238752041,
          0.3355667863277014,
          -0.013777162449761769,
          -0.3604674654475875,
          -0.9326775784452925,
          0.7189623537867452,
          0.4222208695106275,
          -0.3443113071071108,
          -0.6763998146568629,
          -0.248286139854172,
          -0.2448649987359036,
          -1.8227067665030514,
          0.8846947920126711,
          -1.6132360765385587,
          -1.554804906148493,
          -0.5124269413107482,
          -0.5867457557616809,
          -0.08872399849448215,
          0.44346757039634555,
          2.055498002435792,
          -0.5266791467291811,
          0.717310741953486,
          -0.9514008286056141,
          -0.30449684289472284,
          -0.25453425475848257,
          0.22712846218402372,
          0.2791783359077579,
          -0.9906830706778221,
          0.4810098473856099,
          1.0125421345872334,
          1.358913896745162,
          -1.1362324711337033,
          -1.0732819075861326,
          -1.4031717704942892,
          -0.9452636455237585,
          0.062344609433789444,
          -0.02768845426741946
         ],
         "xaxis": "x11",
         "yaxis": "y11"
        },
        {
         "line": {
          "color": "rgba(128, 128, 128, 1.0)",
          "dash": "solid",
          "shape": "linear",
          "width": 1.3
         },
         "marker": {
          "size": 2,
          "symbol": "circle"
         },
         "mode": "markers",
         "name": "C",
         "text": "",
         "type": "scatter",
         "x": [
          -0.7481175396550206,
          1.2234305898579076,
          -1.976720081584501,
          0.6899477520811974,
          -0.22014339453056606,
          0.09780635699530431,
          0.8471015694289812,
          0.17363529636436545,
          0.8135946557880653,
          -0.7571828256286016,
          0.5833472024472944,
          0.6811442861956457,
          -1.5222725801928654,
          -0.9316056188892309,
          -0.015246748853435677,
          0.017008365382485714,
          -0.15951266427774013,
          1.1288036903682699,
          -0.6541853301837105,
          -0.3900776094359683,
          2.3090029908734238,
          -0.538822815851566,
          -1.236893386536804,
          -1.5169432316935727,
          0.3502145276593857,
          -0.17448199452404328,
          -0.2525100119082364,
          1.4467270083009294,
          0.07531109122271433,
          -1.2152983342793764,
          0.8804196963916894,
          -0.9184712183051706,
          -0.486116029992153,
          -0.43507786054928993,
          -0.3161380617560525,
          0.7157376698697067,
          -1.5227347792653272,
          2.0480204057517044,
          -0.16310384765860617,
          1.1647621554560457,
          1.0690285918981774,
          1.3810609078170664,
          -0.7562734236013121,
          -0.6250334481312175,
          -0.029185759543698415,
          1.1181930854044528,
          -1.445484865057198,
          -0.25978395021108247,
          0.028305979367296067,
          -0.3175739985340123,
          1.1917645653351394,
          -0.8778407588406054,
          0.04564646096547812,
          0.7604554551613494,
          -1.2281162814866209,
          0.17938372398844063,
          1.4199479851829313,
          0.6641356650086911,
          -0.5498942234464932,
          0.48557349149639545,
          -0.9888801054873628,
          0.6287689154184527,
          0.8561306156712443,
          -0.0297555910237018,
          0.14765112806671235,
          -1.3012723755906053,
          -0.7634785487393035,
          1.0649905919989138,
          -0.1639242813541542,
          -0.6358801177872554,
          -0.39370631745779466,
          -0.5433214356048077,
          -0.17489034807411538,
          -0.43484421964010195,
          0.05920097777188008,
          -1.1548850267822388,
          1.4484184396699349,
          0.4102384397802808,
          -0.44617871170704526,
          -0.9363780758969589,
          -0.5849787745512334,
          -0.48347424468438016,
          0.7571699899636907,
          0.16297142152724292,
          -0.42095397857681394,
          -0.7210052490542894,
          -0.9482891619630368,
          0.5785731905309177,
          -0.7104707137780943,
          -0.6357922407901868,
          -2.7717703474575317,
          0.23999801269790413,
          1.5436450139130389,
          0.75568858482363,
          0.657293186888398,
          0.8377978217084416,
          0.810409955932594,
          0.4394048761686608,
          0.20479031941611356,
          2.1560191981439165
         ],
         "xaxis": "x12",
         "y": [
          0.702767431533642,
          2.4130266328026875,
          1.0247116988576892,
          1.1683727821289778,
          -1.3056717628835188,
          -0.9616928382289589,
          -1.4969575112466853,
          -0.6365153296307634,
          0.11217914666770475,
          1.2144287765738433,
          -0.6495486019328311,
          -0.19639525020624254,
          -0.00802132540888039,
          0.02694614454660426,
          -0.528954231674728,
          1.5706058322517387,
          0.4820803948391646,
          0.4206337344540275,
          0.10591315631999255,
          0.7937826774382816,
          0.144104101401556,
          -1.3887166806425755,
          1.6326366443060474,
          -0.18027878873270034,
          0.826296296089968,
          -0.2580101564367002,
          -0.6688867058712796,
          0.7378586244711566,
          1.921519209242429,
          -0.22669263844505874,
          -0.36584692112998235,
          1.6384095185283776,
          0.8125504647072437,
          -0.49031400400566966,
          0.7741652466697522,
          -0.22213464090142843,
          -0.2527107376648289,
          -1.605821524503842,
          0.9109145605827451,
          -1.9943612002091708,
          0.9332459593082034,
          0.866333413662675,
          1.6820321612890714,
          -0.07671391298756125,
          0.1738989493806357,
          -1.5804953182696397,
          1.0460186545875654,
          -0.16110376935988216,
          -0.5617610909222606,
          0.07581562577893483,
          -0.03552371262803585,
          0.4269245996611502,
          -0.6496427509906124,
          1.675109322453891,
          -0.7148743282459987,
          -1.687744547155932,
          -0.8191850962643112,
          0.5259046079873353,
          -0.3248846951260035,
          -1.6750635846039788,
          -0.6121564366027149,
          0.27626692155815863,
          1.6358128717285716,
          0.8492940238752041,
          0.3355667863277014,
          -0.013777162449761769,
          -0.3604674654475875,
          -0.9326775784452925,
          0.7189623537867452,
          0.4222208695106275,
          -0.3443113071071108,
          -0.6763998146568629,
          -0.248286139854172,
          -0.2448649987359036,
          -1.8227067665030514,
          0.8846947920126711,
          -1.6132360765385587,
          -1.554804906148493,
          -0.5124269413107482,
          -0.5867457557616809,
          -0.08872399849448215,
          0.44346757039634555,
          2.055498002435792,
          -0.5266791467291811,
          0.717310741953486,
          -0.9514008286056141,
          -0.30449684289472284,
          -0.25453425475848257,
          0.22712846218402372,
          0.2791783359077579,
          -0.9906830706778221,
          0.4810098473856099,
          1.0125421345872334,
          1.358913896745162,
          -1.1362324711337033,
          -1.0732819075861326,
          -1.4031717704942892,
          -0.9452636455237585,
          0.062344609433789444,
          -0.02768845426741946
         ],
         "yaxis": "y12"
        },
        {
         "line": {
          "color": "rgba(128, 128, 128, 1.0)",
          "dash": "solid",
          "shape": "linear",
          "width": 1.3
         },
         "marker": {
          "size": 2,
          "symbol": "circle"
         },
         "mode": "markers",
         "name": "D",
         "text": "",
         "type": "scatter",
         "x": [
          1.0801251640557836,
          -0.09638858984862315,
          -0.4778206331382923,
          -0.2942173372442018,
          0.04212547757433794,
          -0.21241871665351275,
          0.6157702361721962,
          0.32992005709913946,
          0.6814184853186209,
          -0.401646842512738,
          -0.2851115081639871,
          -1.2114845027340753,
          0.06916614368341706,
          0.1591285599517671,
          0.05453521215892846,
          -0.6810073484713328,
          2.8589502284383155,
          -0.5012294716308849,
          1.6502615869672825,
          1.2967876390551507,
          -0.10757536720860636,
          -0.42252750196673766,
          1.1947484804295403,
          -0.395714437875417,
          0.21503690725318397,
          0.42319298537150496,
          -1.7070394815037455,
          0.2886632245298637,
          0.11713281991426203,
          -1.590841654060365,
          0.2983704610660227,
          -1.459872250265605,
          1.6761898403762872,
          0.5399305897011594,
          1.859397226985364,
          -0.09166231163698116,
          0.4606859669210411,
          0.33415746097397353,
          0.027914158981814274,
          0.5974492446391806,
          -0.16239253650338997,
          -1.6435607314478577,
          0.6442208478110065,
          -1.0148388047249859,
          0.9594519440364432,
          -0.44541819871248955,
          -0.886535797155018,
          -1.0310906701974405,
          1.5682064990356273,
          -0.18047306213555087,
          0.7648350111451226,
          0.45585198816044414,
          -0.7528956574004777,
          -0.22824277167503762,
          0.014635252813137507,
          -0.7893010839719782,
          0.6859059684265395,
          -0.8650133123530385,
          -0.15179595809982077,
          -0.15250415179727717,
          -0.0351690914259882,
          2.0661977474856523,
          1.074773180617247,
          -1.4386033815290893,
          1.306654243985068,
          -0.09771618187642477,
          -2.1219455194046253,
          -0.35806526592115173,
          -0.5794297205497703,
          0.6788180144526051,
          0.8037361115157824,
          -1.4809937681016654,
          -2.0178203799844856,
          0.3101821464478711,
          -0.1790669563794227,
          -1.5498694961858306,
          -0.5086716379020376,
          -0.6459186885571588,
          0.3295423928644564,
          -1.0961683497786938,
          -1.5805201999917888,
          0.3933799959004732,
          0.3219084816465848,
          0.2924579434889606,
          -0.10074763128293673,
          -0.03403519839224362,
          2.3332802461496995,
          2.0114018515991834,
          0.7620841513465821,
          -1.1857754510814738,
          -0.582780837007449,
          1.0518815625121487,
          0.20745864997243998,
          0.15382712049177955,
          0.19150932142055335,
          2.0178206629395943,
          -0.6900046114688033,
          -0.977313611536171,
          -0.6851687125391716,
          0.1741431211184333
         ],
         "xaxis": "x13",
         "y": [
          -0.7481175396550206,
          1.2234305898579076,
          -1.976720081584501,
          0.6899477520811974,
          -0.22014339453056606,
          0.09780635699530431,
          0.8471015694289812,
          0.17363529636436545,
          0.8135946557880653,
          -0.7571828256286016,
          0.5833472024472944,
          0.6811442861956457,
          -1.5222725801928654,
          -0.9316056188892309,
          -0.015246748853435677,
          0.017008365382485714,
          -0.15951266427774013,
          1.1288036903682699,
          -0.6541853301837105,
          -0.3900776094359683,
          2.3090029908734238,
          -0.538822815851566,
          -1.236893386536804,
          -1.5169432316935727,
          0.3502145276593857,
          -0.17448199452404328,
          -0.2525100119082364,
          1.4467270083009294,
          0.07531109122271433,
          -1.2152983342793764,
          0.8804196963916894,
          -0.9184712183051706,
          -0.486116029992153,
          -0.43507786054928993,
          -0.3161380617560525,
          0.7157376698697067,
          -1.5227347792653272,
          2.0480204057517044,
          -0.16310384765860617,
          1.1647621554560457,
          1.0690285918981774,
          1.3810609078170664,
          -0.7562734236013121,
          -0.6250334481312175,
          -0.029185759543698415,
          1.1181930854044528,
          -1.445484865057198,
          -0.25978395021108247,
          0.028305979367296067,
          -0.3175739985340123,
          1.1917645653351394,
          -0.8778407588406054,
          0.04564646096547812,
          0.7604554551613494,
          -1.2281162814866209,
          0.17938372398844063,
          1.4199479851829313,
          0.6641356650086911,
          -0.5498942234464932,
          0.48557349149639545,
          -0.9888801054873628,
          0.6287689154184527,
          0.8561306156712443,
          -0.0297555910237018,
          0.14765112806671235,
          -1.3012723755906053,
          -0.7634785487393035,
          1.0649905919989138,
          -0.1639242813541542,
          -0.6358801177872554,
          -0.39370631745779466,
          -0.5433214356048077,
          -0.17489034807411538,
          -0.43484421964010195,
          0.05920097777188008,
          -1.1548850267822388,
          1.4484184396699349,
          0.4102384397802808,
          -0.44617871170704526,
          -0.9363780758969589,
          -0.5849787745512334,
          -0.48347424468438016,
          0.7571699899636907,
          0.16297142152724292,
          -0.42095397857681394,
          -0.7210052490542894,
          -0.9482891619630368,
          0.5785731905309177,
          -0.7104707137780943,
          -0.6357922407901868,
          -2.7717703474575317,
          0.23999801269790413,
          1.5436450139130389,
          0.75568858482363,
          0.657293186888398,
          0.8377978217084416,
          0.810409955932594,
          0.4394048761686608,
          0.20479031941611356,
          2.1560191981439165
         ],
         "yaxis": "y13"
        },
        {
         "line": {
          "color": "rgba(128, 128, 128, 1.0)",
          "dash": "solid",
          "shape": "linear",
          "width": 1.3
         },
         "marker": {
          "size": 2,
          "symbol": "circle"
         },
         "mode": "markers",
         "name": "D",
         "text": "",
         "type": "scatter",
         "x": [
          1.3607841251836796,
          -0.9674674905132706,
          0.3122098362800539,
          -1.9448302439623684,
          1.6135031795380288,
          -0.9716838883329177,
          2.0331012007700022,
          1.652770317992748,
          -1.4578018235628902,
          -1.5732701085155567,
          -0.07607385423638324,
          0.08201682070201322,
          0.2122198422416436,
          -1.9304564495522596,
          -2.3040923217611735,
          0.9130611530966893,
          1.3802584503837574,
          -0.4046830738850893,
          0.07601032667948168,
          0.8976347785160459,
          -0.09003598707624505,
          0.7409346195956898,
          -1.8007196022202219,
          -0.6317000979078795,
          -0.1413757369338316,
          0.6468377284193276,
          0.5381324922017766,
          0.740679491186776,
          -1.204443665274361,
          0.47276969369577587,
          1.127827927590617,
          0.2361165790929499,
          0.24009181716586592,
          -1.3194438103143555,
          -0.38186725209629757,
          -0.7977332724316449,
          2.469920077081317,
          -0.10610371314187877,
          -1.5121692164865521,
          -1.1844023197781017,
          -0.011171440261647346,
          -0.5098884899014533,
          1.8974393146246504,
          -0.16990836365314899,
          -0.6014629305675028,
          -0.8318383576734268,
          -0.03298638585192762,
          0.6062909702192114,
          -0.15800986430627798,
          1.6882608031105024,
          -0.671277450025276,
          -0.820328638105275,
          0.2881868567368972,
          0.5243074034741281,
          0.1285915753539585,
          0.5945487422764267,
          0.19612240560354918,
          -0.9772081243251444,
          -0.023067476057357688,
          0.2389657964904768,
          -0.4983109887694054,
          -0.27292214745955795,
          -0.7670065331174148,
          0.08971936190133252,
          0.05660681638505576,
          -0.9435712987191033,
          0.667349226954366,
          1.1180615456422802,
          -1.375596283258031,
          1.5745623897180148,
          -1.8334282872394294,
          1.6572128822452232,
          2.042726721554889,
          -0.49918497976316645,
          0.6500999327603493,
          2.071292907232663,
          1.3564198989597525,
          0.4812759605501785,
          0.978137026870297,
          -0.38228276955254964,
          -2.3068081170005383,
          -0.8499659630386249,
          -0.14182566772572905,
          -0.029006226358003907,
          0.15691513529743456,
          1.6364792393697691,
          -0.39096557396705495,
          1.289989835188355,
          -0.6079139476948235,
          1.787981154711908,
          -0.9677198312633559,
          0.9800751842228804,
          1.0901319076859644,
          -1.081995774409719,
          -0.1983707845407121,
          0.3630010895250102,
          -0.5657049123972575,
          0.3503979459289591,
          1.005465375591448,
          -0.3704708729101634
         ],
         "xaxis": "x14",
         "y": [
          -0.7481175396550206,
          1.2234305898579076,
          -1.976720081584501,
          0.6899477520811974,
          -0.22014339453056606,
          0.09780635699530431,
          0.8471015694289812,
          0.17363529636436545,
          0.8135946557880653,
          -0.7571828256286016,
          0.5833472024472944,
          0.6811442861956457,
          -1.5222725801928654,
          -0.9316056188892309,
          -0.015246748853435677,
          0.017008365382485714,
          -0.15951266427774013,
          1.1288036903682699,
          -0.6541853301837105,
          -0.3900776094359683,
          2.3090029908734238,
          -0.538822815851566,
          -1.236893386536804,
          -1.5169432316935727,
          0.3502145276593857,
          -0.17448199452404328,
          -0.2525100119082364,
          1.4467270083009294,
          0.07531109122271433,
          -1.2152983342793764,
          0.8804196963916894,
          -0.9184712183051706,
          -0.486116029992153,
          -0.43507786054928993,
          -0.3161380617560525,
          0.7157376698697067,
          -1.5227347792653272,
          2.0480204057517044,
          -0.16310384765860617,
          1.1647621554560457,
          1.0690285918981774,
          1.3810609078170664,
          -0.7562734236013121,
          -0.6250334481312175,
          -0.029185759543698415,
          1.1181930854044528,
          -1.445484865057198,
          -0.25978395021108247,
          0.028305979367296067,
          -0.3175739985340123,
          1.1917645653351394,
          -0.8778407588406054,
          0.04564646096547812,
          0.7604554551613494,
          -1.2281162814866209,
          0.17938372398844063,
          1.4199479851829313,
          0.6641356650086911,
          -0.5498942234464932,
          0.48557349149639545,
          -0.9888801054873628,
          0.6287689154184527,
          0.8561306156712443,
          -0.0297555910237018,
          0.14765112806671235,
          -1.3012723755906053,
          -0.7634785487393035,
          1.0649905919989138,
          -0.1639242813541542,
          -0.6358801177872554,
          -0.39370631745779466,
          -0.5433214356048077,
          -0.17489034807411538,
          -0.43484421964010195,
          0.05920097777188008,
          -1.1548850267822388,
          1.4484184396699349,
          0.4102384397802808,
          -0.44617871170704526,
          -0.9363780758969589,
          -0.5849787745512334,
          -0.48347424468438016,
          0.7571699899636907,
          0.16297142152724292,
          -0.42095397857681394,
          -0.7210052490542894,
          -0.9482891619630368,
          0.5785731905309177,
          -0.7104707137780943,
          -0.6357922407901868,
          -2.7717703474575317,
          0.23999801269790413,
          1.5436450139130389,
          0.75568858482363,
          0.657293186888398,
          0.8377978217084416,
          0.810409955932594,
          0.4394048761686608,
          0.20479031941611356,
          2.1560191981439165
         ],
         "yaxis": "y14"
        },
        {
         "line": {
          "color": "rgba(128, 128, 128, 1.0)",
          "dash": "solid",
          "shape": "linear",
          "width": 1.3
         },
         "marker": {
          "size": 2,
          "symbol": "circle"
         },
         "mode": "markers",
         "name": "D",
         "text": "",
         "type": "scatter",
         "x": [
          0.702767431533642,
          2.4130266328026875,
          1.0247116988576892,
          1.1683727821289778,
          -1.3056717628835188,
          -0.9616928382289589,
          -1.4969575112466853,
          -0.6365153296307634,
          0.11217914666770475,
          1.2144287765738433,
          -0.6495486019328311,
          -0.19639525020624254,
          -0.00802132540888039,
          0.02694614454660426,
          -0.528954231674728,
          1.5706058322517387,
          0.4820803948391646,
          0.4206337344540275,
          0.10591315631999255,
          0.7937826774382816,
          0.144104101401556,
          -1.3887166806425755,
          1.6326366443060474,
          -0.18027878873270034,
          0.826296296089968,
          -0.2580101564367002,
          -0.6688867058712796,
          0.7378586244711566,
          1.921519209242429,
          -0.22669263844505874,
          -0.36584692112998235,
          1.6384095185283776,
          0.8125504647072437,
          -0.49031400400566966,
          0.7741652466697522,
          -0.22213464090142843,
          -0.2527107376648289,
          -1.605821524503842,
          0.9109145605827451,
          -1.9943612002091708,
          0.9332459593082034,
          0.866333413662675,
          1.6820321612890714,
          -0.07671391298756125,
          0.1738989493806357,
          -1.5804953182696397,
          1.0460186545875654,
          -0.16110376935988216,
          -0.5617610909222606,
          0.07581562577893483,
          -0.03552371262803585,
          0.4269245996611502,
          -0.6496427509906124,
          1.675109322453891,
          -0.7148743282459987,
          -1.687744547155932,
          -0.8191850962643112,
          0.5259046079873353,
          -0.3248846951260035,
          -1.6750635846039788,
          -0.6121564366027149,
          0.27626692155815863,
          1.6358128717285716,
          0.8492940238752041,
          0.3355667863277014,
          -0.013777162449761769,
          -0.3604674654475875,
          -0.9326775784452925,
          0.7189623537867452,
          0.4222208695106275,
          -0.3443113071071108,
          -0.6763998146568629,
          -0.248286139854172,
          -0.2448649987359036,
          -1.8227067665030514,
          0.8846947920126711,
          -1.6132360765385587,
          -1.554804906148493,
          -0.5124269413107482,
          -0.5867457557616809,
          -0.08872399849448215,
          0.44346757039634555,
          2.055498002435792,
          -0.5266791467291811,
          0.717310741953486,
          -0.9514008286056141,
          -0.30449684289472284,
          -0.25453425475848257,
          0.22712846218402372,
          0.2791783359077579,
          -0.9906830706778221,
          0.4810098473856099,
          1.0125421345872334,
          1.358913896745162,
          -1.1362324711337033,
          -1.0732819075861326,
          -1.4031717704942892,
          -0.9452636455237585,
          0.062344609433789444,
          -0.02768845426741946
         ],
         "xaxis": "x15",
         "y": [
          -0.7481175396550206,
          1.2234305898579076,
          -1.976720081584501,
          0.6899477520811974,
          -0.22014339453056606,
          0.09780635699530431,
          0.8471015694289812,
          0.17363529636436545,
          0.8135946557880653,
          -0.7571828256286016,
          0.5833472024472944,
          0.6811442861956457,
          -1.5222725801928654,
          -0.9316056188892309,
          -0.015246748853435677,
          0.017008365382485714,
          -0.15951266427774013,
          1.1288036903682699,
          -0.6541853301837105,
          -0.3900776094359683,
          2.3090029908734238,
          -0.538822815851566,
          -1.236893386536804,
          -1.5169432316935727,
          0.3502145276593857,
          -0.17448199452404328,
          -0.2525100119082364,
          1.4467270083009294,
          0.07531109122271433,
          -1.2152983342793764,
          0.8804196963916894,
          -0.9184712183051706,
          -0.486116029992153,
          -0.43507786054928993,
          -0.3161380617560525,
          0.7157376698697067,
          -1.5227347792653272,
          2.0480204057517044,
          -0.16310384765860617,
          1.1647621554560457,
          1.0690285918981774,
          1.3810609078170664,
          -0.7562734236013121,
          -0.6250334481312175,
          -0.029185759543698415,
          1.1181930854044528,
          -1.445484865057198,
          -0.25978395021108247,
          0.028305979367296067,
          -0.3175739985340123,
          1.1917645653351394,
          -0.8778407588406054,
          0.04564646096547812,
          0.7604554551613494,
          -1.2281162814866209,
          0.17938372398844063,
          1.4199479851829313,
          0.6641356650086911,
          -0.5498942234464932,
          0.48557349149639545,
          -0.9888801054873628,
          0.6287689154184527,
          0.8561306156712443,
          -0.0297555910237018,
          0.14765112806671235,
          -1.3012723755906053,
          -0.7634785487393035,
          1.0649905919989138,
          -0.1639242813541542,
          -0.6358801177872554,
          -0.39370631745779466,
          -0.5433214356048077,
          -0.17489034807411538,
          -0.43484421964010195,
          0.05920097777188008,
          -1.1548850267822388,
          1.4484184396699349,
          0.4102384397802808,
          -0.44617871170704526,
          -0.9363780758969589,
          -0.5849787745512334,
          -0.48347424468438016,
          0.7571699899636907,
          0.16297142152724292,
          -0.42095397857681394,
          -0.7210052490542894,
          -0.9482891619630368,
          0.5785731905309177,
          -0.7104707137780943,
          -0.6357922407901868,
          -2.7717703474575317,
          0.23999801269790413,
          1.5436450139130389,
          0.75568858482363,
          0.657293186888398,
          0.8377978217084416,
          0.810409955932594,
          0.4394048761686608,
          0.20479031941611356,
          2.1560191981439165
         ],
         "yaxis": "y15"
        },
        {
         "histfunc": "count",
         "histnorm": "",
         "marker": {
          "color": "rgba(128, 0, 128, 1.0)",
          "line": {
           "color": "#4D5663",
           "width": 1.3
          }
         },
         "name": "D",
         "nbinsx": 10,
         "opacity": 0.8,
         "orientation": "v",
         "type": "histogram",
         "x": [
          -0.7481175396550206,
          1.2234305898579076,
          -1.976720081584501,
          0.6899477520811974,
          -0.22014339453056606,
          0.09780635699530431,
          0.8471015694289812,
          0.17363529636436545,
          0.8135946557880653,
          -0.7571828256286016,
          0.5833472024472944,
          0.6811442861956457,
          -1.5222725801928654,
          -0.9316056188892309,
          -0.015246748853435677,
          0.017008365382485714,
          -0.15951266427774013,
          1.1288036903682699,
          -0.6541853301837105,
          -0.3900776094359683,
          2.3090029908734238,
          -0.538822815851566,
          -1.236893386536804,
          -1.5169432316935727,
          0.3502145276593857,
          -0.17448199452404328,
          -0.2525100119082364,
          1.4467270083009294,
          0.07531109122271433,
          -1.2152983342793764,
          0.8804196963916894,
          -0.9184712183051706,
          -0.486116029992153,
          -0.43507786054928993,
          -0.3161380617560525,
          0.7157376698697067,
          -1.5227347792653272,
          2.0480204057517044,
          -0.16310384765860617,
          1.1647621554560457,
          1.0690285918981774,
          1.3810609078170664,
          -0.7562734236013121,
          -0.6250334481312175,
          -0.029185759543698415,
          1.1181930854044528,
          -1.445484865057198,
          -0.25978395021108247,
          0.028305979367296067,
          -0.3175739985340123,
          1.1917645653351394,
          -0.8778407588406054,
          0.04564646096547812,
          0.7604554551613494,
          -1.2281162814866209,
          0.17938372398844063,
          1.4199479851829313,
          0.6641356650086911,
          -0.5498942234464932,
          0.48557349149639545,
          -0.9888801054873628,
          0.6287689154184527,
          0.8561306156712443,
          -0.0297555910237018,
          0.14765112806671235,
          -1.3012723755906053,
          -0.7634785487393035,
          1.0649905919989138,
          -0.1639242813541542,
          -0.6358801177872554,
          -0.39370631745779466,
          -0.5433214356048077,
          -0.17489034807411538,
          -0.43484421964010195,
          0.05920097777188008,
          -1.1548850267822388,
          1.4484184396699349,
          0.4102384397802808,
          -0.44617871170704526,
          -0.9363780758969589,
          -0.5849787745512334,
          -0.48347424468438016,
          0.7571699899636907,
          0.16297142152724292,
          -0.42095397857681394,
          -0.7210052490542894,
          -0.9482891619630368,
          0.5785731905309177,
          -0.7104707137780943,
          -0.6357922407901868,
          -2.7717703474575317,
          0.23999801269790413,
          1.5436450139130389,
          0.75568858482363,
          0.657293186888398,
          0.8377978217084416,
          0.810409955932594,
          0.4394048761686608,
          0.20479031941611356,
          2.1560191981439165
         ],
         "xaxis": "x16",
         "yaxis": "y16"
        }
       ],
       "layout": {
        "bargap": 0.02,
        "legend": {
         "bgcolor": "#F5F6F9",
         "font": {
          "color": "#4D5663"
         }
        },
        "paper_bgcolor": "#F5F6F9",
        "plot_bgcolor": "#F5F6F9",
        "showlegend": false,
        "template": {
         "data": {
          "bar": [
           {
            "error_x": {
             "color": "#2a3f5f"
            },
            "error_y": {
             "color": "#2a3f5f"
            },
            "marker": {
             "line": {
              "color": "#E5ECF6",
              "width": 0.5
             },
             "pattern": {
              "fillmode": "overlay",
              "size": 10,
              "solidity": 0.2
             }
            },
            "type": "bar"
           }
          ],
          "barpolar": [
           {
            "marker": {
             "line": {
              "color": "#E5ECF6",
              "width": 0.5
             },
             "pattern": {
              "fillmode": "overlay",
              "size": 10,
              "solidity": 0.2
             }
            },
            "type": "barpolar"
           }
          ],
          "carpet": [
           {
            "aaxis": {
             "endlinecolor": "#2a3f5f",
             "gridcolor": "white",
             "linecolor": "white",
             "minorgridcolor": "white",
             "startlinecolor": "#2a3f5f"
            },
            "baxis": {
             "endlinecolor": "#2a3f5f",
             "gridcolor": "white",
             "linecolor": "white",
             "minorgridcolor": "white",
             "startlinecolor": "#2a3f5f"
            },
            "type": "carpet"
           }
          ],
          "choropleth": [
           {
            "colorbar": {
             "outlinewidth": 0,
             "ticks": ""
            },
            "type": "choropleth"
           }
          ],
          "contour": [
           {
            "colorbar": {
             "outlinewidth": 0,
             "ticks": ""
            },
            "colorscale": [
             [
              0,
              "#0d0887"
             ],
             [
              0.1111111111111111,
              "#46039f"
             ],
             [
              0.2222222222222222,
              "#7201a8"
             ],
             [
              0.3333333333333333,
              "#9c179e"
             ],
             [
              0.4444444444444444,
              "#bd3786"
             ],
             [
              0.5555555555555556,
              "#d8576b"
             ],
             [
              0.6666666666666666,
              "#ed7953"
             ],
             [
              0.7777777777777778,
              "#fb9f3a"
             ],
             [
              0.8888888888888888,
              "#fdca26"
             ],
             [
              1,
              "#f0f921"
             ]
            ],
            "type": "contour"
           }
          ],
          "contourcarpet": [
           {
            "colorbar": {
             "outlinewidth": 0,
             "ticks": ""
            },
            "type": "contourcarpet"
           }
          ],
          "heatmap": [
           {
            "colorbar": {
             "outlinewidth": 0,
             "ticks": ""
            },
            "colorscale": [
             [
              0,
              "#0d0887"
             ],
             [
              0.1111111111111111,
              "#46039f"
             ],
             [
              0.2222222222222222,
              "#7201a8"
             ],
             [
              0.3333333333333333,
              "#9c179e"
             ],
             [
              0.4444444444444444,
              "#bd3786"
             ],
             [
              0.5555555555555556,
              "#d8576b"
             ],
             [
              0.6666666666666666,
              "#ed7953"
             ],
             [
              0.7777777777777778,
              "#fb9f3a"
             ],
             [
              0.8888888888888888,
              "#fdca26"
             ],
             [
              1,
              "#f0f921"
             ]
            ],
            "type": "heatmap"
           }
          ],
          "heatmapgl": [
           {
            "colorbar": {
             "outlinewidth": 0,
             "ticks": ""
            },
            "colorscale": [
             [
              0,
              "#0d0887"
             ],
             [
              0.1111111111111111,
              "#46039f"
             ],
             [
              0.2222222222222222,
              "#7201a8"
             ],
             [
              0.3333333333333333,
              "#9c179e"
             ],
             [
              0.4444444444444444,
              "#bd3786"
             ],
             [
              0.5555555555555556,
              "#d8576b"
             ],
             [
              0.6666666666666666,
              "#ed7953"
             ],
             [
              0.7777777777777778,
              "#fb9f3a"
             ],
             [
              0.8888888888888888,
              "#fdca26"
             ],
             [
              1,
              "#f0f921"
             ]
            ],
            "type": "heatmapgl"
           }
          ],
          "histogram": [
           {
            "marker": {
             "pattern": {
              "fillmode": "overlay",
              "size": 10,
              "solidity": 0.2
             }
            },
            "type": "histogram"
           }
          ],
          "histogram2d": [
           {
            "colorbar": {
             "outlinewidth": 0,
             "ticks": ""
            },
            "colorscale": [
             [
              0,
              "#0d0887"
             ],
             [
              0.1111111111111111,
              "#46039f"
             ],
             [
              0.2222222222222222,
              "#7201a8"
             ],
             [
              0.3333333333333333,
              "#9c179e"
             ],
             [
              0.4444444444444444,
              "#bd3786"
             ],
             [
              0.5555555555555556,
              "#d8576b"
             ],
             [
              0.6666666666666666,
              "#ed7953"
             ],
             [
              0.7777777777777778,
              "#fb9f3a"
             ],
             [
              0.8888888888888888,
              "#fdca26"
             ],
             [
              1,
              "#f0f921"
             ]
            ],
            "type": "histogram2d"
           }
          ],
          "histogram2dcontour": [
           {
            "colorbar": {
             "outlinewidth": 0,
             "ticks": ""
            },
            "colorscale": [
             [
              0,
              "#0d0887"
             ],
             [
              0.1111111111111111,
              "#46039f"
             ],
             [
              0.2222222222222222,
              "#7201a8"
             ],
             [
              0.3333333333333333,
              "#9c179e"
             ],
             [
              0.4444444444444444,
              "#bd3786"
             ],
             [
              0.5555555555555556,
              "#d8576b"
             ],
             [
              0.6666666666666666,
              "#ed7953"
             ],
             [
              0.7777777777777778,
              "#fb9f3a"
             ],
             [
              0.8888888888888888,
              "#fdca26"
             ],
             [
              1,
              "#f0f921"
             ]
            ],
            "type": "histogram2dcontour"
           }
          ],
          "mesh3d": [
           {
            "colorbar": {
             "outlinewidth": 0,
             "ticks": ""
            },
            "type": "mesh3d"
           }
          ],
          "parcoords": [
           {
            "line": {
             "colorbar": {
              "outlinewidth": 0,
              "ticks": ""
             }
            },
            "type": "parcoords"
           }
          ],
          "pie": [
           {
            "automargin": true,
            "type": "pie"
           }
          ],
          "scatter": [
           {
            "fillpattern": {
             "fillmode": "overlay",
             "size": 10,
             "solidity": 0.2
            },
            "type": "scatter"
           }
          ],
          "scatter3d": [
           {
            "line": {
             "colorbar": {
              "outlinewidth": 0,
              "ticks": ""
             }
            },
            "marker": {
             "colorbar": {
              "outlinewidth": 0,
              "ticks": ""
             }
            },
            "type": "scatter3d"
           }
          ],
          "scattercarpet": [
           {
            "marker": {
             "colorbar": {
              "outlinewidth": 0,
              "ticks": ""
             }
            },
            "type": "scattercarpet"
           }
          ],
          "scattergeo": [
           {
            "marker": {
             "colorbar": {
              "outlinewidth": 0,
              "ticks": ""
             }
            },
            "type": "scattergeo"
           }
          ],
          "scattergl": [
           {
            "marker": {
             "colorbar": {
              "outlinewidth": 0,
              "ticks": ""
             }
            },
            "type": "scattergl"
           }
          ],
          "scattermapbox": [
           {
            "marker": {
             "colorbar": {
              "outlinewidth": 0,
              "ticks": ""
             }
            },
            "type": "scattermapbox"
           }
          ],
          "scatterpolar": [
           {
            "marker": {
             "colorbar": {
              "outlinewidth": 0,
              "ticks": ""
             }
            },
            "type": "scatterpolar"
           }
          ],
          "scatterpolargl": [
           {
            "marker": {
             "colorbar": {
              "outlinewidth": 0,
              "ticks": ""
             }
            },
            "type": "scatterpolargl"
           }
          ],
          "scatterternary": [
           {
            "marker": {
             "colorbar": {
              "outlinewidth": 0,
              "ticks": ""
             }
            },
            "type": "scatterternary"
           }
          ],
          "surface": [
           {
            "colorbar": {
             "outlinewidth": 0,
             "ticks": ""
            },
            "colorscale": [
             [
              0,
              "#0d0887"
             ],
             [
              0.1111111111111111,
              "#46039f"
             ],
             [
              0.2222222222222222,
              "#7201a8"
             ],
             [
              0.3333333333333333,
              "#9c179e"
             ],
             [
              0.4444444444444444,
              "#bd3786"
             ],
             [
              0.5555555555555556,
              "#d8576b"
             ],
             [
              0.6666666666666666,
              "#ed7953"
             ],
             [
              0.7777777777777778,
              "#fb9f3a"
             ],
             [
              0.8888888888888888,
              "#fdca26"
             ],
             [
              1,
              "#f0f921"
             ]
            ],
            "type": "surface"
           }
          ],
          "table": [
           {
            "cells": {
             "fill": {
              "color": "#EBF0F8"
             },
             "line": {
              "color": "white"
             }
            },
            "header": {
             "fill": {
              "color": "#C8D4E3"
             },
             "line": {
              "color": "white"
             }
            },
            "type": "table"
           }
          ]
         },
         "layout": {
          "annotationdefaults": {
           "arrowcolor": "#2a3f5f",
           "arrowhead": 0,
           "arrowwidth": 1
          },
          "autotypenumbers": "strict",
          "coloraxis": {
           "colorbar": {
            "outlinewidth": 0,
            "ticks": ""
           }
          },
          "colorscale": {
           "diverging": [
            [
             0,
             "#8e0152"
            ],
            [
             0.1,
             "#c51b7d"
            ],
            [
             0.2,
             "#de77ae"
            ],
            [
             0.3,
             "#f1b6da"
            ],
            [
             0.4,
             "#fde0ef"
            ],
            [
             0.5,
             "#f7f7f7"
            ],
            [
             0.6,
             "#e6f5d0"
            ],
            [
             0.7,
             "#b8e186"
            ],
            [
             0.8,
             "#7fbc41"
            ],
            [
             0.9,
             "#4d9221"
            ],
            [
             1,
             "#276419"
            ]
           ],
           "sequential": [
            [
             0,
             "#0d0887"
            ],
            [
             0.1111111111111111,
             "#46039f"
            ],
            [
             0.2222222222222222,
             "#7201a8"
            ],
            [
             0.3333333333333333,
             "#9c179e"
            ],
            [
             0.4444444444444444,
             "#bd3786"
            ],
            [
             0.5555555555555556,
             "#d8576b"
            ],
            [
             0.6666666666666666,
             "#ed7953"
            ],
            [
             0.7777777777777778,
             "#fb9f3a"
            ],
            [
             0.8888888888888888,
             "#fdca26"
            ],
            [
             1,
             "#f0f921"
            ]
           ],
           "sequentialminus": [
            [
             0,
             "#0d0887"
            ],
            [
             0.1111111111111111,
             "#46039f"
            ],
            [
             0.2222222222222222,
             "#7201a8"
            ],
            [
             0.3333333333333333,
             "#9c179e"
            ],
            [
             0.4444444444444444,
             "#bd3786"
            ],
            [
             0.5555555555555556,
             "#d8576b"
            ],
            [
             0.6666666666666666,
             "#ed7953"
            ],
            [
             0.7777777777777778,
             "#fb9f3a"
            ],
            [
             0.8888888888888888,
             "#fdca26"
            ],
            [
             1,
             "#f0f921"
            ]
           ]
          },
          "colorway": [
           "#636efa",
           "#EF553B",
           "#00cc96",
           "#ab63fa",
           "#FFA15A",
           "#19d3f3",
           "#FF6692",
           "#B6E880",
           "#FF97FF",
           "#FECB52"
          ],
          "font": {
           "color": "#2a3f5f"
          },
          "geo": {
           "bgcolor": "white",
           "lakecolor": "white",
           "landcolor": "#E5ECF6",
           "showlakes": true,
           "showland": true,
           "subunitcolor": "white"
          },
          "hoverlabel": {
           "align": "left"
          },
          "hovermode": "closest",
          "mapbox": {
           "style": "light"
          },
          "paper_bgcolor": "white",
          "plot_bgcolor": "#E5ECF6",
          "polar": {
           "angularaxis": {
            "gridcolor": "white",
            "linecolor": "white",
            "ticks": ""
           },
           "bgcolor": "#E5ECF6",
           "radialaxis": {
            "gridcolor": "white",
            "linecolor": "white",
            "ticks": ""
           }
          },
          "scene": {
           "xaxis": {
            "backgroundcolor": "#E5ECF6",
            "gridcolor": "white",
            "gridwidth": 2,
            "linecolor": "white",
            "showbackground": true,
            "ticks": "",
            "zerolinecolor": "white"
           },
           "yaxis": {
            "backgroundcolor": "#E5ECF6",
            "gridcolor": "white",
            "gridwidth": 2,
            "linecolor": "white",
            "showbackground": true,
            "ticks": "",
            "zerolinecolor": "white"
           },
           "zaxis": {
            "backgroundcolor": "#E5ECF6",
            "gridcolor": "white",
            "gridwidth": 2,
            "linecolor": "white",
            "showbackground": true,
            "ticks": "",
            "zerolinecolor": "white"
           }
          },
          "shapedefaults": {
           "line": {
            "color": "#2a3f5f"
           }
          },
          "ternary": {
           "aaxis": {
            "gridcolor": "white",
            "linecolor": "white",
            "ticks": ""
           },
           "baxis": {
            "gridcolor": "white",
            "linecolor": "white",
            "ticks": ""
           },
           "bgcolor": "#E5ECF6",
           "caxis": {
            "gridcolor": "white",
            "linecolor": "white",
            "ticks": ""
           }
          },
          "title": {
           "x": 0.05
          },
          "xaxis": {
           "automargin": true,
           "gridcolor": "white",
           "linecolor": "white",
           "ticks": "",
           "title": {
            "standoff": 15
           },
           "zerolinecolor": "white",
           "zerolinewidth": 2
          },
          "yaxis": {
           "automargin": true,
           "gridcolor": "white",
           "linecolor": "white",
           "ticks": "",
           "title": {
            "standoff": 15
           },
           "zerolinecolor": "white",
           "zerolinewidth": 2
          }
         }
        },
        "title": {
         "font": {
          "color": "#4D5663"
         }
        },
        "xaxis": {
         "anchor": "y",
         "domain": [
          0,
          0.2125
         ],
         "gridcolor": "#E1E5ED",
         "showgrid": false,
         "tickfont": {
          "color": "#4D5663"
         },
         "title": {
          "font": {
           "color": "#4D5663"
          },
          "text": ""
         },
         "zerolinecolor": "#E1E5ED"
        },
        "xaxis10": {
         "anchor": "y10",
         "domain": [
          0.2625,
          0.475
         ],
         "gridcolor": "#E1E5ED",
         "showgrid": false,
         "tickfont": {
          "color": "#4D5663"
         },
         "title": {
          "font": {
           "color": "#4D5663"
          },
          "text": ""
         },
         "zerolinecolor": "#E1E5ED"
        },
        "xaxis11": {
         "anchor": "y11",
         "domain": [
          0.525,
          0.7375
         ],
         "gridcolor": "#E1E5ED",
         "showgrid": false,
         "tickfont": {
          "color": "#4D5663"
         },
         "title": {
          "font": {
           "color": "#4D5663"
          },
          "text": ""
         },
         "zerolinecolor": "#E1E5ED"
        },
        "xaxis12": {
         "anchor": "y12",
         "domain": [
          0.7875,
          1
         ],
         "gridcolor": "#E1E5ED",
         "showgrid": false,
         "tickfont": {
          "color": "#4D5663"
         },
         "title": {
          "font": {
           "color": "#4D5663"
          },
          "text": ""
         },
         "zerolinecolor": "#E1E5ED"
        },
        "xaxis13": {
         "anchor": "y13",
         "domain": [
          0,
          0.2125
         ],
         "gridcolor": "#E1E5ED",
         "showgrid": false,
         "tickfont": {
          "color": "#4D5663"
         },
         "title": {
          "font": {
           "color": "#4D5663"
          },
          "text": ""
         },
         "zerolinecolor": "#E1E5ED"
        },
        "xaxis14": {
         "anchor": "y14",
         "domain": [
          0.2625,
          0.475
         ],
         "gridcolor": "#E1E5ED",
         "showgrid": false,
         "tickfont": {
          "color": "#4D5663"
         },
         "title": {
          "font": {
           "color": "#4D5663"
          },
          "text": ""
         },
         "zerolinecolor": "#E1E5ED"
        },
        "xaxis15": {
         "anchor": "y15",
         "domain": [
          0.525,
          0.7375
         ],
         "gridcolor": "#E1E5ED",
         "showgrid": false,
         "tickfont": {
          "color": "#4D5663"
         },
         "title": {
          "font": {
           "color": "#4D5663"
          },
          "text": ""
         },
         "zerolinecolor": "#E1E5ED"
        },
        "xaxis16": {
         "anchor": "y16",
         "domain": [
          0.7875,
          1
         ],
         "gridcolor": "#E1E5ED",
         "showgrid": false,
         "tickfont": {
          "color": "#4D5663"
         },
         "title": {
          "font": {
           "color": "#4D5663"
          },
          "text": ""
         },
         "zerolinecolor": "#E1E5ED"
        },
        "xaxis2": {
         "anchor": "y2",
         "domain": [
          0.2625,
          0.475
         ],
         "gridcolor": "#E1E5ED",
         "showgrid": false,
         "tickfont": {
          "color": "#4D5663"
         },
         "title": {
          "font": {
           "color": "#4D5663"
          },
          "text": ""
         },
         "zerolinecolor": "#E1E5ED"
        },
        "xaxis3": {
         "anchor": "y3",
         "domain": [
          0.525,
          0.7375
         ],
         "gridcolor": "#E1E5ED",
         "showgrid": false,
         "tickfont": {
          "color": "#4D5663"
         },
         "title": {
          "font": {
           "color": "#4D5663"
          },
          "text": ""
         },
         "zerolinecolor": "#E1E5ED"
        },
        "xaxis4": {
         "anchor": "y4",
         "domain": [
          0.7875,
          1
         ],
         "gridcolor": "#E1E5ED",
         "showgrid": false,
         "tickfont": {
          "color": "#4D5663"
         },
         "title": {
          "font": {
           "color": "#4D5663"
          },
          "text": ""
         },
         "zerolinecolor": "#E1E5ED"
        },
        "xaxis5": {
         "anchor": "y5",
         "domain": [
          0,
          0.2125
         ],
         "gridcolor": "#E1E5ED",
         "showgrid": false,
         "tickfont": {
          "color": "#4D5663"
         },
         "title": {
          "font": {
           "color": "#4D5663"
          },
          "text": ""
         },
         "zerolinecolor": "#E1E5ED"
        },
        "xaxis6": {
         "anchor": "y6",
         "domain": [
          0.2625,
          0.475
         ],
         "gridcolor": "#E1E5ED",
         "showgrid": false,
         "tickfont": {
          "color": "#4D5663"
         },
         "title": {
          "font": {
           "color": "#4D5663"
          },
          "text": ""
         },
         "zerolinecolor": "#E1E5ED"
        },
        "xaxis7": {
         "anchor": "y7",
         "domain": [
          0.525,
          0.7375
         ],
         "gridcolor": "#E1E5ED",
         "showgrid": false,
         "tickfont": {
          "color": "#4D5663"
         },
         "title": {
          "font": {
           "color": "#4D5663"
          },
          "text": ""
         },
         "zerolinecolor": "#E1E5ED"
        },
        "xaxis8": {
         "anchor": "y8",
         "domain": [
          0.7875,
          1
         ],
         "gridcolor": "#E1E5ED",
         "showgrid": false,
         "tickfont": {
          "color": "#4D5663"
         },
         "title": {
          "font": {
           "color": "#4D5663"
          },
          "text": ""
         },
         "zerolinecolor": "#E1E5ED"
        },
        "xaxis9": {
         "anchor": "y9",
         "domain": [
          0,
          0.2125
         ],
         "gridcolor": "#E1E5ED",
         "showgrid": false,
         "tickfont": {
          "color": "#4D5663"
         },
         "title": {
          "font": {
           "color": "#4D5663"
          },
          "text": ""
         },
         "zerolinecolor": "#E1E5ED"
        },
        "yaxis": {
         "anchor": "x",
         "domain": [
          0.8025,
          1
         ],
         "gridcolor": "#E1E5ED",
         "showgrid": false,
         "tickfont": {
          "color": "#4D5663"
         },
         "title": {
          "font": {
           "color": "#4D5663"
          },
          "text": ""
         },
         "zerolinecolor": "#E1E5ED"
        },
        "yaxis10": {
         "anchor": "x10",
         "domain": [
          0.2675,
          0.465
         ],
         "gridcolor": "#E1E5ED",
         "showgrid": false,
         "tickfont": {
          "color": "#4D5663"
         },
         "title": {
          "font": {
           "color": "#4D5663"
          },
          "text": ""
         },
         "zerolinecolor": "#E1E5ED"
        },
        "yaxis11": {
         "anchor": "x11",
         "domain": [
          0.2675,
          0.465
         ],
         "gridcolor": "#E1E5ED",
         "showgrid": false,
         "tickfont": {
          "color": "#4D5663"
         },
         "title": {
          "font": {
           "color": "#4D5663"
          },
          "text": ""
         },
         "zerolinecolor": "#E1E5ED"
        },
        "yaxis12": {
         "anchor": "x12",
         "domain": [
          0.2675,
          0.465
         ],
         "gridcolor": "#E1E5ED",
         "showgrid": false,
         "tickfont": {
          "color": "#4D5663"
         },
         "title": {
          "font": {
           "color": "#4D5663"
          },
          "text": ""
         },
         "zerolinecolor": "#E1E5ED"
        },
        "yaxis13": {
         "anchor": "x13",
         "domain": [
          0,
          0.1975
         ],
         "gridcolor": "#E1E5ED",
         "showgrid": false,
         "tickfont": {
          "color": "#4D5663"
         },
         "title": {
          "font": {
           "color": "#4D5663"
          },
          "text": ""
         },
         "zerolinecolor": "#E1E5ED"
        },
        "yaxis14": {
         "anchor": "x14",
         "domain": [
          0,
          0.1975
         ],
         "gridcolor": "#E1E5ED",
         "showgrid": false,
         "tickfont": {
          "color": "#4D5663"
         },
         "title": {
          "font": {
           "color": "#4D5663"
          },
          "text": ""
         },
         "zerolinecolor": "#E1E5ED"
        },
        "yaxis15": {
         "anchor": "x15",
         "domain": [
          0,
          0.1975
         ],
         "gridcolor": "#E1E5ED",
         "showgrid": false,
         "tickfont": {
          "color": "#4D5663"
         },
         "title": {
          "font": {
           "color": "#4D5663"
          },
          "text": ""
         },
         "zerolinecolor": "#E1E5ED"
        },
        "yaxis16": {
         "anchor": "x16",
         "domain": [
          0,
          0.1975
         ],
         "gridcolor": "#E1E5ED",
         "showgrid": false,
         "tickfont": {
          "color": "#4D5663"
         },
         "title": {
          "font": {
           "color": "#4D5663"
          },
          "text": ""
         },
         "zerolinecolor": "#E1E5ED"
        },
        "yaxis2": {
         "anchor": "x2",
         "domain": [
          0.8025,
          1
         ],
         "gridcolor": "#E1E5ED",
         "showgrid": false,
         "tickfont": {
          "color": "#4D5663"
         },
         "title": {
          "font": {
           "color": "#4D5663"
          },
          "text": ""
         },
         "zerolinecolor": "#E1E5ED"
        },
        "yaxis3": {
         "anchor": "x3",
         "domain": [
          0.8025,
          1
         ],
         "gridcolor": "#E1E5ED",
         "showgrid": false,
         "tickfont": {
          "color": "#4D5663"
         },
         "title": {
          "font": {
           "color": "#4D5663"
          },
          "text": ""
         },
         "zerolinecolor": "#E1E5ED"
        },
        "yaxis4": {
         "anchor": "x4",
         "domain": [
          0.8025,
          1
         ],
         "gridcolor": "#E1E5ED",
         "showgrid": false,
         "tickfont": {
          "color": "#4D5663"
         },
         "title": {
          "font": {
           "color": "#4D5663"
          },
          "text": ""
         },
         "zerolinecolor": "#E1E5ED"
        },
        "yaxis5": {
         "anchor": "x5",
         "domain": [
          0.535,
          0.7325
         ],
         "gridcolor": "#E1E5ED",
         "showgrid": false,
         "tickfont": {
          "color": "#4D5663"
         },
         "title": {
          "font": {
           "color": "#4D5663"
          },
          "text": ""
         },
         "zerolinecolor": "#E1E5ED"
        },
        "yaxis6": {
         "anchor": "x6",
         "domain": [
          0.535,
          0.7325
         ],
         "gridcolor": "#E1E5ED",
         "showgrid": false,
         "tickfont": {
          "color": "#4D5663"
         },
         "title": {
          "font": {
           "color": "#4D5663"
          },
          "text": ""
         },
         "zerolinecolor": "#E1E5ED"
        },
        "yaxis7": {
         "anchor": "x7",
         "domain": [
          0.535,
          0.7325
         ],
         "gridcolor": "#E1E5ED",
         "showgrid": false,
         "tickfont": {
          "color": "#4D5663"
         },
         "title": {
          "font": {
           "color": "#4D5663"
          },
          "text": ""
         },
         "zerolinecolor": "#E1E5ED"
        },
        "yaxis8": {
         "anchor": "x8",
         "domain": [
          0.535,
          0.7325
         ],
         "gridcolor": "#E1E5ED",
         "showgrid": false,
         "tickfont": {
          "color": "#4D5663"
         },
         "title": {
          "font": {
           "color": "#4D5663"
          },
          "text": ""
         },
         "zerolinecolor": "#E1E5ED"
        },
        "yaxis9": {
         "anchor": "x9",
         "domain": [
          0.2675,
          0.465
         ],
         "gridcolor": "#E1E5ED",
         "showgrid": false,
         "tickfont": {
          "color": "#4D5663"
         },
         "title": {
          "font": {
           "color": "#4D5663"
          },
          "text": ""
         },
         "zerolinecolor": "#E1E5ED"
        }
       }
      },
      "text/html": [
       "<div>                            <div id=\"4155ca1f-f914-431e-a518-e39a19fe7127\" class=\"plotly-graph-div\" style=\"height:525px; width:100%;\"></div>            <script type=\"text/javascript\">                require([\"plotly\"], function(Plotly) {                    window.PLOTLYENV=window.PLOTLYENV || {};\n",
       "                    window.PLOTLYENV.BASE_URL='https://plot.ly';                                    if (document.getElementById(\"4155ca1f-f914-431e-a518-e39a19fe7127\")) {                    Plotly.newPlot(                        \"4155ca1f-f914-431e-a518-e39a19fe7127\",                        [{\"histfunc\":\"count\",\"histnorm\":\"\",\"marker\":{\"color\":\"rgba(255, 153, 51, 1.0)\",\"line\":{\"color\":\"#4D5663\",\"width\":1.3}},\"name\":\"A\",\"nbinsx\":10,\"opacity\":0.8,\"orientation\":\"v\",\"x\":[1.0801251640557836,-0.09638858984862315,-0.4778206331382923,-0.2942173372442018,0.04212547757433794,-0.21241871665351275,0.6157702361721962,0.32992005709913946,0.6814184853186209,-0.401646842512738,-0.2851115081639871,-1.2114845027340753,0.06916614368341706,0.1591285599517671,0.05453521215892846,-0.6810073484713328,2.8589502284383155,-0.5012294716308849,1.6502615869672825,1.2967876390551507,-0.10757536720860636,-0.42252750196673766,1.1947484804295403,-0.395714437875417,0.21503690725318397,0.42319298537150496,-1.7070394815037455,0.2886632245298637,0.11713281991426203,-1.590841654060365,0.2983704610660227,-1.459872250265605,1.6761898403762872,0.5399305897011594,1.859397226985364,-0.09166231163698116,0.4606859669210411,0.33415746097397353,0.027914158981814274,0.5974492446391806,-0.16239253650338997,-1.6435607314478577,0.6442208478110065,-1.0148388047249859,0.9594519440364432,-0.44541819871248955,-0.886535797155018,-1.0310906701974405,1.5682064990356273,-0.18047306213555087,0.7648350111451226,0.45585198816044414,-0.7528956574004777,-0.22824277167503762,0.014635252813137507,-0.7893010839719782,0.6859059684265395,-0.8650133123530385,-0.15179595809982077,-0.15250415179727717,-0.0351690914259882,2.0661977474856523,1.074773180617247,-1.4386033815290893,1.306654243985068,-0.09771618187642477,-2.1219455194046253,-0.35806526592115173,-0.5794297205497703,0.6788180144526051,0.8037361115157824,-1.4809937681016654,-2.0178203799844856,0.3101821464478711,-0.1790669563794227,-1.5498694961858306,-0.5086716379020376,-0.6459186885571588,0.3295423928644564,-1.0961683497786938,-1.5805201999917888,0.3933799959004732,0.3219084816465848,0.2924579434889606,-0.10074763128293673,-0.03403519839224362,2.3332802461496995,2.0114018515991834,0.7620841513465821,-1.1857754510814738,-0.582780837007449,1.0518815625121487,0.20745864997243998,0.15382712049177955,0.19150932142055335,2.0178206629395943,-0.6900046114688033,-0.977313611536171,-0.6851687125391716,0.1741431211184333],\"xaxis\":\"x\",\"yaxis\":\"y\",\"type\":\"histogram\"},{\"line\":{\"color\":\"rgba(128, 128, 128, 1.0)\",\"dash\":\"solid\",\"shape\":\"linear\",\"width\":1.3},\"marker\":{\"size\":2,\"symbol\":\"circle\"},\"mode\":\"markers\",\"name\":\"A\",\"text\":\"\",\"x\":[1.3607841251836796,-0.9674674905132706,0.3122098362800539,-1.9448302439623684,1.6135031795380288,-0.9716838883329177,2.0331012007700022,1.652770317992748,-1.4578018235628902,-1.5732701085155567,-0.07607385423638324,0.08201682070201322,0.2122198422416436,-1.9304564495522596,-2.3040923217611735,0.9130611530966893,1.3802584503837574,-0.4046830738850893,0.07601032667948168,0.8976347785160459,-0.09003598707624505,0.7409346195956898,-1.8007196022202219,-0.6317000979078795,-0.1413757369338316,0.6468377284193276,0.5381324922017766,0.740679491186776,-1.204443665274361,0.47276969369577587,1.127827927590617,0.2361165790929499,0.24009181716586592,-1.3194438103143555,-0.38186725209629757,-0.7977332724316449,2.469920077081317,-0.10610371314187877,-1.5121692164865521,-1.1844023197781017,-0.011171440261647346,-0.5098884899014533,1.8974393146246504,-0.16990836365314899,-0.6014629305675028,-0.8318383576734268,-0.03298638585192762,0.6062909702192114,-0.15800986430627798,1.6882608031105024,-0.671277450025276,-0.820328638105275,0.2881868567368972,0.5243074034741281,0.1285915753539585,0.5945487422764267,0.19612240560354918,-0.9772081243251444,-0.023067476057357688,0.2389657964904768,-0.4983109887694054,-0.27292214745955795,-0.7670065331174148,0.08971936190133252,0.05660681638505576,-0.9435712987191033,0.667349226954366,1.1180615456422802,-1.375596283258031,1.5745623897180148,-1.8334282872394294,1.6572128822452232,2.042726721554889,-0.49918497976316645,0.6500999327603493,2.071292907232663,1.3564198989597525,0.4812759605501785,0.978137026870297,-0.38228276955254964,-2.3068081170005383,-0.8499659630386249,-0.14182566772572905,-0.029006226358003907,0.15691513529743456,1.6364792393697691,-0.39096557396705495,1.289989835188355,-0.6079139476948235,1.787981154711908,-0.9677198312633559,0.9800751842228804,1.0901319076859644,-1.081995774409719,-0.1983707845407121,0.3630010895250102,-0.5657049123972575,0.3503979459289591,1.005465375591448,-0.3704708729101634],\"xaxis\":\"x2\",\"y\":[1.0801251640557836,-0.09638858984862315,-0.4778206331382923,-0.2942173372442018,0.04212547757433794,-0.21241871665351275,0.6157702361721962,0.32992005709913946,0.6814184853186209,-0.401646842512738,-0.2851115081639871,-1.2114845027340753,0.06916614368341706,0.1591285599517671,0.05453521215892846,-0.6810073484713328,2.8589502284383155,-0.5012294716308849,1.6502615869672825,1.2967876390551507,-0.10757536720860636,-0.42252750196673766,1.1947484804295403,-0.395714437875417,0.21503690725318397,0.42319298537150496,-1.7070394815037455,0.2886632245298637,0.11713281991426203,-1.590841654060365,0.2983704610660227,-1.459872250265605,1.6761898403762872,0.5399305897011594,1.859397226985364,-0.09166231163698116,0.4606859669210411,0.33415746097397353,0.027914158981814274,0.5974492446391806,-0.16239253650338997,-1.6435607314478577,0.6442208478110065,-1.0148388047249859,0.9594519440364432,-0.44541819871248955,-0.886535797155018,-1.0310906701974405,1.5682064990356273,-0.18047306213555087,0.7648350111451226,0.45585198816044414,-0.7528956574004777,-0.22824277167503762,0.014635252813137507,-0.7893010839719782,0.6859059684265395,-0.8650133123530385,-0.15179595809982077,-0.15250415179727717,-0.0351690914259882,2.0661977474856523,1.074773180617247,-1.4386033815290893,1.306654243985068,-0.09771618187642477,-2.1219455194046253,-0.35806526592115173,-0.5794297205497703,0.6788180144526051,0.8037361115157824,-1.4809937681016654,-2.0178203799844856,0.3101821464478711,-0.1790669563794227,-1.5498694961858306,-0.5086716379020376,-0.6459186885571588,0.3295423928644564,-1.0961683497786938,-1.5805201999917888,0.3933799959004732,0.3219084816465848,0.2924579434889606,-0.10074763128293673,-0.03403519839224362,2.3332802461496995,2.0114018515991834,0.7620841513465821,-1.1857754510814738,-0.582780837007449,1.0518815625121487,0.20745864997243998,0.15382712049177955,0.19150932142055335,2.0178206629395943,-0.6900046114688033,-0.977313611536171,-0.6851687125391716,0.1741431211184333],\"yaxis\":\"y2\",\"type\":\"scatter\"},{\"line\":{\"color\":\"rgba(128, 128, 128, 1.0)\",\"dash\":\"solid\",\"shape\":\"linear\",\"width\":1.3},\"marker\":{\"size\":2,\"symbol\":\"circle\"},\"mode\":\"markers\",\"name\":\"A\",\"text\":\"\",\"x\":[0.702767431533642,2.4130266328026875,1.0247116988576892,1.1683727821289778,-1.3056717628835188,-0.9616928382289589,-1.4969575112466853,-0.6365153296307634,0.11217914666770475,1.2144287765738433,-0.6495486019328311,-0.19639525020624254,-0.00802132540888039,0.02694614454660426,-0.528954231674728,1.5706058322517387,0.4820803948391646,0.4206337344540275,0.10591315631999255,0.7937826774382816,0.144104101401556,-1.3887166806425755,1.6326366443060474,-0.18027878873270034,0.826296296089968,-0.2580101564367002,-0.6688867058712796,0.7378586244711566,1.921519209242429,-0.22669263844505874,-0.36584692112998235,1.6384095185283776,0.8125504647072437,-0.49031400400566966,0.7741652466697522,-0.22213464090142843,-0.2527107376648289,-1.605821524503842,0.9109145605827451,-1.9943612002091708,0.9332459593082034,0.866333413662675,1.6820321612890714,-0.07671391298756125,0.1738989493806357,-1.5804953182696397,1.0460186545875654,-0.16110376935988216,-0.5617610909222606,0.07581562577893483,-0.03552371262803585,0.4269245996611502,-0.6496427509906124,1.675109322453891,-0.7148743282459987,-1.687744547155932,-0.8191850962643112,0.5259046079873353,-0.3248846951260035,-1.6750635846039788,-0.6121564366027149,0.27626692155815863,1.6358128717285716,0.8492940238752041,0.3355667863277014,-0.013777162449761769,-0.3604674654475875,-0.9326775784452925,0.7189623537867452,0.4222208695106275,-0.3443113071071108,-0.6763998146568629,-0.248286139854172,-0.2448649987359036,-1.8227067665030514,0.8846947920126711,-1.6132360765385587,-1.554804906148493,-0.5124269413107482,-0.5867457557616809,-0.08872399849448215,0.44346757039634555,2.055498002435792,-0.5266791467291811,0.717310741953486,-0.9514008286056141,-0.30449684289472284,-0.25453425475848257,0.22712846218402372,0.2791783359077579,-0.9906830706778221,0.4810098473856099,1.0125421345872334,1.358913896745162,-1.1362324711337033,-1.0732819075861326,-1.4031717704942892,-0.9452636455237585,0.062344609433789444,-0.02768845426741946],\"xaxis\":\"x3\",\"y\":[1.0801251640557836,-0.09638858984862315,-0.4778206331382923,-0.2942173372442018,0.04212547757433794,-0.21241871665351275,0.6157702361721962,0.32992005709913946,0.6814184853186209,-0.401646842512738,-0.2851115081639871,-1.2114845027340753,0.06916614368341706,0.1591285599517671,0.05453521215892846,-0.6810073484713328,2.8589502284383155,-0.5012294716308849,1.6502615869672825,1.2967876390551507,-0.10757536720860636,-0.42252750196673766,1.1947484804295403,-0.395714437875417,0.21503690725318397,0.42319298537150496,-1.7070394815037455,0.2886632245298637,0.11713281991426203,-1.590841654060365,0.2983704610660227,-1.459872250265605,1.6761898403762872,0.5399305897011594,1.859397226985364,-0.09166231163698116,0.4606859669210411,0.33415746097397353,0.027914158981814274,0.5974492446391806,-0.16239253650338997,-1.6435607314478577,0.6442208478110065,-1.0148388047249859,0.9594519440364432,-0.44541819871248955,-0.886535797155018,-1.0310906701974405,1.5682064990356273,-0.18047306213555087,0.7648350111451226,0.45585198816044414,-0.7528956574004777,-0.22824277167503762,0.014635252813137507,-0.7893010839719782,0.6859059684265395,-0.8650133123530385,-0.15179595809982077,-0.15250415179727717,-0.0351690914259882,2.0661977474856523,1.074773180617247,-1.4386033815290893,1.306654243985068,-0.09771618187642477,-2.1219455194046253,-0.35806526592115173,-0.5794297205497703,0.6788180144526051,0.8037361115157824,-1.4809937681016654,-2.0178203799844856,0.3101821464478711,-0.1790669563794227,-1.5498694961858306,-0.5086716379020376,-0.6459186885571588,0.3295423928644564,-1.0961683497786938,-1.5805201999917888,0.3933799959004732,0.3219084816465848,0.2924579434889606,-0.10074763128293673,-0.03403519839224362,2.3332802461496995,2.0114018515991834,0.7620841513465821,-1.1857754510814738,-0.582780837007449,1.0518815625121487,0.20745864997243998,0.15382712049177955,0.19150932142055335,2.0178206629395943,-0.6900046114688033,-0.977313611536171,-0.6851687125391716,0.1741431211184333],\"yaxis\":\"y3\",\"type\":\"scatter\"},{\"line\":{\"color\":\"rgba(128, 128, 128, 1.0)\",\"dash\":\"solid\",\"shape\":\"linear\",\"width\":1.3},\"marker\":{\"size\":2,\"symbol\":\"circle\"},\"mode\":\"markers\",\"name\":\"A\",\"text\":\"\",\"x\":[-0.7481175396550206,1.2234305898579076,-1.976720081584501,0.6899477520811974,-0.22014339453056606,0.09780635699530431,0.8471015694289812,0.17363529636436545,0.8135946557880653,-0.7571828256286016,0.5833472024472944,0.6811442861956457,-1.5222725801928654,-0.9316056188892309,-0.015246748853435677,0.017008365382485714,-0.15951266427774013,1.1288036903682699,-0.6541853301837105,-0.3900776094359683,2.3090029908734238,-0.538822815851566,-1.236893386536804,-1.5169432316935727,0.3502145276593857,-0.17448199452404328,-0.2525100119082364,1.4467270083009294,0.07531109122271433,-1.2152983342793764,0.8804196963916894,-0.9184712183051706,-0.486116029992153,-0.43507786054928993,-0.3161380617560525,0.7157376698697067,-1.5227347792653272,2.0480204057517044,-0.16310384765860617,1.1647621554560457,1.0690285918981774,1.3810609078170664,-0.7562734236013121,-0.6250334481312175,-0.029185759543698415,1.1181930854044528,-1.445484865057198,-0.25978395021108247,0.028305979367296067,-0.3175739985340123,1.1917645653351394,-0.8778407588406054,0.04564646096547812,0.7604554551613494,-1.2281162814866209,0.17938372398844063,1.4199479851829313,0.6641356650086911,-0.5498942234464932,0.48557349149639545,-0.9888801054873628,0.6287689154184527,0.8561306156712443,-0.0297555910237018,0.14765112806671235,-1.3012723755906053,-0.7634785487393035,1.0649905919989138,-0.1639242813541542,-0.6358801177872554,-0.39370631745779466,-0.5433214356048077,-0.17489034807411538,-0.43484421964010195,0.05920097777188008,-1.1548850267822388,1.4484184396699349,0.4102384397802808,-0.44617871170704526,-0.9363780758969589,-0.5849787745512334,-0.48347424468438016,0.7571699899636907,0.16297142152724292,-0.42095397857681394,-0.7210052490542894,-0.9482891619630368,0.5785731905309177,-0.7104707137780943,-0.6357922407901868,-2.7717703474575317,0.23999801269790413,1.5436450139130389,0.75568858482363,0.657293186888398,0.8377978217084416,0.810409955932594,0.4394048761686608,0.20479031941611356,2.1560191981439165],\"xaxis\":\"x4\",\"y\":[1.0801251640557836,-0.09638858984862315,-0.4778206331382923,-0.2942173372442018,0.04212547757433794,-0.21241871665351275,0.6157702361721962,0.32992005709913946,0.6814184853186209,-0.401646842512738,-0.2851115081639871,-1.2114845027340753,0.06916614368341706,0.1591285599517671,0.05453521215892846,-0.6810073484713328,2.8589502284383155,-0.5012294716308849,1.6502615869672825,1.2967876390551507,-0.10757536720860636,-0.42252750196673766,1.1947484804295403,-0.395714437875417,0.21503690725318397,0.42319298537150496,-1.7070394815037455,0.2886632245298637,0.11713281991426203,-1.590841654060365,0.2983704610660227,-1.459872250265605,1.6761898403762872,0.5399305897011594,1.859397226985364,-0.09166231163698116,0.4606859669210411,0.33415746097397353,0.027914158981814274,0.5974492446391806,-0.16239253650338997,-1.6435607314478577,0.6442208478110065,-1.0148388047249859,0.9594519440364432,-0.44541819871248955,-0.886535797155018,-1.0310906701974405,1.5682064990356273,-0.18047306213555087,0.7648350111451226,0.45585198816044414,-0.7528956574004777,-0.22824277167503762,0.014635252813137507,-0.7893010839719782,0.6859059684265395,-0.8650133123530385,-0.15179595809982077,-0.15250415179727717,-0.0351690914259882,2.0661977474856523,1.074773180617247,-1.4386033815290893,1.306654243985068,-0.09771618187642477,-2.1219455194046253,-0.35806526592115173,-0.5794297205497703,0.6788180144526051,0.8037361115157824,-1.4809937681016654,-2.0178203799844856,0.3101821464478711,-0.1790669563794227,-1.5498694961858306,-0.5086716379020376,-0.6459186885571588,0.3295423928644564,-1.0961683497786938,-1.5805201999917888,0.3933799959004732,0.3219084816465848,0.2924579434889606,-0.10074763128293673,-0.03403519839224362,2.3332802461496995,2.0114018515991834,0.7620841513465821,-1.1857754510814738,-0.582780837007449,1.0518815625121487,0.20745864997243998,0.15382712049177955,0.19150932142055335,2.0178206629395943,-0.6900046114688033,-0.977313611536171,-0.6851687125391716,0.1741431211184333],\"yaxis\":\"y4\",\"type\":\"scatter\"},{\"line\":{\"color\":\"rgba(128, 128, 128, 1.0)\",\"dash\":\"solid\",\"shape\":\"linear\",\"width\":1.3},\"marker\":{\"size\":2,\"symbol\":\"circle\"},\"mode\":\"markers\",\"name\":\"B\",\"text\":\"\",\"x\":[1.0801251640557836,-0.09638858984862315,-0.4778206331382923,-0.2942173372442018,0.04212547757433794,-0.21241871665351275,0.6157702361721962,0.32992005709913946,0.6814184853186209,-0.401646842512738,-0.2851115081639871,-1.2114845027340753,0.06916614368341706,0.1591285599517671,0.05453521215892846,-0.6810073484713328,2.8589502284383155,-0.5012294716308849,1.6502615869672825,1.2967876390551507,-0.10757536720860636,-0.42252750196673766,1.1947484804295403,-0.395714437875417,0.21503690725318397,0.42319298537150496,-1.7070394815037455,0.2886632245298637,0.11713281991426203,-1.590841654060365,0.2983704610660227,-1.459872250265605,1.6761898403762872,0.5399305897011594,1.859397226985364,-0.09166231163698116,0.4606859669210411,0.33415746097397353,0.027914158981814274,0.5974492446391806,-0.16239253650338997,-1.6435607314478577,0.6442208478110065,-1.0148388047249859,0.9594519440364432,-0.44541819871248955,-0.886535797155018,-1.0310906701974405,1.5682064990356273,-0.18047306213555087,0.7648350111451226,0.45585198816044414,-0.7528956574004777,-0.22824277167503762,0.014635252813137507,-0.7893010839719782,0.6859059684265395,-0.8650133123530385,-0.15179595809982077,-0.15250415179727717,-0.0351690914259882,2.0661977474856523,1.074773180617247,-1.4386033815290893,1.306654243985068,-0.09771618187642477,-2.1219455194046253,-0.35806526592115173,-0.5794297205497703,0.6788180144526051,0.8037361115157824,-1.4809937681016654,-2.0178203799844856,0.3101821464478711,-0.1790669563794227,-1.5498694961858306,-0.5086716379020376,-0.6459186885571588,0.3295423928644564,-1.0961683497786938,-1.5805201999917888,0.3933799959004732,0.3219084816465848,0.2924579434889606,-0.10074763128293673,-0.03403519839224362,2.3332802461496995,2.0114018515991834,0.7620841513465821,-1.1857754510814738,-0.582780837007449,1.0518815625121487,0.20745864997243998,0.15382712049177955,0.19150932142055335,2.0178206629395943,-0.6900046114688033,-0.977313611536171,-0.6851687125391716,0.1741431211184333],\"xaxis\":\"x5\",\"y\":[1.3607841251836796,-0.9674674905132706,0.3122098362800539,-1.9448302439623684,1.6135031795380288,-0.9716838883329177,2.0331012007700022,1.652770317992748,-1.4578018235628902,-1.5732701085155567,-0.07607385423638324,0.08201682070201322,0.2122198422416436,-1.9304564495522596,-2.3040923217611735,0.9130611530966893,1.3802584503837574,-0.4046830738850893,0.07601032667948168,0.8976347785160459,-0.09003598707624505,0.7409346195956898,-1.8007196022202219,-0.6317000979078795,-0.1413757369338316,0.6468377284193276,0.5381324922017766,0.740679491186776,-1.204443665274361,0.47276969369577587,1.127827927590617,0.2361165790929499,0.24009181716586592,-1.3194438103143555,-0.38186725209629757,-0.7977332724316449,2.469920077081317,-0.10610371314187877,-1.5121692164865521,-1.1844023197781017,-0.011171440261647346,-0.5098884899014533,1.8974393146246504,-0.16990836365314899,-0.6014629305675028,-0.8318383576734268,-0.03298638585192762,0.6062909702192114,-0.15800986430627798,1.6882608031105024,-0.671277450025276,-0.820328638105275,0.2881868567368972,0.5243074034741281,0.1285915753539585,0.5945487422764267,0.19612240560354918,-0.9772081243251444,-0.023067476057357688,0.2389657964904768,-0.4983109887694054,-0.27292214745955795,-0.7670065331174148,0.08971936190133252,0.05660681638505576,-0.9435712987191033,0.667349226954366,1.1180615456422802,-1.375596283258031,1.5745623897180148,-1.8334282872394294,1.6572128822452232,2.042726721554889,-0.49918497976316645,0.6500999327603493,2.071292907232663,1.3564198989597525,0.4812759605501785,0.978137026870297,-0.38228276955254964,-2.3068081170005383,-0.8499659630386249,-0.14182566772572905,-0.029006226358003907,0.15691513529743456,1.6364792393697691,-0.39096557396705495,1.289989835188355,-0.6079139476948235,1.787981154711908,-0.9677198312633559,0.9800751842228804,1.0901319076859644,-1.081995774409719,-0.1983707845407121,0.3630010895250102,-0.5657049123972575,0.3503979459289591,1.005465375591448,-0.3704708729101634],\"yaxis\":\"y5\",\"type\":\"scatter\"},{\"histfunc\":\"count\",\"histnorm\":\"\",\"marker\":{\"color\":\"rgba(55, 128, 191, 1.0)\",\"line\":{\"color\":\"#4D5663\",\"width\":1.3}},\"name\":\"B\",\"nbinsx\":10,\"opacity\":0.8,\"orientation\":\"v\",\"x\":[1.3607841251836796,-0.9674674905132706,0.3122098362800539,-1.9448302439623684,1.6135031795380288,-0.9716838883329177,2.0331012007700022,1.652770317992748,-1.4578018235628902,-1.5732701085155567,-0.07607385423638324,0.08201682070201322,0.2122198422416436,-1.9304564495522596,-2.3040923217611735,0.9130611530966893,1.3802584503837574,-0.4046830738850893,0.07601032667948168,0.8976347785160459,-0.09003598707624505,0.7409346195956898,-1.8007196022202219,-0.6317000979078795,-0.1413757369338316,0.6468377284193276,0.5381324922017766,0.740679491186776,-1.204443665274361,0.47276969369577587,1.127827927590617,0.2361165790929499,0.24009181716586592,-1.3194438103143555,-0.38186725209629757,-0.7977332724316449,2.469920077081317,-0.10610371314187877,-1.5121692164865521,-1.1844023197781017,-0.011171440261647346,-0.5098884899014533,1.8974393146246504,-0.16990836365314899,-0.6014629305675028,-0.8318383576734268,-0.03298638585192762,0.6062909702192114,-0.15800986430627798,1.6882608031105024,-0.671277450025276,-0.820328638105275,0.2881868567368972,0.5243074034741281,0.1285915753539585,0.5945487422764267,0.19612240560354918,-0.9772081243251444,-0.023067476057357688,0.2389657964904768,-0.4983109887694054,-0.27292214745955795,-0.7670065331174148,0.08971936190133252,0.05660681638505576,-0.9435712987191033,0.667349226954366,1.1180615456422802,-1.375596283258031,1.5745623897180148,-1.8334282872394294,1.6572128822452232,2.042726721554889,-0.49918497976316645,0.6500999327603493,2.071292907232663,1.3564198989597525,0.4812759605501785,0.978137026870297,-0.38228276955254964,-2.3068081170005383,-0.8499659630386249,-0.14182566772572905,-0.029006226358003907,0.15691513529743456,1.6364792393697691,-0.39096557396705495,1.289989835188355,-0.6079139476948235,1.787981154711908,-0.9677198312633559,0.9800751842228804,1.0901319076859644,-1.081995774409719,-0.1983707845407121,0.3630010895250102,-0.5657049123972575,0.3503979459289591,1.005465375591448,-0.3704708729101634],\"xaxis\":\"x6\",\"yaxis\":\"y6\",\"type\":\"histogram\"},{\"line\":{\"color\":\"rgba(128, 128, 128, 1.0)\",\"dash\":\"solid\",\"shape\":\"linear\",\"width\":1.3},\"marker\":{\"size\":2,\"symbol\":\"circle\"},\"mode\":\"markers\",\"name\":\"B\",\"text\":\"\",\"x\":[0.702767431533642,2.4130266328026875,1.0247116988576892,1.1683727821289778,-1.3056717628835188,-0.9616928382289589,-1.4969575112466853,-0.6365153296307634,0.11217914666770475,1.2144287765738433,-0.6495486019328311,-0.19639525020624254,-0.00802132540888039,0.02694614454660426,-0.528954231674728,1.5706058322517387,0.4820803948391646,0.4206337344540275,0.10591315631999255,0.7937826774382816,0.144104101401556,-1.3887166806425755,1.6326366443060474,-0.18027878873270034,0.826296296089968,-0.2580101564367002,-0.6688867058712796,0.7378586244711566,1.921519209242429,-0.22669263844505874,-0.36584692112998235,1.6384095185283776,0.8125504647072437,-0.49031400400566966,0.7741652466697522,-0.22213464090142843,-0.2527107376648289,-1.605821524503842,0.9109145605827451,-1.9943612002091708,0.9332459593082034,0.866333413662675,1.6820321612890714,-0.07671391298756125,0.1738989493806357,-1.5804953182696397,1.0460186545875654,-0.16110376935988216,-0.5617610909222606,0.07581562577893483,-0.03552371262803585,0.4269245996611502,-0.6496427509906124,1.675109322453891,-0.7148743282459987,-1.687744547155932,-0.8191850962643112,0.5259046079873353,-0.3248846951260035,-1.6750635846039788,-0.6121564366027149,0.27626692155815863,1.6358128717285716,0.8492940238752041,0.3355667863277014,-0.013777162449761769,-0.3604674654475875,-0.9326775784452925,0.7189623537867452,0.4222208695106275,-0.3443113071071108,-0.6763998146568629,-0.248286139854172,-0.2448649987359036,-1.8227067665030514,0.8846947920126711,-1.6132360765385587,-1.554804906148493,-0.5124269413107482,-0.5867457557616809,-0.08872399849448215,0.44346757039634555,2.055498002435792,-0.5266791467291811,0.717310741953486,-0.9514008286056141,-0.30449684289472284,-0.25453425475848257,0.22712846218402372,0.2791783359077579,-0.9906830706778221,0.4810098473856099,1.0125421345872334,1.358913896745162,-1.1362324711337033,-1.0732819075861326,-1.4031717704942892,-0.9452636455237585,0.062344609433789444,-0.02768845426741946],\"xaxis\":\"x7\",\"y\":[1.3607841251836796,-0.9674674905132706,0.3122098362800539,-1.9448302439623684,1.6135031795380288,-0.9716838883329177,2.0331012007700022,1.652770317992748,-1.4578018235628902,-1.5732701085155567,-0.07607385423638324,0.08201682070201322,0.2122198422416436,-1.9304564495522596,-2.3040923217611735,0.9130611530966893,1.3802584503837574,-0.4046830738850893,0.07601032667948168,0.8976347785160459,-0.09003598707624505,0.7409346195956898,-1.8007196022202219,-0.6317000979078795,-0.1413757369338316,0.6468377284193276,0.5381324922017766,0.740679491186776,-1.204443665274361,0.47276969369577587,1.127827927590617,0.2361165790929499,0.24009181716586592,-1.3194438103143555,-0.38186725209629757,-0.7977332724316449,2.469920077081317,-0.10610371314187877,-1.5121692164865521,-1.1844023197781017,-0.011171440261647346,-0.5098884899014533,1.8974393146246504,-0.16990836365314899,-0.6014629305675028,-0.8318383576734268,-0.03298638585192762,0.6062909702192114,-0.15800986430627798,1.6882608031105024,-0.671277450025276,-0.820328638105275,0.2881868567368972,0.5243074034741281,0.1285915753539585,0.5945487422764267,0.19612240560354918,-0.9772081243251444,-0.023067476057357688,0.2389657964904768,-0.4983109887694054,-0.27292214745955795,-0.7670065331174148,0.08971936190133252,0.05660681638505576,-0.9435712987191033,0.667349226954366,1.1180615456422802,-1.375596283258031,1.5745623897180148,-1.8334282872394294,1.6572128822452232,2.042726721554889,-0.49918497976316645,0.6500999327603493,2.071292907232663,1.3564198989597525,0.4812759605501785,0.978137026870297,-0.38228276955254964,-2.3068081170005383,-0.8499659630386249,-0.14182566772572905,-0.029006226358003907,0.15691513529743456,1.6364792393697691,-0.39096557396705495,1.289989835188355,-0.6079139476948235,1.787981154711908,-0.9677198312633559,0.9800751842228804,1.0901319076859644,-1.081995774409719,-0.1983707845407121,0.3630010895250102,-0.5657049123972575,0.3503979459289591,1.005465375591448,-0.3704708729101634],\"yaxis\":\"y7\",\"type\":\"scatter\"},{\"line\":{\"color\":\"rgba(128, 128, 128, 1.0)\",\"dash\":\"solid\",\"shape\":\"linear\",\"width\":1.3},\"marker\":{\"size\":2,\"symbol\":\"circle\"},\"mode\":\"markers\",\"name\":\"B\",\"text\":\"\",\"x\":[-0.7481175396550206,1.2234305898579076,-1.976720081584501,0.6899477520811974,-0.22014339453056606,0.09780635699530431,0.8471015694289812,0.17363529636436545,0.8135946557880653,-0.7571828256286016,0.5833472024472944,0.6811442861956457,-1.5222725801928654,-0.9316056188892309,-0.015246748853435677,0.017008365382485714,-0.15951266427774013,1.1288036903682699,-0.6541853301837105,-0.3900776094359683,2.3090029908734238,-0.538822815851566,-1.236893386536804,-1.5169432316935727,0.3502145276593857,-0.17448199452404328,-0.2525100119082364,1.4467270083009294,0.07531109122271433,-1.2152983342793764,0.8804196963916894,-0.9184712183051706,-0.486116029992153,-0.43507786054928993,-0.3161380617560525,0.7157376698697067,-1.5227347792653272,2.0480204057517044,-0.16310384765860617,1.1647621554560457,1.0690285918981774,1.3810609078170664,-0.7562734236013121,-0.6250334481312175,-0.029185759543698415,1.1181930854044528,-1.445484865057198,-0.25978395021108247,0.028305979367296067,-0.3175739985340123,1.1917645653351394,-0.8778407588406054,0.04564646096547812,0.7604554551613494,-1.2281162814866209,0.17938372398844063,1.4199479851829313,0.6641356650086911,-0.5498942234464932,0.48557349149639545,-0.9888801054873628,0.6287689154184527,0.8561306156712443,-0.0297555910237018,0.14765112806671235,-1.3012723755906053,-0.7634785487393035,1.0649905919989138,-0.1639242813541542,-0.6358801177872554,-0.39370631745779466,-0.5433214356048077,-0.17489034807411538,-0.43484421964010195,0.05920097777188008,-1.1548850267822388,1.4484184396699349,0.4102384397802808,-0.44617871170704526,-0.9363780758969589,-0.5849787745512334,-0.48347424468438016,0.7571699899636907,0.16297142152724292,-0.42095397857681394,-0.7210052490542894,-0.9482891619630368,0.5785731905309177,-0.7104707137780943,-0.6357922407901868,-2.7717703474575317,0.23999801269790413,1.5436450139130389,0.75568858482363,0.657293186888398,0.8377978217084416,0.810409955932594,0.4394048761686608,0.20479031941611356,2.1560191981439165],\"xaxis\":\"x8\",\"y\":[1.3607841251836796,-0.9674674905132706,0.3122098362800539,-1.9448302439623684,1.6135031795380288,-0.9716838883329177,2.0331012007700022,1.652770317992748,-1.4578018235628902,-1.5732701085155567,-0.07607385423638324,0.08201682070201322,0.2122198422416436,-1.9304564495522596,-2.3040923217611735,0.9130611530966893,1.3802584503837574,-0.4046830738850893,0.07601032667948168,0.8976347785160459,-0.09003598707624505,0.7409346195956898,-1.8007196022202219,-0.6317000979078795,-0.1413757369338316,0.6468377284193276,0.5381324922017766,0.740679491186776,-1.204443665274361,0.47276969369577587,1.127827927590617,0.2361165790929499,0.24009181716586592,-1.3194438103143555,-0.38186725209629757,-0.7977332724316449,2.469920077081317,-0.10610371314187877,-1.5121692164865521,-1.1844023197781017,-0.011171440261647346,-0.5098884899014533,1.8974393146246504,-0.16990836365314899,-0.6014629305675028,-0.8318383576734268,-0.03298638585192762,0.6062909702192114,-0.15800986430627798,1.6882608031105024,-0.671277450025276,-0.820328638105275,0.2881868567368972,0.5243074034741281,0.1285915753539585,0.5945487422764267,0.19612240560354918,-0.9772081243251444,-0.023067476057357688,0.2389657964904768,-0.4983109887694054,-0.27292214745955795,-0.7670065331174148,0.08971936190133252,0.05660681638505576,-0.9435712987191033,0.667349226954366,1.1180615456422802,-1.375596283258031,1.5745623897180148,-1.8334282872394294,1.6572128822452232,2.042726721554889,-0.49918497976316645,0.6500999327603493,2.071292907232663,1.3564198989597525,0.4812759605501785,0.978137026870297,-0.38228276955254964,-2.3068081170005383,-0.8499659630386249,-0.14182566772572905,-0.029006226358003907,0.15691513529743456,1.6364792393697691,-0.39096557396705495,1.289989835188355,-0.6079139476948235,1.787981154711908,-0.9677198312633559,0.9800751842228804,1.0901319076859644,-1.081995774409719,-0.1983707845407121,0.3630010895250102,-0.5657049123972575,0.3503979459289591,1.005465375591448,-0.3704708729101634],\"yaxis\":\"y8\",\"type\":\"scatter\"},{\"line\":{\"color\":\"rgba(128, 128, 128, 1.0)\",\"dash\":\"solid\",\"shape\":\"linear\",\"width\":1.3},\"marker\":{\"size\":2,\"symbol\":\"circle\"},\"mode\":\"markers\",\"name\":\"C\",\"text\":\"\",\"x\":[1.0801251640557836,-0.09638858984862315,-0.4778206331382923,-0.2942173372442018,0.04212547757433794,-0.21241871665351275,0.6157702361721962,0.32992005709913946,0.6814184853186209,-0.401646842512738,-0.2851115081639871,-1.2114845027340753,0.06916614368341706,0.1591285599517671,0.05453521215892846,-0.6810073484713328,2.8589502284383155,-0.5012294716308849,1.6502615869672825,1.2967876390551507,-0.10757536720860636,-0.42252750196673766,1.1947484804295403,-0.395714437875417,0.21503690725318397,0.42319298537150496,-1.7070394815037455,0.2886632245298637,0.11713281991426203,-1.590841654060365,0.2983704610660227,-1.459872250265605,1.6761898403762872,0.5399305897011594,1.859397226985364,-0.09166231163698116,0.4606859669210411,0.33415746097397353,0.027914158981814274,0.5974492446391806,-0.16239253650338997,-1.6435607314478577,0.6442208478110065,-1.0148388047249859,0.9594519440364432,-0.44541819871248955,-0.886535797155018,-1.0310906701974405,1.5682064990356273,-0.18047306213555087,0.7648350111451226,0.45585198816044414,-0.7528956574004777,-0.22824277167503762,0.014635252813137507,-0.7893010839719782,0.6859059684265395,-0.8650133123530385,-0.15179595809982077,-0.15250415179727717,-0.0351690914259882,2.0661977474856523,1.074773180617247,-1.4386033815290893,1.306654243985068,-0.09771618187642477,-2.1219455194046253,-0.35806526592115173,-0.5794297205497703,0.6788180144526051,0.8037361115157824,-1.4809937681016654,-2.0178203799844856,0.3101821464478711,-0.1790669563794227,-1.5498694961858306,-0.5086716379020376,-0.6459186885571588,0.3295423928644564,-1.0961683497786938,-1.5805201999917888,0.3933799959004732,0.3219084816465848,0.2924579434889606,-0.10074763128293673,-0.03403519839224362,2.3332802461496995,2.0114018515991834,0.7620841513465821,-1.1857754510814738,-0.582780837007449,1.0518815625121487,0.20745864997243998,0.15382712049177955,0.19150932142055335,2.0178206629395943,-0.6900046114688033,-0.977313611536171,-0.6851687125391716,0.1741431211184333],\"xaxis\":\"x9\",\"y\":[0.702767431533642,2.4130266328026875,1.0247116988576892,1.1683727821289778,-1.3056717628835188,-0.9616928382289589,-1.4969575112466853,-0.6365153296307634,0.11217914666770475,1.2144287765738433,-0.6495486019328311,-0.19639525020624254,-0.00802132540888039,0.02694614454660426,-0.528954231674728,1.5706058322517387,0.4820803948391646,0.4206337344540275,0.10591315631999255,0.7937826774382816,0.144104101401556,-1.3887166806425755,1.6326366443060474,-0.18027878873270034,0.826296296089968,-0.2580101564367002,-0.6688867058712796,0.7378586244711566,1.921519209242429,-0.22669263844505874,-0.36584692112998235,1.6384095185283776,0.8125504647072437,-0.49031400400566966,0.7741652466697522,-0.22213464090142843,-0.2527107376648289,-1.605821524503842,0.9109145605827451,-1.9943612002091708,0.9332459593082034,0.866333413662675,1.6820321612890714,-0.07671391298756125,0.1738989493806357,-1.5804953182696397,1.0460186545875654,-0.16110376935988216,-0.5617610909222606,0.07581562577893483,-0.03552371262803585,0.4269245996611502,-0.6496427509906124,1.675109322453891,-0.7148743282459987,-1.687744547155932,-0.8191850962643112,0.5259046079873353,-0.3248846951260035,-1.6750635846039788,-0.6121564366027149,0.27626692155815863,1.6358128717285716,0.8492940238752041,0.3355667863277014,-0.013777162449761769,-0.3604674654475875,-0.9326775784452925,0.7189623537867452,0.4222208695106275,-0.3443113071071108,-0.6763998146568629,-0.248286139854172,-0.2448649987359036,-1.8227067665030514,0.8846947920126711,-1.6132360765385587,-1.554804906148493,-0.5124269413107482,-0.5867457557616809,-0.08872399849448215,0.44346757039634555,2.055498002435792,-0.5266791467291811,0.717310741953486,-0.9514008286056141,-0.30449684289472284,-0.25453425475848257,0.22712846218402372,0.2791783359077579,-0.9906830706778221,0.4810098473856099,1.0125421345872334,1.358913896745162,-1.1362324711337033,-1.0732819075861326,-1.4031717704942892,-0.9452636455237585,0.062344609433789444,-0.02768845426741946],\"yaxis\":\"y9\",\"type\":\"scatter\"},{\"line\":{\"color\":\"rgba(128, 128, 128, 1.0)\",\"dash\":\"solid\",\"shape\":\"linear\",\"width\":1.3},\"marker\":{\"size\":2,\"symbol\":\"circle\"},\"mode\":\"markers\",\"name\":\"C\",\"text\":\"\",\"x\":[1.3607841251836796,-0.9674674905132706,0.3122098362800539,-1.9448302439623684,1.6135031795380288,-0.9716838883329177,2.0331012007700022,1.652770317992748,-1.4578018235628902,-1.5732701085155567,-0.07607385423638324,0.08201682070201322,0.2122198422416436,-1.9304564495522596,-2.3040923217611735,0.9130611530966893,1.3802584503837574,-0.4046830738850893,0.07601032667948168,0.8976347785160459,-0.09003598707624505,0.7409346195956898,-1.8007196022202219,-0.6317000979078795,-0.1413757369338316,0.6468377284193276,0.5381324922017766,0.740679491186776,-1.204443665274361,0.47276969369577587,1.127827927590617,0.2361165790929499,0.24009181716586592,-1.3194438103143555,-0.38186725209629757,-0.7977332724316449,2.469920077081317,-0.10610371314187877,-1.5121692164865521,-1.1844023197781017,-0.011171440261647346,-0.5098884899014533,1.8974393146246504,-0.16990836365314899,-0.6014629305675028,-0.8318383576734268,-0.03298638585192762,0.6062909702192114,-0.15800986430627798,1.6882608031105024,-0.671277450025276,-0.820328638105275,0.2881868567368972,0.5243074034741281,0.1285915753539585,0.5945487422764267,0.19612240560354918,-0.9772081243251444,-0.023067476057357688,0.2389657964904768,-0.4983109887694054,-0.27292214745955795,-0.7670065331174148,0.08971936190133252,0.05660681638505576,-0.9435712987191033,0.667349226954366,1.1180615456422802,-1.375596283258031,1.5745623897180148,-1.8334282872394294,1.6572128822452232,2.042726721554889,-0.49918497976316645,0.6500999327603493,2.071292907232663,1.3564198989597525,0.4812759605501785,0.978137026870297,-0.38228276955254964,-2.3068081170005383,-0.8499659630386249,-0.14182566772572905,-0.029006226358003907,0.15691513529743456,1.6364792393697691,-0.39096557396705495,1.289989835188355,-0.6079139476948235,1.787981154711908,-0.9677198312633559,0.9800751842228804,1.0901319076859644,-1.081995774409719,-0.1983707845407121,0.3630010895250102,-0.5657049123972575,0.3503979459289591,1.005465375591448,-0.3704708729101634],\"xaxis\":\"x10\",\"y\":[0.702767431533642,2.4130266328026875,1.0247116988576892,1.1683727821289778,-1.3056717628835188,-0.9616928382289589,-1.4969575112466853,-0.6365153296307634,0.11217914666770475,1.2144287765738433,-0.6495486019328311,-0.19639525020624254,-0.00802132540888039,0.02694614454660426,-0.528954231674728,1.5706058322517387,0.4820803948391646,0.4206337344540275,0.10591315631999255,0.7937826774382816,0.144104101401556,-1.3887166806425755,1.6326366443060474,-0.18027878873270034,0.826296296089968,-0.2580101564367002,-0.6688867058712796,0.7378586244711566,1.921519209242429,-0.22669263844505874,-0.36584692112998235,1.6384095185283776,0.8125504647072437,-0.49031400400566966,0.7741652466697522,-0.22213464090142843,-0.2527107376648289,-1.605821524503842,0.9109145605827451,-1.9943612002091708,0.9332459593082034,0.866333413662675,1.6820321612890714,-0.07671391298756125,0.1738989493806357,-1.5804953182696397,1.0460186545875654,-0.16110376935988216,-0.5617610909222606,0.07581562577893483,-0.03552371262803585,0.4269245996611502,-0.6496427509906124,1.675109322453891,-0.7148743282459987,-1.687744547155932,-0.8191850962643112,0.5259046079873353,-0.3248846951260035,-1.6750635846039788,-0.6121564366027149,0.27626692155815863,1.6358128717285716,0.8492940238752041,0.3355667863277014,-0.013777162449761769,-0.3604674654475875,-0.9326775784452925,0.7189623537867452,0.4222208695106275,-0.3443113071071108,-0.6763998146568629,-0.248286139854172,-0.2448649987359036,-1.8227067665030514,0.8846947920126711,-1.6132360765385587,-1.554804906148493,-0.5124269413107482,-0.5867457557616809,-0.08872399849448215,0.44346757039634555,2.055498002435792,-0.5266791467291811,0.717310741953486,-0.9514008286056141,-0.30449684289472284,-0.25453425475848257,0.22712846218402372,0.2791783359077579,-0.9906830706778221,0.4810098473856099,1.0125421345872334,1.358913896745162,-1.1362324711337033,-1.0732819075861326,-1.4031717704942892,-0.9452636455237585,0.062344609433789444,-0.02768845426741946],\"yaxis\":\"y10\",\"type\":\"scatter\"},{\"histfunc\":\"count\",\"histnorm\":\"\",\"marker\":{\"color\":\"rgba(50, 171, 96, 1.0)\",\"line\":{\"color\":\"#4D5663\",\"width\":1.3}},\"name\":\"C\",\"nbinsx\":10,\"opacity\":0.8,\"orientation\":\"v\",\"x\":[0.702767431533642,2.4130266328026875,1.0247116988576892,1.1683727821289778,-1.3056717628835188,-0.9616928382289589,-1.4969575112466853,-0.6365153296307634,0.11217914666770475,1.2144287765738433,-0.6495486019328311,-0.19639525020624254,-0.00802132540888039,0.02694614454660426,-0.528954231674728,1.5706058322517387,0.4820803948391646,0.4206337344540275,0.10591315631999255,0.7937826774382816,0.144104101401556,-1.3887166806425755,1.6326366443060474,-0.18027878873270034,0.826296296089968,-0.2580101564367002,-0.6688867058712796,0.7378586244711566,1.921519209242429,-0.22669263844505874,-0.36584692112998235,1.6384095185283776,0.8125504647072437,-0.49031400400566966,0.7741652466697522,-0.22213464090142843,-0.2527107376648289,-1.605821524503842,0.9109145605827451,-1.9943612002091708,0.9332459593082034,0.866333413662675,1.6820321612890714,-0.07671391298756125,0.1738989493806357,-1.5804953182696397,1.0460186545875654,-0.16110376935988216,-0.5617610909222606,0.07581562577893483,-0.03552371262803585,0.4269245996611502,-0.6496427509906124,1.675109322453891,-0.7148743282459987,-1.687744547155932,-0.8191850962643112,0.5259046079873353,-0.3248846951260035,-1.6750635846039788,-0.6121564366027149,0.27626692155815863,1.6358128717285716,0.8492940238752041,0.3355667863277014,-0.013777162449761769,-0.3604674654475875,-0.9326775784452925,0.7189623537867452,0.4222208695106275,-0.3443113071071108,-0.6763998146568629,-0.248286139854172,-0.2448649987359036,-1.8227067665030514,0.8846947920126711,-1.6132360765385587,-1.554804906148493,-0.5124269413107482,-0.5867457557616809,-0.08872399849448215,0.44346757039634555,2.055498002435792,-0.5266791467291811,0.717310741953486,-0.9514008286056141,-0.30449684289472284,-0.25453425475848257,0.22712846218402372,0.2791783359077579,-0.9906830706778221,0.4810098473856099,1.0125421345872334,1.358913896745162,-1.1362324711337033,-1.0732819075861326,-1.4031717704942892,-0.9452636455237585,0.062344609433789444,-0.02768845426741946],\"xaxis\":\"x11\",\"yaxis\":\"y11\",\"type\":\"histogram\"},{\"line\":{\"color\":\"rgba(128, 128, 128, 1.0)\",\"dash\":\"solid\",\"shape\":\"linear\",\"width\":1.3},\"marker\":{\"size\":2,\"symbol\":\"circle\"},\"mode\":\"markers\",\"name\":\"C\",\"text\":\"\",\"x\":[-0.7481175396550206,1.2234305898579076,-1.976720081584501,0.6899477520811974,-0.22014339453056606,0.09780635699530431,0.8471015694289812,0.17363529636436545,0.8135946557880653,-0.7571828256286016,0.5833472024472944,0.6811442861956457,-1.5222725801928654,-0.9316056188892309,-0.015246748853435677,0.017008365382485714,-0.15951266427774013,1.1288036903682699,-0.6541853301837105,-0.3900776094359683,2.3090029908734238,-0.538822815851566,-1.236893386536804,-1.5169432316935727,0.3502145276593857,-0.17448199452404328,-0.2525100119082364,1.4467270083009294,0.07531109122271433,-1.2152983342793764,0.8804196963916894,-0.9184712183051706,-0.486116029992153,-0.43507786054928993,-0.3161380617560525,0.7157376698697067,-1.5227347792653272,2.0480204057517044,-0.16310384765860617,1.1647621554560457,1.0690285918981774,1.3810609078170664,-0.7562734236013121,-0.6250334481312175,-0.029185759543698415,1.1181930854044528,-1.445484865057198,-0.25978395021108247,0.028305979367296067,-0.3175739985340123,1.1917645653351394,-0.8778407588406054,0.04564646096547812,0.7604554551613494,-1.2281162814866209,0.17938372398844063,1.4199479851829313,0.6641356650086911,-0.5498942234464932,0.48557349149639545,-0.9888801054873628,0.6287689154184527,0.8561306156712443,-0.0297555910237018,0.14765112806671235,-1.3012723755906053,-0.7634785487393035,1.0649905919989138,-0.1639242813541542,-0.6358801177872554,-0.39370631745779466,-0.5433214356048077,-0.17489034807411538,-0.43484421964010195,0.05920097777188008,-1.1548850267822388,1.4484184396699349,0.4102384397802808,-0.44617871170704526,-0.9363780758969589,-0.5849787745512334,-0.48347424468438016,0.7571699899636907,0.16297142152724292,-0.42095397857681394,-0.7210052490542894,-0.9482891619630368,0.5785731905309177,-0.7104707137780943,-0.6357922407901868,-2.7717703474575317,0.23999801269790413,1.5436450139130389,0.75568858482363,0.657293186888398,0.8377978217084416,0.810409955932594,0.4394048761686608,0.20479031941611356,2.1560191981439165],\"xaxis\":\"x12\",\"y\":[0.702767431533642,2.4130266328026875,1.0247116988576892,1.1683727821289778,-1.3056717628835188,-0.9616928382289589,-1.4969575112466853,-0.6365153296307634,0.11217914666770475,1.2144287765738433,-0.6495486019328311,-0.19639525020624254,-0.00802132540888039,0.02694614454660426,-0.528954231674728,1.5706058322517387,0.4820803948391646,0.4206337344540275,0.10591315631999255,0.7937826774382816,0.144104101401556,-1.3887166806425755,1.6326366443060474,-0.18027878873270034,0.826296296089968,-0.2580101564367002,-0.6688867058712796,0.7378586244711566,1.921519209242429,-0.22669263844505874,-0.36584692112998235,1.6384095185283776,0.8125504647072437,-0.49031400400566966,0.7741652466697522,-0.22213464090142843,-0.2527107376648289,-1.605821524503842,0.9109145605827451,-1.9943612002091708,0.9332459593082034,0.866333413662675,1.6820321612890714,-0.07671391298756125,0.1738989493806357,-1.5804953182696397,1.0460186545875654,-0.16110376935988216,-0.5617610909222606,0.07581562577893483,-0.03552371262803585,0.4269245996611502,-0.6496427509906124,1.675109322453891,-0.7148743282459987,-1.687744547155932,-0.8191850962643112,0.5259046079873353,-0.3248846951260035,-1.6750635846039788,-0.6121564366027149,0.27626692155815863,1.6358128717285716,0.8492940238752041,0.3355667863277014,-0.013777162449761769,-0.3604674654475875,-0.9326775784452925,0.7189623537867452,0.4222208695106275,-0.3443113071071108,-0.6763998146568629,-0.248286139854172,-0.2448649987359036,-1.8227067665030514,0.8846947920126711,-1.6132360765385587,-1.554804906148493,-0.5124269413107482,-0.5867457557616809,-0.08872399849448215,0.44346757039634555,2.055498002435792,-0.5266791467291811,0.717310741953486,-0.9514008286056141,-0.30449684289472284,-0.25453425475848257,0.22712846218402372,0.2791783359077579,-0.9906830706778221,0.4810098473856099,1.0125421345872334,1.358913896745162,-1.1362324711337033,-1.0732819075861326,-1.4031717704942892,-0.9452636455237585,0.062344609433789444,-0.02768845426741946],\"yaxis\":\"y12\",\"type\":\"scatter\"},{\"line\":{\"color\":\"rgba(128, 128, 128, 1.0)\",\"dash\":\"solid\",\"shape\":\"linear\",\"width\":1.3},\"marker\":{\"size\":2,\"symbol\":\"circle\"},\"mode\":\"markers\",\"name\":\"D\",\"text\":\"\",\"x\":[1.0801251640557836,-0.09638858984862315,-0.4778206331382923,-0.2942173372442018,0.04212547757433794,-0.21241871665351275,0.6157702361721962,0.32992005709913946,0.6814184853186209,-0.401646842512738,-0.2851115081639871,-1.2114845027340753,0.06916614368341706,0.1591285599517671,0.05453521215892846,-0.6810073484713328,2.8589502284383155,-0.5012294716308849,1.6502615869672825,1.2967876390551507,-0.10757536720860636,-0.42252750196673766,1.1947484804295403,-0.395714437875417,0.21503690725318397,0.42319298537150496,-1.7070394815037455,0.2886632245298637,0.11713281991426203,-1.590841654060365,0.2983704610660227,-1.459872250265605,1.6761898403762872,0.5399305897011594,1.859397226985364,-0.09166231163698116,0.4606859669210411,0.33415746097397353,0.027914158981814274,0.5974492446391806,-0.16239253650338997,-1.6435607314478577,0.6442208478110065,-1.0148388047249859,0.9594519440364432,-0.44541819871248955,-0.886535797155018,-1.0310906701974405,1.5682064990356273,-0.18047306213555087,0.7648350111451226,0.45585198816044414,-0.7528956574004777,-0.22824277167503762,0.014635252813137507,-0.7893010839719782,0.6859059684265395,-0.8650133123530385,-0.15179595809982077,-0.15250415179727717,-0.0351690914259882,2.0661977474856523,1.074773180617247,-1.4386033815290893,1.306654243985068,-0.09771618187642477,-2.1219455194046253,-0.35806526592115173,-0.5794297205497703,0.6788180144526051,0.8037361115157824,-1.4809937681016654,-2.0178203799844856,0.3101821464478711,-0.1790669563794227,-1.5498694961858306,-0.5086716379020376,-0.6459186885571588,0.3295423928644564,-1.0961683497786938,-1.5805201999917888,0.3933799959004732,0.3219084816465848,0.2924579434889606,-0.10074763128293673,-0.03403519839224362,2.3332802461496995,2.0114018515991834,0.7620841513465821,-1.1857754510814738,-0.582780837007449,1.0518815625121487,0.20745864997243998,0.15382712049177955,0.19150932142055335,2.0178206629395943,-0.6900046114688033,-0.977313611536171,-0.6851687125391716,0.1741431211184333],\"xaxis\":\"x13\",\"y\":[-0.7481175396550206,1.2234305898579076,-1.976720081584501,0.6899477520811974,-0.22014339453056606,0.09780635699530431,0.8471015694289812,0.17363529636436545,0.8135946557880653,-0.7571828256286016,0.5833472024472944,0.6811442861956457,-1.5222725801928654,-0.9316056188892309,-0.015246748853435677,0.017008365382485714,-0.15951266427774013,1.1288036903682699,-0.6541853301837105,-0.3900776094359683,2.3090029908734238,-0.538822815851566,-1.236893386536804,-1.5169432316935727,0.3502145276593857,-0.17448199452404328,-0.2525100119082364,1.4467270083009294,0.07531109122271433,-1.2152983342793764,0.8804196963916894,-0.9184712183051706,-0.486116029992153,-0.43507786054928993,-0.3161380617560525,0.7157376698697067,-1.5227347792653272,2.0480204057517044,-0.16310384765860617,1.1647621554560457,1.0690285918981774,1.3810609078170664,-0.7562734236013121,-0.6250334481312175,-0.029185759543698415,1.1181930854044528,-1.445484865057198,-0.25978395021108247,0.028305979367296067,-0.3175739985340123,1.1917645653351394,-0.8778407588406054,0.04564646096547812,0.7604554551613494,-1.2281162814866209,0.17938372398844063,1.4199479851829313,0.6641356650086911,-0.5498942234464932,0.48557349149639545,-0.9888801054873628,0.6287689154184527,0.8561306156712443,-0.0297555910237018,0.14765112806671235,-1.3012723755906053,-0.7634785487393035,1.0649905919989138,-0.1639242813541542,-0.6358801177872554,-0.39370631745779466,-0.5433214356048077,-0.17489034807411538,-0.43484421964010195,0.05920097777188008,-1.1548850267822388,1.4484184396699349,0.4102384397802808,-0.44617871170704526,-0.9363780758969589,-0.5849787745512334,-0.48347424468438016,0.7571699899636907,0.16297142152724292,-0.42095397857681394,-0.7210052490542894,-0.9482891619630368,0.5785731905309177,-0.7104707137780943,-0.6357922407901868,-2.7717703474575317,0.23999801269790413,1.5436450139130389,0.75568858482363,0.657293186888398,0.8377978217084416,0.810409955932594,0.4394048761686608,0.20479031941611356,2.1560191981439165],\"yaxis\":\"y13\",\"type\":\"scatter\"},{\"line\":{\"color\":\"rgba(128, 128, 128, 1.0)\",\"dash\":\"solid\",\"shape\":\"linear\",\"width\":1.3},\"marker\":{\"size\":2,\"symbol\":\"circle\"},\"mode\":\"markers\",\"name\":\"D\",\"text\":\"\",\"x\":[1.3607841251836796,-0.9674674905132706,0.3122098362800539,-1.9448302439623684,1.6135031795380288,-0.9716838883329177,2.0331012007700022,1.652770317992748,-1.4578018235628902,-1.5732701085155567,-0.07607385423638324,0.08201682070201322,0.2122198422416436,-1.9304564495522596,-2.3040923217611735,0.9130611530966893,1.3802584503837574,-0.4046830738850893,0.07601032667948168,0.8976347785160459,-0.09003598707624505,0.7409346195956898,-1.8007196022202219,-0.6317000979078795,-0.1413757369338316,0.6468377284193276,0.5381324922017766,0.740679491186776,-1.204443665274361,0.47276969369577587,1.127827927590617,0.2361165790929499,0.24009181716586592,-1.3194438103143555,-0.38186725209629757,-0.7977332724316449,2.469920077081317,-0.10610371314187877,-1.5121692164865521,-1.1844023197781017,-0.011171440261647346,-0.5098884899014533,1.8974393146246504,-0.16990836365314899,-0.6014629305675028,-0.8318383576734268,-0.03298638585192762,0.6062909702192114,-0.15800986430627798,1.6882608031105024,-0.671277450025276,-0.820328638105275,0.2881868567368972,0.5243074034741281,0.1285915753539585,0.5945487422764267,0.19612240560354918,-0.9772081243251444,-0.023067476057357688,0.2389657964904768,-0.4983109887694054,-0.27292214745955795,-0.7670065331174148,0.08971936190133252,0.05660681638505576,-0.9435712987191033,0.667349226954366,1.1180615456422802,-1.375596283258031,1.5745623897180148,-1.8334282872394294,1.6572128822452232,2.042726721554889,-0.49918497976316645,0.6500999327603493,2.071292907232663,1.3564198989597525,0.4812759605501785,0.978137026870297,-0.38228276955254964,-2.3068081170005383,-0.8499659630386249,-0.14182566772572905,-0.029006226358003907,0.15691513529743456,1.6364792393697691,-0.39096557396705495,1.289989835188355,-0.6079139476948235,1.787981154711908,-0.9677198312633559,0.9800751842228804,1.0901319076859644,-1.081995774409719,-0.1983707845407121,0.3630010895250102,-0.5657049123972575,0.3503979459289591,1.005465375591448,-0.3704708729101634],\"xaxis\":\"x14\",\"y\":[-0.7481175396550206,1.2234305898579076,-1.976720081584501,0.6899477520811974,-0.22014339453056606,0.09780635699530431,0.8471015694289812,0.17363529636436545,0.8135946557880653,-0.7571828256286016,0.5833472024472944,0.6811442861956457,-1.5222725801928654,-0.9316056188892309,-0.015246748853435677,0.017008365382485714,-0.15951266427774013,1.1288036903682699,-0.6541853301837105,-0.3900776094359683,2.3090029908734238,-0.538822815851566,-1.236893386536804,-1.5169432316935727,0.3502145276593857,-0.17448199452404328,-0.2525100119082364,1.4467270083009294,0.07531109122271433,-1.2152983342793764,0.8804196963916894,-0.9184712183051706,-0.486116029992153,-0.43507786054928993,-0.3161380617560525,0.7157376698697067,-1.5227347792653272,2.0480204057517044,-0.16310384765860617,1.1647621554560457,1.0690285918981774,1.3810609078170664,-0.7562734236013121,-0.6250334481312175,-0.029185759543698415,1.1181930854044528,-1.445484865057198,-0.25978395021108247,0.028305979367296067,-0.3175739985340123,1.1917645653351394,-0.8778407588406054,0.04564646096547812,0.7604554551613494,-1.2281162814866209,0.17938372398844063,1.4199479851829313,0.6641356650086911,-0.5498942234464932,0.48557349149639545,-0.9888801054873628,0.6287689154184527,0.8561306156712443,-0.0297555910237018,0.14765112806671235,-1.3012723755906053,-0.7634785487393035,1.0649905919989138,-0.1639242813541542,-0.6358801177872554,-0.39370631745779466,-0.5433214356048077,-0.17489034807411538,-0.43484421964010195,0.05920097777188008,-1.1548850267822388,1.4484184396699349,0.4102384397802808,-0.44617871170704526,-0.9363780758969589,-0.5849787745512334,-0.48347424468438016,0.7571699899636907,0.16297142152724292,-0.42095397857681394,-0.7210052490542894,-0.9482891619630368,0.5785731905309177,-0.7104707137780943,-0.6357922407901868,-2.7717703474575317,0.23999801269790413,1.5436450139130389,0.75568858482363,0.657293186888398,0.8377978217084416,0.810409955932594,0.4394048761686608,0.20479031941611356,2.1560191981439165],\"yaxis\":\"y14\",\"type\":\"scatter\"},{\"line\":{\"color\":\"rgba(128, 128, 128, 1.0)\",\"dash\":\"solid\",\"shape\":\"linear\",\"width\":1.3},\"marker\":{\"size\":2,\"symbol\":\"circle\"},\"mode\":\"markers\",\"name\":\"D\",\"text\":\"\",\"x\":[0.702767431533642,2.4130266328026875,1.0247116988576892,1.1683727821289778,-1.3056717628835188,-0.9616928382289589,-1.4969575112466853,-0.6365153296307634,0.11217914666770475,1.2144287765738433,-0.6495486019328311,-0.19639525020624254,-0.00802132540888039,0.02694614454660426,-0.528954231674728,1.5706058322517387,0.4820803948391646,0.4206337344540275,0.10591315631999255,0.7937826774382816,0.144104101401556,-1.3887166806425755,1.6326366443060474,-0.18027878873270034,0.826296296089968,-0.2580101564367002,-0.6688867058712796,0.7378586244711566,1.921519209242429,-0.22669263844505874,-0.36584692112998235,1.6384095185283776,0.8125504647072437,-0.49031400400566966,0.7741652466697522,-0.22213464090142843,-0.2527107376648289,-1.605821524503842,0.9109145605827451,-1.9943612002091708,0.9332459593082034,0.866333413662675,1.6820321612890714,-0.07671391298756125,0.1738989493806357,-1.5804953182696397,1.0460186545875654,-0.16110376935988216,-0.5617610909222606,0.07581562577893483,-0.03552371262803585,0.4269245996611502,-0.6496427509906124,1.675109322453891,-0.7148743282459987,-1.687744547155932,-0.8191850962643112,0.5259046079873353,-0.3248846951260035,-1.6750635846039788,-0.6121564366027149,0.27626692155815863,1.6358128717285716,0.8492940238752041,0.3355667863277014,-0.013777162449761769,-0.3604674654475875,-0.9326775784452925,0.7189623537867452,0.4222208695106275,-0.3443113071071108,-0.6763998146568629,-0.248286139854172,-0.2448649987359036,-1.8227067665030514,0.8846947920126711,-1.6132360765385587,-1.554804906148493,-0.5124269413107482,-0.5867457557616809,-0.08872399849448215,0.44346757039634555,2.055498002435792,-0.5266791467291811,0.717310741953486,-0.9514008286056141,-0.30449684289472284,-0.25453425475848257,0.22712846218402372,0.2791783359077579,-0.9906830706778221,0.4810098473856099,1.0125421345872334,1.358913896745162,-1.1362324711337033,-1.0732819075861326,-1.4031717704942892,-0.9452636455237585,0.062344609433789444,-0.02768845426741946],\"xaxis\":\"x15\",\"y\":[-0.7481175396550206,1.2234305898579076,-1.976720081584501,0.6899477520811974,-0.22014339453056606,0.09780635699530431,0.8471015694289812,0.17363529636436545,0.8135946557880653,-0.7571828256286016,0.5833472024472944,0.6811442861956457,-1.5222725801928654,-0.9316056188892309,-0.015246748853435677,0.017008365382485714,-0.15951266427774013,1.1288036903682699,-0.6541853301837105,-0.3900776094359683,2.3090029908734238,-0.538822815851566,-1.236893386536804,-1.5169432316935727,0.3502145276593857,-0.17448199452404328,-0.2525100119082364,1.4467270083009294,0.07531109122271433,-1.2152983342793764,0.8804196963916894,-0.9184712183051706,-0.486116029992153,-0.43507786054928993,-0.3161380617560525,0.7157376698697067,-1.5227347792653272,2.0480204057517044,-0.16310384765860617,1.1647621554560457,1.0690285918981774,1.3810609078170664,-0.7562734236013121,-0.6250334481312175,-0.029185759543698415,1.1181930854044528,-1.445484865057198,-0.25978395021108247,0.028305979367296067,-0.3175739985340123,1.1917645653351394,-0.8778407588406054,0.04564646096547812,0.7604554551613494,-1.2281162814866209,0.17938372398844063,1.4199479851829313,0.6641356650086911,-0.5498942234464932,0.48557349149639545,-0.9888801054873628,0.6287689154184527,0.8561306156712443,-0.0297555910237018,0.14765112806671235,-1.3012723755906053,-0.7634785487393035,1.0649905919989138,-0.1639242813541542,-0.6358801177872554,-0.39370631745779466,-0.5433214356048077,-0.17489034807411538,-0.43484421964010195,0.05920097777188008,-1.1548850267822388,1.4484184396699349,0.4102384397802808,-0.44617871170704526,-0.9363780758969589,-0.5849787745512334,-0.48347424468438016,0.7571699899636907,0.16297142152724292,-0.42095397857681394,-0.7210052490542894,-0.9482891619630368,0.5785731905309177,-0.7104707137780943,-0.6357922407901868,-2.7717703474575317,0.23999801269790413,1.5436450139130389,0.75568858482363,0.657293186888398,0.8377978217084416,0.810409955932594,0.4394048761686608,0.20479031941611356,2.1560191981439165],\"yaxis\":\"y15\",\"type\":\"scatter\"},{\"histfunc\":\"count\",\"histnorm\":\"\",\"marker\":{\"color\":\"rgba(128, 0, 128, 1.0)\",\"line\":{\"color\":\"#4D5663\",\"width\":1.3}},\"name\":\"D\",\"nbinsx\":10,\"opacity\":0.8,\"orientation\":\"v\",\"x\":[-0.7481175396550206,1.2234305898579076,-1.976720081584501,0.6899477520811974,-0.22014339453056606,0.09780635699530431,0.8471015694289812,0.17363529636436545,0.8135946557880653,-0.7571828256286016,0.5833472024472944,0.6811442861956457,-1.5222725801928654,-0.9316056188892309,-0.015246748853435677,0.017008365382485714,-0.15951266427774013,1.1288036903682699,-0.6541853301837105,-0.3900776094359683,2.3090029908734238,-0.538822815851566,-1.236893386536804,-1.5169432316935727,0.3502145276593857,-0.17448199452404328,-0.2525100119082364,1.4467270083009294,0.07531109122271433,-1.2152983342793764,0.8804196963916894,-0.9184712183051706,-0.486116029992153,-0.43507786054928993,-0.3161380617560525,0.7157376698697067,-1.5227347792653272,2.0480204057517044,-0.16310384765860617,1.1647621554560457,1.0690285918981774,1.3810609078170664,-0.7562734236013121,-0.6250334481312175,-0.029185759543698415,1.1181930854044528,-1.445484865057198,-0.25978395021108247,0.028305979367296067,-0.3175739985340123,1.1917645653351394,-0.8778407588406054,0.04564646096547812,0.7604554551613494,-1.2281162814866209,0.17938372398844063,1.4199479851829313,0.6641356650086911,-0.5498942234464932,0.48557349149639545,-0.9888801054873628,0.6287689154184527,0.8561306156712443,-0.0297555910237018,0.14765112806671235,-1.3012723755906053,-0.7634785487393035,1.0649905919989138,-0.1639242813541542,-0.6358801177872554,-0.39370631745779466,-0.5433214356048077,-0.17489034807411538,-0.43484421964010195,0.05920097777188008,-1.1548850267822388,1.4484184396699349,0.4102384397802808,-0.44617871170704526,-0.9363780758969589,-0.5849787745512334,-0.48347424468438016,0.7571699899636907,0.16297142152724292,-0.42095397857681394,-0.7210052490542894,-0.9482891619630368,0.5785731905309177,-0.7104707137780943,-0.6357922407901868,-2.7717703474575317,0.23999801269790413,1.5436450139130389,0.75568858482363,0.657293186888398,0.8377978217084416,0.810409955932594,0.4394048761686608,0.20479031941611356,2.1560191981439165],\"xaxis\":\"x16\",\"yaxis\":\"y16\",\"type\":\"histogram\"}],                        {\"bargap\":0.02,\"legend\":{\"bgcolor\":\"#F5F6F9\",\"font\":{\"color\":\"#4D5663\"}},\"paper_bgcolor\":\"#F5F6F9\",\"plot_bgcolor\":\"#F5F6F9\",\"showlegend\":false,\"template\":{\"data\":{\"barpolar\":[{\"marker\":{\"line\":{\"color\":\"#E5ECF6\",\"width\":0.5},\"pattern\":{\"fillmode\":\"overlay\",\"size\":10,\"solidity\":0.2}},\"type\":\"barpolar\"}],\"bar\":[{\"error_x\":{\"color\":\"#2a3f5f\"},\"error_y\":{\"color\":\"#2a3f5f\"},\"marker\":{\"line\":{\"color\":\"#E5ECF6\",\"width\":0.5},\"pattern\":{\"fillmode\":\"overlay\",\"size\":10,\"solidity\":0.2}},\"type\":\"bar\"}],\"carpet\":[{\"aaxis\":{\"endlinecolor\":\"#2a3f5f\",\"gridcolor\":\"white\",\"linecolor\":\"white\",\"minorgridcolor\":\"white\",\"startlinecolor\":\"#2a3f5f\"},\"baxis\":{\"endlinecolor\":\"#2a3f5f\",\"gridcolor\":\"white\",\"linecolor\":\"white\",\"minorgridcolor\":\"white\",\"startlinecolor\":\"#2a3f5f\"},\"type\":\"carpet\"}],\"choropleth\":[{\"colorbar\":{\"outlinewidth\":0,\"ticks\":\"\"},\"type\":\"choropleth\"}],\"contourcarpet\":[{\"colorbar\":{\"outlinewidth\":0,\"ticks\":\"\"},\"type\":\"contourcarpet\"}],\"contour\":[{\"colorbar\":{\"outlinewidth\":0,\"ticks\":\"\"},\"colorscale\":[[0.0,\"#0d0887\"],[0.1111111111111111,\"#46039f\"],[0.2222222222222222,\"#7201a8\"],[0.3333333333333333,\"#9c179e\"],[0.4444444444444444,\"#bd3786\"],[0.5555555555555556,\"#d8576b\"],[0.6666666666666666,\"#ed7953\"],[0.7777777777777778,\"#fb9f3a\"],[0.8888888888888888,\"#fdca26\"],[1.0,\"#f0f921\"]],\"type\":\"contour\"}],\"heatmapgl\":[{\"colorbar\":{\"outlinewidth\":0,\"ticks\":\"\"},\"colorscale\":[[0.0,\"#0d0887\"],[0.1111111111111111,\"#46039f\"],[0.2222222222222222,\"#7201a8\"],[0.3333333333333333,\"#9c179e\"],[0.4444444444444444,\"#bd3786\"],[0.5555555555555556,\"#d8576b\"],[0.6666666666666666,\"#ed7953\"],[0.7777777777777778,\"#fb9f3a\"],[0.8888888888888888,\"#fdca26\"],[1.0,\"#f0f921\"]],\"type\":\"heatmapgl\"}],\"heatmap\":[{\"colorbar\":{\"outlinewidth\":0,\"ticks\":\"\"},\"colorscale\":[[0.0,\"#0d0887\"],[0.1111111111111111,\"#46039f\"],[0.2222222222222222,\"#7201a8\"],[0.3333333333333333,\"#9c179e\"],[0.4444444444444444,\"#bd3786\"],[0.5555555555555556,\"#d8576b\"],[0.6666666666666666,\"#ed7953\"],[0.7777777777777778,\"#fb9f3a\"],[0.8888888888888888,\"#fdca26\"],[1.0,\"#f0f921\"]],\"type\":\"heatmap\"}],\"histogram2dcontour\":[{\"colorbar\":{\"outlinewidth\":0,\"ticks\":\"\"},\"colorscale\":[[0.0,\"#0d0887\"],[0.1111111111111111,\"#46039f\"],[0.2222222222222222,\"#7201a8\"],[0.3333333333333333,\"#9c179e\"],[0.4444444444444444,\"#bd3786\"],[0.5555555555555556,\"#d8576b\"],[0.6666666666666666,\"#ed7953\"],[0.7777777777777778,\"#fb9f3a\"],[0.8888888888888888,\"#fdca26\"],[1.0,\"#f0f921\"]],\"type\":\"histogram2dcontour\"}],\"histogram2d\":[{\"colorbar\":{\"outlinewidth\":0,\"ticks\":\"\"},\"colorscale\":[[0.0,\"#0d0887\"],[0.1111111111111111,\"#46039f\"],[0.2222222222222222,\"#7201a8\"],[0.3333333333333333,\"#9c179e\"],[0.4444444444444444,\"#bd3786\"],[0.5555555555555556,\"#d8576b\"],[0.6666666666666666,\"#ed7953\"],[0.7777777777777778,\"#fb9f3a\"],[0.8888888888888888,\"#fdca26\"],[1.0,\"#f0f921\"]],\"type\":\"histogram2d\"}],\"histogram\":[{\"marker\":{\"pattern\":{\"fillmode\":\"overlay\",\"size\":10,\"solidity\":0.2}},\"type\":\"histogram\"}],\"mesh3d\":[{\"colorbar\":{\"outlinewidth\":0,\"ticks\":\"\"},\"type\":\"mesh3d\"}],\"parcoords\":[{\"line\":{\"colorbar\":{\"outlinewidth\":0,\"ticks\":\"\"}},\"type\":\"parcoords\"}],\"pie\":[{\"automargin\":true,\"type\":\"pie\"}],\"scatter3d\":[{\"line\":{\"colorbar\":{\"outlinewidth\":0,\"ticks\":\"\"}},\"marker\":{\"colorbar\":{\"outlinewidth\":0,\"ticks\":\"\"}},\"type\":\"scatter3d\"}],\"scattercarpet\":[{\"marker\":{\"colorbar\":{\"outlinewidth\":0,\"ticks\":\"\"}},\"type\":\"scattercarpet\"}],\"scattergeo\":[{\"marker\":{\"colorbar\":{\"outlinewidth\":0,\"ticks\":\"\"}},\"type\":\"scattergeo\"}],\"scattergl\":[{\"marker\":{\"colorbar\":{\"outlinewidth\":0,\"ticks\":\"\"}},\"type\":\"scattergl\"}],\"scattermapbox\":[{\"marker\":{\"colorbar\":{\"outlinewidth\":0,\"ticks\":\"\"}},\"type\":\"scattermapbox\"}],\"scatterpolargl\":[{\"marker\":{\"colorbar\":{\"outlinewidth\":0,\"ticks\":\"\"}},\"type\":\"scatterpolargl\"}],\"scatterpolar\":[{\"marker\":{\"colorbar\":{\"outlinewidth\":0,\"ticks\":\"\"}},\"type\":\"scatterpolar\"}],\"scatter\":[{\"fillpattern\":{\"fillmode\":\"overlay\",\"size\":10,\"solidity\":0.2},\"type\":\"scatter\"}],\"scatterternary\":[{\"marker\":{\"colorbar\":{\"outlinewidth\":0,\"ticks\":\"\"}},\"type\":\"scatterternary\"}],\"surface\":[{\"colorbar\":{\"outlinewidth\":0,\"ticks\":\"\"},\"colorscale\":[[0.0,\"#0d0887\"],[0.1111111111111111,\"#46039f\"],[0.2222222222222222,\"#7201a8\"],[0.3333333333333333,\"#9c179e\"],[0.4444444444444444,\"#bd3786\"],[0.5555555555555556,\"#d8576b\"],[0.6666666666666666,\"#ed7953\"],[0.7777777777777778,\"#fb9f3a\"],[0.8888888888888888,\"#fdca26\"],[1.0,\"#f0f921\"]],\"type\":\"surface\"}],\"table\":[{\"cells\":{\"fill\":{\"color\":\"#EBF0F8\"},\"line\":{\"color\":\"white\"}},\"header\":{\"fill\":{\"color\":\"#C8D4E3\"},\"line\":{\"color\":\"white\"}},\"type\":\"table\"}]},\"layout\":{\"annotationdefaults\":{\"arrowcolor\":\"#2a3f5f\",\"arrowhead\":0,\"arrowwidth\":1},\"autotypenumbers\":\"strict\",\"coloraxis\":{\"colorbar\":{\"outlinewidth\":0,\"ticks\":\"\"}},\"colorscale\":{\"diverging\":[[0,\"#8e0152\"],[0.1,\"#c51b7d\"],[0.2,\"#de77ae\"],[0.3,\"#f1b6da\"],[0.4,\"#fde0ef\"],[0.5,\"#f7f7f7\"],[0.6,\"#e6f5d0\"],[0.7,\"#b8e186\"],[0.8,\"#7fbc41\"],[0.9,\"#4d9221\"],[1,\"#276419\"]],\"sequential\":[[0.0,\"#0d0887\"],[0.1111111111111111,\"#46039f\"],[0.2222222222222222,\"#7201a8\"],[0.3333333333333333,\"#9c179e\"],[0.4444444444444444,\"#bd3786\"],[0.5555555555555556,\"#d8576b\"],[0.6666666666666666,\"#ed7953\"],[0.7777777777777778,\"#fb9f3a\"],[0.8888888888888888,\"#fdca26\"],[1.0,\"#f0f921\"]],\"sequentialminus\":[[0.0,\"#0d0887\"],[0.1111111111111111,\"#46039f\"],[0.2222222222222222,\"#7201a8\"],[0.3333333333333333,\"#9c179e\"],[0.4444444444444444,\"#bd3786\"],[0.5555555555555556,\"#d8576b\"],[0.6666666666666666,\"#ed7953\"],[0.7777777777777778,\"#fb9f3a\"],[0.8888888888888888,\"#fdca26\"],[1.0,\"#f0f921\"]]},\"colorway\":[\"#636efa\",\"#EF553B\",\"#00cc96\",\"#ab63fa\",\"#FFA15A\",\"#19d3f3\",\"#FF6692\",\"#B6E880\",\"#FF97FF\",\"#FECB52\"],\"font\":{\"color\":\"#2a3f5f\"},\"geo\":{\"bgcolor\":\"white\",\"lakecolor\":\"white\",\"landcolor\":\"#E5ECF6\",\"showlakes\":true,\"showland\":true,\"subunitcolor\":\"white\"},\"hoverlabel\":{\"align\":\"left\"},\"hovermode\":\"closest\",\"mapbox\":{\"style\":\"light\"},\"paper_bgcolor\":\"white\",\"plot_bgcolor\":\"#E5ECF6\",\"polar\":{\"angularaxis\":{\"gridcolor\":\"white\",\"linecolor\":\"white\",\"ticks\":\"\"},\"bgcolor\":\"#E5ECF6\",\"radialaxis\":{\"gridcolor\":\"white\",\"linecolor\":\"white\",\"ticks\":\"\"}},\"scene\":{\"xaxis\":{\"backgroundcolor\":\"#E5ECF6\",\"gridcolor\":\"white\",\"gridwidth\":2,\"linecolor\":\"white\",\"showbackground\":true,\"ticks\":\"\",\"zerolinecolor\":\"white\"},\"yaxis\":{\"backgroundcolor\":\"#E5ECF6\",\"gridcolor\":\"white\",\"gridwidth\":2,\"linecolor\":\"white\",\"showbackground\":true,\"ticks\":\"\",\"zerolinecolor\":\"white\"},\"zaxis\":{\"backgroundcolor\":\"#E5ECF6\",\"gridcolor\":\"white\",\"gridwidth\":2,\"linecolor\":\"white\",\"showbackground\":true,\"ticks\":\"\",\"zerolinecolor\":\"white\"}},\"shapedefaults\":{\"line\":{\"color\":\"#2a3f5f\"}},\"ternary\":{\"aaxis\":{\"gridcolor\":\"white\",\"linecolor\":\"white\",\"ticks\":\"\"},\"baxis\":{\"gridcolor\":\"white\",\"linecolor\":\"white\",\"ticks\":\"\"},\"bgcolor\":\"#E5ECF6\",\"caxis\":{\"gridcolor\":\"white\",\"linecolor\":\"white\",\"ticks\":\"\"}},\"title\":{\"x\":0.05},\"xaxis\":{\"automargin\":true,\"gridcolor\":\"white\",\"linecolor\":\"white\",\"ticks\":\"\",\"title\":{\"standoff\":15},\"zerolinecolor\":\"white\",\"zerolinewidth\":2},\"yaxis\":{\"automargin\":true,\"gridcolor\":\"white\",\"linecolor\":\"white\",\"ticks\":\"\",\"title\":{\"standoff\":15},\"zerolinecolor\":\"white\",\"zerolinewidth\":2}}},\"title\":{\"font\":{\"color\":\"#4D5663\"}},\"xaxis\":{\"anchor\":\"y\",\"domain\":[0.0,0.2125],\"gridcolor\":\"#E1E5ED\",\"showgrid\":false,\"tickfont\":{\"color\":\"#4D5663\"},\"title\":{\"font\":{\"color\":\"#4D5663\"},\"text\":\"\"},\"zerolinecolor\":\"#E1E5ED\"},\"yaxis\":{\"anchor\":\"x\",\"domain\":[0.8025,1.0],\"gridcolor\":\"#E1E5ED\",\"showgrid\":false,\"tickfont\":{\"color\":\"#4D5663\"},\"title\":{\"font\":{\"color\":\"#4D5663\"},\"text\":\"\"},\"zerolinecolor\":\"#E1E5ED\"},\"xaxis2\":{\"anchor\":\"y2\",\"domain\":[0.2625,0.475],\"gridcolor\":\"#E1E5ED\",\"showgrid\":false,\"tickfont\":{\"color\":\"#4D5663\"},\"title\":{\"font\":{\"color\":\"#4D5663\"},\"text\":\"\"},\"zerolinecolor\":\"#E1E5ED\"},\"yaxis2\":{\"anchor\":\"x2\",\"domain\":[0.8025,1.0],\"gridcolor\":\"#E1E5ED\",\"showgrid\":false,\"tickfont\":{\"color\":\"#4D5663\"},\"title\":{\"font\":{\"color\":\"#4D5663\"},\"text\":\"\"},\"zerolinecolor\":\"#E1E5ED\"},\"xaxis3\":{\"anchor\":\"y3\",\"domain\":[0.525,0.7375],\"gridcolor\":\"#E1E5ED\",\"showgrid\":false,\"tickfont\":{\"color\":\"#4D5663\"},\"title\":{\"font\":{\"color\":\"#4D5663\"},\"text\":\"\"},\"zerolinecolor\":\"#E1E5ED\"},\"yaxis3\":{\"anchor\":\"x3\",\"domain\":[0.8025,1.0],\"gridcolor\":\"#E1E5ED\",\"showgrid\":false,\"tickfont\":{\"color\":\"#4D5663\"},\"title\":{\"font\":{\"color\":\"#4D5663\"},\"text\":\"\"},\"zerolinecolor\":\"#E1E5ED\"},\"xaxis4\":{\"anchor\":\"y4\",\"domain\":[0.7875,1.0],\"gridcolor\":\"#E1E5ED\",\"showgrid\":false,\"tickfont\":{\"color\":\"#4D5663\"},\"title\":{\"font\":{\"color\":\"#4D5663\"},\"text\":\"\"},\"zerolinecolor\":\"#E1E5ED\"},\"yaxis4\":{\"anchor\":\"x4\",\"domain\":[0.8025,1.0],\"gridcolor\":\"#E1E5ED\",\"showgrid\":false,\"tickfont\":{\"color\":\"#4D5663\"},\"title\":{\"font\":{\"color\":\"#4D5663\"},\"text\":\"\"},\"zerolinecolor\":\"#E1E5ED\"},\"xaxis5\":{\"anchor\":\"y5\",\"domain\":[0.0,0.2125],\"gridcolor\":\"#E1E5ED\",\"showgrid\":false,\"tickfont\":{\"color\":\"#4D5663\"},\"title\":{\"font\":{\"color\":\"#4D5663\"},\"text\":\"\"},\"zerolinecolor\":\"#E1E5ED\"},\"yaxis5\":{\"anchor\":\"x5\",\"domain\":[0.535,0.7325],\"gridcolor\":\"#E1E5ED\",\"showgrid\":false,\"tickfont\":{\"color\":\"#4D5663\"},\"title\":{\"font\":{\"color\":\"#4D5663\"},\"text\":\"\"},\"zerolinecolor\":\"#E1E5ED\"},\"xaxis6\":{\"anchor\":\"y6\",\"domain\":[0.2625,0.475],\"gridcolor\":\"#E1E5ED\",\"showgrid\":false,\"tickfont\":{\"color\":\"#4D5663\"},\"title\":{\"font\":{\"color\":\"#4D5663\"},\"text\":\"\"},\"zerolinecolor\":\"#E1E5ED\"},\"yaxis6\":{\"anchor\":\"x6\",\"domain\":[0.535,0.7325],\"gridcolor\":\"#E1E5ED\",\"showgrid\":false,\"tickfont\":{\"color\":\"#4D5663\"},\"title\":{\"font\":{\"color\":\"#4D5663\"},\"text\":\"\"},\"zerolinecolor\":\"#E1E5ED\"},\"xaxis7\":{\"anchor\":\"y7\",\"domain\":[0.525,0.7375],\"gridcolor\":\"#E1E5ED\",\"showgrid\":false,\"tickfont\":{\"color\":\"#4D5663\"},\"title\":{\"font\":{\"color\":\"#4D5663\"},\"text\":\"\"},\"zerolinecolor\":\"#E1E5ED\"},\"yaxis7\":{\"anchor\":\"x7\",\"domain\":[0.535,0.7325],\"gridcolor\":\"#E1E5ED\",\"showgrid\":false,\"tickfont\":{\"color\":\"#4D5663\"},\"title\":{\"font\":{\"color\":\"#4D5663\"},\"text\":\"\"},\"zerolinecolor\":\"#E1E5ED\"},\"xaxis8\":{\"anchor\":\"y8\",\"domain\":[0.7875,1.0],\"gridcolor\":\"#E1E5ED\",\"showgrid\":false,\"tickfont\":{\"color\":\"#4D5663\"},\"title\":{\"font\":{\"color\":\"#4D5663\"},\"text\":\"\"},\"zerolinecolor\":\"#E1E5ED\"},\"yaxis8\":{\"anchor\":\"x8\",\"domain\":[0.535,0.7325],\"gridcolor\":\"#E1E5ED\",\"showgrid\":false,\"tickfont\":{\"color\":\"#4D5663\"},\"title\":{\"font\":{\"color\":\"#4D5663\"},\"text\":\"\"},\"zerolinecolor\":\"#E1E5ED\"},\"xaxis9\":{\"anchor\":\"y9\",\"domain\":[0.0,0.2125],\"gridcolor\":\"#E1E5ED\",\"showgrid\":false,\"tickfont\":{\"color\":\"#4D5663\"},\"title\":{\"font\":{\"color\":\"#4D5663\"},\"text\":\"\"},\"zerolinecolor\":\"#E1E5ED\"},\"yaxis9\":{\"anchor\":\"x9\",\"domain\":[0.2675,0.465],\"gridcolor\":\"#E1E5ED\",\"showgrid\":false,\"tickfont\":{\"color\":\"#4D5663\"},\"title\":{\"font\":{\"color\":\"#4D5663\"},\"text\":\"\"},\"zerolinecolor\":\"#E1E5ED\"},\"xaxis10\":{\"anchor\":\"y10\",\"domain\":[0.2625,0.475],\"gridcolor\":\"#E1E5ED\",\"showgrid\":false,\"tickfont\":{\"color\":\"#4D5663\"},\"title\":{\"font\":{\"color\":\"#4D5663\"},\"text\":\"\"},\"zerolinecolor\":\"#E1E5ED\"},\"yaxis10\":{\"anchor\":\"x10\",\"domain\":[0.2675,0.465],\"gridcolor\":\"#E1E5ED\",\"showgrid\":false,\"tickfont\":{\"color\":\"#4D5663\"},\"title\":{\"font\":{\"color\":\"#4D5663\"},\"text\":\"\"},\"zerolinecolor\":\"#E1E5ED\"},\"xaxis11\":{\"anchor\":\"y11\",\"domain\":[0.525,0.7375],\"gridcolor\":\"#E1E5ED\",\"showgrid\":false,\"tickfont\":{\"color\":\"#4D5663\"},\"title\":{\"font\":{\"color\":\"#4D5663\"},\"text\":\"\"},\"zerolinecolor\":\"#E1E5ED\"},\"yaxis11\":{\"anchor\":\"x11\",\"domain\":[0.2675,0.465],\"gridcolor\":\"#E1E5ED\",\"showgrid\":false,\"tickfont\":{\"color\":\"#4D5663\"},\"title\":{\"font\":{\"color\":\"#4D5663\"},\"text\":\"\"},\"zerolinecolor\":\"#E1E5ED\"},\"xaxis12\":{\"anchor\":\"y12\",\"domain\":[0.7875,1.0],\"gridcolor\":\"#E1E5ED\",\"showgrid\":false,\"tickfont\":{\"color\":\"#4D5663\"},\"title\":{\"font\":{\"color\":\"#4D5663\"},\"text\":\"\"},\"zerolinecolor\":\"#E1E5ED\"},\"yaxis12\":{\"anchor\":\"x12\",\"domain\":[0.2675,0.465],\"gridcolor\":\"#E1E5ED\",\"showgrid\":false,\"tickfont\":{\"color\":\"#4D5663\"},\"title\":{\"font\":{\"color\":\"#4D5663\"},\"text\":\"\"},\"zerolinecolor\":\"#E1E5ED\"},\"xaxis13\":{\"anchor\":\"y13\",\"domain\":[0.0,0.2125],\"gridcolor\":\"#E1E5ED\",\"showgrid\":false,\"tickfont\":{\"color\":\"#4D5663\"},\"title\":{\"font\":{\"color\":\"#4D5663\"},\"text\":\"\"},\"zerolinecolor\":\"#E1E5ED\"},\"yaxis13\":{\"anchor\":\"x13\",\"domain\":[0.0,0.1975],\"gridcolor\":\"#E1E5ED\",\"showgrid\":false,\"tickfont\":{\"color\":\"#4D5663\"},\"title\":{\"font\":{\"color\":\"#4D5663\"},\"text\":\"\"},\"zerolinecolor\":\"#E1E5ED\"},\"xaxis14\":{\"anchor\":\"y14\",\"domain\":[0.2625,0.475],\"gridcolor\":\"#E1E5ED\",\"showgrid\":false,\"tickfont\":{\"color\":\"#4D5663\"},\"title\":{\"font\":{\"color\":\"#4D5663\"},\"text\":\"\"},\"zerolinecolor\":\"#E1E5ED\"},\"yaxis14\":{\"anchor\":\"x14\",\"domain\":[0.0,0.1975],\"gridcolor\":\"#E1E5ED\",\"showgrid\":false,\"tickfont\":{\"color\":\"#4D5663\"},\"title\":{\"font\":{\"color\":\"#4D5663\"},\"text\":\"\"},\"zerolinecolor\":\"#E1E5ED\"},\"xaxis15\":{\"anchor\":\"y15\",\"domain\":[0.525,0.7375],\"gridcolor\":\"#E1E5ED\",\"showgrid\":false,\"tickfont\":{\"color\":\"#4D5663\"},\"title\":{\"font\":{\"color\":\"#4D5663\"},\"text\":\"\"},\"zerolinecolor\":\"#E1E5ED\"},\"yaxis15\":{\"anchor\":\"x15\",\"domain\":[0.0,0.1975],\"gridcolor\":\"#E1E5ED\",\"showgrid\":false,\"tickfont\":{\"color\":\"#4D5663\"},\"title\":{\"font\":{\"color\":\"#4D5663\"},\"text\":\"\"},\"zerolinecolor\":\"#E1E5ED\"},\"xaxis16\":{\"anchor\":\"y16\",\"domain\":[0.7875,1.0],\"gridcolor\":\"#E1E5ED\",\"showgrid\":false,\"tickfont\":{\"color\":\"#4D5663\"},\"title\":{\"font\":{\"color\":\"#4D5663\"},\"text\":\"\"},\"zerolinecolor\":\"#E1E5ED\"},\"yaxis16\":{\"anchor\":\"x16\",\"domain\":[0.0,0.1975],\"gridcolor\":\"#E1E5ED\",\"showgrid\":false,\"tickfont\":{\"color\":\"#4D5663\"},\"title\":{\"font\":{\"color\":\"#4D5663\"},\"text\":\"\"},\"zerolinecolor\":\"#E1E5ED\"}},                        {\"showLink\": true, \"linkText\": \"Export to plot.ly\", \"plotlyServerURL\": \"https://plot.ly\", \"responsive\": true}                    ).then(function(){\n",
       "                            \n",
       "var gd = document.getElementById('4155ca1f-f914-431e-a518-e39a19fe7127');\n",
       "var x = new MutationObserver(function (mutations, observer) {{\n",
       "        var display = window.getComputedStyle(gd).display;\n",
       "        if (!display || display === 'none') {{\n",
       "            console.log([gd, 'removed!']);\n",
       "            Plotly.purge(gd);\n",
       "            observer.disconnect();\n",
       "        }}\n",
       "}});\n",
       "\n",
       "// Listen for the removal of the full notebook cells\n",
       "var notebookContainer = gd.closest('#notebook-container');\n",
       "if (notebookContainer) {{\n",
       "    x.observe(notebookContainer, {childList: true});\n",
       "}}\n",
       "\n",
       "// Listen for the clearing of the current output cell\n",
       "var outputEl = gd.closest('.output');\n",
       "if (outputEl) {{\n",
       "    x.observe(outputEl, {childList: true});\n",
       "}}\n",
       "\n",
       "                        })                };                });            </script>        </div>"
      ]
     },
     "metadata": {},
     "output_type": "display_data"
    }
   ],
   "source": [
    "df.scatter_matrix()"
   ]
  },
  {
   "cell_type": "code",
   "execution_count": null,
   "metadata": {},
   "outputs": [],
   "source": []
  }
 ],
 "metadata": {
  "kernelspec": {
   "display_name": "Python 3 (ipykernel)",
   "language": "python",
   "name": "python3"
  },
  "language_info": {
   "codemirror_mode": {
    "name": "ipython",
    "version": 3
   },
   "file_extension": ".py",
   "mimetype": "text/x-python",
   "name": "python",
   "nbconvert_exporter": "python",
   "pygments_lexer": "ipython3",
   "version": "3.9.13"
  }
 },
 "nbformat": 4,
 "nbformat_minor": 1
}
